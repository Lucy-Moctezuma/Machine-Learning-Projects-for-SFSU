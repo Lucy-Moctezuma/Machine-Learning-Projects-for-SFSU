{
  "cells": [
    {
      "cell_type": "markdown",
      "metadata": {
        "id": "view-in-github",
        "colab_type": "text"
      },
      "source": [
        "<a href=\"https://colab.research.google.com/github/Lucy-Moctezuma/SFSU-CodeLab-Work-/blob/main/MARC%20Machine%20Learning%20Project/1_Workshop/Support%20files%20(unused)/Data_wrangling_for_CovidData.ipynb\" target=\"_parent\"><img src=\"https://colab.research.google.com/assets/colab-badge.svg\" alt=\"Open In Colab\"/></a>"
      ]
    },
    {
      "cell_type": "code",
      "execution_count": null,
      "metadata": {
        "id": "To8bklJbohVw"
      },
      "outputs": [],
      "source": [
        "import numpy as np\n",
        "import pandas as pd\n",
        "from google.colab import drive\n",
        "drive.mount('/content/drive')"
      ]
    },
    {
      "cell_type": "code",
      "execution_count": 4,
      "metadata": {
        "id": "UchgGQ5sohV2"
      },
      "outputs": [],
      "source": [
        "Summer2020 = pd.read_csv(\"/content/drive/MyDrive/Personal GITHUB (SFSU posts)/MARC Machine Learning Project/Workshop 1/Supporting Files/Summer2020.csv\")\n",
        "Summer2021 = pd.read_csv(\"/content/drive/MyDrive/Personal GITHUB (SFSU posts)/MARC Machine Learning Project/Workshop 1/Supporting Files/Summer2021.csv\")"
      ]
    },
    {
      "cell_type": "code",
      "execution_count": 5,
      "metadata": {
        "id": "PhJlzHKAohV3"
      },
      "outputs": [],
      "source": [
        "#Erasing Column named Unnamed\n",
        "Summer2020 = Summer2020.drop(columns=[\"Unnamed: 0\"])\n",
        "Summer2021 = Summer2021.drop(columns=[\"Unnamed: 0\"])"
      ]
    },
    {
      "cell_type": "code",
      "execution_count": 6,
      "metadata": {
        "id": "TQX86_vcohV4"
      },
      "outputs": [],
      "source": [
        "#Creating label to predict for both Summer2020 and Summer2021\n",
        "Summer2020[\"summer_2020_cases_per_100000\"]=(Summer2020[\"summer_2020_cases\"]/Summer2020[\"population\"])*100000\n",
        "Summer2021[\"summer_2021_cases_per_100000\"]=(Summer2021[\"summer_2021_cases\"]/Summer2020[\"population\"])*100000"
      ]
    },
    {
      "cell_type": "code",
      "execution_count": null,
      "metadata": {
        "scrolled": false,
        "id": "FEKhUOK3ohV4"
      },
      "outputs": [],
      "source": [
        "Summer2020.describe()"
      ]
    },
    {
      "cell_type": "code",
      "execution_count": 8,
      "metadata": {
        "id": "ZX2w0hJ-ohV5"
      },
      "outputs": [],
      "source": [
        "#Split the dataset into Training and Testing Data\n",
        "from sklearn.model_selection import train_test_split "
      ]
    },
    {
      "cell_type": "code",
      "execution_count": null,
      "metadata": {
        "id": "CQ06L-2oohV6"
      },
      "outputs": [],
      "source": [
        "#Splitting into training and testing datasets for Summer2020 and Summer2021\n",
        "Summer2020_features_train, Summer2020_features_test, Summer2020_labels_train, Summer2020_labels_test = train_test_split(Summer2020_features, Summer2020_labels, test_size=0.3, random_state=42) # 70% training and 30% test\n",
        "Summer2021_features_train, Summer2021_features_test, Summer2021_labels_train, Summer2021_labels_test = train_test_split(Summer2021_features, Summer2021_labels, test_size=0.3, random_state=42) # 70% training and 30% test"
      ]
    },
    {
      "cell_type": "code",
      "execution_count": null,
      "metadata": {
        "id": "m872mHR3ohV7"
      },
      "outputs": [],
      "source": [
        "#Separating datasets into features and labels (Keeping the Countynames!!! No HOT Encoding)\n",
        "Summer2020_features = Summer2020.drop(columns=['summer_2020_cases_per_100000'])\n",
        "Summer2020_labels = Summer2020[\"summer_2020_cases_per_100000\"]\n",
        "\n",
        "Summer2021_features = Summer2021.drop(columns=['summer_2021_cases_per_100000'])\n",
        "Summer2021_labels = Summer2021[\"summer_2021_cases_per_100000\"]"
      ]
    },
    {
      "cell_type": "code",
      "execution_count": null,
      "metadata": {
        "id": "OA7EE9sFohV8"
      },
      "outputs": [],
      "source": [
        "#Joining the features with the labels for Summer2020 and Summer2021\n",
        "Summer2020_train_with_labels= pd.concat([Summer2020_features_train.reset_index(drop=True),Summer2020_labels_train.reset_index(drop=True)], axis=1)\n",
        "Summer2021_train_with_labels= pd.concat([Summer2021_features_train.reset_index(drop=True),Summer2021_labels_train.reset_index(drop=True)], axis=1)"
      ]
    },
    {
      "cell_type": "code",
      "execution_count": null,
      "metadata": {
        "id": "OMvCurXdohV8"
      },
      "outputs": [],
      "source": [
        "#Creating the complete datasets for Summer2020 and Summer2021 with features + labels (number of cases and cases per 100 000)\n",
        "Summer2020_train_with_labels.to_csv(\"S2020_training_with_labels.csv\",index=False)\n",
        "Summer2021_train_with_labels.to_csv(\"S2021_training_with_labels.csv\",index=False)"
      ]
    },
    {
      "cell_type": "code",
      "execution_count": null,
      "metadata": {
        "id": "90jxsYGmohV9"
      },
      "outputs": [],
      "source": [
        "#taking out total number of cases per county from the features\n",
        "Summer2020_features_test=Summer2020_features_test.drop(columns=\"summer_2020_cases\")\n",
        "Summer2021_features_test=Summer2021_features_test.drop(columns=\"summer_2021_cases\")"
      ]
    },
    {
      "cell_type": "code",
      "execution_count": null,
      "metadata": {
        "id": "4M75yhr9ohV9"
      },
      "outputs": [],
      "source": [
        "#Creating csv files that contain only the testing data without the labels\n",
        "Summer2020_features_test.to_csv(\"S2020_test_features_only.csv\",index=False)\n",
        "Summer2021_features_test.to_csv(\"S2021_test_features_only.csv\",index=False)"
      ]
    },
    {
      "cell_type": "code",
      "execution_count": null,
      "metadata": {
        "id": "TFpl-fGhohV-"
      },
      "outputs": [],
      "source": [
        "#Creating csv files that contain only the county and labels \n",
        "Summer2020_test_labels= pd.concat([Summer2020_labels_test.reset_index(drop=True),Summer2020_features_test.reset_index(drop=True)], axis=1)\n",
        "Summer2021_test_labels= pd.concat([Summer2021_labels_test.reset_index(drop=True),Summer2021_features_test.reset_index(drop=True)], axis=1)"
      ]
    },
    {
      "cell_type": "code",
      "execution_count": null,
      "metadata": {
        "scrolled": true,
        "id": "gxwZizDIohV-"
      },
      "outputs": [],
      "source": [
        "#Checking the labels dataframe\n",
        "Summer2020_test_labels"
      ]
    },
    {
      "cell_type": "code",
      "execution_count": null,
      "metadata": {
        "id": "1InaIkt2ohV_"
      },
      "outputs": [],
      "source": [
        "#Checking the labels dataframe\n",
        "Summer2021_test_labels"
      ]
    },
    {
      "cell_type": "code",
      "execution_count": null,
      "metadata": {
        "id": "4t0BtjBLohWA"
      },
      "outputs": [],
      "source": [
        "#Creating the csv files that contain only the county name and the label(Summer_2020)\n",
        "Summer2020_test_labels.to_csv(\"S2020_test_with_labels.csv\",index=False)\n",
        "Summer2021_test_labels.to_csv(\"S2021_test_with_labels.csv\",index=False)"
      ]
    },
    {
      "cell_type": "code",
      "execution_count": null,
      "metadata": {
        "id": "bDqrzxIuohWA"
      },
      "outputs": [],
      "source": [
        "#Creating labels only with county column for Summer2020\n",
        "Summer2020_features_testD = Summer2020_features_test[[\"county\"]]\n",
        "Summer2020_labels_test_only = pd.concat([Summer2020_features_testD.reset_index(drop=True),Summer2020_labels_test.reset_index(drop=True)], axis=1)"
      ]
    },
    {
      "cell_type": "code",
      "execution_count": null,
      "metadata": {
        "scrolled": true,
        "id": "hFy2KYrLohWA"
      },
      "outputs": [],
      "source": [
        "#Creating labels only with county column for Summer2021\n",
        "Summer2021_features_testD = Summer2021_features_test[[\"county\"]]\n",
        "Summer2021_labels_test_only = pd.concat([Summer2021_features_testD.reset_index(drop=True),Summer2021_labels_test.reset_index(drop=True)], axis=1)"
      ]
    },
    {
      "cell_type": "code",
      "execution_count": null,
      "metadata": {
        "id": "GFXvXoPjohWB"
      },
      "outputs": [],
      "source": [
        "#Creating the csv files that contain only the county name and the label ONLY (Summer_2020) and (Summer_2021)\n",
        "Summer2020_labels_test_only.to_csv(\"S2020_test_labels_only.csv\",index=False)\n",
        "Summer2021_labels_test_only.to_csv(\"S2021_test_labels_only.csv\",index=False)"
      ]
    }
  ],
  "metadata": {
    "kernelspec": {
      "display_name": "Python 3",
      "language": "python",
      "name": "python3"
    },
    "language_info": {
      "codemirror_mode": {
        "name": "ipython",
        "version": 3
      },
      "file_extension": ".py",
      "mimetype": "text/x-python",
      "name": "python",
      "nbconvert_exporter": "python",
      "pygments_lexer": "ipython3",
      "version": "3.8.3"
    },
    "colab": {
      "provenance": [],
      "toc_visible": true,
      "include_colab_link": true
    }
  },
  "nbformat": 4,
  "nbformat_minor": 0
}