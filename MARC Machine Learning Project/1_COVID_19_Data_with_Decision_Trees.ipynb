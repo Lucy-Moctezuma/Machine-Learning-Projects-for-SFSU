{
  "nbformat": 4,
  "nbformat_minor": 0,
  "metadata": {
    "colab": {
      "provenance": [],
      "include_colab_link": true
    },
    "kernelspec": {
      "name": "python3",
      "display_name": "Python 3"
    },
    "language_info": {
      "name": "python"
    }
  },
  "cells": [
    {
      "cell_type": "markdown",
      "metadata": {
        "id": "view-in-github",
        "colab_type": "text"
      },
      "source": [
        "<a href=\"https://colab.research.google.com/github/Lucy-Moctezuma/SFSU-CodeLab-Work-/blob/main/MARC%20Machine%20Learning%20Project/1_COVID_19_Data_with_Decision_Trees.ipynb\" target=\"_parent\"><img src=\"https://colab.research.google.com/assets/colab-badge.svg\" alt=\"Open In Colab\"/></a>"
      ]
    },
    {
      "cell_type": "markdown",
      "metadata": {
        "id": "Z37gNZPWUxiD"
      },
      "source": [
        "#**WELCOME to the coding portion for the Introduction to Machine Learning Workshop!**\n",
        "\n",
        "This notebook was created by Lucy Moctezuma Tan, Florentine van Nouhuijs, Lorena Benitez-Rivera (SFSU master students and CoDE lab members) and Pleuni Pennings (SFSU bio professor). Special Acknowledgement to Faye Orcales for pulling the Covid Data tables from Government Websites.\n",
        "\n",
        "**Data sources:**\n",
        "- [Covid cases data (California Health and Human Services Agency)](https://data.chhs.ca.gov/dataset/covid-19-time-series-metrics-by-county-and-state/resource/046cdd2b-31e5-4d34-9ed3-b48cdbc4be7a)\n",
        "- [Covid Vaccination data (Los Angeles Times)](https://github.com/datadesk/california-coronavirus-data)\n",
        "- [Unemployment data (California Employment Development Dept.)](https://data.edd.ca.gov/Labor-Force-and-Unemployment-Rates/Local-Area-Unemployment-StatisticsdecisionLAUS-/e6gw-gvii)\n",
        "- [Election data (Harvard University)](https://dataverse.harvard.edu/dataset.xhtml?persistentId=doi:10.7910/DVN/VOQCHQ)\n",
        "\n",
        "# **Introduction Video:**\n",
        "\n",
        "It's important to note that there are other Machine Learning Techniques, but the aim of this notebook will be to have a basic understanding of one of the fundamental techniques used: Decision Tree. This is ideal because Decision Trees are the basis for more complex models such as Boosted Trees or Random Forests. Below we have a general introduction video to Machine Learning by Lorena Benitez."
      ]
    },
    {
      "cell_type": "code",
      "source": [
        "from IPython.display import HTML\n",
        "HTML('<iframe src=\"https://player.vimeo.com/video/721612530?title=0&byline=0&portrait=0\" width=\"700\" height=\"394\" frameborder=\"0\" webkitallowfullscreen mozallowfullscreen allowfullscreen></iframe><p><a href=\"https://vimeo.com/721612530\">Welcome Video</a> from <a href=\"https://vimeo.com/showcase/9557969/video/721612530\">Introduction to Machine Learning: Decision Trees</a> on <a href=\"https://vimeo.com\">Vimeo</a>.</p>')"
      ],
      "metadata": {
        "colab": {
          "base_uri": "https://localhost:8080/",
          "height": 445
        },
        "id": "PkQJWW_CvVRi",
        "outputId": "62ea97c6-9e89-4ac3-f4d4-a35c32b70a88"
      },
      "execution_count": 1,
      "outputs": [
        {
          "output_type": "execute_result",
          "data": {
            "text/plain": [
              "<IPython.core.display.HTML object>"
            ],
            "text/html": [
              "<iframe src=\"https://player.vimeo.com/video/721612530?title=0&byline=0&portrait=0\" width=\"700\" height=\"394\" frameborder=\"0\" webkitallowfullscreen mozallowfullscreen allowfullscreen></iframe><p><a href=\"https://vimeo.com/721612530\">Welcome Video</a> from <a href=\"https://vimeo.com/showcase/9557969/video/721612530\">Introduction to Machine Learning: Decision Trees</a> on <a href=\"https://vimeo.com\">Vimeo</a>.</p>"
            ]
          },
          "metadata": {},
          "execution_count": 1
        }
      ]
    },
    {
      "cell_type": "markdown",
      "metadata": {
        "id": "ujdFMuZGeNCo"
      },
      "source": [
        "#OBJECTIVE OF THIS EXERCISE:\n",
        "\n",
        "We are going to be working with **COVID data** from the 58 Counties of California during Summer 2020 (July, August and September).  \n",
        "\n",
        "**Remember the complete dataset with 58 counties from the previous video of this workshop?** \n",
        "\n",
        "Let's now imagine that we did not know the **cases per 100 000 people** for the last 18 counties of the datataset. \n",
        "\n",
        "![picture](https://drive.google.com/uc?export=view&id=1XfQuK5TQkbEr7S_y9HrlhzpQNYverE8u)\n",
        "\n",
        "**The Objective** of this exercise will be to make predictions for these missing values in the column **cases per 100 000 people** based solely on the data that we do have available.\n",
        "\n",
        "The information that we still have available for these 18 counties are:\n",
        "\n",
        "*   Population\n",
        "*   Vaccination Percentage (Partial and Fully vaccinated)\n",
        "*   Unemployment Rates\n",
        "*   Partisan Voting Percentage (Democrat, Green, Republican, Libertarian and Other)\n",
        "\n",
        "In order to do this, we will be creating a **DECISION TREE**\n",
        "\n"
      ]
    },
    {
      "cell_type": "code",
      "source": [
        "HTML('<iframe src=\"https://player.vimeo.com/video/747875559?title=0&byline=0&portrait=0\" width=\"700\" height=\"394\" frameborder=\"0\" webkitallowfullscreen mozallowfullscreen allowfullscreen></iframe><p><a href=\"https://vimeo.com/747875559\">Notebook Objectives</a> from <a href=\"https://vimeo.com/showcase/9807396/video/747875559\"><a href=\"https://vimeo.com\">Vimeo</a>.</p>')"
      ],
      "metadata": {
        "colab": {
          "base_uri": "https://localhost:8080/",
          "height": 445
        },
        "id": "M_wvQaRNveZp",
        "outputId": "35082c5a-5676-4dc4-db2d-e06432d141fe"
      },
      "execution_count": 2,
      "outputs": [
        {
          "output_type": "execute_result",
          "data": {
            "text/plain": [
              "<IPython.core.display.HTML object>"
            ],
            "text/html": [
              "<iframe src=\"https://player.vimeo.com/video/747875559?title=0&byline=0&portrait=0\" width=\"700\" height=\"394\" frameborder=\"0\" webkitallowfullscreen mozallowfullscreen allowfullscreen></iframe><p><a href=\"https://vimeo.com/747875559\">Notebook Objectives</a> from <a href=\"https://vimeo.com/showcase/9807396/video/747875559\"><a href=\"https://vimeo.com\">Vimeo</a>.</p>"
            ]
          },
          "metadata": {},
          "execution_count": 2
        }
      ]
    },
    {
      "cell_type": "markdown",
      "metadata": {
        "id": "TwKpZ0v6oCjs"
      },
      "source": [
        "#WHAT IS A DECISION TREE?\n",
        "\n",
        " A **Decision Tree** is a supervised machine learning model that allows us to make predictions by learning simple decision rules that are inferred using available information in the dataset. \n",
        " \n",
        "- A Decision Tree is called a **\"Supervised\"**  model because we know exactly what we want to figure out. For example, for our Decision Tree, we will specify that we want to figure out the missing values of the column **\"Cases per 100 000 people\"**, and our model will try to find these values by making predictions for them using the the information we do have available.\n",
        "\n",
        "- In contrast, in an **\"Unsupervised\"**  model, we do not know exactly what we want to predict for. Instead, an Unsupervised model finds hidden relationships between different types of information and can group them based on similaries. For example, Netflix surprising you with a new show you like.\n",
        "\n",
        "A **Decision Tree** can be pictured as a tree-like flowchart, where we start with a particular criteria and based on whether this is True (Y for Yes) or False (N for No), we chose only one of the branches. This process is then repeated at every decision until we reach the bottom of the tree, where we end up with a specific prediction. \n",
        "\n",
        "![DT.png](https://drive.google.com/uc?export=view&id=1J2p8SVgo4H5br-lSFu9wiHCxH5rCxHHN)\n",
        "\n",
        "We will see how a Decision Tree can help us predict the missing **cases per 100 000 people** in more detail later on in this tutorial.\n",
        "\n",
        "You can find more information about different ways to clasify machine learning models here: [Machine Learning Models](https://www.geeksforgeeks.org/introduction-machine-learning/?ref=lbp)\n",
        "\n",
        "You can find more information about Decision Trees here: [Scikit-learn](https://scikit-learn.org/stable/modules/tree.html)"
      ]
    },
    {
      "cell_type": "markdown",
      "source": [
        "##**Step 1) Importing necessary packages into Google Colab**\n",
        "\n",
        "Before working on our model we need to import all Packages and specific Functions that we will need to use in order to work with our data.\n",
        "\n",
        "- **Packages** are essentially prepackaged code that others have made, that are often organized in chunks of code called modules, A package can contain many modules and these modules may contain several functions. \n",
        "\n",
        "- **Functions** are essentially a set of instructions to a computer that specify how to handle different types of files, what mathematical equations are used to calculate our model, how our graphs are going to be displayed, etc. \n",
        "\n",
        "The code in this notebook is organized in **Cells**"
      ],
      "metadata": {
        "id": "OYqUSPPnv2aQ"
      }
    },
    {
      "cell_type": "code",
      "source": [
        "HTML('<iframe src=\"https://player.vimeo.com/video/747875607?title=0&byline=0&portrait=0\" width=\"700\" height=\"394\" frameborder=\"0\" webkitallowfullscreen mozallowfullscreen allowfullscreen></iframe><p><a href=\"https://vimeo.com/747875607\">Step 1</a> from <a href=\"https://vimeo.com/showcase/9807396/video/747875607\"><a href=\"https://vimeo.com\">Vimeo</a>.</p>')"
      ],
      "metadata": {
        "colab": {
          "base_uri": "https://localhost:8080/",
          "height": 445
        },
        "id": "qu9hW3eqwC9A",
        "outputId": "a6ea01d1-f9b1-4f54-ec82-7f02e380e3c0"
      },
      "execution_count": 3,
      "outputs": [
        {
          "output_type": "execute_result",
          "data": {
            "text/plain": [
              "<IPython.core.display.HTML object>"
            ],
            "text/html": [
              "<iframe src=\"https://player.vimeo.com/video/747875607?title=0&byline=0&portrait=0\" width=\"700\" height=\"394\" frameborder=\"0\" webkitallowfullscreen mozallowfullscreen allowfullscreen></iframe><p><a href=\"https://vimeo.com/747875607\">Step 1</a> from <a href=\"https://vimeo.com/showcase/9807396/video/747875607\"><a href=\"https://vimeo.com\">Vimeo</a>.</p>"
            ]
          },
          "metadata": {},
          "execution_count": 3
        }
      ]
    },
    {
      "cell_type": "markdown",
      "metadata": {
        "id": "Bq3DD2d04mYH"
      },
      "source": [
        "\n",
        "In the example below we will learn how to execute or \"run\" each of the three cells, so that our code actually takes effect.\n",
        "\n",
        "**Note**: `The lines of green text that are preceded by a \"#\" are called comments, they exist only to provide explanations of what each line or chunk of code does. They are not actually part of the code.`"
      ]
    },
    {
      "cell_type": "code",
      "metadata": {
        "id": "hiOkfb7EVGc3"
      },
      "source": [
        "# Data Wrangling Imports\n",
        "import pandas as pd\n",
        "import numpy as np"
      ],
      "execution_count": 4,
      "outputs": []
    },
    {
      "cell_type": "code",
      "source": [
        "# Machine Learning Models Imports\n",
        "from sklearn import tree\n",
        "from sklearn.tree import DecisionTreeRegressor "
      ],
      "metadata": {
        "id": "8BSGhkdsor_T"
      },
      "execution_count": 5,
      "outputs": []
    },
    {
      "cell_type": "code",
      "source": [
        "# Model Evaluation Imports and Visualization\n",
        "from matplotlib import pyplot as plt\n",
        "import graphviz"
      ],
      "metadata": {
        "id": "f249mT3Kouud"
      },
      "execution_count": 6,
      "outputs": []
    },
    {
      "cell_type": "code",
      "source": [
        "# Quantitative metrics of Model performance\n",
        "from sklearn.metrics import mean_squared_error"
      ],
      "metadata": {
        "id": "XSjLwDFU6drq"
      },
      "execution_count": 7,
      "outputs": []
    },
    {
      "cell_type": "markdown",
      "metadata": {
        "id": "2L1rGRjs4r2-"
      },
      "source": [
        "##**Step 2) Loading Training data and making sure it looks correct**\n",
        "\n",
        "Now that we have our tools, we can now examine our Dataset again. \n",
        "\n",
        "Recall that we are missing the last 18 values of in the column \"cases_per 100 000\", but we still have a big chunk of complete data (40 rows). This chunk of complete information is often referred to as **Training Data**.\n",
        "\n",
        "![picture_2](https://drive.google.com/uc?export=view&id=1wzhfJBfyQMis75U7aK9Dva4lI71hkySN)\n",
        "\n",
        "**Training Data** is a machine learning terminology that refers to the Dataset used to teach our Decision Tree to make the predictions for our missing values using available data.\n"
      ]
    },
    {
      "cell_type": "code",
      "source": [
        "HTML('<iframe src=\"https://player.vimeo.com/video/747875643?title=0&byline=0&portrait=0\" width=\"700\" height=\"394\" frameborder=\"0\" webkitallowfullscreen mozallowfullscreen allowfullscreen></iframe><p><a href=\"https://vimeo.com/747875643\">Step 2</a> from <a href=\"https://vimeo.com/showcase/9807396/video/747875643\"><a href=\"https://vimeo.com\">Vimeo</a>.</p>')"
      ],
      "metadata": {
        "colab": {
          "base_uri": "https://localhost:8080/",
          "height": 445
        },
        "id": "02T07cI4wPQc",
        "outputId": "388eb453-553b-46de-ac9c-af8ae824d0fc"
      },
      "execution_count": 8,
      "outputs": [
        {
          "output_type": "execute_result",
          "data": {
            "text/plain": [
              "<IPython.core.display.HTML object>"
            ],
            "text/html": [
              "<iframe src=\"https://player.vimeo.com/video/747875643?title=0&byline=0&portrait=0\" width=\"700\" height=\"394\" frameborder=\"0\" webkitallowfullscreen mozallowfullscreen allowfullscreen></iframe><p><a href=\"https://vimeo.com/747875643\">Step 2</a> from <a href=\"https://vimeo.com/showcase/9807396/video/747875643\"><a href=\"https://vimeo.com\">Vimeo</a>.</p>"
            ]
          },
          "metadata": {},
          "execution_count": 8
        }
      ]
    },
    {
      "cell_type": "markdown",
      "metadata": {
        "id": "2vR5s12pVhjx"
      },
      "source": [
        "**A)** Let's start by Loading our Training Data into the Notebook:\n"
      ]
    },
    {
      "cell_type": "code",
      "metadata": {
        "id": "tGknRD6GVrNJ"
      },
      "source": [
        "#this opens the file that contains the training data, data used to train the algorithm \n",
        "S2020_training= pd.read_csv(\"https://raw.githubusercontent.com/MarcMachineLearning/Workshop_1/main/Datasets/S2020_training.csv\")"
      ],
      "execution_count": 9,
      "outputs": []
    },
    {
      "cell_type": "markdown",
      "source": [
        "**B)** Make sure that your dataset is loaded correctly, it should contain the county names and all the data highlighted in green shown in our last picture:"
      ],
      "metadata": {
        "id": "FoY6PR7iJp3K"
      }
    },
    {
      "cell_type": "code",
      "metadata": {
        "id": "-MNbTjuTX6Ma",
        "colab": {
          "base_uri": "https://localhost:8080/",
          "height": 1000
        },
        "outputId": "071b9c50-bf7c-4adb-e839-0c28ffccf485"
      },
      "source": [
        "#this will display the entire dataset \n",
        "S2020_training"
      ],
      "execution_count": 10,
      "outputs": [
        {
          "output_type": "execute_result",
          "data": {
            "text/plain": [
              "             county  cases_per_100000  population  \\\n",
              "0     Santa Barbara       1197.485390      456373   \n",
              "1            Madera       2293.099463      160089   \n",
              "2            Placer        681.011103      400434   \n",
              "3        Stanislaus       2214.286603      562303   \n",
              "4            Sutter       1388.219051      105747   \n",
              "5          Tuolumne        347.653340       52351   \n",
              "6             Kings       3339.214032      156444   \n",
              "7            Fresno       2041.992701     1032227   \n",
              "8              Napa        924.440753      139652   \n",
              "9          Monterey       1767.870355      448732   \n",
              "10             Lake        773.843474       64871   \n",
              "11            Modoc        295.514512        9475   \n",
              "12       Sacramento       1185.796967     1567975   \n",
              "13          Ventura       1062.800573      852747   \n",
              "14        San Mateo        860.667274      778001   \n",
              "15         Humboldt        266.223210      134098   \n",
              "16        Riverside       1451.494949     2468145   \n",
              "17             Yolo        956.120423      223612   \n",
              "18       Santa Cruz        741.608546      273999   \n",
              "19           Orange        985.033695     3228519   \n",
              "20           Tulare       2269.710563      484423   \n",
              "21           Alpine        179.051029        1117   \n",
              "22         Mariposa        247.260466       17795   \n",
              "23           Amador        690.353222       38531   \n",
              "24           Sierra        160.513644        3115   \n",
              "25  San Luis Obispo       1047.830110      278862   \n",
              "26   San Bernardino       1630.649978     2217398   \n",
              "27           Merced       2499.826039      287420   \n",
              "28           Solano       1027.112807      444255   \n",
              "29            Glenn       1506.065149       29348   \n",
              "30        Mendocino        956.591549       88439   \n",
              "31      Los Angeles       1488.756046    10257557   \n",
              "32             Yuba       1268.760247       79290   \n",
              "33            Marin       1431.748466      260800   \n",
              "34        Del Norte        315.697801       27558   \n",
              "35      Santa Clara        842.606546     1967585   \n",
              "36             Kern       2454.135935      927251   \n",
              "37           Nevada        405.227434       98710   \n",
              "38           Tehama        824.163315       65885   \n",
              "39      San Joaquin       1902.127034      782545   \n",
              "\n",
              "    partially_vaccinated_percent  fully_vaccinated_percent  \\\n",
              "0                       0.000009                  0.000002   \n",
              "1                       0.000000                  0.000000   \n",
              "2                       0.000021                  0.000021   \n",
              "3                       0.000015                  0.000006   \n",
              "4                       0.000010                  0.000000   \n",
              "5                       0.000018                  0.000000   \n",
              "6                       0.000000                  0.000000   \n",
              "7                       0.000005                  0.000002   \n",
              "8                       0.000007                  0.000007   \n",
              "9                       0.000002                  0.000000   \n",
              "10                      0.000000                  0.000000   \n",
              "11                      0.000000                  0.000000   \n",
              "12                      0.000044                  0.000042   \n",
              "13                      0.000013                  0.000011   \n",
              "14                      0.000021                  0.000018   \n",
              "15                      0.000007                  0.000000   \n",
              "16                      0.000008                  0.000009   \n",
              "17                      0.000088                  0.000098   \n",
              "18                      0.000011                  0.000007   \n",
              "19                      0.000015                  0.000013   \n",
              "20                      0.000002                  0.000000   \n",
              "21                      0.000000                  0.000000   \n",
              "22                      0.000000                  0.000000   \n",
              "23                      0.000000                  0.000000   \n",
              "24                      0.000000                  0.000000   \n",
              "25                      0.000000                  0.000000   \n",
              "26                      0.000004                  0.000003   \n",
              "27                      0.000011                  0.000007   \n",
              "28                      0.000005                  0.000005   \n",
              "29                      0.000072                  0.000072   \n",
              "30                      0.000011                  0.000000   \n",
              "31                      0.000019                  0.000018   \n",
              "32                      0.000013                  0.000013   \n",
              "33                      0.000012                  0.000015   \n",
              "34                      0.000000                  0.000000   \n",
              "35                      0.000021                  0.000029   \n",
              "36                      0.000002                  0.000001   \n",
              "37                      0.000010                  0.000010   \n",
              "38                      0.000174                  0.000174   \n",
              "39                      0.000005                  0.000011   \n",
              "\n",
              "    2020_Unemployment_Rate  democrat_votes_percent  green_votes_percent  \\\n",
              "0                 0.095716                0.648715             0.004687   \n",
              "1                 0.123558                0.431177             0.004039   \n",
              "2                 0.093818                0.454599             0.003314   \n",
              "3                 0.128845                0.492389             0.003452   \n",
              "4                 0.116883                0.407255             0.003189   \n",
              "5                 0.122156                0.393909             0.004768   \n",
              "6                 0.124113                0.426324             0.002850   \n",
              "7                 0.129932                0.528956             0.004039   \n",
              "8                 0.106322                0.690464             0.004297   \n",
              "9                 0.103967                0.695162             0.004569   \n",
              "10                0.109791                0.518569             0.007185   \n",
              "11                0.077882                0.264794             0.003454   \n",
              "12                0.120680                0.613563             0.004529   \n",
              "13                0.112426                0.594544             0.004177   \n",
              "14                0.093794                0.778878             0.004262   \n",
              "15                0.106529                0.650291             0.009079   \n",
              "16                0.131731                0.529847             0.003382   \n",
              "17                0.091342                0.694781             0.005622   \n",
              "18                0.106162                0.788790             0.007332   \n",
              "19                0.123227                0.534789             0.003823   \n",
              "20                0.149490                0.450046             0.003288   \n",
              "21                0.152174                0.642375             0.005398   \n",
              "22                0.112772                0.397665             0.003794   \n",
              "23                0.115892                0.365540             0.004932   \n",
              "24                0.087302                0.378042             0.006732   \n",
              "25                0.098634                0.552926             0.004971   \n",
              "26                0.126867                0.541960             0.004303   \n",
              "27                0.138989                0.541014             0.004285   \n",
              "28                0.120868                0.639406             0.004653   \n",
              "29                0.101556                0.353634             0.003010   \n",
              "30                0.108844                0.664098             0.009091   \n",
              "31                0.178749                0.710278             0.005079   \n",
              "32                0.122517                0.376896             0.004162   \n",
              "33                0.090557                0.823256             0.004646   \n",
              "34                0.110870                0.408365             0.006810   \n",
              "35                0.093170                0.726387             0.004749   \n",
              "36                0.151962                0.436847             0.003518   \n",
              "37                0.100281                0.561529             0.005328   \n",
              "38                0.103146                0.310153             0.003133   \n",
              "39                0.138420                0.556065             0.003672   \n",
              "\n",
              "    republican_votes_percent  libertarian_votes_percent  other_votes_percent  \n",
              "0                   0.328124                   0.012060             0.006414  \n",
              "1                   0.546751                   0.011557             0.006477  \n",
              "2                   0.521039                   0.016794             0.004254  \n",
              "3                   0.484499                   0.011602             0.008058  \n",
              "4                   0.571593                   0.012217             0.005745  \n",
              "5                   0.581722                   0.014437             0.005163  \n",
              "6                   0.548825                   0.013771             0.008231  \n",
              "7                   0.450689                   0.011046             0.005270  \n",
              "8                   0.286570                   0.012668             0.006001  \n",
              "9                   0.282444                   0.011103             0.006723  \n",
              "10                  0.455470                   0.012981             0.005796  \n",
              "11                  0.715865                   0.008980             0.006908  \n",
              "12                  0.361067                   0.013599             0.007242  \n",
              "13                  0.383627                   0.011988             0.005664  \n",
              "14                  0.201961                   0.009496             0.005403  \n",
              "15                  0.316227                   0.016443             0.007960  \n",
              "16                  0.450425                   0.009998             0.006348  \n",
              "17                  0.280511                   0.012395             0.006691  \n",
              "18                  0.185981                   0.011765             0.006131  \n",
              "19                  0.444447                   0.011382             0.005559  \n",
              "20                  0.528161                   0.010198             0.008306  \n",
              "21                  0.329285                   0.020243             0.002699  \n",
              "22                  0.578794                   0.015078             0.004669  \n",
              "23                  0.609084                   0.015647             0.004797  \n",
              "24                  0.591403                   0.013982             0.009839  \n",
              "25                  0.422230                   0.015077             0.004796  \n",
              "26                  0.435434                   0.010451             0.007851  \n",
              "27                  0.435066                   0.010392             0.009243  \n",
              "28                  0.336638                   0.012022             0.007281  \n",
              "29                  0.625210                   0.011330             0.006816  \n",
              "30                  0.306114                   0.013636             0.007060  \n",
              "31                  0.268629                   0.008314             0.007701  \n",
              "32                  0.593234                   0.017116             0.008592  \n",
              "33                  0.157941                   0.009857             0.004300  \n",
              "34                  0.564132                   0.013097             0.007596  \n",
              "35                  0.252265                   0.010733             0.005867  \n",
              "36                  0.538776                   0.012912             0.007946  \n",
              "37                  0.413575                   0.014193             0.005375  \n",
              "38                  0.666214                   0.014027             0.006474  \n",
              "39                  0.417895                   0.010108             0.012261  "
            ],
            "text/html": [
              "\n",
              "  <div id=\"df-5020eeb7-8cad-43b4-b640-194637d6e84d\">\n",
              "    <div class=\"colab-df-container\">\n",
              "      <div>\n",
              "<style scoped>\n",
              "    .dataframe tbody tr th:only-of-type {\n",
              "        vertical-align: middle;\n",
              "    }\n",
              "\n",
              "    .dataframe tbody tr th {\n",
              "        vertical-align: top;\n",
              "    }\n",
              "\n",
              "    .dataframe thead th {\n",
              "        text-align: right;\n",
              "    }\n",
              "</style>\n",
              "<table border=\"1\" class=\"dataframe\">\n",
              "  <thead>\n",
              "    <tr style=\"text-align: right;\">\n",
              "      <th></th>\n",
              "      <th>county</th>\n",
              "      <th>cases_per_100000</th>\n",
              "      <th>population</th>\n",
              "      <th>partially_vaccinated_percent</th>\n",
              "      <th>fully_vaccinated_percent</th>\n",
              "      <th>2020_Unemployment_Rate</th>\n",
              "      <th>democrat_votes_percent</th>\n",
              "      <th>green_votes_percent</th>\n",
              "      <th>republican_votes_percent</th>\n",
              "      <th>libertarian_votes_percent</th>\n",
              "      <th>other_votes_percent</th>\n",
              "    </tr>\n",
              "  </thead>\n",
              "  <tbody>\n",
              "    <tr>\n",
              "      <th>0</th>\n",
              "      <td>Santa Barbara</td>\n",
              "      <td>1197.485390</td>\n",
              "      <td>456373</td>\n",
              "      <td>0.000009</td>\n",
              "      <td>0.000002</td>\n",
              "      <td>0.095716</td>\n",
              "      <td>0.648715</td>\n",
              "      <td>0.004687</td>\n",
              "      <td>0.328124</td>\n",
              "      <td>0.012060</td>\n",
              "      <td>0.006414</td>\n",
              "    </tr>\n",
              "    <tr>\n",
              "      <th>1</th>\n",
              "      <td>Madera</td>\n",
              "      <td>2293.099463</td>\n",
              "      <td>160089</td>\n",
              "      <td>0.000000</td>\n",
              "      <td>0.000000</td>\n",
              "      <td>0.123558</td>\n",
              "      <td>0.431177</td>\n",
              "      <td>0.004039</td>\n",
              "      <td>0.546751</td>\n",
              "      <td>0.011557</td>\n",
              "      <td>0.006477</td>\n",
              "    </tr>\n",
              "    <tr>\n",
              "      <th>2</th>\n",
              "      <td>Placer</td>\n",
              "      <td>681.011103</td>\n",
              "      <td>400434</td>\n",
              "      <td>0.000021</td>\n",
              "      <td>0.000021</td>\n",
              "      <td>0.093818</td>\n",
              "      <td>0.454599</td>\n",
              "      <td>0.003314</td>\n",
              "      <td>0.521039</td>\n",
              "      <td>0.016794</td>\n",
              "      <td>0.004254</td>\n",
              "    </tr>\n",
              "    <tr>\n",
              "      <th>3</th>\n",
              "      <td>Stanislaus</td>\n",
              "      <td>2214.286603</td>\n",
              "      <td>562303</td>\n",
              "      <td>0.000015</td>\n",
              "      <td>0.000006</td>\n",
              "      <td>0.128845</td>\n",
              "      <td>0.492389</td>\n",
              "      <td>0.003452</td>\n",
              "      <td>0.484499</td>\n",
              "      <td>0.011602</td>\n",
              "      <td>0.008058</td>\n",
              "    </tr>\n",
              "    <tr>\n",
              "      <th>4</th>\n",
              "      <td>Sutter</td>\n",
              "      <td>1388.219051</td>\n",
              "      <td>105747</td>\n",
              "      <td>0.000010</td>\n",
              "      <td>0.000000</td>\n",
              "      <td>0.116883</td>\n",
              "      <td>0.407255</td>\n",
              "      <td>0.003189</td>\n",
              "      <td>0.571593</td>\n",
              "      <td>0.012217</td>\n",
              "      <td>0.005745</td>\n",
              "    </tr>\n",
              "    <tr>\n",
              "      <th>5</th>\n",
              "      <td>Tuolumne</td>\n",
              "      <td>347.653340</td>\n",
              "      <td>52351</td>\n",
              "      <td>0.000018</td>\n",
              "      <td>0.000000</td>\n",
              "      <td>0.122156</td>\n",
              "      <td>0.393909</td>\n",
              "      <td>0.004768</td>\n",
              "      <td>0.581722</td>\n",
              "      <td>0.014437</td>\n",
              "      <td>0.005163</td>\n",
              "    </tr>\n",
              "    <tr>\n",
              "      <th>6</th>\n",
              "      <td>Kings</td>\n",
              "      <td>3339.214032</td>\n",
              "      <td>156444</td>\n",
              "      <td>0.000000</td>\n",
              "      <td>0.000000</td>\n",
              "      <td>0.124113</td>\n",
              "      <td>0.426324</td>\n",
              "      <td>0.002850</td>\n",
              "      <td>0.548825</td>\n",
              "      <td>0.013771</td>\n",
              "      <td>0.008231</td>\n",
              "    </tr>\n",
              "    <tr>\n",
              "      <th>7</th>\n",
              "      <td>Fresno</td>\n",
              "      <td>2041.992701</td>\n",
              "      <td>1032227</td>\n",
              "      <td>0.000005</td>\n",
              "      <td>0.000002</td>\n",
              "      <td>0.129932</td>\n",
              "      <td>0.528956</td>\n",
              "      <td>0.004039</td>\n",
              "      <td>0.450689</td>\n",
              "      <td>0.011046</td>\n",
              "      <td>0.005270</td>\n",
              "    </tr>\n",
              "    <tr>\n",
              "      <th>8</th>\n",
              "      <td>Napa</td>\n",
              "      <td>924.440753</td>\n",
              "      <td>139652</td>\n",
              "      <td>0.000007</td>\n",
              "      <td>0.000007</td>\n",
              "      <td>0.106322</td>\n",
              "      <td>0.690464</td>\n",
              "      <td>0.004297</td>\n",
              "      <td>0.286570</td>\n",
              "      <td>0.012668</td>\n",
              "      <td>0.006001</td>\n",
              "    </tr>\n",
              "    <tr>\n",
              "      <th>9</th>\n",
              "      <td>Monterey</td>\n",
              "      <td>1767.870355</td>\n",
              "      <td>448732</td>\n",
              "      <td>0.000002</td>\n",
              "      <td>0.000000</td>\n",
              "      <td>0.103967</td>\n",
              "      <td>0.695162</td>\n",
              "      <td>0.004569</td>\n",
              "      <td>0.282444</td>\n",
              "      <td>0.011103</td>\n",
              "      <td>0.006723</td>\n",
              "    </tr>\n",
              "    <tr>\n",
              "      <th>10</th>\n",
              "      <td>Lake</td>\n",
              "      <td>773.843474</td>\n",
              "      <td>64871</td>\n",
              "      <td>0.000000</td>\n",
              "      <td>0.000000</td>\n",
              "      <td>0.109791</td>\n",
              "      <td>0.518569</td>\n",
              "      <td>0.007185</td>\n",
              "      <td>0.455470</td>\n",
              "      <td>0.012981</td>\n",
              "      <td>0.005796</td>\n",
              "    </tr>\n",
              "    <tr>\n",
              "      <th>11</th>\n",
              "      <td>Modoc</td>\n",
              "      <td>295.514512</td>\n",
              "      <td>9475</td>\n",
              "      <td>0.000000</td>\n",
              "      <td>0.000000</td>\n",
              "      <td>0.077882</td>\n",
              "      <td>0.264794</td>\n",
              "      <td>0.003454</td>\n",
              "      <td>0.715865</td>\n",
              "      <td>0.008980</td>\n",
              "      <td>0.006908</td>\n",
              "    </tr>\n",
              "    <tr>\n",
              "      <th>12</th>\n",
              "      <td>Sacramento</td>\n",
              "      <td>1185.796967</td>\n",
              "      <td>1567975</td>\n",
              "      <td>0.000044</td>\n",
              "      <td>0.000042</td>\n",
              "      <td>0.120680</td>\n",
              "      <td>0.613563</td>\n",
              "      <td>0.004529</td>\n",
              "      <td>0.361067</td>\n",
              "      <td>0.013599</td>\n",
              "      <td>0.007242</td>\n",
              "    </tr>\n",
              "    <tr>\n",
              "      <th>13</th>\n",
              "      <td>Ventura</td>\n",
              "      <td>1062.800573</td>\n",
              "      <td>852747</td>\n",
              "      <td>0.000013</td>\n",
              "      <td>0.000011</td>\n",
              "      <td>0.112426</td>\n",
              "      <td>0.594544</td>\n",
              "      <td>0.004177</td>\n",
              "      <td>0.383627</td>\n",
              "      <td>0.011988</td>\n",
              "      <td>0.005664</td>\n",
              "    </tr>\n",
              "    <tr>\n",
              "      <th>14</th>\n",
              "      <td>San Mateo</td>\n",
              "      <td>860.667274</td>\n",
              "      <td>778001</td>\n",
              "      <td>0.000021</td>\n",
              "      <td>0.000018</td>\n",
              "      <td>0.093794</td>\n",
              "      <td>0.778878</td>\n",
              "      <td>0.004262</td>\n",
              "      <td>0.201961</td>\n",
              "      <td>0.009496</td>\n",
              "      <td>0.005403</td>\n",
              "    </tr>\n",
              "    <tr>\n",
              "      <th>15</th>\n",
              "      <td>Humboldt</td>\n",
              "      <td>266.223210</td>\n",
              "      <td>134098</td>\n",
              "      <td>0.000007</td>\n",
              "      <td>0.000000</td>\n",
              "      <td>0.106529</td>\n",
              "      <td>0.650291</td>\n",
              "      <td>0.009079</td>\n",
              "      <td>0.316227</td>\n",
              "      <td>0.016443</td>\n",
              "      <td>0.007960</td>\n",
              "    </tr>\n",
              "    <tr>\n",
              "      <th>16</th>\n",
              "      <td>Riverside</td>\n",
              "      <td>1451.494949</td>\n",
              "      <td>2468145</td>\n",
              "      <td>0.000008</td>\n",
              "      <td>0.000009</td>\n",
              "      <td>0.131731</td>\n",
              "      <td>0.529847</td>\n",
              "      <td>0.003382</td>\n",
              "      <td>0.450425</td>\n",
              "      <td>0.009998</td>\n",
              "      <td>0.006348</td>\n",
              "    </tr>\n",
              "    <tr>\n",
              "      <th>17</th>\n",
              "      <td>Yolo</td>\n",
              "      <td>956.120423</td>\n",
              "      <td>223612</td>\n",
              "      <td>0.000088</td>\n",
              "      <td>0.000098</td>\n",
              "      <td>0.091342</td>\n",
              "      <td>0.694781</td>\n",
              "      <td>0.005622</td>\n",
              "      <td>0.280511</td>\n",
              "      <td>0.012395</td>\n",
              "      <td>0.006691</td>\n",
              "    </tr>\n",
              "    <tr>\n",
              "      <th>18</th>\n",
              "      <td>Santa Cruz</td>\n",
              "      <td>741.608546</td>\n",
              "      <td>273999</td>\n",
              "      <td>0.000011</td>\n",
              "      <td>0.000007</td>\n",
              "      <td>0.106162</td>\n",
              "      <td>0.788790</td>\n",
              "      <td>0.007332</td>\n",
              "      <td>0.185981</td>\n",
              "      <td>0.011765</td>\n",
              "      <td>0.006131</td>\n",
              "    </tr>\n",
              "    <tr>\n",
              "      <th>19</th>\n",
              "      <td>Orange</td>\n",
              "      <td>985.033695</td>\n",
              "      <td>3228519</td>\n",
              "      <td>0.000015</td>\n",
              "      <td>0.000013</td>\n",
              "      <td>0.123227</td>\n",
              "      <td>0.534789</td>\n",
              "      <td>0.003823</td>\n",
              "      <td>0.444447</td>\n",
              "      <td>0.011382</td>\n",
              "      <td>0.005559</td>\n",
              "    </tr>\n",
              "    <tr>\n",
              "      <th>20</th>\n",
              "      <td>Tulare</td>\n",
              "      <td>2269.710563</td>\n",
              "      <td>484423</td>\n",
              "      <td>0.000002</td>\n",
              "      <td>0.000000</td>\n",
              "      <td>0.149490</td>\n",
              "      <td>0.450046</td>\n",
              "      <td>0.003288</td>\n",
              "      <td>0.528161</td>\n",
              "      <td>0.010198</td>\n",
              "      <td>0.008306</td>\n",
              "    </tr>\n",
              "    <tr>\n",
              "      <th>21</th>\n",
              "      <td>Alpine</td>\n",
              "      <td>179.051029</td>\n",
              "      <td>1117</td>\n",
              "      <td>0.000000</td>\n",
              "      <td>0.000000</td>\n",
              "      <td>0.152174</td>\n",
              "      <td>0.642375</td>\n",
              "      <td>0.005398</td>\n",
              "      <td>0.329285</td>\n",
              "      <td>0.020243</td>\n",
              "      <td>0.002699</td>\n",
              "    </tr>\n",
              "    <tr>\n",
              "      <th>22</th>\n",
              "      <td>Mariposa</td>\n",
              "      <td>247.260466</td>\n",
              "      <td>17795</td>\n",
              "      <td>0.000000</td>\n",
              "      <td>0.000000</td>\n",
              "      <td>0.112772</td>\n",
              "      <td>0.397665</td>\n",
              "      <td>0.003794</td>\n",
              "      <td>0.578794</td>\n",
              "      <td>0.015078</td>\n",
              "      <td>0.004669</td>\n",
              "    </tr>\n",
              "    <tr>\n",
              "      <th>23</th>\n",
              "      <td>Amador</td>\n",
              "      <td>690.353222</td>\n",
              "      <td>38531</td>\n",
              "      <td>0.000000</td>\n",
              "      <td>0.000000</td>\n",
              "      <td>0.115892</td>\n",
              "      <td>0.365540</td>\n",
              "      <td>0.004932</td>\n",
              "      <td>0.609084</td>\n",
              "      <td>0.015647</td>\n",
              "      <td>0.004797</td>\n",
              "    </tr>\n",
              "    <tr>\n",
              "      <th>24</th>\n",
              "      <td>Sierra</td>\n",
              "      <td>160.513644</td>\n",
              "      <td>3115</td>\n",
              "      <td>0.000000</td>\n",
              "      <td>0.000000</td>\n",
              "      <td>0.087302</td>\n",
              "      <td>0.378042</td>\n",
              "      <td>0.006732</td>\n",
              "      <td>0.591403</td>\n",
              "      <td>0.013982</td>\n",
              "      <td>0.009839</td>\n",
              "    </tr>\n",
              "    <tr>\n",
              "      <th>25</th>\n",
              "      <td>San Luis Obispo</td>\n",
              "      <td>1047.830110</td>\n",
              "      <td>278862</td>\n",
              "      <td>0.000000</td>\n",
              "      <td>0.000000</td>\n",
              "      <td>0.098634</td>\n",
              "      <td>0.552926</td>\n",
              "      <td>0.004971</td>\n",
              "      <td>0.422230</td>\n",
              "      <td>0.015077</td>\n",
              "      <td>0.004796</td>\n",
              "    </tr>\n",
              "    <tr>\n",
              "      <th>26</th>\n",
              "      <td>San Bernardino</td>\n",
              "      <td>1630.649978</td>\n",
              "      <td>2217398</td>\n",
              "      <td>0.000004</td>\n",
              "      <td>0.000003</td>\n",
              "      <td>0.126867</td>\n",
              "      <td>0.541960</td>\n",
              "      <td>0.004303</td>\n",
              "      <td>0.435434</td>\n",
              "      <td>0.010451</td>\n",
              "      <td>0.007851</td>\n",
              "    </tr>\n",
              "    <tr>\n",
              "      <th>27</th>\n",
              "      <td>Merced</td>\n",
              "      <td>2499.826039</td>\n",
              "      <td>287420</td>\n",
              "      <td>0.000011</td>\n",
              "      <td>0.000007</td>\n",
              "      <td>0.138989</td>\n",
              "      <td>0.541014</td>\n",
              "      <td>0.004285</td>\n",
              "      <td>0.435066</td>\n",
              "      <td>0.010392</td>\n",
              "      <td>0.009243</td>\n",
              "    </tr>\n",
              "    <tr>\n",
              "      <th>28</th>\n",
              "      <td>Solano</td>\n",
              "      <td>1027.112807</td>\n",
              "      <td>444255</td>\n",
              "      <td>0.000005</td>\n",
              "      <td>0.000005</td>\n",
              "      <td>0.120868</td>\n",
              "      <td>0.639406</td>\n",
              "      <td>0.004653</td>\n",
              "      <td>0.336638</td>\n",
              "      <td>0.012022</td>\n",
              "      <td>0.007281</td>\n",
              "    </tr>\n",
              "    <tr>\n",
              "      <th>29</th>\n",
              "      <td>Glenn</td>\n",
              "      <td>1506.065149</td>\n",
              "      <td>29348</td>\n",
              "      <td>0.000072</td>\n",
              "      <td>0.000072</td>\n",
              "      <td>0.101556</td>\n",
              "      <td>0.353634</td>\n",
              "      <td>0.003010</td>\n",
              "      <td>0.625210</td>\n",
              "      <td>0.011330</td>\n",
              "      <td>0.006816</td>\n",
              "    </tr>\n",
              "    <tr>\n",
              "      <th>30</th>\n",
              "      <td>Mendocino</td>\n",
              "      <td>956.591549</td>\n",
              "      <td>88439</td>\n",
              "      <td>0.000011</td>\n",
              "      <td>0.000000</td>\n",
              "      <td>0.108844</td>\n",
              "      <td>0.664098</td>\n",
              "      <td>0.009091</td>\n",
              "      <td>0.306114</td>\n",
              "      <td>0.013636</td>\n",
              "      <td>0.007060</td>\n",
              "    </tr>\n",
              "    <tr>\n",
              "      <th>31</th>\n",
              "      <td>Los Angeles</td>\n",
              "      <td>1488.756046</td>\n",
              "      <td>10257557</td>\n",
              "      <td>0.000019</td>\n",
              "      <td>0.000018</td>\n",
              "      <td>0.178749</td>\n",
              "      <td>0.710278</td>\n",
              "      <td>0.005079</td>\n",
              "      <td>0.268629</td>\n",
              "      <td>0.008314</td>\n",
              "      <td>0.007701</td>\n",
              "    </tr>\n",
              "    <tr>\n",
              "      <th>32</th>\n",
              "      <td>Yuba</td>\n",
              "      <td>1268.760247</td>\n",
              "      <td>79290</td>\n",
              "      <td>0.000013</td>\n",
              "      <td>0.000013</td>\n",
              "      <td>0.122517</td>\n",
              "      <td>0.376896</td>\n",
              "      <td>0.004162</td>\n",
              "      <td>0.593234</td>\n",
              "      <td>0.017116</td>\n",
              "      <td>0.008592</td>\n",
              "    </tr>\n",
              "    <tr>\n",
              "      <th>33</th>\n",
              "      <td>Marin</td>\n",
              "      <td>1431.748466</td>\n",
              "      <td>260800</td>\n",
              "      <td>0.000012</td>\n",
              "      <td>0.000015</td>\n",
              "      <td>0.090557</td>\n",
              "      <td>0.823256</td>\n",
              "      <td>0.004646</td>\n",
              "      <td>0.157941</td>\n",
              "      <td>0.009857</td>\n",
              "      <td>0.004300</td>\n",
              "    </tr>\n",
              "    <tr>\n",
              "      <th>34</th>\n",
              "      <td>Del Norte</td>\n",
              "      <td>315.697801</td>\n",
              "      <td>27558</td>\n",
              "      <td>0.000000</td>\n",
              "      <td>0.000000</td>\n",
              "      <td>0.110870</td>\n",
              "      <td>0.408365</td>\n",
              "      <td>0.006810</td>\n",
              "      <td>0.564132</td>\n",
              "      <td>0.013097</td>\n",
              "      <td>0.007596</td>\n",
              "    </tr>\n",
              "    <tr>\n",
              "      <th>35</th>\n",
              "      <td>Santa Clara</td>\n",
              "      <td>842.606546</td>\n",
              "      <td>1967585</td>\n",
              "      <td>0.000021</td>\n",
              "      <td>0.000029</td>\n",
              "      <td>0.093170</td>\n",
              "      <td>0.726387</td>\n",
              "      <td>0.004749</td>\n",
              "      <td>0.252265</td>\n",
              "      <td>0.010733</td>\n",
              "      <td>0.005867</td>\n",
              "    </tr>\n",
              "    <tr>\n",
              "      <th>36</th>\n",
              "      <td>Kern</td>\n",
              "      <td>2454.135935</td>\n",
              "      <td>927251</td>\n",
              "      <td>0.000002</td>\n",
              "      <td>0.000001</td>\n",
              "      <td>0.151962</td>\n",
              "      <td>0.436847</td>\n",
              "      <td>0.003518</td>\n",
              "      <td>0.538776</td>\n",
              "      <td>0.012912</td>\n",
              "      <td>0.007946</td>\n",
              "    </tr>\n",
              "    <tr>\n",
              "      <th>37</th>\n",
              "      <td>Nevada</td>\n",
              "      <td>405.227434</td>\n",
              "      <td>98710</td>\n",
              "      <td>0.000010</td>\n",
              "      <td>0.000010</td>\n",
              "      <td>0.100281</td>\n",
              "      <td>0.561529</td>\n",
              "      <td>0.005328</td>\n",
              "      <td>0.413575</td>\n",
              "      <td>0.014193</td>\n",
              "      <td>0.005375</td>\n",
              "    </tr>\n",
              "    <tr>\n",
              "      <th>38</th>\n",
              "      <td>Tehama</td>\n",
              "      <td>824.163315</td>\n",
              "      <td>65885</td>\n",
              "      <td>0.000174</td>\n",
              "      <td>0.000174</td>\n",
              "      <td>0.103146</td>\n",
              "      <td>0.310153</td>\n",
              "      <td>0.003133</td>\n",
              "      <td>0.666214</td>\n",
              "      <td>0.014027</td>\n",
              "      <td>0.006474</td>\n",
              "    </tr>\n",
              "    <tr>\n",
              "      <th>39</th>\n",
              "      <td>San Joaquin</td>\n",
              "      <td>1902.127034</td>\n",
              "      <td>782545</td>\n",
              "      <td>0.000005</td>\n",
              "      <td>0.000011</td>\n",
              "      <td>0.138420</td>\n",
              "      <td>0.556065</td>\n",
              "      <td>0.003672</td>\n",
              "      <td>0.417895</td>\n",
              "      <td>0.010108</td>\n",
              "      <td>0.012261</td>\n",
              "    </tr>\n",
              "  </tbody>\n",
              "</table>\n",
              "</div>\n",
              "      <button class=\"colab-df-convert\" onclick=\"convertToInteractive('df-5020eeb7-8cad-43b4-b640-194637d6e84d')\"\n",
              "              title=\"Convert this dataframe to an interactive table.\"\n",
              "              style=\"display:none;\">\n",
              "        \n",
              "  <svg xmlns=\"http://www.w3.org/2000/svg\" height=\"24px\"viewBox=\"0 0 24 24\"\n",
              "       width=\"24px\">\n",
              "    <path d=\"M0 0h24v24H0V0z\" fill=\"none\"/>\n",
              "    <path d=\"M18.56 5.44l.94 2.06.94-2.06 2.06-.94-2.06-.94-.94-2.06-.94 2.06-2.06.94zm-11 1L8.5 8.5l.94-2.06 2.06-.94-2.06-.94L8.5 2.5l-.94 2.06-2.06.94zm10 10l.94 2.06.94-2.06 2.06-.94-2.06-.94-.94-2.06-.94 2.06-2.06.94z\"/><path d=\"M17.41 7.96l-1.37-1.37c-.4-.4-.92-.59-1.43-.59-.52 0-1.04.2-1.43.59L10.3 9.45l-7.72 7.72c-.78.78-.78 2.05 0 2.83L4 21.41c.39.39.9.59 1.41.59.51 0 1.02-.2 1.41-.59l7.78-7.78 2.81-2.81c.8-.78.8-2.07 0-2.86zM5.41 20L4 18.59l7.72-7.72 1.47 1.35L5.41 20z\"/>\n",
              "  </svg>\n",
              "      </button>\n",
              "      \n",
              "  <style>\n",
              "    .colab-df-container {\n",
              "      display:flex;\n",
              "      flex-wrap:wrap;\n",
              "      gap: 12px;\n",
              "    }\n",
              "\n",
              "    .colab-df-convert {\n",
              "      background-color: #E8F0FE;\n",
              "      border: none;\n",
              "      border-radius: 50%;\n",
              "      cursor: pointer;\n",
              "      display: none;\n",
              "      fill: #1967D2;\n",
              "      height: 32px;\n",
              "      padding: 0 0 0 0;\n",
              "      width: 32px;\n",
              "    }\n",
              "\n",
              "    .colab-df-convert:hover {\n",
              "      background-color: #E2EBFA;\n",
              "      box-shadow: 0px 1px 2px rgba(60, 64, 67, 0.3), 0px 1px 3px 1px rgba(60, 64, 67, 0.15);\n",
              "      fill: #174EA6;\n",
              "    }\n",
              "\n",
              "    [theme=dark] .colab-df-convert {\n",
              "      background-color: #3B4455;\n",
              "      fill: #D2E3FC;\n",
              "    }\n",
              "\n",
              "    [theme=dark] .colab-df-convert:hover {\n",
              "      background-color: #434B5C;\n",
              "      box-shadow: 0px 1px 3px 1px rgba(0, 0, 0, 0.15);\n",
              "      filter: drop-shadow(0px 1px 2px rgba(0, 0, 0, 0.3));\n",
              "      fill: #FFFFFF;\n",
              "    }\n",
              "  </style>\n",
              "\n",
              "      <script>\n",
              "        const buttonEl =\n",
              "          document.querySelector('#df-5020eeb7-8cad-43b4-b640-194637d6e84d button.colab-df-convert');\n",
              "        buttonEl.style.display =\n",
              "          google.colab.kernel.accessAllowed ? 'block' : 'none';\n",
              "\n",
              "        async function convertToInteractive(key) {\n",
              "          const element = document.querySelector('#df-5020eeb7-8cad-43b4-b640-194637d6e84d');\n",
              "          const dataTable =\n",
              "            await google.colab.kernel.invokeFunction('convertToInteractive',\n",
              "                                                     [key], {});\n",
              "          if (!dataTable) return;\n",
              "\n",
              "          const docLinkHtml = 'Like what you see? Visit the ' +\n",
              "            '<a target=\"_blank\" href=https://colab.research.google.com/notebooks/data_table.ipynb>data table notebook</a>'\n",
              "            + ' to learn more about interactive tables.';\n",
              "          element.innerHTML = '';\n",
              "          dataTable['output_type'] = 'display_data';\n",
              "          await google.colab.output.renderOutput(dataTable, element);\n",
              "          const docLink = document.createElement('div');\n",
              "          docLink.innerHTML = docLinkHtml;\n",
              "          element.appendChild(docLink);\n",
              "        }\n",
              "      </script>\n",
              "    </div>\n",
              "  </div>\n",
              "  "
            ]
          },
          "metadata": {},
          "execution_count": 10
        }
      ]
    },
    {
      "cell_type": "markdown",
      "metadata": {
        "id": "MrnejlZPG-w3"
      },
      "source": [
        "**C)** We can sneak a peak at what our first 5 rows look like, if your dataset is too big to be displayed."
      ]
    },
    {
      "cell_type": "code",
      "metadata": {
        "id": "zRsj3ct8HFr0",
        "colab": {
          "base_uri": "https://localhost:8080/",
          "height": 287
        },
        "outputId": "bf638bac-75f0-4a29-9c59-c5bbb3b6b8be"
      },
      "source": [
        "#this will display only the first 5 rows of our dataset\n",
        "S2020_training.head()"
      ],
      "execution_count": 11,
      "outputs": [
        {
          "output_type": "execute_result",
          "data": {
            "text/plain": [
              "          county  cases_per_100000  population  partially_vaccinated_percent  \\\n",
              "0  Santa Barbara       1197.485390      456373                      0.000009   \n",
              "1         Madera       2293.099463      160089                      0.000000   \n",
              "2         Placer        681.011103      400434                      0.000021   \n",
              "3     Stanislaus       2214.286603      562303                      0.000015   \n",
              "4         Sutter       1388.219051      105747                      0.000010   \n",
              "\n",
              "   fully_vaccinated_percent  2020_Unemployment_Rate  democrat_votes_percent  \\\n",
              "0                  0.000002                0.095716                0.648715   \n",
              "1                  0.000000                0.123558                0.431177   \n",
              "2                  0.000021                0.093818                0.454599   \n",
              "3                  0.000006                0.128845                0.492389   \n",
              "4                  0.000000                0.116883                0.407255   \n",
              "\n",
              "   green_votes_percent  republican_votes_percent  libertarian_votes_percent  \\\n",
              "0             0.004687                  0.328124                   0.012060   \n",
              "1             0.004039                  0.546751                   0.011557   \n",
              "2             0.003314                  0.521039                   0.016794   \n",
              "3             0.003452                  0.484499                   0.011602   \n",
              "4             0.003189                  0.571593                   0.012217   \n",
              "\n",
              "   other_votes_percent  \n",
              "0             0.006414  \n",
              "1             0.006477  \n",
              "2             0.004254  \n",
              "3             0.008058  \n",
              "4             0.005745  "
            ],
            "text/html": [
              "\n",
              "  <div id=\"df-ca493f8d-1738-40a1-b948-8c3719c551ff\">\n",
              "    <div class=\"colab-df-container\">\n",
              "      <div>\n",
              "<style scoped>\n",
              "    .dataframe tbody tr th:only-of-type {\n",
              "        vertical-align: middle;\n",
              "    }\n",
              "\n",
              "    .dataframe tbody tr th {\n",
              "        vertical-align: top;\n",
              "    }\n",
              "\n",
              "    .dataframe thead th {\n",
              "        text-align: right;\n",
              "    }\n",
              "</style>\n",
              "<table border=\"1\" class=\"dataframe\">\n",
              "  <thead>\n",
              "    <tr style=\"text-align: right;\">\n",
              "      <th></th>\n",
              "      <th>county</th>\n",
              "      <th>cases_per_100000</th>\n",
              "      <th>population</th>\n",
              "      <th>partially_vaccinated_percent</th>\n",
              "      <th>fully_vaccinated_percent</th>\n",
              "      <th>2020_Unemployment_Rate</th>\n",
              "      <th>democrat_votes_percent</th>\n",
              "      <th>green_votes_percent</th>\n",
              "      <th>republican_votes_percent</th>\n",
              "      <th>libertarian_votes_percent</th>\n",
              "      <th>other_votes_percent</th>\n",
              "    </tr>\n",
              "  </thead>\n",
              "  <tbody>\n",
              "    <tr>\n",
              "      <th>0</th>\n",
              "      <td>Santa Barbara</td>\n",
              "      <td>1197.485390</td>\n",
              "      <td>456373</td>\n",
              "      <td>0.000009</td>\n",
              "      <td>0.000002</td>\n",
              "      <td>0.095716</td>\n",
              "      <td>0.648715</td>\n",
              "      <td>0.004687</td>\n",
              "      <td>0.328124</td>\n",
              "      <td>0.012060</td>\n",
              "      <td>0.006414</td>\n",
              "    </tr>\n",
              "    <tr>\n",
              "      <th>1</th>\n",
              "      <td>Madera</td>\n",
              "      <td>2293.099463</td>\n",
              "      <td>160089</td>\n",
              "      <td>0.000000</td>\n",
              "      <td>0.000000</td>\n",
              "      <td>0.123558</td>\n",
              "      <td>0.431177</td>\n",
              "      <td>0.004039</td>\n",
              "      <td>0.546751</td>\n",
              "      <td>0.011557</td>\n",
              "      <td>0.006477</td>\n",
              "    </tr>\n",
              "    <tr>\n",
              "      <th>2</th>\n",
              "      <td>Placer</td>\n",
              "      <td>681.011103</td>\n",
              "      <td>400434</td>\n",
              "      <td>0.000021</td>\n",
              "      <td>0.000021</td>\n",
              "      <td>0.093818</td>\n",
              "      <td>0.454599</td>\n",
              "      <td>0.003314</td>\n",
              "      <td>0.521039</td>\n",
              "      <td>0.016794</td>\n",
              "      <td>0.004254</td>\n",
              "    </tr>\n",
              "    <tr>\n",
              "      <th>3</th>\n",
              "      <td>Stanislaus</td>\n",
              "      <td>2214.286603</td>\n",
              "      <td>562303</td>\n",
              "      <td>0.000015</td>\n",
              "      <td>0.000006</td>\n",
              "      <td>0.128845</td>\n",
              "      <td>0.492389</td>\n",
              "      <td>0.003452</td>\n",
              "      <td>0.484499</td>\n",
              "      <td>0.011602</td>\n",
              "      <td>0.008058</td>\n",
              "    </tr>\n",
              "    <tr>\n",
              "      <th>4</th>\n",
              "      <td>Sutter</td>\n",
              "      <td>1388.219051</td>\n",
              "      <td>105747</td>\n",
              "      <td>0.000010</td>\n",
              "      <td>0.000000</td>\n",
              "      <td>0.116883</td>\n",
              "      <td>0.407255</td>\n",
              "      <td>0.003189</td>\n",
              "      <td>0.571593</td>\n",
              "      <td>0.012217</td>\n",
              "      <td>0.005745</td>\n",
              "    </tr>\n",
              "  </tbody>\n",
              "</table>\n",
              "</div>\n",
              "      <button class=\"colab-df-convert\" onclick=\"convertToInteractive('df-ca493f8d-1738-40a1-b948-8c3719c551ff')\"\n",
              "              title=\"Convert this dataframe to an interactive table.\"\n",
              "              style=\"display:none;\">\n",
              "        \n",
              "  <svg xmlns=\"http://www.w3.org/2000/svg\" height=\"24px\"viewBox=\"0 0 24 24\"\n",
              "       width=\"24px\">\n",
              "    <path d=\"M0 0h24v24H0V0z\" fill=\"none\"/>\n",
              "    <path d=\"M18.56 5.44l.94 2.06.94-2.06 2.06-.94-2.06-.94-.94-2.06-.94 2.06-2.06.94zm-11 1L8.5 8.5l.94-2.06 2.06-.94-2.06-.94L8.5 2.5l-.94 2.06-2.06.94zm10 10l.94 2.06.94-2.06 2.06-.94-2.06-.94-.94-2.06-.94 2.06-2.06.94z\"/><path d=\"M17.41 7.96l-1.37-1.37c-.4-.4-.92-.59-1.43-.59-.52 0-1.04.2-1.43.59L10.3 9.45l-7.72 7.72c-.78.78-.78 2.05 0 2.83L4 21.41c.39.39.9.59 1.41.59.51 0 1.02-.2 1.41-.59l7.78-7.78 2.81-2.81c.8-.78.8-2.07 0-2.86zM5.41 20L4 18.59l7.72-7.72 1.47 1.35L5.41 20z\"/>\n",
              "  </svg>\n",
              "      </button>\n",
              "      \n",
              "  <style>\n",
              "    .colab-df-container {\n",
              "      display:flex;\n",
              "      flex-wrap:wrap;\n",
              "      gap: 12px;\n",
              "    }\n",
              "\n",
              "    .colab-df-convert {\n",
              "      background-color: #E8F0FE;\n",
              "      border: none;\n",
              "      border-radius: 50%;\n",
              "      cursor: pointer;\n",
              "      display: none;\n",
              "      fill: #1967D2;\n",
              "      height: 32px;\n",
              "      padding: 0 0 0 0;\n",
              "      width: 32px;\n",
              "    }\n",
              "\n",
              "    .colab-df-convert:hover {\n",
              "      background-color: #E2EBFA;\n",
              "      box-shadow: 0px 1px 2px rgba(60, 64, 67, 0.3), 0px 1px 3px 1px rgba(60, 64, 67, 0.15);\n",
              "      fill: #174EA6;\n",
              "    }\n",
              "\n",
              "    [theme=dark] .colab-df-convert {\n",
              "      background-color: #3B4455;\n",
              "      fill: #D2E3FC;\n",
              "    }\n",
              "\n",
              "    [theme=dark] .colab-df-convert:hover {\n",
              "      background-color: #434B5C;\n",
              "      box-shadow: 0px 1px 3px 1px rgba(0, 0, 0, 0.15);\n",
              "      filter: drop-shadow(0px 1px 2px rgba(0, 0, 0, 0.3));\n",
              "      fill: #FFFFFF;\n",
              "    }\n",
              "  </style>\n",
              "\n",
              "      <script>\n",
              "        const buttonEl =\n",
              "          document.querySelector('#df-ca493f8d-1738-40a1-b948-8c3719c551ff button.colab-df-convert');\n",
              "        buttonEl.style.display =\n",
              "          google.colab.kernel.accessAllowed ? 'block' : 'none';\n",
              "\n",
              "        async function convertToInteractive(key) {\n",
              "          const element = document.querySelector('#df-ca493f8d-1738-40a1-b948-8c3719c551ff');\n",
              "          const dataTable =\n",
              "            await google.colab.kernel.invokeFunction('convertToInteractive',\n",
              "                                                     [key], {});\n",
              "          if (!dataTable) return;\n",
              "\n",
              "          const docLinkHtml = 'Like what you see? Visit the ' +\n",
              "            '<a target=\"_blank\" href=https://colab.research.google.com/notebooks/data_table.ipynb>data table notebook</a>'\n",
              "            + ' to learn more about interactive tables.';\n",
              "          element.innerHTML = '';\n",
              "          dataTable['output_type'] = 'display_data';\n",
              "          await google.colab.output.renderOutput(dataTable, element);\n",
              "          const docLink = document.createElement('div');\n",
              "          docLink.innerHTML = docLinkHtml;\n",
              "          element.appendChild(docLink);\n",
              "        }\n",
              "      </script>\n",
              "    </div>\n",
              "  </div>\n",
              "  "
            ]
          },
          "metadata": {},
          "execution_count": 11
        }
      ]
    },
    {
      "cell_type": "markdown",
      "metadata": {
        "id": "udWGVg6cYzsU"
      },
      "source": [
        "**D)** Here we can see how many rows and columns the complete dataset actually has. In our example we should have (40 rows, 11 columns)"
      ]
    },
    {
      "cell_type": "code",
      "metadata": {
        "id": "pT2LIXUUNFzj",
        "colab": {
          "base_uri": "https://localhost:8080/"
        },
        "outputId": "f45d66b0-b38a-4c7a-8e97-724f56de77cf"
      },
      "source": [
        "#this will display only the number of rows (not including the title of the columns) and number of colums of our dataset\n",
        "S2020_training.shape"
      ],
      "execution_count": 12,
      "outputs": [
        {
          "output_type": "execute_result",
          "data": {
            "text/plain": [
              "(40, 11)"
            ]
          },
          "metadata": {},
          "execution_count": 12
        }
      ]
    },
    {
      "cell_type": "markdown",
      "metadata": {
        "id": "eaLKhVaqO3yj"
      },
      "source": [
        "##**Step 3) Separate the Training Dataset into features and labels**"
      ]
    },
    {
      "cell_type": "code",
      "source": [
        "HTML('<iframe src=\"https://player.vimeo.com/video/747875687?title=0&byline=0&portrait=0\" width=\"700\" height=\"394\" frameborder=\"0\" webkitallowfullscreen mozallowfullscreen allowfullscreen></iframe><p><a href=\"https://vimeo.com/747875687\">Step 3</a> from <a href=\"https://vimeo.com/showcase/9807396/video/747875687\"><a href=\"https://vimeo.com\">Vimeo</a>.</p>')"
      ],
      "metadata": {
        "colab": {
          "base_uri": "https://localhost:8080/",
          "height": 445
        },
        "id": "5cXRO51Awn_V",
        "outputId": "92ee96e3-5a71-4a75-d56b-c9c0d1e5d818"
      },
      "execution_count": 13,
      "outputs": [
        {
          "output_type": "execute_result",
          "data": {
            "text/plain": [
              "<IPython.core.display.HTML object>"
            ],
            "text/html": [
              "<iframe src=\"https://player.vimeo.com/video/747875687?title=0&byline=0&portrait=0\" width=\"700\" height=\"394\" frameborder=\"0\" webkitallowfullscreen mozallowfullscreen allowfullscreen></iframe><p><a href=\"https://vimeo.com/747875687\">Step 3</a> from <a href=\"https://vimeo.com/showcase/9807396/video/747875687\"><a href=\"https://vimeo.com\">Vimeo</a>.</p>"
            ]
          },
          "metadata": {},
          "execution_count": 13
        }
      ]
    },
    {
      "cell_type": "markdown",
      "metadata": {
        "id": "bQCrQgAbXBs0"
      },
      "source": [
        "Recall that a Decision Tree is a **Supervised** Machine learning model, therefore we need to specify clearly what we are trying to predict.\n",
        "\n",
        "To do this we need to devide the Training Data into **Label** and **Features**\n",
        "\n",
        "![picture_3](https://drive.google.com/uc?export=view&id=14mYGS3Vka7XvzIBhRuikfLiljkrR0WDE)\n",
        "\n",
        "- The RED outlined column is called a **LABEL**. This is a machine learning term that refers to the data that our model will learn to predict.\n",
        "\n",
        "- The BLUE outlined columns are called **FEATURES**, which is the term that refers to the columns we would like to use to predict our chosen LABEL. \n",
        "\n",
        "Because the **Training Data** is complete, We can clearly separate LABEL from FEATURES. Remember that the Training Data is only the red and blue shaded regions of our Dataset. \n",
        "\n",
        "We can ignore the rest of the Dataset for now.\n",
        "\n",
        "**A)** Separate the Training Data into FEATURES and LABELS:"
      ]
    },
    {
      "cell_type": "code",
      "metadata": {
        "id": "IOxgX15gXbqy"
      },
      "source": [
        "#On the other hand the label will only include summer_2020 cases per 100 000\n",
        "S2020_training_labels = S2020_training[\"cases_per_100000\"]\n",
        "\n",
        "#Notice that in this code we are droping the \"county\" column, because it does not contribute with our predictions and \"cases_per_100000\" because that is our label\n",
        "S2020_training_features = S2020_training.drop(columns=[\"county\",\"cases_per_100000\"])"
      ],
      "execution_count": 14,
      "outputs": []
    },
    {
      "cell_type": "markdown",
      "metadata": {
        "id": "GfuuBB_dWsg4"
      },
      "source": [
        "**B)** Run the **LABEL** to check that the separation was correctly performed (you should see 40 rows and just 1 column):"
      ]
    },
    {
      "cell_type": "code",
      "metadata": {
        "id": "u-Bv7qB8OYzV",
        "colab": {
          "base_uri": "https://localhost:8080/"
        },
        "outputId": "f0e52a83-9399-44e9-ea5b-841251e04bb8"
      },
      "source": [
        "#This code allows you to see what the labels look like as a dataframe, after being separated from the training data\n",
        "S2020_training_labels = pd.DataFrame(S2020_training_labels,columns = [\"cases_per_100000\"])\n",
        "\n",
        "# This code tells you how many rows and columns this dataset has\n",
        "S2020_training_labels.shape"
      ],
      "execution_count": 15,
      "outputs": [
        {
          "output_type": "execute_result",
          "data": {
            "text/plain": [
              "(40, 1)"
            ]
          },
          "metadata": {},
          "execution_count": 15
        }
      ]
    },
    {
      "cell_type": "markdown",
      "source": [
        "**C)** Run the **FEATURES** to check that the separation was correctly performed (you should see all 40 rows and 9 columns only since we dropped the columns of \"county\" and \"cases_per_100000\")"
      ],
      "metadata": {
        "id": "sfdOowc8imHT"
      }
    },
    {
      "cell_type": "code",
      "source": [
        "# This code shows\n",
        "S2020_training_features.shape"
      ],
      "metadata": {
        "id": "1Ndj47OXifk7",
        "colab": {
          "base_uri": "https://localhost:8080/"
        },
        "outputId": "dcf2844b-a937-45bc-abeb-bc38857fa335"
      },
      "execution_count": 16,
      "outputs": [
        {
          "output_type": "execute_result",
          "data": {
            "text/plain": [
              "(40, 9)"
            ]
          },
          "metadata": {},
          "execution_count": 16
        }
      ]
    },
    {
      "cell_type": "markdown",
      "source": [
        "##**Step 4) Create a Decision tree object and Train it**\n",
        "\n",
        "After separating our Training data into FEATURES and LABELS, we can now create a Decision Tree."
      ],
      "metadata": {
        "id": "ULKftVD9wzXl"
      }
    },
    {
      "cell_type": "code",
      "source": [
        "HTML('<iframe src=\"https://player.vimeo.com/video/747875711?title=0&byline=0&portrait=0\" width=\"700\" height=\"394\" frameborder=\"0\" webkitallowfullscreen mozallowfullscreen allowfullscreen></iframe><p><a href=\"https://vimeo.com/747875711\">Step 4</a> from <a href=\"https://vimeo.com/showcase/9807396/video/747875711\"><a href=\"https://vimeo.com\">Vimeo</a>.</p>')"
      ],
      "metadata": {
        "colab": {
          "base_uri": "https://localhost:8080/",
          "height": 445
        },
        "id": "-kJ1bJBKw4jH",
        "outputId": "bb02398b-3514-43c2-829b-4b4bda00b8d5"
      },
      "execution_count": 17,
      "outputs": [
        {
          "output_type": "execute_result",
          "data": {
            "text/plain": [
              "<IPython.core.display.HTML object>"
            ],
            "text/html": [
              "<iframe src=\"https://player.vimeo.com/video/747875711?title=0&byline=0&portrait=0\" width=\"700\" height=\"394\" frameborder=\"0\" webkitallowfullscreen mozallowfullscreen allowfullscreen></iframe><p><a href=\"https://vimeo.com/747875711\">Step 4</a> from <a href=\"https://vimeo.com/showcase/9807396/video/747875711\"><a href=\"https://vimeo.com\">Vimeo</a>.</p>"
            ]
          },
          "metadata": {},
          "execution_count": 17
        }
      ]
    },
    {
      "cell_type": "markdown",
      "metadata": {
        "id": "S5sDpcMuc0Ua"
      },
      "source": [
        " \n",
        "\n",
        "**A)** Create a Decision Tree Object"
      ]
    },
    {
      "cell_type": "code",
      "metadata": {
        "id": "6jwQSBorZs3l"
      },
      "source": [
        "#This line creates the Decison Tree with your chosen specifications (what is written within the parenthesis)\n",
        "dtr_summer2020 = DecisionTreeRegressor(random_state = 1, max_depth= 3)"
      ],
      "execution_count": 18,
      "outputs": []
    },
    {
      "cell_type": "markdown",
      "metadata": {
        "id": "yVCcicxnYiBI"
      },
      "source": [
        "**B)** Train our Decision Tree using the Training data we separated in the previous step"
      ]
    },
    {
      "cell_type": "code",
      "metadata": {
        "id": "Xkr1rIjOY1Zt"
      },
      "source": [
        "# This line trains the decision tree using both the features and the labels from our training data\n",
        "dtr_summer2020 = dtr_summer2020.fit(S2020_training_features,S2020_training_labels)"
      ],
      "execution_count": 19,
      "outputs": []
    },
    {
      "cell_type": "markdown",
      "metadata": {
        "id": "tDKGXaftZw_8"
      },
      "source": [
        "##**Step 5) Visualize our trained Decision Tree**"
      ]
    },
    {
      "cell_type": "code",
      "source": [
        "HTML('<iframe src=\"https://player.vimeo.com/video/747875740?title=0&byline=0&portrait=0\" width=\"700\" height=\"394\" frameborder=\"0\" webkitallowfullscreen mozallowfullscreen allowfullscreen></iframe><p><a href=\"https://vimeo.com/747875740\">Step 5</a> from <a href=\"https://vimeo.com/showcase/9807396/video/747875740\"><a href=\"https://vimeo.com\">Vimeo</a>.</p>')"
      ],
      "metadata": {
        "colab": {
          "base_uri": "https://localhost:8080/",
          "height": 445
        },
        "id": "eQK9ua4YxBcz",
        "outputId": "4d3143d4-11cd-4f17-863d-fdffb99bdef1"
      },
      "execution_count": 20,
      "outputs": [
        {
          "output_type": "execute_result",
          "data": {
            "text/plain": [
              "<IPython.core.display.HTML object>"
            ],
            "text/html": [
              "<iframe src=\"https://player.vimeo.com/video/747875740?title=0&byline=0&portrait=0\" width=\"700\" height=\"394\" frameborder=\"0\" webkitallowfullscreen mozallowfullscreen allowfullscreen></iframe><p><a href=\"https://vimeo.com/747875740\">Step 5</a> from <a href=\"https://vimeo.com/showcase/9807396/video/747875740\"><a href=\"https://vimeo.com\">Vimeo</a>.</p>"
            ]
          },
          "metadata": {},
          "execution_count": 20
        }
      ]
    },
    {
      "cell_type": "markdown",
      "source": [
        "Visualize our decision tree by graphing it using the following code "
      ],
      "metadata": {
        "id": "o_bog9DzxJjh"
      }
    },
    {
      "cell_type": "code",
      "metadata": {
        "id": "objW7T75eoUH",
        "colab": {
          "base_uri": "https://localhost:8080/",
          "height": 439
        },
        "outputId": "268dc4f1-870f-40ec-fe07-3840650d3454"
      },
      "source": [
        "# Initialize tree data object \n",
        "dtr_summer2020_dot = tree.export_graphviz(dtr_summer2020, out_file=None, \n",
        "                                feature_names=S2020_training_features.columns,  \n",
        "                                filled=False, rounded=True, impurity=False)\n",
        "\n",
        "# Draw graph\n",
        "dtr_graph = graphviz.Source(dtr_summer2020_dot, format=\"png\") \n",
        "dtr_graph"
      ],
      "execution_count": 21,
      "outputs": [
        {
          "output_type": "execute_result",
          "data": {
            "image/svg+xml": "<?xml version=\"1.0\" encoding=\"UTF-8\" standalone=\"no\"?>\n<!DOCTYPE svg PUBLIC \"-//W3C//DTD SVG 1.1//EN\"\n \"http://www.w3.org/Graphics/SVG/1.1/DTD/svg11.dtd\">\n<!-- Generated by graphviz version 2.43.0 (0)\n -->\n<!-- Title: Tree Pages: 1 -->\n<svg width=\"815pt\" height=\"313pt\"\n viewBox=\"0.00 0.00 815.00 313.00\" xmlns=\"http://www.w3.org/2000/svg\" xmlns:xlink=\"http://www.w3.org/1999/xlink\">\n<g id=\"graph0\" class=\"graph\" transform=\"scale(1 1) rotate(0) translate(4 309)\">\n<title>Tree</title>\n<polygon fill=\"white\" stroke=\"transparent\" points=\"-4,4 -4,-309 811,-309 811,4 -4,4\"/>\n<!-- 0 -->\n<g id=\"node1\" class=\"node\">\n<title>0</title>\n<path fill=\"none\" stroke=\"black\" d=\"M593.5,-305C593.5,-305 377.5,-305 377.5,-305 371.5,-305 365.5,-299 365.5,-293 365.5,-293 365.5,-264 365.5,-264 365.5,-258 371.5,-252 377.5,-252 377.5,-252 593.5,-252 593.5,-252 599.5,-252 605.5,-258 605.5,-264 605.5,-264 605.5,-293 605.5,-293 605.5,-299 599.5,-305 593.5,-305\"/>\n<text text-anchor=\"middle\" x=\"485.5\" y=\"-289.8\" font-family=\"Helvetica,sans-Serif\" font-size=\"14.00\">2020_Unemployment_Rate &lt;= 0.123</text>\n<text text-anchor=\"middle\" x=\"485.5\" y=\"-274.8\" font-family=\"Helvetica,sans-Serif\" font-size=\"14.00\">samples = 40</text>\n<text text-anchor=\"middle\" x=\"485.5\" y=\"-259.8\" font-family=\"Helvetica,sans-Serif\" font-size=\"14.00\">value = 1198.064</text>\n</g>\n<!-- 1 -->\n<g id=\"node2\" class=\"node\">\n<title>1</title>\n<path fill=\"none\" stroke=\"black\" d=\"M448.5,-216C448.5,-216 320.5,-216 320.5,-216 314.5,-216 308.5,-210 308.5,-204 308.5,-204 308.5,-175 308.5,-175 308.5,-169 314.5,-163 320.5,-163 320.5,-163 448.5,-163 448.5,-163 454.5,-163 460.5,-169 460.5,-175 460.5,-175 460.5,-204 460.5,-204 460.5,-210 454.5,-216 448.5,-216\"/>\n<text text-anchor=\"middle\" x=\"384.5\" y=\"-200.8\" font-family=\"Helvetica,sans-Serif\" font-size=\"14.00\">population &lt;= 28453.0</text>\n<text text-anchor=\"middle\" x=\"384.5\" y=\"-185.8\" font-family=\"Helvetica,sans-Serif\" font-size=\"14.00\">samples = 28</text>\n<text text-anchor=\"middle\" x=\"384.5\" y=\"-170.8\" font-family=\"Helvetica,sans-Serif\" font-size=\"14.00\">value = 862.794</text>\n</g>\n<!-- 0&#45;&gt;1 -->\n<g id=\"edge1\" class=\"edge\">\n<title>0&#45;&gt;1</title>\n<path fill=\"none\" stroke=\"black\" d=\"M455.74,-251.87C445.25,-242.83 433.32,-232.55 422.26,-223.03\"/>\n<polygon fill=\"black\" stroke=\"black\" points=\"424.25,-220.12 414.39,-216.25 419.69,-225.43 424.25,-220.12\"/>\n<text text-anchor=\"middle\" x=\"416.25\" y=\"-237.48\" font-family=\"Helvetica,sans-Serif\" font-size=\"14.00\">True</text>\n</g>\n<!-- 8 -->\n<g id=\"node9\" class=\"node\">\n<title>8</title>\n<path fill=\"none\" stroke=\"black\" d=\"M681,-216C681,-216 504,-216 504,-216 498,-216 492,-210 492,-204 492,-204 492,-175 492,-175 492,-169 498,-163 504,-163 504,-163 681,-163 681,-163 687,-163 693,-169 693,-175 693,-175 693,-204 693,-204 693,-210 687,-216 681,-216\"/>\n<text text-anchor=\"middle\" x=\"592.5\" y=\"-200.8\" font-family=\"Helvetica,sans-Serif\" font-size=\"14.00\">green_votes_percent &lt;= 0.005</text>\n<text text-anchor=\"middle\" x=\"592.5\" y=\"-185.8\" font-family=\"Helvetica,sans-Serif\" font-size=\"14.00\">samples = 12</text>\n<text text-anchor=\"middle\" x=\"592.5\" y=\"-170.8\" font-family=\"Helvetica,sans-Serif\" font-size=\"14.00\">value = 1980.362</text>\n</g>\n<!-- 0&#45;&gt;8 -->\n<g id=\"edge8\" class=\"edge\">\n<title>0&#45;&gt;8</title>\n<path fill=\"none\" stroke=\"black\" d=\"M517.02,-251.87C528.24,-242.75 541.02,-232.35 552.84,-222.75\"/>\n<polygon fill=\"black\" stroke=\"black\" points=\"555.28,-225.27 560.83,-216.25 550.86,-219.84 555.28,-225.27\"/>\n<text text-anchor=\"middle\" x=\"558.27\" y=\"-237.42\" font-family=\"Helvetica,sans-Serif\" font-size=\"14.00\">False</text>\n</g>\n<!-- 2 -->\n<g id=\"node3\" class=\"node\">\n<title>2</title>\n<path fill=\"none\" stroke=\"black\" d=\"M247.5,-127C247.5,-127 127.5,-127 127.5,-127 121.5,-127 115.5,-121 115.5,-115 115.5,-115 115.5,-86 115.5,-86 115.5,-80 121.5,-74 127.5,-74 127.5,-74 247.5,-74 247.5,-74 253.5,-74 259.5,-80 259.5,-86 259.5,-86 259.5,-115 259.5,-115 259.5,-121 253.5,-127 247.5,-127\"/>\n<text text-anchor=\"middle\" x=\"187.5\" y=\"-111.8\" font-family=\"Helvetica,sans-Serif\" font-size=\"14.00\">population &lt;= 6295.0</text>\n<text text-anchor=\"middle\" x=\"187.5\" y=\"-96.8\" font-family=\"Helvetica,sans-Serif\" font-size=\"14.00\">samples = 4</text>\n<text text-anchor=\"middle\" x=\"187.5\" y=\"-81.8\" font-family=\"Helvetica,sans-Serif\" font-size=\"14.00\">value = 254.747</text>\n</g>\n<!-- 1&#45;&gt;2 -->\n<g id=\"edge2\" class=\"edge\">\n<title>1&#45;&gt;2</title>\n<path fill=\"none\" stroke=\"black\" d=\"M326.72,-162.98C304.07,-152.98 277.93,-141.44 254.46,-131.07\"/>\n<polygon fill=\"black\" stroke=\"black\" points=\"255.84,-127.85 245.27,-127.01 253.01,-134.26 255.84,-127.85\"/>\n</g>\n<!-- 5 -->\n<g id=\"node6\" class=\"node\">\n<title>5</title>\n<path fill=\"none\" stroke=\"black\" d=\"M473,-127C473,-127 296,-127 296,-127 290,-127 284,-121 284,-115 284,-115 284,-86 284,-86 284,-80 290,-74 296,-74 296,-74 473,-74 473,-74 479,-74 485,-80 485,-86 485,-86 485,-115 485,-115 485,-121 479,-127 473,-127\"/>\n<text text-anchor=\"middle\" x=\"384.5\" y=\"-111.8\" font-family=\"Helvetica,sans-Serif\" font-size=\"14.00\">green_votes_percent &lt;= 0.005</text>\n<text text-anchor=\"middle\" x=\"384.5\" y=\"-96.8\" font-family=\"Helvetica,sans-Serif\" font-size=\"14.00\">samples = 24</text>\n<text text-anchor=\"middle\" x=\"384.5\" y=\"-81.8\" font-family=\"Helvetica,sans-Serif\" font-size=\"14.00\">value = 964.135</text>\n</g>\n<!-- 1&#45;&gt;5 -->\n<g id=\"edge5\" class=\"edge\">\n<title>1&#45;&gt;5</title>\n<path fill=\"none\" stroke=\"black\" d=\"M384.5,-162.87C384.5,-154.89 384.5,-145.93 384.5,-137.38\"/>\n<polygon fill=\"black\" stroke=\"black\" points=\"388,-137.25 384.5,-127.25 381,-137.25 388,-137.25\"/>\n</g>\n<!-- 3 -->\n<g id=\"node4\" class=\"node\">\n<title>3</title>\n<path fill=\"none\" stroke=\"black\" d=\"M101,-38C101,-38 12,-38 12,-38 6,-38 0,-32 0,-26 0,-26 0,-12 0,-12 0,-6 6,0 12,0 12,0 101,0 101,0 107,0 113,-6 113,-12 113,-12 113,-26 113,-26 113,-32 107,-38 101,-38\"/>\n<text text-anchor=\"middle\" x=\"56.5\" y=\"-22.8\" font-family=\"Helvetica,sans-Serif\" font-size=\"14.00\">samples = 1</text>\n<text text-anchor=\"middle\" x=\"56.5\" y=\"-7.8\" font-family=\"Helvetica,sans-Serif\" font-size=\"14.00\">value = 160.514</text>\n</g>\n<!-- 2&#45;&gt;3 -->\n<g id=\"edge3\" class=\"edge\">\n<title>2&#45;&gt;3</title>\n<path fill=\"none\" stroke=\"black\" d=\"M145.33,-73.91C129.32,-64.19 111.18,-53.18 95.48,-43.66\"/>\n<polygon fill=\"black\" stroke=\"black\" points=\"96.92,-40.43 86.55,-38.24 93.29,-46.42 96.92,-40.43\"/>\n</g>\n<!-- 4 -->\n<g id=\"node5\" class=\"node\">\n<title>4</title>\n<path fill=\"none\" stroke=\"black\" d=\"M232,-38C232,-38 143,-38 143,-38 137,-38 131,-32 131,-26 131,-26 131,-12 131,-12 131,-6 137,0 143,0 143,0 232,0 232,0 238,0 244,-6 244,-12 244,-12 244,-26 244,-26 244,-32 238,-38 232,-38\"/>\n<text text-anchor=\"middle\" x=\"187.5\" y=\"-22.8\" font-family=\"Helvetica,sans-Serif\" font-size=\"14.00\">samples = 3</text>\n<text text-anchor=\"middle\" x=\"187.5\" y=\"-7.8\" font-family=\"Helvetica,sans-Serif\" font-size=\"14.00\">value = 286.158</text>\n</g>\n<!-- 2&#45;&gt;4 -->\n<g id=\"edge4\" class=\"edge\">\n<title>2&#45;&gt;4</title>\n<path fill=\"none\" stroke=\"black\" d=\"M187.5,-73.91C187.5,-65.74 187.5,-56.65 187.5,-48.3\"/>\n<polygon fill=\"black\" stroke=\"black\" points=\"191,-48.24 187.5,-38.24 184,-48.24 191,-48.24\"/>\n</g>\n<!-- 6 -->\n<g id=\"node7\" class=\"node\">\n<title>6</title>\n<path fill=\"none\" stroke=\"black\" d=\"M371,-38C371,-38 274,-38 274,-38 268,-38 262,-32 262,-26 262,-26 262,-12 262,-12 262,-6 268,0 274,0 274,0 371,0 371,0 377,0 383,-6 383,-12 383,-12 383,-26 383,-26 383,-32 377,-38 371,-38\"/>\n<text text-anchor=\"middle\" x=\"322.5\" y=\"-22.8\" font-family=\"Helvetica,sans-Serif\" font-size=\"14.00\">samples = 14</text>\n<text text-anchor=\"middle\" x=\"322.5\" y=\"-7.8\" font-family=\"Helvetica,sans-Serif\" font-size=\"14.00\">value = 1150.798</text>\n</g>\n<!-- 5&#45;&gt;6 -->\n<g id=\"edge6\" class=\"edge\">\n<title>5&#45;&gt;6</title>\n<path fill=\"none\" stroke=\"black\" d=\"M364.54,-73.91C357.67,-65.1 349.97,-55.23 343.06,-46.36\"/>\n<polygon fill=\"black\" stroke=\"black\" points=\"345.63,-43.97 336.72,-38.24 340.11,-48.28 345.63,-43.97\"/>\n</g>\n<!-- 7 -->\n<g id=\"node8\" class=\"node\">\n<title>7</title>\n<path fill=\"none\" stroke=\"black\" d=\"M502,-38C502,-38 413,-38 413,-38 407,-38 401,-32 401,-26 401,-26 401,-12 401,-12 401,-6 407,0 413,0 413,0 502,0 502,0 508,0 514,-6 514,-12 514,-12 514,-26 514,-26 514,-32 508,-38 502,-38\"/>\n<text text-anchor=\"middle\" x=\"457.5\" y=\"-22.8\" font-family=\"Helvetica,sans-Serif\" font-size=\"14.00\">samples = 10</text>\n<text text-anchor=\"middle\" x=\"457.5\" y=\"-7.8\" font-family=\"Helvetica,sans-Serif\" font-size=\"14.00\">value = 702.806</text>\n</g>\n<!-- 5&#45;&gt;7 -->\n<g id=\"edge7\" class=\"edge\">\n<title>5&#45;&gt;7</title>\n<path fill=\"none\" stroke=\"black\" d=\"M408,-73.91C416.25,-64.92 425.52,-54.82 433.79,-45.82\"/>\n<polygon fill=\"black\" stroke=\"black\" points=\"436.57,-47.97 440.75,-38.24 431.41,-43.24 436.57,-47.97\"/>\n</g>\n<!-- 9 -->\n<g id=\"node10\" class=\"node\">\n<title>9</title>\n<path fill=\"none\" stroke=\"black\" d=\"M664,-127C664,-127 521,-127 521,-127 515,-127 509,-121 509,-115 509,-115 509,-86 509,-86 509,-80 515,-74 521,-74 521,-74 664,-74 664,-74 670,-74 676,-80 676,-86 676,-86 676,-115 676,-115 676,-121 670,-127 664,-127\"/>\n<text text-anchor=\"middle\" x=\"592.5\" y=\"-111.8\" font-family=\"Helvetica,sans-Serif\" font-size=\"14.00\">population &lt;= 1624812.5</text>\n<text text-anchor=\"middle\" x=\"592.5\" y=\"-96.8\" font-family=\"Helvetica,sans-Serif\" font-size=\"14.00\">samples = 11</text>\n<text text-anchor=\"middle\" x=\"592.5\" y=\"-81.8\" font-family=\"Helvetica,sans-Serif\" font-size=\"14.00\">value = 2144.118</text>\n</g>\n<!-- 8&#45;&gt;9 -->\n<g id=\"edge9\" class=\"edge\">\n<title>8&#45;&gt;9</title>\n<path fill=\"none\" stroke=\"black\" d=\"M592.5,-162.87C592.5,-154.89 592.5,-145.93 592.5,-137.38\"/>\n<polygon fill=\"black\" stroke=\"black\" points=\"596,-137.25 592.5,-127.25 589,-137.25 596,-137.25\"/>\n</g>\n<!-- 12 -->\n<g id=\"node13\" class=\"node\">\n<title>12</title>\n<path fill=\"none\" stroke=\"black\" d=\"M795,-119.5C795,-119.5 706,-119.5 706,-119.5 700,-119.5 694,-113.5 694,-107.5 694,-107.5 694,-93.5 694,-93.5 694,-87.5 700,-81.5 706,-81.5 706,-81.5 795,-81.5 795,-81.5 801,-81.5 807,-87.5 807,-93.5 807,-93.5 807,-107.5 807,-107.5 807,-113.5 801,-119.5 795,-119.5\"/>\n<text text-anchor=\"middle\" x=\"750.5\" y=\"-104.3\" font-family=\"Helvetica,sans-Serif\" font-size=\"14.00\">samples = 1</text>\n<text text-anchor=\"middle\" x=\"750.5\" y=\"-89.3\" font-family=\"Helvetica,sans-Serif\" font-size=\"14.00\">value = 179.051</text>\n</g>\n<!-- 8&#45;&gt;12 -->\n<g id=\"edge12\" class=\"edge\">\n<title>8&#45;&gt;12</title>\n<path fill=\"none\" stroke=\"black\" d=\"M639.05,-162.87C661.19,-150.68 687.45,-136.22 708.92,-124.4\"/>\n<polygon fill=\"black\" stroke=\"black\" points=\"710.73,-127.4 717.8,-119.51 707.35,-121.26 710.73,-127.4\"/>\n</g>\n<!-- 10 -->\n<g id=\"node11\" class=\"node\">\n<title>10</title>\n<path fill=\"none\" stroke=\"black\" d=\"M641,-38C641,-38 544,-38 544,-38 538,-38 532,-32 532,-26 532,-26 532,-12 532,-12 532,-6 538,0 544,0 544,0 641,0 641,0 647,0 653,-6 653,-12 653,-12 653,-26 653,-26 653,-32 647,-38 641,-38\"/>\n<text text-anchor=\"middle\" x=\"592.5\" y=\"-22.8\" font-family=\"Helvetica,sans-Serif\" font-size=\"14.00\">samples = 8</text>\n<text text-anchor=\"middle\" x=\"592.5\" y=\"-7.8\" font-family=\"Helvetica,sans-Serif\" font-size=\"14.00\">value = 2376.799</text>\n</g>\n<!-- 9&#45;&gt;10 -->\n<g id=\"edge10\" class=\"edge\">\n<title>9&#45;&gt;10</title>\n<path fill=\"none\" stroke=\"black\" d=\"M592.5,-73.91C592.5,-65.74 592.5,-56.65 592.5,-48.3\"/>\n<polygon fill=\"black\" stroke=\"black\" points=\"596,-48.24 592.5,-38.24 589,-48.24 596,-48.24\"/>\n</g>\n<!-- 11 -->\n<g id=\"node12\" class=\"node\">\n<title>11</title>\n<path fill=\"none\" stroke=\"black\" d=\"M780,-38C780,-38 683,-38 683,-38 677,-38 671,-32 671,-26 671,-26 671,-12 671,-12 671,-6 677,0 683,0 683,0 780,0 780,0 786,0 792,-6 792,-12 792,-12 792,-26 792,-26 792,-32 786,-38 780,-38\"/>\n<text text-anchor=\"middle\" x=\"731.5\" y=\"-22.8\" font-family=\"Helvetica,sans-Serif\" font-size=\"14.00\">samples = 3</text>\n<text text-anchor=\"middle\" x=\"731.5\" y=\"-7.8\" font-family=\"Helvetica,sans-Serif\" font-size=\"14.00\">value = 1523.634</text>\n</g>\n<!-- 9&#45;&gt;11 -->\n<g id=\"edge11\" class=\"edge\">\n<title>9&#45;&gt;11</title>\n<path fill=\"none\" stroke=\"black\" d=\"M637.25,-73.91C654.39,-64.1 673.84,-52.98 690.61,-43.39\"/>\n<polygon fill=\"black\" stroke=\"black\" points=\"692.67,-46.24 699.61,-38.24 689.19,-40.17 692.67,-46.24\"/>\n</g>\n</g>\n</svg>\n",
            "text/plain": [
              "<graphviz.sources.Source at 0x7f6d2d4030d0>"
            ]
          },
          "metadata": {},
          "execution_count": 21
        }
      ]
    },
    {
      "cell_type": "markdown",
      "metadata": {
        "id": "vAmm5EO6eaQb"
      },
      "source": [
        "###Let's try to understand what our tree learned!\n",
        "\n",
        "- **NODES** contain the Decision that must be made based on a particular criteria. You can see that nodes have 2 arrows pointing away from them. All arrows to the LEFT are taken when the criteria is satisfied, and all arrows to the RIGHT are taken when this criteria is not satisfied.\n",
        "\n",
        "- **ROOT NODE**, this node is what our model determined as the most important feature to consider when making our predictions. It tells you the feature that best splits the data and it's located at the top of the tree.\n",
        "\n",
        "- **LEAVES** contain the final outcome of the Decision path. You can see that leaves do not have arrows pointing away from them.\n",
        "\n"
      ]
    },
    {
      "cell_type": "markdown",
      "metadata": {
        "id": "-piwRWfMXpRq"
      },
      "source": [
        "##**Step 6) Make predictions using Testing data with our trained Decision Tree**\n",
        "\n",
        "We are now ready to make predictions for the counties that had the missing labels.\n",
        "\n",
        "**Below is an image showing what constitutes the Testing Data in our example**\n",
        "\n",
        "![picture_3](https://drive.google.com/uc?export=view&id=13xIeMReBo9HewaItRZroOIwyZqqXXrfL)\n",
        " \n",
        "\n",
        "In Machine learning we usually call the part of the dataset that only contains the FEATURE columns as **Testing Data**. \n",
        "\n",
        "The **Testing Data** is the dataset that is used to predict the missing values of the LABEL column, based on the rules learned during the training phase.\n",
        "\n",
        "Recall that our Decision Tree Model has only been taught using the Training data (40 counties) and has never seen any of the columns of the Testing data (18 counties).\n"
      ]
    },
    {
      "cell_type": "code",
      "source": [
        "HTML('<iframe src=\"https://player.vimeo.com/video/747875773?title=0&byline=0&portrait=0\" width=\"700\" height=\"394\" frameborder=\"0\" webkitallowfullscreen mozallowfullscreen allowfullscreen></iframe><p><a href=\"https://vimeo.com/747875773\">Step 6</a> from <a href=\"https://vimeo.com/showcase/9807396/video/747875773\"><a href=\"https://vimeo.com\">Vimeo</a>.</p>')"
      ],
      "metadata": {
        "colab": {
          "base_uri": "https://localhost:8080/",
          "height": 445
        },
        "id": "tBXTyHn4xWLA",
        "outputId": "389213b8-11b6-4118-b296-26e184978013"
      },
      "execution_count": 22,
      "outputs": [
        {
          "output_type": "execute_result",
          "data": {
            "text/plain": [
              "<IPython.core.display.HTML object>"
            ],
            "text/html": [
              "<iframe src=\"https://player.vimeo.com/video/747875773?title=0&byline=0&portrait=0\" width=\"700\" height=\"394\" frameborder=\"0\" webkitallowfullscreen mozallowfullscreen allowfullscreen></iframe><p><a href=\"https://vimeo.com/747875773\">Step 6</a> from <a href=\"https://vimeo.com/showcase/9807396/video/747875773\"><a href=\"https://vimeo.com\">Vimeo</a>.</p>"
            ]
          },
          "metadata": {},
          "execution_count": 22
        }
      ]
    },
    {
      "cell_type": "markdown",
      "source": [
        "**A)** Let's load the Testing Data that correspond to the counties with the missing label and see what it looks like."
      ],
      "metadata": {
        "id": "rQz5Sfy2XV5L"
      }
    },
    {
      "cell_type": "code",
      "source": [
        "#this opens the file that contains the features testing data, features = data used to make a prediction\n",
        "S2020_testing_features = pd.read_csv(\"https://raw.githubusercontent.com/MarcMachineLearning/Workshop_1/main/Datasets/S2020_test_features.csv\")\n",
        "\n",
        "#this let's you see the loaded Testing Data \n",
        "S2020_testing_features"
      ],
      "metadata": {
        "id": "LEosOPKjZvFY",
        "colab": {
          "base_uri": "https://localhost:8080/",
          "height": 747
        },
        "outputId": "ba534501-e1ec-4380-91a3-6f364efc0a05"
      },
      "execution_count": 23,
      "outputs": [
        {
          "output_type": "execute_result",
          "data": {
            "text/plain": [
              "           county  population  partially_vaccinated_percent  \\\n",
              "0         Alameda     1685886                      0.000016   \n",
              "1          Colusa       22593                      0.000000   \n",
              "2      San Benito       64022                      0.000000   \n",
              "3            Inyo       18453                      0.000000   \n",
              "4          Shasta      177925                      0.000793   \n",
              "5         Trinity       13354                      0.000078   \n",
              "6   San Francisco      892280                      0.000018   \n",
              "7            Mono       13961                      0.000000   \n",
              "8        Siskiyou       43956                      0.000092   \n",
              "9        Imperial      191649                      0.000011   \n",
              "10         Sonoma      496668                      0.000004   \n",
              "11          Butte      217769                      0.000044   \n",
              "12      San Diego     3370418                      0.000053   \n",
              "13         Plumas       18997                      0.000000   \n",
              "14      El Dorado      193098                      0.000016   \n",
              "15         Lassen       30065                      0.000000   \n",
              "16   Contra Costa     1160099                      0.000031   \n",
              "17      Calaveras       44289                      0.000022   \n",
              "\n",
              "    fully_vaccinated_percent  2020_Unemployment_Rate  democrat_votes_percent  \\\n",
              "0                   0.000023                0.119655                0.802082   \n",
              "1                   0.000000                0.134429                0.406858   \n",
              "2                   0.000000                0.111465                0.611446   \n",
              "3                   0.000000                0.093413                0.488612   \n",
              "4                   0.000754                0.099861                0.322824   \n",
              "5                   0.000078                0.080260                0.455504   \n",
              "6                   0.000015                0.110087                0.852561   \n",
              "7                   0.000000                0.137376                0.595577   \n",
              "8                   0.000092                0.103044                0.408700   \n",
              "9                   0.000000                0.265077                0.611141   \n",
              "10                  0.000004                0.100326                0.745156   \n",
              "11                  0.000018                0.111726                0.494053   \n",
              "12                  0.000061                0.123486                0.602100   \n",
              "13                  0.000000                0.100381                0.405062   \n",
              "14                  0.000027                0.098670                0.444399   \n",
              "15                  0.000000                0.079570                0.233503   \n",
              "16                  0.000044                0.119436                0.716282   \n",
              "17                  0.000000                0.091079                0.369828   \n",
              "\n",
              "    green_votes_percent  republican_votes_percent  libertarian_votes_percent  \\\n",
              "0              0.006057                  0.177009                   0.008175   \n",
              "1              0.003140                  0.572667                   0.010175   \n",
              "2              0.003156                  0.367326                   0.011967   \n",
              "3              0.004745                  0.487136                   0.013496   \n",
              "4              0.003960                  0.654138                   0.013742   \n",
              "5              0.007988                  0.509347                   0.018693   \n",
              "6              0.006270                  0.127193                   0.007438   \n",
              "7              0.006233                  0.372959                   0.018700   \n",
              "8              0.004942                  0.566207                   0.013548   \n",
              "9              0.004124                  0.367393                   0.006873   \n",
              "10             0.005587                  0.230418                   0.012739   \n",
              "11             0.004967                  0.477436                   0.017381   \n",
              "12             0.004632                  0.374557                   0.013348   \n",
              "13             0.003464                  0.572380                   0.013588   \n",
              "14             0.003960                  0.532357                   0.016107   \n",
              "15             0.002586                  0.748311                   0.011763   \n",
              "16             0.004504                  0.262984                   0.010521   \n",
              "17             0.004602                  0.608084                   0.013216   \n",
              "\n",
              "    other_votes_percent  \n",
              "0              0.006679  \n",
              "1              0.007160  \n",
              "2              0.006105  \n",
              "3              0.006010  \n",
              "4              0.005337  \n",
              "5              0.008468  \n",
              "6              0.006538  \n",
              "7              0.006530  \n",
              "8              0.006604  \n",
              "9              0.010468  \n",
              "10             0.006101  \n",
              "11             0.006163  \n",
              "12             0.005363  \n",
              "13             0.005506  \n",
              "14             0.003177  \n",
              "15             0.003837  \n",
              "16             0.005709  \n",
              "17             0.004270  "
            ],
            "text/html": [
              "\n",
              "  <div id=\"df-4b2fca5d-c8da-4d40-860d-48f45b972e88\">\n",
              "    <div class=\"colab-df-container\">\n",
              "      <div>\n",
              "<style scoped>\n",
              "    .dataframe tbody tr th:only-of-type {\n",
              "        vertical-align: middle;\n",
              "    }\n",
              "\n",
              "    .dataframe tbody tr th {\n",
              "        vertical-align: top;\n",
              "    }\n",
              "\n",
              "    .dataframe thead th {\n",
              "        text-align: right;\n",
              "    }\n",
              "</style>\n",
              "<table border=\"1\" class=\"dataframe\">\n",
              "  <thead>\n",
              "    <tr style=\"text-align: right;\">\n",
              "      <th></th>\n",
              "      <th>county</th>\n",
              "      <th>population</th>\n",
              "      <th>partially_vaccinated_percent</th>\n",
              "      <th>fully_vaccinated_percent</th>\n",
              "      <th>2020_Unemployment_Rate</th>\n",
              "      <th>democrat_votes_percent</th>\n",
              "      <th>green_votes_percent</th>\n",
              "      <th>republican_votes_percent</th>\n",
              "      <th>libertarian_votes_percent</th>\n",
              "      <th>other_votes_percent</th>\n",
              "    </tr>\n",
              "  </thead>\n",
              "  <tbody>\n",
              "    <tr>\n",
              "      <th>0</th>\n",
              "      <td>Alameda</td>\n",
              "      <td>1685886</td>\n",
              "      <td>0.000016</td>\n",
              "      <td>0.000023</td>\n",
              "      <td>0.119655</td>\n",
              "      <td>0.802082</td>\n",
              "      <td>0.006057</td>\n",
              "      <td>0.177009</td>\n",
              "      <td>0.008175</td>\n",
              "      <td>0.006679</td>\n",
              "    </tr>\n",
              "    <tr>\n",
              "      <th>1</th>\n",
              "      <td>Colusa</td>\n",
              "      <td>22593</td>\n",
              "      <td>0.000000</td>\n",
              "      <td>0.000000</td>\n",
              "      <td>0.134429</td>\n",
              "      <td>0.406858</td>\n",
              "      <td>0.003140</td>\n",
              "      <td>0.572667</td>\n",
              "      <td>0.010175</td>\n",
              "      <td>0.007160</td>\n",
              "    </tr>\n",
              "    <tr>\n",
              "      <th>2</th>\n",
              "      <td>San Benito</td>\n",
              "      <td>64022</td>\n",
              "      <td>0.000000</td>\n",
              "      <td>0.000000</td>\n",
              "      <td>0.111465</td>\n",
              "      <td>0.611446</td>\n",
              "      <td>0.003156</td>\n",
              "      <td>0.367326</td>\n",
              "      <td>0.011967</td>\n",
              "      <td>0.006105</td>\n",
              "    </tr>\n",
              "    <tr>\n",
              "      <th>3</th>\n",
              "      <td>Inyo</td>\n",
              "      <td>18453</td>\n",
              "      <td>0.000000</td>\n",
              "      <td>0.000000</td>\n",
              "      <td>0.093413</td>\n",
              "      <td>0.488612</td>\n",
              "      <td>0.004745</td>\n",
              "      <td>0.487136</td>\n",
              "      <td>0.013496</td>\n",
              "      <td>0.006010</td>\n",
              "    </tr>\n",
              "    <tr>\n",
              "      <th>4</th>\n",
              "      <td>Shasta</td>\n",
              "      <td>177925</td>\n",
              "      <td>0.000793</td>\n",
              "      <td>0.000754</td>\n",
              "      <td>0.099861</td>\n",
              "      <td>0.322824</td>\n",
              "      <td>0.003960</td>\n",
              "      <td>0.654138</td>\n",
              "      <td>0.013742</td>\n",
              "      <td>0.005337</td>\n",
              "    </tr>\n",
              "    <tr>\n",
              "      <th>5</th>\n",
              "      <td>Trinity</td>\n",
              "      <td>13354</td>\n",
              "      <td>0.000078</td>\n",
              "      <td>0.000078</td>\n",
              "      <td>0.080260</td>\n",
              "      <td>0.455504</td>\n",
              "      <td>0.007988</td>\n",
              "      <td>0.509347</td>\n",
              "      <td>0.018693</td>\n",
              "      <td>0.008468</td>\n",
              "    </tr>\n",
              "    <tr>\n",
              "      <th>6</th>\n",
              "      <td>San Francisco</td>\n",
              "      <td>892280</td>\n",
              "      <td>0.000018</td>\n",
              "      <td>0.000015</td>\n",
              "      <td>0.110087</td>\n",
              "      <td>0.852561</td>\n",
              "      <td>0.006270</td>\n",
              "      <td>0.127193</td>\n",
              "      <td>0.007438</td>\n",
              "      <td>0.006538</td>\n",
              "    </tr>\n",
              "    <tr>\n",
              "      <th>7</th>\n",
              "      <td>Mono</td>\n",
              "      <td>13961</td>\n",
              "      <td>0.000000</td>\n",
              "      <td>0.000000</td>\n",
              "      <td>0.137376</td>\n",
              "      <td>0.595577</td>\n",
              "      <td>0.006233</td>\n",
              "      <td>0.372959</td>\n",
              "      <td>0.018700</td>\n",
              "      <td>0.006530</td>\n",
              "    </tr>\n",
              "    <tr>\n",
              "      <th>8</th>\n",
              "      <td>Siskiyou</td>\n",
              "      <td>43956</td>\n",
              "      <td>0.000092</td>\n",
              "      <td>0.000092</td>\n",
              "      <td>0.103044</td>\n",
              "      <td>0.408700</td>\n",
              "      <td>0.004942</td>\n",
              "      <td>0.566207</td>\n",
              "      <td>0.013548</td>\n",
              "      <td>0.006604</td>\n",
              "    </tr>\n",
              "    <tr>\n",
              "      <th>9</th>\n",
              "      <td>Imperial</td>\n",
              "      <td>191649</td>\n",
              "      <td>0.000011</td>\n",
              "      <td>0.000000</td>\n",
              "      <td>0.265077</td>\n",
              "      <td>0.611141</td>\n",
              "      <td>0.004124</td>\n",
              "      <td>0.367393</td>\n",
              "      <td>0.006873</td>\n",
              "      <td>0.010468</td>\n",
              "    </tr>\n",
              "    <tr>\n",
              "      <th>10</th>\n",
              "      <td>Sonoma</td>\n",
              "      <td>496668</td>\n",
              "      <td>0.000004</td>\n",
              "      <td>0.000004</td>\n",
              "      <td>0.100326</td>\n",
              "      <td>0.745156</td>\n",
              "      <td>0.005587</td>\n",
              "      <td>0.230418</td>\n",
              "      <td>0.012739</td>\n",
              "      <td>0.006101</td>\n",
              "    </tr>\n",
              "    <tr>\n",
              "      <th>11</th>\n",
              "      <td>Butte</td>\n",
              "      <td>217769</td>\n",
              "      <td>0.000044</td>\n",
              "      <td>0.000018</td>\n",
              "      <td>0.111726</td>\n",
              "      <td>0.494053</td>\n",
              "      <td>0.004967</td>\n",
              "      <td>0.477436</td>\n",
              "      <td>0.017381</td>\n",
              "      <td>0.006163</td>\n",
              "    </tr>\n",
              "    <tr>\n",
              "      <th>12</th>\n",
              "      <td>San Diego</td>\n",
              "      <td>3370418</td>\n",
              "      <td>0.000053</td>\n",
              "      <td>0.000061</td>\n",
              "      <td>0.123486</td>\n",
              "      <td>0.602100</td>\n",
              "      <td>0.004632</td>\n",
              "      <td>0.374557</td>\n",
              "      <td>0.013348</td>\n",
              "      <td>0.005363</td>\n",
              "    </tr>\n",
              "    <tr>\n",
              "      <th>13</th>\n",
              "      <td>Plumas</td>\n",
              "      <td>18997</td>\n",
              "      <td>0.000000</td>\n",
              "      <td>0.000000</td>\n",
              "      <td>0.100381</td>\n",
              "      <td>0.405062</td>\n",
              "      <td>0.003464</td>\n",
              "      <td>0.572380</td>\n",
              "      <td>0.013588</td>\n",
              "      <td>0.005506</td>\n",
              "    </tr>\n",
              "    <tr>\n",
              "      <th>14</th>\n",
              "      <td>El Dorado</td>\n",
              "      <td>193098</td>\n",
              "      <td>0.000016</td>\n",
              "      <td>0.000027</td>\n",
              "      <td>0.098670</td>\n",
              "      <td>0.444399</td>\n",
              "      <td>0.003960</td>\n",
              "      <td>0.532357</td>\n",
              "      <td>0.016107</td>\n",
              "      <td>0.003177</td>\n",
              "    </tr>\n",
              "    <tr>\n",
              "      <th>15</th>\n",
              "      <td>Lassen</td>\n",
              "      <td>30065</td>\n",
              "      <td>0.000000</td>\n",
              "      <td>0.000000</td>\n",
              "      <td>0.079570</td>\n",
              "      <td>0.233503</td>\n",
              "      <td>0.002586</td>\n",
              "      <td>0.748311</td>\n",
              "      <td>0.011763</td>\n",
              "      <td>0.003837</td>\n",
              "    </tr>\n",
              "    <tr>\n",
              "      <th>16</th>\n",
              "      <td>Contra Costa</td>\n",
              "      <td>1160099</td>\n",
              "      <td>0.000031</td>\n",
              "      <td>0.000044</td>\n",
              "      <td>0.119436</td>\n",
              "      <td>0.716282</td>\n",
              "      <td>0.004504</td>\n",
              "      <td>0.262984</td>\n",
              "      <td>0.010521</td>\n",
              "      <td>0.005709</td>\n",
              "    </tr>\n",
              "    <tr>\n",
              "      <th>17</th>\n",
              "      <td>Calaveras</td>\n",
              "      <td>44289</td>\n",
              "      <td>0.000022</td>\n",
              "      <td>0.000000</td>\n",
              "      <td>0.091079</td>\n",
              "      <td>0.369828</td>\n",
              "      <td>0.004602</td>\n",
              "      <td>0.608084</td>\n",
              "      <td>0.013216</td>\n",
              "      <td>0.004270</td>\n",
              "    </tr>\n",
              "  </tbody>\n",
              "</table>\n",
              "</div>\n",
              "      <button class=\"colab-df-convert\" onclick=\"convertToInteractive('df-4b2fca5d-c8da-4d40-860d-48f45b972e88')\"\n",
              "              title=\"Convert this dataframe to an interactive table.\"\n",
              "              style=\"display:none;\">\n",
              "        \n",
              "  <svg xmlns=\"http://www.w3.org/2000/svg\" height=\"24px\"viewBox=\"0 0 24 24\"\n",
              "       width=\"24px\">\n",
              "    <path d=\"M0 0h24v24H0V0z\" fill=\"none\"/>\n",
              "    <path d=\"M18.56 5.44l.94 2.06.94-2.06 2.06-.94-2.06-.94-.94-2.06-.94 2.06-2.06.94zm-11 1L8.5 8.5l.94-2.06 2.06-.94-2.06-.94L8.5 2.5l-.94 2.06-2.06.94zm10 10l.94 2.06.94-2.06 2.06-.94-2.06-.94-.94-2.06-.94 2.06-2.06.94z\"/><path d=\"M17.41 7.96l-1.37-1.37c-.4-.4-.92-.59-1.43-.59-.52 0-1.04.2-1.43.59L10.3 9.45l-7.72 7.72c-.78.78-.78 2.05 0 2.83L4 21.41c.39.39.9.59 1.41.59.51 0 1.02-.2 1.41-.59l7.78-7.78 2.81-2.81c.8-.78.8-2.07 0-2.86zM5.41 20L4 18.59l7.72-7.72 1.47 1.35L5.41 20z\"/>\n",
              "  </svg>\n",
              "      </button>\n",
              "      \n",
              "  <style>\n",
              "    .colab-df-container {\n",
              "      display:flex;\n",
              "      flex-wrap:wrap;\n",
              "      gap: 12px;\n",
              "    }\n",
              "\n",
              "    .colab-df-convert {\n",
              "      background-color: #E8F0FE;\n",
              "      border: none;\n",
              "      border-radius: 50%;\n",
              "      cursor: pointer;\n",
              "      display: none;\n",
              "      fill: #1967D2;\n",
              "      height: 32px;\n",
              "      padding: 0 0 0 0;\n",
              "      width: 32px;\n",
              "    }\n",
              "\n",
              "    .colab-df-convert:hover {\n",
              "      background-color: #E2EBFA;\n",
              "      box-shadow: 0px 1px 2px rgba(60, 64, 67, 0.3), 0px 1px 3px 1px rgba(60, 64, 67, 0.15);\n",
              "      fill: #174EA6;\n",
              "    }\n",
              "\n",
              "    [theme=dark] .colab-df-convert {\n",
              "      background-color: #3B4455;\n",
              "      fill: #D2E3FC;\n",
              "    }\n",
              "\n",
              "    [theme=dark] .colab-df-convert:hover {\n",
              "      background-color: #434B5C;\n",
              "      box-shadow: 0px 1px 3px 1px rgba(0, 0, 0, 0.15);\n",
              "      filter: drop-shadow(0px 1px 2px rgba(0, 0, 0, 0.3));\n",
              "      fill: #FFFFFF;\n",
              "    }\n",
              "  </style>\n",
              "\n",
              "      <script>\n",
              "        const buttonEl =\n",
              "          document.querySelector('#df-4b2fca5d-c8da-4d40-860d-48f45b972e88 button.colab-df-convert');\n",
              "        buttonEl.style.display =\n",
              "          google.colab.kernel.accessAllowed ? 'block' : 'none';\n",
              "\n",
              "        async function convertToInteractive(key) {\n",
              "          const element = document.querySelector('#df-4b2fca5d-c8da-4d40-860d-48f45b972e88');\n",
              "          const dataTable =\n",
              "            await google.colab.kernel.invokeFunction('convertToInteractive',\n",
              "                                                     [key], {});\n",
              "          if (!dataTable) return;\n",
              "\n",
              "          const docLinkHtml = 'Like what you see? Visit the ' +\n",
              "            '<a target=\"_blank\" href=https://colab.research.google.com/notebooks/data_table.ipynb>data table notebook</a>'\n",
              "            + ' to learn more about interactive tables.';\n",
              "          element.innerHTML = '';\n",
              "          dataTable['output_type'] = 'display_data';\n",
              "          await google.colab.output.renderOutput(dataTable, element);\n",
              "          const docLink = document.createElement('div');\n",
              "          docLink.innerHTML = docLinkHtml;\n",
              "          element.appendChild(docLink);\n",
              "        }\n",
              "      </script>\n",
              "    </div>\n",
              "  </div>\n",
              "  "
            ]
          },
          "metadata": {},
          "execution_count": 23
        }
      ]
    },
    {
      "cell_type": "markdown",
      "metadata": {
        "id": "8kbXnSYJYeFp"
      },
      "source": [
        "**B)** Lets Drop the county names from the Dataset and make our predictions!"
      ]
    },
    {
      "cell_type": "code",
      "metadata": {
        "id": "N0UzcWykYcYu"
      },
      "source": [
        "#this drops the \"county\" column from our test dataset\n",
        "S2020_features_test_nocounty = S2020_testing_features.drop(columns=[\"county\"])\n",
        "\n",
        "#this uses the tree we created and makes the predictions\n",
        "S2020_labels_pred = dtr_summer2020.predict(S2020_features_test_nocounty)"
      ],
      "execution_count": 24,
      "outputs": []
    },
    {
      "cell_type": "markdown",
      "metadata": {
        "id": "dtdn-J82b4Zc"
      },
      "source": [
        "**C)** Let's look at what labels our model predicted and check how it relates to our Decision Tree:\n",
        "\n",
        "![picture_3](https://drive.google.com/uc?export=view&id=1ls9qEt-UB_n5zxxTENIrsk6ZYqqVUvb0)\n"
      ]
    },
    {
      "cell_type": "code",
      "metadata": {
        "id": "m8vm4bYUbQVB",
        "colab": {
          "base_uri": "https://localhost:8080/",
          "height": 613
        },
        "outputId": "bb3015d9-1552-4e5c-b267-446f9b7103c3"
      },
      "source": [
        "# This turns our predictions (which is currently an array) into a dataframe \n",
        "S2020_labels_preds_df = pd.DataFrame(S2020_labels_pred, columns=[\"Predicted\"])\n",
        "\n",
        "# this line adds the County name back, so that you can see what was perdicted for each county\n",
        "S2020_labels_preds_df = pd.concat([S2020_testing_features[\"county\"].reset_index(drop=True),S2020_labels_preds_df.reset_index(drop=True)],axis=1)\n",
        "\n",
        "# this lets us see what was predicted\n",
        "S2020_labels_preds_df.round(3)"
      ],
      "execution_count": 25,
      "outputs": [
        {
          "output_type": "execute_result",
          "data": {
            "text/plain": [
              "           county  Predicted\n",
              "0         Alameda    702.806\n",
              "1          Colusa   2376.799\n",
              "2      San Benito   1150.798\n",
              "3            Inyo    286.158\n",
              "4          Shasta   1150.798\n",
              "5         Trinity    286.158\n",
              "6   San Francisco    702.806\n",
              "7            Mono    179.051\n",
              "8        Siskiyou    702.806\n",
              "9        Imperial   2376.799\n",
              "10         Sonoma    702.806\n",
              "11          Butte    702.806\n",
              "12      San Diego   1523.634\n",
              "13         Plumas    286.158\n",
              "14      El Dorado   1150.798\n",
              "15         Lassen   1150.798\n",
              "16   Contra Costa   1150.798\n",
              "17      Calaveras   1150.798"
            ],
            "text/html": [
              "\n",
              "  <div id=\"df-67c46a18-7246-4dce-a1f7-a1b25e7a7689\">\n",
              "    <div class=\"colab-df-container\">\n",
              "      <div>\n",
              "<style scoped>\n",
              "    .dataframe tbody tr th:only-of-type {\n",
              "        vertical-align: middle;\n",
              "    }\n",
              "\n",
              "    .dataframe tbody tr th {\n",
              "        vertical-align: top;\n",
              "    }\n",
              "\n",
              "    .dataframe thead th {\n",
              "        text-align: right;\n",
              "    }\n",
              "</style>\n",
              "<table border=\"1\" class=\"dataframe\">\n",
              "  <thead>\n",
              "    <tr style=\"text-align: right;\">\n",
              "      <th></th>\n",
              "      <th>county</th>\n",
              "      <th>Predicted</th>\n",
              "    </tr>\n",
              "  </thead>\n",
              "  <tbody>\n",
              "    <tr>\n",
              "      <th>0</th>\n",
              "      <td>Alameda</td>\n",
              "      <td>702.806</td>\n",
              "    </tr>\n",
              "    <tr>\n",
              "      <th>1</th>\n",
              "      <td>Colusa</td>\n",
              "      <td>2376.799</td>\n",
              "    </tr>\n",
              "    <tr>\n",
              "      <th>2</th>\n",
              "      <td>San Benito</td>\n",
              "      <td>1150.798</td>\n",
              "    </tr>\n",
              "    <tr>\n",
              "      <th>3</th>\n",
              "      <td>Inyo</td>\n",
              "      <td>286.158</td>\n",
              "    </tr>\n",
              "    <tr>\n",
              "      <th>4</th>\n",
              "      <td>Shasta</td>\n",
              "      <td>1150.798</td>\n",
              "    </tr>\n",
              "    <tr>\n",
              "      <th>5</th>\n",
              "      <td>Trinity</td>\n",
              "      <td>286.158</td>\n",
              "    </tr>\n",
              "    <tr>\n",
              "      <th>6</th>\n",
              "      <td>San Francisco</td>\n",
              "      <td>702.806</td>\n",
              "    </tr>\n",
              "    <tr>\n",
              "      <th>7</th>\n",
              "      <td>Mono</td>\n",
              "      <td>179.051</td>\n",
              "    </tr>\n",
              "    <tr>\n",
              "      <th>8</th>\n",
              "      <td>Siskiyou</td>\n",
              "      <td>702.806</td>\n",
              "    </tr>\n",
              "    <tr>\n",
              "      <th>9</th>\n",
              "      <td>Imperial</td>\n",
              "      <td>2376.799</td>\n",
              "    </tr>\n",
              "    <tr>\n",
              "      <th>10</th>\n",
              "      <td>Sonoma</td>\n",
              "      <td>702.806</td>\n",
              "    </tr>\n",
              "    <tr>\n",
              "      <th>11</th>\n",
              "      <td>Butte</td>\n",
              "      <td>702.806</td>\n",
              "    </tr>\n",
              "    <tr>\n",
              "      <th>12</th>\n",
              "      <td>San Diego</td>\n",
              "      <td>1523.634</td>\n",
              "    </tr>\n",
              "    <tr>\n",
              "      <th>13</th>\n",
              "      <td>Plumas</td>\n",
              "      <td>286.158</td>\n",
              "    </tr>\n",
              "    <tr>\n",
              "      <th>14</th>\n",
              "      <td>El Dorado</td>\n",
              "      <td>1150.798</td>\n",
              "    </tr>\n",
              "    <tr>\n",
              "      <th>15</th>\n",
              "      <td>Lassen</td>\n",
              "      <td>1150.798</td>\n",
              "    </tr>\n",
              "    <tr>\n",
              "      <th>16</th>\n",
              "      <td>Contra Costa</td>\n",
              "      <td>1150.798</td>\n",
              "    </tr>\n",
              "    <tr>\n",
              "      <th>17</th>\n",
              "      <td>Calaveras</td>\n",
              "      <td>1150.798</td>\n",
              "    </tr>\n",
              "  </tbody>\n",
              "</table>\n",
              "</div>\n",
              "      <button class=\"colab-df-convert\" onclick=\"convertToInteractive('df-67c46a18-7246-4dce-a1f7-a1b25e7a7689')\"\n",
              "              title=\"Convert this dataframe to an interactive table.\"\n",
              "              style=\"display:none;\">\n",
              "        \n",
              "  <svg xmlns=\"http://www.w3.org/2000/svg\" height=\"24px\"viewBox=\"0 0 24 24\"\n",
              "       width=\"24px\">\n",
              "    <path d=\"M0 0h24v24H0V0z\" fill=\"none\"/>\n",
              "    <path d=\"M18.56 5.44l.94 2.06.94-2.06 2.06-.94-2.06-.94-.94-2.06-.94 2.06-2.06.94zm-11 1L8.5 8.5l.94-2.06 2.06-.94-2.06-.94L8.5 2.5l-.94 2.06-2.06.94zm10 10l.94 2.06.94-2.06 2.06-.94-2.06-.94-.94-2.06-.94 2.06-2.06.94z\"/><path d=\"M17.41 7.96l-1.37-1.37c-.4-.4-.92-.59-1.43-.59-.52 0-1.04.2-1.43.59L10.3 9.45l-7.72 7.72c-.78.78-.78 2.05 0 2.83L4 21.41c.39.39.9.59 1.41.59.51 0 1.02-.2 1.41-.59l7.78-7.78 2.81-2.81c.8-.78.8-2.07 0-2.86zM5.41 20L4 18.59l7.72-7.72 1.47 1.35L5.41 20z\"/>\n",
              "  </svg>\n",
              "      </button>\n",
              "      \n",
              "  <style>\n",
              "    .colab-df-container {\n",
              "      display:flex;\n",
              "      flex-wrap:wrap;\n",
              "      gap: 12px;\n",
              "    }\n",
              "\n",
              "    .colab-df-convert {\n",
              "      background-color: #E8F0FE;\n",
              "      border: none;\n",
              "      border-radius: 50%;\n",
              "      cursor: pointer;\n",
              "      display: none;\n",
              "      fill: #1967D2;\n",
              "      height: 32px;\n",
              "      padding: 0 0 0 0;\n",
              "      width: 32px;\n",
              "    }\n",
              "\n",
              "    .colab-df-convert:hover {\n",
              "      background-color: #E2EBFA;\n",
              "      box-shadow: 0px 1px 2px rgba(60, 64, 67, 0.3), 0px 1px 3px 1px rgba(60, 64, 67, 0.15);\n",
              "      fill: #174EA6;\n",
              "    }\n",
              "\n",
              "    [theme=dark] .colab-df-convert {\n",
              "      background-color: #3B4455;\n",
              "      fill: #D2E3FC;\n",
              "    }\n",
              "\n",
              "    [theme=dark] .colab-df-convert:hover {\n",
              "      background-color: #434B5C;\n",
              "      box-shadow: 0px 1px 3px 1px rgba(0, 0, 0, 0.15);\n",
              "      filter: drop-shadow(0px 1px 2px rgba(0, 0, 0, 0.3));\n",
              "      fill: #FFFFFF;\n",
              "    }\n",
              "  </style>\n",
              "\n",
              "      <script>\n",
              "        const buttonEl =\n",
              "          document.querySelector('#df-67c46a18-7246-4dce-a1f7-a1b25e7a7689 button.colab-df-convert');\n",
              "        buttonEl.style.display =\n",
              "          google.colab.kernel.accessAllowed ? 'block' : 'none';\n",
              "\n",
              "        async function convertToInteractive(key) {\n",
              "          const element = document.querySelector('#df-67c46a18-7246-4dce-a1f7-a1b25e7a7689');\n",
              "          const dataTable =\n",
              "            await google.colab.kernel.invokeFunction('convertToInteractive',\n",
              "                                                     [key], {});\n",
              "          if (!dataTable) return;\n",
              "\n",
              "          const docLinkHtml = 'Like what you see? Visit the ' +\n",
              "            '<a target=\"_blank\" href=https://colab.research.google.com/notebooks/data_table.ipynb>data table notebook</a>'\n",
              "            + ' to learn more about interactive tables.';\n",
              "          element.innerHTML = '';\n",
              "          dataTable['output_type'] = 'display_data';\n",
              "          await google.colab.output.renderOutput(dataTable, element);\n",
              "          const docLink = document.createElement('div');\n",
              "          docLink.innerHTML = docLinkHtml;\n",
              "          element.appendChild(docLink);\n",
              "        }\n",
              "      </script>\n",
              "    </div>\n",
              "  </div>\n",
              "  "
            ]
          },
          "metadata": {},
          "execution_count": 25
        }
      ]
    },
    {
      "cell_type": "markdown",
      "metadata": {
        "id": "E1W_kQwBa2Vh"
      },
      "source": [
        "##**Step 7) Let's see How our Decicion Tree Model Performed**"
      ]
    },
    {
      "cell_type": "code",
      "source": [
        "HTML('<iframe src=\"https://player.vimeo.com/video/747875827?title=0&byline=0&portrait=0\" width=\"700\" height=\"394\" frameborder=\"0\" webkitallowfullscreen mozallowfullscreen allowfullscreen></iframe><p><a href=\"https://vimeo.com/747875827\">Step 7</a> from <a href=\"https://vimeo.com/showcase/9807396/video/747875827\"><a href=\"https://vimeo.com\">Vimeo</a>.</p>')"
      ],
      "metadata": {
        "colab": {
          "base_uri": "https://localhost:8080/",
          "height": 445
        },
        "id": "OP3hQzUzxwyu",
        "outputId": "3e6c3f73-5c3c-44c4-df78-0eb7f9976950"
      },
      "execution_count": 26,
      "outputs": [
        {
          "output_type": "execute_result",
          "data": {
            "text/plain": [
              "<IPython.core.display.HTML object>"
            ],
            "text/html": [
              "<iframe src=\"https://player.vimeo.com/video/747875827?title=0&byline=0&portrait=0\" width=\"700\" height=\"394\" frameborder=\"0\" webkitallowfullscreen mozallowfullscreen allowfullscreen></iframe><p><a href=\"https://vimeo.com/747875827\">Step 7</a> from <a href=\"https://vimeo.com/showcase/9807396/video/747875827\"><a href=\"https://vimeo.com\">Vimeo</a>.</p>"
            ]
          },
          "metadata": {},
          "execution_count": 26
        }
      ]
    },
    {
      "cell_type": "markdown",
      "source": [
        "Now that we have predicted the missing labels for Summer 2020 cases. Let's see how our model did by comparing it with the actual labels!\n",
        "\n",
        "**A)** Let's Reveal now our ACTUAL labels by loading them into the Notebook"
      ],
      "metadata": {
        "id": "WSaIOYDdxwFu"
      }
    },
    {
      "cell_type": "code",
      "source": [
        "#this opens the file that contains the label testing data, label = what we want to predict\n",
        "S2020_testing_labels = pd.read_csv(\"https://raw.githubusercontent.com/MarcMachineLearning/Workshop_1/main/Datasets/S2020_test_labels.csv\")\n",
        "\n",
        "# This drops the county on our label data so that the dataframe only has one column with county names when is joined with the predicted dataframe\n",
        "S2020_testing_labels = S2020_testing_labels.drop(columns=[\"county\"])"
      ],
      "metadata": {
        "id": "iJiWA-b5NSVe"
      },
      "execution_count": 27,
      "outputs": []
    },
    {
      "cell_type": "markdown",
      "source": [
        "**B)** We can use a Bargraph to help us visually inspect how our model performed"
      ],
      "metadata": {
        "id": "5GtJ_4k-pnNS"
      }
    },
    {
      "cell_type": "code",
      "metadata": {
        "id": "NAsEnU9ofhnh",
        "colab": {
          "base_uri": "https://localhost:8080/",
          "height": 1000
        },
        "outputId": "821dbaf8-1e51-42ba-d866-71c0fd7921eb"
      },
      "source": [
        "#This puts into a single dataframe our predictions with our original test labels \n",
        "pred_vs_test_2020 = pd.concat([S2020_testing_labels.reset_index(drop=True),S2020_labels_preds_df.reset_index(drop=True)],axis=1)\n",
        "\n",
        "#This plots the data in a barchart per county\n",
        "pred_vs_test_plot = pred_vs_test_2020.plot.barh(color={\"Predicted\": \"orange\", \"cases_per_100000\": \"darkblue\"},x=\"county\",figsize=(15,15), yticks=np.arange(0,4000,500))"
      ],
      "execution_count": 28,
      "outputs": [
        {
          "output_type": "display_data",
          "data": {
            "text/plain": [
              "<Figure size 1500x1500 with 1 Axes>"
            ],
            "image/png": "[encoded data removed]"
          },
          "metadata": {}
        }
      ]
    },
    {
      "cell_type": "markdown",
      "metadata": {
        "id": "9mvyWU5-JEIc"
      },
      "source": [
        "##**Step 8) Lets try using our Summer 2020 Tree model to predict 2021 Data**\n",
        "\n"
      ]
    },
    {
      "cell_type": "code",
      "source": [
        "HTML('<iframe src=\"https://player.vimeo.com/video/714289135?title=0&byline=0&portrait=0\" width=\"700\" height=\"394\" frameborder=\"0\" webkitallowfullscreen mozallowfullscreen allowfullscreen></iframe><p><a href=\"https://vimeo.com/714289135\">Video Recap</a> from <a href=\"https://vimeo.com/showcase/9557969/video/714289135\">Introduction to Machine Learning: Decision Trees</a> on <a href=\"https://vimeo.com\">Vimeo</a>.</p>')"
      ],
      "metadata": {
        "colab": {
          "base_uri": "https://localhost:8080/",
          "height": 445
        },
        "id": "jo6ZAZntygrk",
        "outputId": "48a5d8b4-4106-47c9-88c5-0a3e5510c4a1"
      },
      "execution_count": 29,
      "outputs": [
        {
          "output_type": "execute_result",
          "data": {
            "text/plain": [
              "<IPython.core.display.HTML object>"
            ],
            "text/html": [
              "<iframe src=\"https://player.vimeo.com/video/714289135?title=0&byline=0&portrait=0\" width=\"700\" height=\"394\" frameborder=\"0\" webkitallowfullscreen mozallowfullscreen allowfullscreen></iframe><p><a href=\"https://vimeo.com/714289135\">Video Recap</a> from <a href=\"https://vimeo.com/showcase/9557969/video/714289135\">Introduction to Machine Learning: Decision Trees</a> on <a href=\"https://vimeo.com\">Vimeo</a>.</p>"
            ]
          },
          "metadata": {},
          "execution_count": 29
        }
      ]
    },
    {
      "cell_type": "markdown",
      "source": [
        "**A)** Let's Load the Features information for the same 18 counties, but this time for Summer 2021."
      ],
      "metadata": {
        "id": "SWU1zSMyyMKq"
      }
    },
    {
      "cell_type": "code",
      "source": [
        "#Importing Summer 2021 Data to predict using \"Summer2020 Model\"\n",
        "S2021_testing_features = pd.read_csv(\"https://raw.githubusercontent.com/MarcMachineLearning/Workshop_1/main/Datasets/S2021_test_features.csv\")\n",
        "\n",
        "# make predictions for Summer 2021 Data\n",
        "S2021_labels_pred = dtr_summer2020.predict(S2021_testing_features.drop(columns=[\"county\"]))"
      ],
      "metadata": {
        "id": "sUa7LQiCjxgs"
      },
      "execution_count": 30,
      "outputs": []
    },
    {
      "cell_type": "markdown",
      "source": [
        "**B)** Let's now load the Actual 2021 Summer data and see how our 2020 Decision Tree Model Performed this time."
      ],
      "metadata": {
        "id": "IM8JtSE5vJ7B"
      }
    },
    {
      "cell_type": "code",
      "source": [
        "#Importing Labels of Summer 2021 Data to check accuracy of \"Summer2020 Model\" predicting Summer2021 Data\n",
        "S2021_testing_labels = pd.read_csv(\"https://raw.githubusercontent.com/MarcMachineLearning/Workshop_1/main/Datasets/S2021_test_labels.csv\")\n",
        "\n",
        "# This turns our predictions (which is currently an array) into a dataframe \n",
        "S2021_labels_pred_df = pd.DataFrame(S2021_labels_pred, columns=[\"Predicted\"])\n",
        "\n",
        "# This puts into a single dataframe our predictions with our original test labels \n",
        "pred_vs_test_2021 = pd.concat([S2021_testing_labels.reset_index(drop=True),S2021_labels_pred_df.reset_index(drop=True)],axis=1)\n",
        "\n",
        "#Visualize performance for Summer 2021 predictions\n",
        "pred_vs_test_plot = pred_vs_test_2021.plot.barh(color={\"Predicted\": \"orange\", \"cases_per_100000\": \"teal\"},x=\"county\",figsize=(15,15), yticks=np.arange(0,4000,500))"
      ],
      "metadata": {
        "id": "LNV1vk3EvAFW",
        "colab": {
          "base_uri": "https://localhost:8080/",
          "height": 1000
        },
        "outputId": "d13a2a54-a3f5-4963-cda9-e9fa69aabbb5"
      },
      "execution_count": 31,
      "outputs": [
        {
          "output_type": "display_data",
          "data": {
            "text/plain": [
              "<Figure size 1500x1500 with 1 Axes>"
            ],
            "image/png": "[encoded data removed]"
          },
          "metadata": {}
        }
      ]
    },
    {
      "cell_type": "markdown",
      "source": [
        "## **Checking Errors made by 2020 Decision Tree on Summer 2020 vs Summer 2021 Covid Data**\n",
        "\n",
        "We can see that for 2020 the histogram (Blue) of errors is closer overall to 0 ranging from -500 to 500, whereas the histogram of errors for 2021 (Orange) are all over the place ranging from 1000 to 2500"
      ],
      "metadata": {
        "id": "sj32P_nB2Xes"
      }
    },
    {
      "cell_type": "code",
      "source": [
        "# Create columns holding error between actual rate vs. predicted rate\n",
        "pred_vs_test_2020['residual'] = pred_vs_test_2020['cases_per_100000'] - pred_vs_test_2020['Predicted']\n",
        "pred_vs_test_2021['residual'] = pred_vs_test_2021['cases_per_100000'] - pred_vs_test_2021['Predicted']\n",
        "\n",
        "# Plot errors on histogram\n",
        "plt.title('Cases per 100k Prediction Errors')\n",
        "plt.hist(pred_vs_test_2020['residual'], alpha=0.5, label='2020 data')\n",
        "plt.hist(pred_vs_test_2021['residual'], alpha=0.5, label='2021 data')\n",
        "plt.legend(loc='upper right')\n",
        "plt.show()"
      ],
      "metadata": {
        "colab": {
          "base_uri": "https://localhost:8080/",
          "height": 452
        },
        "id": "SM6SLQzU2geA",
        "outputId": "66fdee40-caa7-49fc-f651-7b6271f21eb5"
      },
      "execution_count": 32,
      "outputs": [
        {
          "output_type": "display_data",
          "data": {
            "text/plain": [
              "<Figure size 640x480 with 1 Axes>"
            ],
            "image/png": "[encoded data removed]"
          },
          "metadata": {}
        }
      ]
    },
    {
      "cell_type": "markdown",
      "source": [
        "A more formal way to calculate the performance for the model is to calculate the RMSE (Root Mean Square Error). Feel free to browse the \n",
        "\n",
        "**Quant. Comparison of 2020 DT Model Performance for (2020 vs 2021) Data** for more details about this particular metric"
      ],
      "metadata": {
        "id": "ck55glPh55V4"
      }
    },
    {
      "cell_type": "code",
      "source": [
        "# this prints the RMSE value for the performance of the model using 2020 Data\n",
        "print(f\"RMSE on 2020 test set: {mean_squared_error(pred_vs_test_2020['cases_per_100000'], pred_vs_test_2020['Predicted'], squared=False)}\")\n",
        "\n",
        "# this prints the RMSE value for the performance of the model using 2020 Data\n",
        "print(f\"RMSE on 2021 test set: {mean_squared_error(pred_vs_test_2021['cases_per_100000'], pred_vs_test_2020['Predicted'], squared=False)}\")"
      ],
      "metadata": {
        "colab": {
          "base_uri": "https://localhost:8080/"
        },
        "id": "AgqGLbdO5-IK",
        "outputId": "1d88e68b-125c-449d-e1ea-8bc92adec683"
      },
      "execution_count": 33,
      "outputs": [
        {
          "output_type": "stream",
          "name": "stdout",
          "text": [
            "RMSE on 2020 test set: 466.63833286828844\n",
            "RMSE on 2021 test set: 1577.3791091382348\n"
          ]
        }
      ]
    },
    {
      "cell_type": "markdown",
      "metadata": {
        "id": "ELw3rmGc6o2I"
      },
      "source": [
        "#**Let's make a NEW Decision Tree for Summer 2021 and improve our predictions!**\n",
        "\n",
        "In order to expedite the making of the NEW Decision Tree, we can skip a few steps, and only copy-paste the required lines of code.\n",
        "\n",
        "*   You DON'T need to copy-paste the comments from the orginal code (The green text that is preceded by \"#\"). \n",
        "*   Follow instead the instructions written as a comment in this following exercise to create a NEW Decision Tree for Summer 2021 Data.\n"
      ]
    },
    {
      "cell_type": "markdown",
      "source": [
        "##**1) Repeat Step 2A (Loading 2021 Training Data)**\n",
        "\n",
        "SKIP:\n",
        "\n",
        "- Step 1, because there is no need to import our libraries again, we usually only import once per notebook.\n",
        "\n",
        "#####**NOTES: When you copy-paste code, don't forget to change 2020 into 2021, everytime you see it, including the links!!** "
      ],
      "metadata": {
        "id": "v1mbVnlldtFv"
      }
    },
    {
      "cell_type": "code",
      "source": [
        "#Copy-paste the code from Step 2A that will load our Summer 2021 training data\n",
        "S2021_training= pd.read_csv(\"https://raw.githubusercontent.com/MarcMachineLearning/Workshop_1/main/Datasets/S2021_training.csv\")"
      ],
      "metadata": {
        "id": "uWeqgXsjkXrM"
      },
      "execution_count": 34,
      "outputs": []
    },
    {
      "cell_type": "markdown",
      "metadata": {
        "id": "AlXHHseWBmfB"
      },
      "source": [
        "##**2) Repeat Step 3A (Separate Training Data into LABEL and FEATURES)**\n",
        "SKIP:\n",
        "- Steps 3B and 3C, since this step was only done to allow you to see what the labels look like once we separated it from our main training data.\n",
        "\n",
        "#####**NOTE: When you copy-paste code, don't forget to change 2020 into 2021, everytime you see it!!** "
      ]
    },
    {
      "cell_type": "code",
      "source": [
        "#Copy-paste the code from Step 3A that separates the FEATURES & LABEL from the training data \n",
        "S2021_training_labels = S2021_training[\"cases_per_100000\"]\n",
        "S2021_training_features = S2021_training.drop(columns=[\"county\",\"cases_per_100000\"])"
      ],
      "metadata": {
        "id": "ZAS9ZndPJIUw"
      },
      "execution_count": 35,
      "outputs": []
    },
    {
      "cell_type": "markdown",
      "metadata": {
        "id": "ZXBkttrpBvmq"
      },
      "source": [
        "##**3) Repeat steps 4A and 4B (Create your Decision Tree and Train it!)**\n",
        "\n",
        "\n",
        "#####**NOTE: When you copy-paste code, don't forget to change 2020 into 2021, everytime you see it!!** "
      ]
    },
    {
      "cell_type": "code",
      "metadata": {
        "id": "vazDan-CD7u9"
      },
      "source": [
        "# Copy-paste the Code from Step 4A that will allow us to create our NEW Decision Tree\n",
        "dtr_summer2021 = DecisionTreeRegressor(random_state = 1, max_depth= 3)"
      ],
      "execution_count": 36,
      "outputs": []
    },
    {
      "cell_type": "code",
      "source": [
        "# Copy-paste the Code from step 4B that will train our NEW Decision Tree\n",
        "dtr_summer2021 = dtr_summer2021.fit(S2021_training_features, S2021_training_labels)"
      ],
      "metadata": {
        "id": "9odrah3qgCK0"
      },
      "execution_count": 37,
      "outputs": []
    },
    {
      "cell_type": "markdown",
      "metadata": {
        "id": "cqnAeMedBru_"
      },
      "source": [
        "##**4) Repeat step 5 (Visualize your 2021 Decision Tree)**\n",
        "\n",
        "#####**NOTE: When you copy-paste code, don't forget to change 2020 into 2021, everytime you see it!!** "
      ]
    },
    {
      "cell_type": "code",
      "source": [
        "# Copy-paste the code from step 5 that will let you see the New 2021 Decision Tree\n",
        "dtr_summer2021_dot = tree.export_graphviz(dtr_summer2021, out_file=None, \n",
        "                                feature_names=S2021_training_features.columns,  \n",
        "                                filled=False, rounded=True, impurity=False)\n",
        "\n",
        "# Draw graph\n",
        "dtr_graph = graphviz.Source(dtr_summer2021_dot, format=\"png\") \n",
        "dtr_graph"
      ],
      "metadata": {
        "id": "QMw9rOlzejeT",
        "colab": {
          "base_uri": "https://localhost:8080/",
          "height": 439
        },
        "outputId": "be64ee38-5251-4891-d198-8aaa8f5f2e7c"
      },
      "execution_count": 38,
      "outputs": [
        {
          "output_type": "execute_result",
          "data": {
            "image/svg+xml": "<?xml version=\"1.0\" encoding=\"UTF-8\" standalone=\"no\"?>\n<!DOCTYPE svg PUBLIC \"-//W3C//DTD SVG 1.1//EN\"\n \"http://www.w3.org/Graphics/SVG/1.1/DTD/svg11.dtd\">\n<!-- Generated by graphviz version 2.43.0 (0)\n -->\n<!-- Title: Tree Pages: 1 -->\n<svg width=\"937pt\" height=\"313pt\"\n viewBox=\"0.00 0.00 937.00 313.00\" xmlns=\"http://www.w3.org/2000/svg\" xmlns:xlink=\"http://www.w3.org/1999/xlink\">\n<g id=\"graph0\" class=\"graph\" transform=\"scale(1 1) rotate(0) translate(4 309)\">\n<title>Tree</title>\n<polygon fill=\"white\" stroke=\"transparent\" points=\"-4,4 -4,-309 933,-309 933,4 -4,4\"/>\n<!-- 0 -->\n<g id=\"node1\" class=\"node\">\n<title>0</title>\n<path fill=\"none\" stroke=\"black\" d=\"M653,-305C653,-305 454,-305 454,-305 448,-305 442,-299 442,-293 442,-293 442,-264 442,-264 442,-258 448,-252 454,-252 454,-252 653,-252 653,-252 659,-252 665,-258 665,-264 665,-264 665,-293 665,-293 665,-299 659,-305 653,-305\"/>\n<text text-anchor=\"middle\" x=\"553.5\" y=\"-289.8\" font-family=\"Helvetica,sans-Serif\" font-size=\"14.00\">fully_vaccinated_percent &lt;= 0.596</text>\n<text text-anchor=\"middle\" x=\"553.5\" y=\"-274.8\" font-family=\"Helvetica,sans-Serif\" font-size=\"14.00\">samples = 40</text>\n<text text-anchor=\"middle\" x=\"553.5\" y=\"-259.8\" font-family=\"Helvetica,sans-Serif\" font-size=\"14.00\">value = 2423.967</text>\n</g>\n<!-- 1 -->\n<g id=\"node2\" class=\"node\">\n<title>1</title>\n<path fill=\"none\" stroke=\"black\" d=\"M531.5,-216C531.5,-216 329.5,-216 329.5,-216 323.5,-216 317.5,-210 317.5,-204 317.5,-204 317.5,-175 317.5,-175 317.5,-169 323.5,-163 329.5,-163 329.5,-163 531.5,-163 531.5,-163 537.5,-163 543.5,-169 543.5,-175 543.5,-175 543.5,-204 543.5,-204 543.5,-210 537.5,-216 531.5,-216\"/>\n<text text-anchor=\"middle\" x=\"430.5\" y=\"-200.8\" font-family=\"Helvetica,sans-Serif\" font-size=\"14.00\">libertarian_votes_percent &lt;= 0.013</text>\n<text text-anchor=\"middle\" x=\"430.5\" y=\"-185.8\" font-family=\"Helvetica,sans-Serif\" font-size=\"14.00\">samples = 27</text>\n<text text-anchor=\"middle\" x=\"430.5\" y=\"-170.8\" font-family=\"Helvetica,sans-Serif\" font-size=\"14.00\">value = 2923.805</text>\n</g>\n<!-- 0&#45;&gt;1 -->\n<g id=\"edge1\" class=\"edge\">\n<title>0&#45;&gt;1</title>\n<path fill=\"none\" stroke=\"black\" d=\"M517.26,-251.87C504.12,-242.57 489.11,-231.95 475.31,-222.2\"/>\n<polygon fill=\"black\" stroke=\"black\" points=\"477.09,-219.17 466.9,-216.25 473.05,-224.88 477.09,-219.17\"/>\n<text text-anchor=\"middle\" x=\"471.13\" y=\"-237.19\" font-family=\"Helvetica,sans-Serif\" font-size=\"14.00\">True</text>\n</g>\n<!-- 8 -->\n<g id=\"node9\" class=\"node\">\n<title>8</title>\n<path fill=\"none\" stroke=\"black\" d=\"M779,-216C779,-216 574,-216 574,-216 568,-216 562,-210 562,-204 562,-204 562,-175 562,-175 562,-169 568,-163 574,-163 574,-163 779,-163 779,-163 785,-163 791,-169 791,-175 791,-175 791,-204 791,-204 791,-210 785,-216 779,-216\"/>\n<text text-anchor=\"middle\" x=\"676.5\" y=\"-200.8\" font-family=\"Helvetica,sans-Serif\" font-size=\"14.00\">republican_votes_percent &lt;= 0.483</text>\n<text text-anchor=\"middle\" x=\"676.5\" y=\"-185.8\" font-family=\"Helvetica,sans-Serif\" font-size=\"14.00\">samples = 13</text>\n<text text-anchor=\"middle\" x=\"676.5\" y=\"-170.8\" font-family=\"Helvetica,sans-Serif\" font-size=\"14.00\">value = 1385.84</text>\n</g>\n<!-- 0&#45;&gt;8 -->\n<g id=\"edge8\" class=\"edge\">\n<title>0&#45;&gt;8</title>\n<path fill=\"none\" stroke=\"black\" d=\"M589.74,-251.87C602.88,-242.57 617.89,-231.95 631.69,-222.2\"/>\n<polygon fill=\"black\" stroke=\"black\" points=\"633.95,-224.88 640.1,-216.25 629.91,-219.17 633.95,-224.88\"/>\n<text text-anchor=\"middle\" x=\"635.87\" y=\"-237.19\" font-family=\"Helvetica,sans-Serif\" font-size=\"14.00\">False</text>\n</g>\n<!-- 2 -->\n<g id=\"node3\" class=\"node\">\n<title>2</title>\n<path fill=\"none\" stroke=\"black\" d=\"M288,-127C288,-127 83,-127 83,-127 77,-127 71,-121 71,-115 71,-115 71,-86 71,-86 71,-80 77,-74 83,-74 83,-74 288,-74 288,-74 294,-74 300,-80 300,-86 300,-86 300,-115 300,-115 300,-121 294,-127 288,-127\"/>\n<text text-anchor=\"middle\" x=\"185.5\" y=\"-111.8\" font-family=\"Helvetica,sans-Serif\" font-size=\"14.00\">republican_votes_percent &lt;= 0.671</text>\n<text text-anchor=\"middle\" x=\"185.5\" y=\"-96.8\" font-family=\"Helvetica,sans-Serif\" font-size=\"14.00\">samples = 13</text>\n<text text-anchor=\"middle\" x=\"185.5\" y=\"-81.8\" font-family=\"Helvetica,sans-Serif\" font-size=\"14.00\">value = 2349.557</text>\n</g>\n<!-- 1&#45;&gt;2 -->\n<g id=\"edge2\" class=\"edge\">\n<title>1&#45;&gt;2</title>\n<path fill=\"none\" stroke=\"black\" d=\"M358.65,-162.98C329.85,-152.76 296.53,-140.93 266.85,-130.39\"/>\n<polygon fill=\"black\" stroke=\"black\" points=\"267.95,-127.06 257.35,-127.01 265.6,-133.66 267.95,-127.06\"/>\n</g>\n<!-- 5 -->\n<g id=\"node6\" class=\"node\">\n<title>5</title>\n<path fill=\"none\" stroke=\"black\" d=\"M532.5,-127C532.5,-127 330.5,-127 330.5,-127 324.5,-127 318.5,-121 318.5,-115 318.5,-115 318.5,-86 318.5,-86 318.5,-80 324.5,-74 330.5,-74 330.5,-74 532.5,-74 532.5,-74 538.5,-74 544.5,-80 544.5,-86 544.5,-86 544.5,-115 544.5,-115 544.5,-121 538.5,-127 532.5,-127\"/>\n<text text-anchor=\"middle\" x=\"431.5\" y=\"-111.8\" font-family=\"Helvetica,sans-Serif\" font-size=\"14.00\">libertarian_votes_percent &lt;= 0.013</text>\n<text text-anchor=\"middle\" x=\"431.5\" y=\"-96.8\" font-family=\"Helvetica,sans-Serif\" font-size=\"14.00\">samples = 14</text>\n<text text-anchor=\"middle\" x=\"431.5\" y=\"-81.8\" font-family=\"Helvetica,sans-Serif\" font-size=\"14.00\">value = 3457.036</text>\n</g>\n<!-- 1&#45;&gt;5 -->\n<g id=\"edge5\" class=\"edge\">\n<title>1&#45;&gt;5</title>\n<path fill=\"none\" stroke=\"black\" d=\"M430.79,-162.87C430.89,-154.89 430.99,-145.93 431.09,-137.38\"/>\n<polygon fill=\"black\" stroke=\"black\" points=\"434.59,-137.29 431.2,-127.25 427.59,-137.21 434.59,-137.29\"/>\n</g>\n<!-- 3 -->\n<g id=\"node4\" class=\"node\">\n<title>3</title>\n<path fill=\"none\" stroke=\"black\" d=\"M109,-38C109,-38 12,-38 12,-38 6,-38 0,-32 0,-26 0,-26 0,-12 0,-12 0,-6 6,0 12,0 12,0 109,0 109,0 115,0 121,-6 121,-12 121,-12 121,-26 121,-26 121,-32 115,-38 109,-38\"/>\n<text text-anchor=\"middle\" x=\"60.5\" y=\"-22.8\" font-family=\"Helvetica,sans-Serif\" font-size=\"14.00\">samples = 12</text>\n<text text-anchor=\"middle\" x=\"60.5\" y=\"-7.8\" font-family=\"Helvetica,sans-Serif\" font-size=\"14.00\">value = 2496.101</text>\n</g>\n<!-- 2&#45;&gt;3 -->\n<g id=\"edge3\" class=\"edge\">\n<title>2&#45;&gt;3</title>\n<path fill=\"none\" stroke=\"black\" d=\"M145.26,-73.91C129.99,-64.19 112.67,-53.18 97.69,-43.66\"/>\n<polygon fill=\"black\" stroke=\"black\" points=\"99.49,-40.65 89.18,-38.24 95.74,-46.56 99.49,-40.65\"/>\n</g>\n<!-- 4 -->\n<g id=\"node5\" class=\"node\">\n<title>4</title>\n<path fill=\"none\" stroke=\"black\" d=\"M240,-38C240,-38 151,-38 151,-38 145,-38 139,-32 139,-26 139,-26 139,-12 139,-12 139,-6 145,0 151,0 151,0 240,0 240,0 246,0 252,-6 252,-12 252,-12 252,-26 252,-26 252,-32 246,-38 240,-38\"/>\n<text text-anchor=\"middle\" x=\"195.5\" y=\"-22.8\" font-family=\"Helvetica,sans-Serif\" font-size=\"14.00\">samples = 1</text>\n<text text-anchor=\"middle\" x=\"195.5\" y=\"-7.8\" font-family=\"Helvetica,sans-Serif\" font-size=\"14.00\">value = 591.029</text>\n</g>\n<!-- 2&#45;&gt;4 -->\n<g id=\"edge4\" class=\"edge\">\n<title>2&#45;&gt;4</title>\n<path fill=\"none\" stroke=\"black\" d=\"M188.72,-73.91C189.75,-65.74 190.89,-56.65 191.94,-48.3\"/>\n<polygon fill=\"black\" stroke=\"black\" points=\"195.43,-48.6 193.21,-38.24 188.49,-47.72 195.43,-48.6\"/>\n</g>\n<!-- 6 -->\n<g id=\"node7\" class=\"node\">\n<title>6</title>\n<path fill=\"none\" stroke=\"black\" d=\"M418,-38C418,-38 321,-38 321,-38 315,-38 309,-32 309,-26 309,-26 309,-12 309,-12 309,-6 315,0 321,0 321,0 418,0 418,0 424,0 430,-6 430,-12 430,-12 430,-26 430,-26 430,-32 424,-38 418,-38\"/>\n<text text-anchor=\"middle\" x=\"369.5\" y=\"-22.8\" font-family=\"Helvetica,sans-Serif\" font-size=\"14.00\">samples = 2</text>\n<text text-anchor=\"middle\" x=\"369.5\" y=\"-7.8\" font-family=\"Helvetica,sans-Serif\" font-size=\"14.00\">value = 5333.769</text>\n</g>\n<!-- 5&#45;&gt;6 -->\n<g id=\"edge6\" class=\"edge\">\n<title>5&#45;&gt;6</title>\n<path fill=\"none\" stroke=\"black\" d=\"M411.54,-73.91C404.67,-65.1 396.97,-55.23 390.06,-46.36\"/>\n<polygon fill=\"black\" stroke=\"black\" points=\"392.63,-43.97 383.72,-38.24 387.11,-48.28 392.63,-43.97\"/>\n</g>\n<!-- 7 -->\n<g id=\"node8\" class=\"node\">\n<title>7</title>\n<path fill=\"none\" stroke=\"black\" d=\"M557,-38C557,-38 460,-38 460,-38 454,-38 448,-32 448,-26 448,-26 448,-12 448,-12 448,-6 454,0 460,0 460,0 557,0 557,0 563,0 569,-6 569,-12 569,-12 569,-26 569,-26 569,-32 563,-38 557,-38\"/>\n<text text-anchor=\"middle\" x=\"508.5\" y=\"-22.8\" font-family=\"Helvetica,sans-Serif\" font-size=\"14.00\">samples = 12</text>\n<text text-anchor=\"middle\" x=\"508.5\" y=\"-7.8\" font-family=\"Helvetica,sans-Serif\" font-size=\"14.00\">value = 3144.247</text>\n</g>\n<!-- 5&#45;&gt;7 -->\n<g id=\"edge7\" class=\"edge\">\n<title>5&#45;&gt;7</title>\n<path fill=\"none\" stroke=\"black\" d=\"M456.29,-73.91C465.08,-64.83 474.97,-54.62 483.76,-45.54\"/>\n<polygon fill=\"black\" stroke=\"black\" points=\"486.39,-47.86 490.83,-38.24 481.36,-42.99 486.39,-47.86\"/>\n</g>\n<!-- 9 -->\n<g id=\"node10\" class=\"node\">\n<title>9</title>\n<path fill=\"none\" stroke=\"black\" d=\"M777.5,-127C777.5,-127 575.5,-127 575.5,-127 569.5,-127 563.5,-121 563.5,-115 563.5,-115 563.5,-86 563.5,-86 563.5,-80 569.5,-74 575.5,-74 575.5,-74 777.5,-74 777.5,-74 783.5,-74 789.5,-80 789.5,-86 789.5,-86 789.5,-115 789.5,-115 789.5,-121 783.5,-127 777.5,-127\"/>\n<text text-anchor=\"middle\" x=\"676.5\" y=\"-111.8\" font-family=\"Helvetica,sans-Serif\" font-size=\"14.00\">libertarian_votes_percent &lt;= 0.012</text>\n<text text-anchor=\"middle\" x=\"676.5\" y=\"-96.8\" font-family=\"Helvetica,sans-Serif\" font-size=\"14.00\">samples = 12</text>\n<text text-anchor=\"middle\" x=\"676.5\" y=\"-81.8\" font-family=\"Helvetica,sans-Serif\" font-size=\"14.00\">value = 1291.409</text>\n</g>\n<!-- 8&#45;&gt;9 -->\n<g id=\"edge9\" class=\"edge\">\n<title>8&#45;&gt;9</title>\n<path fill=\"none\" stroke=\"black\" d=\"M676.5,-162.87C676.5,-154.89 676.5,-145.93 676.5,-137.38\"/>\n<polygon fill=\"black\" stroke=\"black\" points=\"680,-137.25 676.5,-127.25 673,-137.25 680,-137.25\"/>\n</g>\n<!-- 12 -->\n<g id=\"node13\" class=\"node\">\n<title>12</title>\n<path fill=\"none\" stroke=\"black\" d=\"M917,-119.5C917,-119.5 820,-119.5 820,-119.5 814,-119.5 808,-113.5 808,-107.5 808,-107.5 808,-93.5 808,-93.5 808,-87.5 814,-81.5 820,-81.5 820,-81.5 917,-81.5 917,-81.5 923,-81.5 929,-87.5 929,-93.5 929,-93.5 929,-107.5 929,-107.5 929,-113.5 923,-119.5 917,-119.5\"/>\n<text text-anchor=\"middle\" x=\"868.5\" y=\"-104.3\" font-family=\"Helvetica,sans-Serif\" font-size=\"14.00\">samples = 1</text>\n<text text-anchor=\"middle\" x=\"868.5\" y=\"-89.3\" font-family=\"Helvetica,sans-Serif\" font-size=\"14.00\">value = 2519.017</text>\n</g>\n<!-- 8&#45;&gt;12 -->\n<g id=\"edge12\" class=\"edge\">\n<title>8&#45;&gt;12</title>\n<path fill=\"none\" stroke=\"black\" d=\"M732.81,-162.98C760.21,-150.57 792.84,-135.78 819.23,-123.82\"/>\n<polygon fill=\"black\" stroke=\"black\" points=\"820.99,-126.87 828.65,-119.55 818.1,-120.49 820.99,-126.87\"/>\n</g>\n<!-- 10 -->\n<g id=\"node11\" class=\"node\">\n<title>10</title>\n<path fill=\"none\" stroke=\"black\" d=\"M716,-38C716,-38 619,-38 619,-38 613,-38 607,-32 607,-26 607,-26 607,-12 607,-12 607,-6 613,0 619,0 619,0 716,0 716,0 722,0 728,-6 728,-12 728,-12 728,-26 728,-26 728,-32 722,-38 716,-38\"/>\n<text text-anchor=\"middle\" x=\"667.5\" y=\"-22.8\" font-family=\"Helvetica,sans-Serif\" font-size=\"14.00\">samples = 7</text>\n<text text-anchor=\"middle\" x=\"667.5\" y=\"-7.8\" font-family=\"Helvetica,sans-Serif\" font-size=\"14.00\">value = 1114.846</text>\n</g>\n<!-- 9&#45;&gt;10 -->\n<g id=\"edge10\" class=\"edge\">\n<title>9&#45;&gt;10</title>\n<path fill=\"none\" stroke=\"black\" d=\"M673.6,-73.91C672.68,-65.74 671.65,-56.65 670.7,-48.3\"/>\n<polygon fill=\"black\" stroke=\"black\" points=\"674.17,-47.78 669.56,-38.24 667.21,-48.57 674.17,-47.78\"/>\n</g>\n<!-- 11 -->\n<g id=\"node12\" class=\"node\">\n<title>11</title>\n<path fill=\"none\" stroke=\"black\" d=\"M855,-38C855,-38 758,-38 758,-38 752,-38 746,-32 746,-26 746,-26 746,-12 746,-12 746,-6 752,0 758,0 758,0 855,0 855,0 861,0 867,-6 867,-12 867,-12 867,-26 867,-26 867,-32 861,-38 855,-38\"/>\n<text text-anchor=\"middle\" x=\"806.5\" y=\"-22.8\" font-family=\"Helvetica,sans-Serif\" font-size=\"14.00\">samples = 5</text>\n<text text-anchor=\"middle\" x=\"806.5\" y=\"-7.8\" font-family=\"Helvetica,sans-Serif\" font-size=\"14.00\">value = 1538.596</text>\n</g>\n<!-- 9&#45;&gt;11 -->\n<g id=\"edge11\" class=\"edge\">\n<title>9&#45;&gt;11</title>\n<path fill=\"none\" stroke=\"black\" d=\"M718.35,-73.91C734.23,-64.19 752.24,-53.18 767.82,-43.66\"/>\n<polygon fill=\"black\" stroke=\"black\" points=\"769.97,-46.44 776.68,-38.24 766.32,-40.47 769.97,-46.44\"/>\n</g>\n</g>\n</svg>\n",
            "text/plain": [
              "<graphviz.sources.Source at 0x7f6d2b0f8670>"
            ]
          },
          "metadata": {},
          "execution_count": 38
        }
      ]
    },
    {
      "cell_type": "markdown",
      "metadata": {
        "id": "8wI2sQdeyWp1"
      },
      "source": [
        "##**5) Repeat step 6A, 6B, 6C (Load Testing Data and make your Predictions)**\n",
        "\n",
        "#####**NOTE: When you copy-paste code, don't forget to change 2020 into 2021, everytime you see it!!** "
      ]
    },
    {
      "cell_type": "code",
      "source": [
        "# Copy-paste the code from step 6A to load and see your Summer 2021 Testing data\n",
        "S2021_testing_features = pd.read_csv(\"https://raw.githubusercontent.com/MarcMachineLearning/Workshop_1/main/Datasets/S2021_test_features.csv\")\n",
        "S2021_testing_features"
      ],
      "metadata": {
        "id": "jXcsYi_dgVzS",
        "colab": {
          "base_uri": "https://localhost:8080/",
          "height": 747
        },
        "outputId": "182a1712-a4ae-4a39-97b5-870f64de5680"
      },
      "execution_count": 39,
      "outputs": [
        {
          "output_type": "execute_result",
          "data": {
            "text/plain": [
              "           county  population  partially_vaccinated_percent  \\\n",
              "0         Alameda     1685886                      0.055480   \n",
              "1          Colusa       22593                      0.077432   \n",
              "2      San Benito       64022                      0.088242   \n",
              "3            Inyo       18453                      0.052696   \n",
              "4          Shasta      177925                      0.074238   \n",
              "5         Trinity       13354                      0.057767   \n",
              "6   San Francisco      892280                      0.051856   \n",
              "7            Mono       13961                      0.053408   \n",
              "8        Siskiyou       43956                      0.067846   \n",
              "9        Imperial      191649                      0.148167   \n",
              "10         Sonoma      496668                      0.066034   \n",
              "11          Butte      217769                      0.055096   \n",
              "12      San Diego     3370418                      0.089913   \n",
              "13         Plumas       18997                      0.051874   \n",
              "14      El Dorado      193098                      0.062889   \n",
              "15         Lassen       30065                      0.030816   \n",
              "16   Contra Costa     1160099                      0.051067   \n",
              "17      Calaveras       44289                      0.061501   \n",
              "\n",
              "    fully_vaccinated_percent  2020_Unemployment_Rate  democrat_votes_percent  \\\n",
              "0                   0.717004                0.119655                0.802082   \n",
              "1                   0.512579                0.134429                0.406858   \n",
              "2                   0.623553                0.111465                0.611446   \n",
              "3                   0.519381                0.093413                0.488612   \n",
              "4                   0.391501                0.099861                0.322824   \n",
              "5                   0.406702                0.080260                0.455504   \n",
              "6                   0.760621                0.110087                0.852561   \n",
              "7                   0.585650                0.137376                0.595577   \n",
              "8                   0.419063                0.103044                0.408700   \n",
              "9                   0.695948                0.265077                0.611141   \n",
              "10                  0.676779                0.100326                0.745156   \n",
              "11                  0.442633                0.111726                0.494053   \n",
              "12                  0.658117                0.123486                0.602100   \n",
              "13                  0.500775                0.100381                0.405062   \n",
              "14                  0.556410                0.098670                0.444399   \n",
              "15                  0.228668                0.079570                0.233503   \n",
              "16                  0.725181                0.119436                0.716282   \n",
              "17                  0.481066                0.091079                0.369828   \n",
              "\n",
              "    green_votes_percent  republican_votes_percent  libertarian_votes_percent  \\\n",
              "0              0.006057                  0.177009                   0.008175   \n",
              "1              0.003140                  0.572667                   0.010175   \n",
              "2              0.003156                  0.367326                   0.011967   \n",
              "3              0.004745                  0.487136                   0.013496   \n",
              "4              0.003960                  0.654138                   0.013742   \n",
              "5              0.007988                  0.509347                   0.018693   \n",
              "6              0.006270                  0.127193                   0.007438   \n",
              "7              0.006233                  0.372959                   0.018700   \n",
              "8              0.004942                  0.566207                   0.013548   \n",
              "9              0.004124                  0.367393                   0.006873   \n",
              "10             0.005587                  0.230418                   0.012739   \n",
              "11             0.004967                  0.477436                   0.017381   \n",
              "12             0.004632                  0.374557                   0.013348   \n",
              "13             0.003464                  0.572380                   0.013588   \n",
              "14             0.003960                  0.532357                   0.016107   \n",
              "15             0.002586                  0.748311                   0.011763   \n",
              "16             0.004504                  0.262984                   0.010521   \n",
              "17             0.004602                  0.608084                   0.013216   \n",
              "\n",
              "    other_votes_percent  \n",
              "0              0.006679  \n",
              "1              0.007160  \n",
              "2              0.006105  \n",
              "3              0.006010  \n",
              "4              0.005337  \n",
              "5              0.008468  \n",
              "6              0.006538  \n",
              "7              0.006530  \n",
              "8              0.006604  \n",
              "9              0.010468  \n",
              "10             0.006101  \n",
              "11             0.006163  \n",
              "12             0.005363  \n",
              "13             0.005506  \n",
              "14             0.003177  \n",
              "15             0.003837  \n",
              "16             0.005709  \n",
              "17             0.004270  "
            ],
            "text/html": [
              "\n",
              "  <div id=\"df-f9df224a-dfc3-4a07-94ba-b063603fd2a3\">\n",
              "    <div class=\"colab-df-container\">\n",
              "      <div>\n",
              "<style scoped>\n",
              "    .dataframe tbody tr th:only-of-type {\n",
              "        vertical-align: middle;\n",
              "    }\n",
              "\n",
              "    .dataframe tbody tr th {\n",
              "        vertical-align: top;\n",
              "    }\n",
              "\n",
              "    .dataframe thead th {\n",
              "        text-align: right;\n",
              "    }\n",
              "</style>\n",
              "<table border=\"1\" class=\"dataframe\">\n",
              "  <thead>\n",
              "    <tr style=\"text-align: right;\">\n",
              "      <th></th>\n",
              "      <th>county</th>\n",
              "      <th>population</th>\n",
              "      <th>partially_vaccinated_percent</th>\n",
              "      <th>fully_vaccinated_percent</th>\n",
              "      <th>2020_Unemployment_Rate</th>\n",
              "      <th>democrat_votes_percent</th>\n",
              "      <th>green_votes_percent</th>\n",
              "      <th>republican_votes_percent</th>\n",
              "      <th>libertarian_votes_percent</th>\n",
              "      <th>other_votes_percent</th>\n",
              "    </tr>\n",
              "  </thead>\n",
              "  <tbody>\n",
              "    <tr>\n",
              "      <th>0</th>\n",
              "      <td>Alameda</td>\n",
              "      <td>1685886</td>\n",
              "      <td>0.055480</td>\n",
              "      <td>0.717004</td>\n",
              "      <td>0.119655</td>\n",
              "      <td>0.802082</td>\n",
              "      <td>0.006057</td>\n",
              "      <td>0.177009</td>\n",
              "      <td>0.008175</td>\n",
              "      <td>0.006679</td>\n",
              "    </tr>\n",
              "    <tr>\n",
              "      <th>1</th>\n",
              "      <td>Colusa</td>\n",
              "      <td>22593</td>\n",
              "      <td>0.077432</td>\n",
              "      <td>0.512579</td>\n",
              "      <td>0.134429</td>\n",
              "      <td>0.406858</td>\n",
              "      <td>0.003140</td>\n",
              "      <td>0.572667</td>\n",
              "      <td>0.010175</td>\n",
              "      <td>0.007160</td>\n",
              "    </tr>\n",
              "    <tr>\n",
              "      <th>2</th>\n",
              "      <td>San Benito</td>\n",
              "      <td>64022</td>\n",
              "      <td>0.088242</td>\n",
              "      <td>0.623553</td>\n",
              "      <td>0.111465</td>\n",
              "      <td>0.611446</td>\n",
              "      <td>0.003156</td>\n",
              "      <td>0.367326</td>\n",
              "      <td>0.011967</td>\n",
              "      <td>0.006105</td>\n",
              "    </tr>\n",
              "    <tr>\n",
              "      <th>3</th>\n",
              "      <td>Inyo</td>\n",
              "      <td>18453</td>\n",
              "      <td>0.052696</td>\n",
              "      <td>0.519381</td>\n",
              "      <td>0.093413</td>\n",
              "      <td>0.488612</td>\n",
              "      <td>0.004745</td>\n",
              "      <td>0.487136</td>\n",
              "      <td>0.013496</td>\n",
              "      <td>0.006010</td>\n",
              "    </tr>\n",
              "    <tr>\n",
              "      <th>4</th>\n",
              "      <td>Shasta</td>\n",
              "      <td>177925</td>\n",
              "      <td>0.074238</td>\n",
              "      <td>0.391501</td>\n",
              "      <td>0.099861</td>\n",
              "      <td>0.322824</td>\n",
              "      <td>0.003960</td>\n",
              "      <td>0.654138</td>\n",
              "      <td>0.013742</td>\n",
              "      <td>0.005337</td>\n",
              "    </tr>\n",
              "    <tr>\n",
              "      <th>5</th>\n",
              "      <td>Trinity</td>\n",
              "      <td>13354</td>\n",
              "      <td>0.057767</td>\n",
              "      <td>0.406702</td>\n",
              "      <td>0.080260</td>\n",
              "      <td>0.455504</td>\n",
              "      <td>0.007988</td>\n",
              "      <td>0.509347</td>\n",
              "      <td>0.018693</td>\n",
              "      <td>0.008468</td>\n",
              "    </tr>\n",
              "    <tr>\n",
              "      <th>6</th>\n",
              "      <td>San Francisco</td>\n",
              "      <td>892280</td>\n",
              "      <td>0.051856</td>\n",
              "      <td>0.760621</td>\n",
              "      <td>0.110087</td>\n",
              "      <td>0.852561</td>\n",
              "      <td>0.006270</td>\n",
              "      <td>0.127193</td>\n",
              "      <td>0.007438</td>\n",
              "      <td>0.006538</td>\n",
              "    </tr>\n",
              "    <tr>\n",
              "      <th>7</th>\n",
              "      <td>Mono</td>\n",
              "      <td>13961</td>\n",
              "      <td>0.053408</td>\n",
              "      <td>0.585650</td>\n",
              "      <td>0.137376</td>\n",
              "      <td>0.595577</td>\n",
              "      <td>0.006233</td>\n",
              "      <td>0.372959</td>\n",
              "      <td>0.018700</td>\n",
              "      <td>0.006530</td>\n",
              "    </tr>\n",
              "    <tr>\n",
              "      <th>8</th>\n",
              "      <td>Siskiyou</td>\n",
              "      <td>43956</td>\n",
              "      <td>0.067846</td>\n",
              "      <td>0.419063</td>\n",
              "      <td>0.103044</td>\n",
              "      <td>0.408700</td>\n",
              "      <td>0.004942</td>\n",
              "      <td>0.566207</td>\n",
              "      <td>0.013548</td>\n",
              "      <td>0.006604</td>\n",
              "    </tr>\n",
              "    <tr>\n",
              "      <th>9</th>\n",
              "      <td>Imperial</td>\n",
              "      <td>191649</td>\n",
              "      <td>0.148167</td>\n",
              "      <td>0.695948</td>\n",
              "      <td>0.265077</td>\n",
              "      <td>0.611141</td>\n",
              "      <td>0.004124</td>\n",
              "      <td>0.367393</td>\n",
              "      <td>0.006873</td>\n",
              "      <td>0.010468</td>\n",
              "    </tr>\n",
              "    <tr>\n",
              "      <th>10</th>\n",
              "      <td>Sonoma</td>\n",
              "      <td>496668</td>\n",
              "      <td>0.066034</td>\n",
              "      <td>0.676779</td>\n",
              "      <td>0.100326</td>\n",
              "      <td>0.745156</td>\n",
              "      <td>0.005587</td>\n",
              "      <td>0.230418</td>\n",
              "      <td>0.012739</td>\n",
              "      <td>0.006101</td>\n",
              "    </tr>\n",
              "    <tr>\n",
              "      <th>11</th>\n",
              "      <td>Butte</td>\n",
              "      <td>217769</td>\n",
              "      <td>0.055096</td>\n",
              "      <td>0.442633</td>\n",
              "      <td>0.111726</td>\n",
              "      <td>0.494053</td>\n",
              "      <td>0.004967</td>\n",
              "      <td>0.477436</td>\n",
              "      <td>0.017381</td>\n",
              "      <td>0.006163</td>\n",
              "    </tr>\n",
              "    <tr>\n",
              "      <th>12</th>\n",
              "      <td>San Diego</td>\n",
              "      <td>3370418</td>\n",
              "      <td>0.089913</td>\n",
              "      <td>0.658117</td>\n",
              "      <td>0.123486</td>\n",
              "      <td>0.602100</td>\n",
              "      <td>0.004632</td>\n",
              "      <td>0.374557</td>\n",
              "      <td>0.013348</td>\n",
              "      <td>0.005363</td>\n",
              "    </tr>\n",
              "    <tr>\n",
              "      <th>13</th>\n",
              "      <td>Plumas</td>\n",
              "      <td>18997</td>\n",
              "      <td>0.051874</td>\n",
              "      <td>0.500775</td>\n",
              "      <td>0.100381</td>\n",
              "      <td>0.405062</td>\n",
              "      <td>0.003464</td>\n",
              "      <td>0.572380</td>\n",
              "      <td>0.013588</td>\n",
              "      <td>0.005506</td>\n",
              "    </tr>\n",
              "    <tr>\n",
              "      <th>14</th>\n",
              "      <td>El Dorado</td>\n",
              "      <td>193098</td>\n",
              "      <td>0.062889</td>\n",
              "      <td>0.556410</td>\n",
              "      <td>0.098670</td>\n",
              "      <td>0.444399</td>\n",
              "      <td>0.003960</td>\n",
              "      <td>0.532357</td>\n",
              "      <td>0.016107</td>\n",
              "      <td>0.003177</td>\n",
              "    </tr>\n",
              "    <tr>\n",
              "      <th>15</th>\n",
              "      <td>Lassen</td>\n",
              "      <td>30065</td>\n",
              "      <td>0.030816</td>\n",
              "      <td>0.228668</td>\n",
              "      <td>0.079570</td>\n",
              "      <td>0.233503</td>\n",
              "      <td>0.002586</td>\n",
              "      <td>0.748311</td>\n",
              "      <td>0.011763</td>\n",
              "      <td>0.003837</td>\n",
              "    </tr>\n",
              "    <tr>\n",
              "      <th>16</th>\n",
              "      <td>Contra Costa</td>\n",
              "      <td>1160099</td>\n",
              "      <td>0.051067</td>\n",
              "      <td>0.725181</td>\n",
              "      <td>0.119436</td>\n",
              "      <td>0.716282</td>\n",
              "      <td>0.004504</td>\n",
              "      <td>0.262984</td>\n",
              "      <td>0.010521</td>\n",
              "      <td>0.005709</td>\n",
              "    </tr>\n",
              "    <tr>\n",
              "      <th>17</th>\n",
              "      <td>Calaveras</td>\n",
              "      <td>44289</td>\n",
              "      <td>0.061501</td>\n",
              "      <td>0.481066</td>\n",
              "      <td>0.091079</td>\n",
              "      <td>0.369828</td>\n",
              "      <td>0.004602</td>\n",
              "      <td>0.608084</td>\n",
              "      <td>0.013216</td>\n",
              "      <td>0.004270</td>\n",
              "    </tr>\n",
              "  </tbody>\n",
              "</table>\n",
              "</div>\n",
              "      <button class=\"colab-df-convert\" onclick=\"convertToInteractive('df-f9df224a-dfc3-4a07-94ba-b063603fd2a3')\"\n",
              "              title=\"Convert this dataframe to an interactive table.\"\n",
              "              style=\"display:none;\">\n",
              "        \n",
              "  <svg xmlns=\"http://www.w3.org/2000/svg\" height=\"24px\"viewBox=\"0 0 24 24\"\n",
              "       width=\"24px\">\n",
              "    <path d=\"M0 0h24v24H0V0z\" fill=\"none\"/>\n",
              "    <path d=\"M18.56 5.44l.94 2.06.94-2.06 2.06-.94-2.06-.94-.94-2.06-.94 2.06-2.06.94zm-11 1L8.5 8.5l.94-2.06 2.06-.94-2.06-.94L8.5 2.5l-.94 2.06-2.06.94zm10 10l.94 2.06.94-2.06 2.06-.94-2.06-.94-.94-2.06-.94 2.06-2.06.94z\"/><path d=\"M17.41 7.96l-1.37-1.37c-.4-.4-.92-.59-1.43-.59-.52 0-1.04.2-1.43.59L10.3 9.45l-7.72 7.72c-.78.78-.78 2.05 0 2.83L4 21.41c.39.39.9.59 1.41.59.51 0 1.02-.2 1.41-.59l7.78-7.78 2.81-2.81c.8-.78.8-2.07 0-2.86zM5.41 20L4 18.59l7.72-7.72 1.47 1.35L5.41 20z\"/>\n",
              "  </svg>\n",
              "      </button>\n",
              "      \n",
              "  <style>\n",
              "    .colab-df-container {\n",
              "      display:flex;\n",
              "      flex-wrap:wrap;\n",
              "      gap: 12px;\n",
              "    }\n",
              "\n",
              "    .colab-df-convert {\n",
              "      background-color: #E8F0FE;\n",
              "      border: none;\n",
              "      border-radius: 50%;\n",
              "      cursor: pointer;\n",
              "      display: none;\n",
              "      fill: #1967D2;\n",
              "      height: 32px;\n",
              "      padding: 0 0 0 0;\n",
              "      width: 32px;\n",
              "    }\n",
              "\n",
              "    .colab-df-convert:hover {\n",
              "      background-color: #E2EBFA;\n",
              "      box-shadow: 0px 1px 2px rgba(60, 64, 67, 0.3), 0px 1px 3px 1px rgba(60, 64, 67, 0.15);\n",
              "      fill: #174EA6;\n",
              "    }\n",
              "\n",
              "    [theme=dark] .colab-df-convert {\n",
              "      background-color: #3B4455;\n",
              "      fill: #D2E3FC;\n",
              "    }\n",
              "\n",
              "    [theme=dark] .colab-df-convert:hover {\n",
              "      background-color: #434B5C;\n",
              "      box-shadow: 0px 1px 3px 1px rgba(0, 0, 0, 0.15);\n",
              "      filter: drop-shadow(0px 1px 2px rgba(0, 0, 0, 0.3));\n",
              "      fill: #FFFFFF;\n",
              "    }\n",
              "  </style>\n",
              "\n",
              "      <script>\n",
              "        const buttonEl =\n",
              "          document.querySelector('#df-f9df224a-dfc3-4a07-94ba-b063603fd2a3 button.colab-df-convert');\n",
              "        buttonEl.style.display =\n",
              "          google.colab.kernel.accessAllowed ? 'block' : 'none';\n",
              "\n",
              "        async function convertToInteractive(key) {\n",
              "          const element = document.querySelector('#df-f9df224a-dfc3-4a07-94ba-b063603fd2a3');\n",
              "          const dataTable =\n",
              "            await google.colab.kernel.invokeFunction('convertToInteractive',\n",
              "                                                     [key], {});\n",
              "          if (!dataTable) return;\n",
              "\n",
              "          const docLinkHtml = 'Like what you see? Visit the ' +\n",
              "            '<a target=\"_blank\" href=https://colab.research.google.com/notebooks/data_table.ipynb>data table notebook</a>'\n",
              "            + ' to learn more about interactive tables.';\n",
              "          element.innerHTML = '';\n",
              "          dataTable['output_type'] = 'display_data';\n",
              "          await google.colab.output.renderOutput(dataTable, element);\n",
              "          const docLink = document.createElement('div');\n",
              "          docLink.innerHTML = docLinkHtml;\n",
              "          element.appendChild(docLink);\n",
              "        }\n",
              "      </script>\n",
              "    </div>\n",
              "  </div>\n",
              "  "
            ]
          },
          "metadata": {},
          "execution_count": 39
        }
      ]
    },
    {
      "cell_type": "code",
      "source": [
        "# Copy-paste the code from step 6B to drop the county out of the testing Data and make your predictions!\n",
        "S2021_features_test_nocounty = S2021_testing_features.drop(columns=[\"county\"])\n",
        "S2021_labels_pred2 = dtr_summer2021.predict(S2021_features_test_nocounty)"
      ],
      "metadata": {
        "id": "m7vByP31zfCM"
      },
      "execution_count": 40,
      "outputs": []
    },
    {
      "cell_type": "code",
      "source": [
        "# Copy-paste the code from step 6C to look at the labels that our new model has predicted\n",
        "S2021_labels_pred2_df = pd.DataFrame(S2021_labels_pred2, columns=[\"Predicted\"])\n",
        "S2021_labels_pred2_df = pd.concat([S2021_testing_features[\"county\"].reset_index(drop=True),S2021_labels_pred2_df.reset_index(drop=True)],axis=1)\n",
        "S2021_labels_pred2_df.round(3)"
      ],
      "metadata": {
        "id": "lJquv39tz8f3",
        "colab": {
          "base_uri": "https://localhost:8080/",
          "height": 613
        },
        "outputId": "8dc2d631-b5c7-4b74-b709-42184044f8d5"
      },
      "execution_count": 41,
      "outputs": [
        {
          "output_type": "execute_result",
          "data": {
            "text/plain": [
              "           county  Predicted\n",
              "0         Alameda   1114.846\n",
              "1          Colusa   2496.101\n",
              "2      San Benito   1538.596\n",
              "3            Inyo   3144.247\n",
              "4          Shasta   3144.247\n",
              "5         Trinity   3144.247\n",
              "6   San Francisco   1114.846\n",
              "7            Mono   3144.247\n",
              "8        Siskiyou   3144.247\n",
              "9        Imperial   1114.846\n",
              "10         Sonoma   1538.596\n",
              "11          Butte   3144.247\n",
              "12      San Diego   1538.596\n",
              "13         Plumas   3144.247\n",
              "14      El Dorado   3144.247\n",
              "15         Lassen    591.029\n",
              "16   Contra Costa   1114.846\n",
              "17      Calaveras   5333.769"
            ],
            "text/html": [
              "\n",
              "  <div id=\"df-cbc31284-48ef-4752-865c-0b4cabbc9271\">\n",
              "    <div class=\"colab-df-container\">\n",
              "      <div>\n",
              "<style scoped>\n",
              "    .dataframe tbody tr th:only-of-type {\n",
              "        vertical-align: middle;\n",
              "    }\n",
              "\n",
              "    .dataframe tbody tr th {\n",
              "        vertical-align: top;\n",
              "    }\n",
              "\n",
              "    .dataframe thead th {\n",
              "        text-align: right;\n",
              "    }\n",
              "</style>\n",
              "<table border=\"1\" class=\"dataframe\">\n",
              "  <thead>\n",
              "    <tr style=\"text-align: right;\">\n",
              "      <th></th>\n",
              "      <th>county</th>\n",
              "      <th>Predicted</th>\n",
              "    </tr>\n",
              "  </thead>\n",
              "  <tbody>\n",
              "    <tr>\n",
              "      <th>0</th>\n",
              "      <td>Alameda</td>\n",
              "      <td>1114.846</td>\n",
              "    </tr>\n",
              "    <tr>\n",
              "      <th>1</th>\n",
              "      <td>Colusa</td>\n",
              "      <td>2496.101</td>\n",
              "    </tr>\n",
              "    <tr>\n",
              "      <th>2</th>\n",
              "      <td>San Benito</td>\n",
              "      <td>1538.596</td>\n",
              "    </tr>\n",
              "    <tr>\n",
              "      <th>3</th>\n",
              "      <td>Inyo</td>\n",
              "      <td>3144.247</td>\n",
              "    </tr>\n",
              "    <tr>\n",
              "      <th>4</th>\n",
              "      <td>Shasta</td>\n",
              "      <td>3144.247</td>\n",
              "    </tr>\n",
              "    <tr>\n",
              "      <th>5</th>\n",
              "      <td>Trinity</td>\n",
              "      <td>3144.247</td>\n",
              "    </tr>\n",
              "    <tr>\n",
              "      <th>6</th>\n",
              "      <td>San Francisco</td>\n",
              "      <td>1114.846</td>\n",
              "    </tr>\n",
              "    <tr>\n",
              "      <th>7</th>\n",
              "      <td>Mono</td>\n",
              "      <td>3144.247</td>\n",
              "    </tr>\n",
              "    <tr>\n",
              "      <th>8</th>\n",
              "      <td>Siskiyou</td>\n",
              "      <td>3144.247</td>\n",
              "    </tr>\n",
              "    <tr>\n",
              "      <th>9</th>\n",
              "      <td>Imperial</td>\n",
              "      <td>1114.846</td>\n",
              "    </tr>\n",
              "    <tr>\n",
              "      <th>10</th>\n",
              "      <td>Sonoma</td>\n",
              "      <td>1538.596</td>\n",
              "    </tr>\n",
              "    <tr>\n",
              "      <th>11</th>\n",
              "      <td>Butte</td>\n",
              "      <td>3144.247</td>\n",
              "    </tr>\n",
              "    <tr>\n",
              "      <th>12</th>\n",
              "      <td>San Diego</td>\n",
              "      <td>1538.596</td>\n",
              "    </tr>\n",
              "    <tr>\n",
              "      <th>13</th>\n",
              "      <td>Plumas</td>\n",
              "      <td>3144.247</td>\n",
              "    </tr>\n",
              "    <tr>\n",
              "      <th>14</th>\n",
              "      <td>El Dorado</td>\n",
              "      <td>3144.247</td>\n",
              "    </tr>\n",
              "    <tr>\n",
              "      <th>15</th>\n",
              "      <td>Lassen</td>\n",
              "      <td>591.029</td>\n",
              "    </tr>\n",
              "    <tr>\n",
              "      <th>16</th>\n",
              "      <td>Contra Costa</td>\n",
              "      <td>1114.846</td>\n",
              "    </tr>\n",
              "    <tr>\n",
              "      <th>17</th>\n",
              "      <td>Calaveras</td>\n",
              "      <td>5333.769</td>\n",
              "    </tr>\n",
              "  </tbody>\n",
              "</table>\n",
              "</div>\n",
              "      <button class=\"colab-df-convert\" onclick=\"convertToInteractive('df-cbc31284-48ef-4752-865c-0b4cabbc9271')\"\n",
              "              title=\"Convert this dataframe to an interactive table.\"\n",
              "              style=\"display:none;\">\n",
              "        \n",
              "  <svg xmlns=\"http://www.w3.org/2000/svg\" height=\"24px\"viewBox=\"0 0 24 24\"\n",
              "       width=\"24px\">\n",
              "    <path d=\"M0 0h24v24H0V0z\" fill=\"none\"/>\n",
              "    <path d=\"M18.56 5.44l.94 2.06.94-2.06 2.06-.94-2.06-.94-.94-2.06-.94 2.06-2.06.94zm-11 1L8.5 8.5l.94-2.06 2.06-.94-2.06-.94L8.5 2.5l-.94 2.06-2.06.94zm10 10l.94 2.06.94-2.06 2.06-.94-2.06-.94-.94-2.06-.94 2.06-2.06.94z\"/><path d=\"M17.41 7.96l-1.37-1.37c-.4-.4-.92-.59-1.43-.59-.52 0-1.04.2-1.43.59L10.3 9.45l-7.72 7.72c-.78.78-.78 2.05 0 2.83L4 21.41c.39.39.9.59 1.41.59.51 0 1.02-.2 1.41-.59l7.78-7.78 2.81-2.81c.8-.78.8-2.07 0-2.86zM5.41 20L4 18.59l7.72-7.72 1.47 1.35L5.41 20z\"/>\n",
              "  </svg>\n",
              "      </button>\n",
              "      \n",
              "  <style>\n",
              "    .colab-df-container {\n",
              "      display:flex;\n",
              "      flex-wrap:wrap;\n",
              "      gap: 12px;\n",
              "    }\n",
              "\n",
              "    .colab-df-convert {\n",
              "      background-color: #E8F0FE;\n",
              "      border: none;\n",
              "      border-radius: 50%;\n",
              "      cursor: pointer;\n",
              "      display: none;\n",
              "      fill: #1967D2;\n",
              "      height: 32px;\n",
              "      padding: 0 0 0 0;\n",
              "      width: 32px;\n",
              "    }\n",
              "\n",
              "    .colab-df-convert:hover {\n",
              "      background-color: #E2EBFA;\n",
              "      box-shadow: 0px 1px 2px rgba(60, 64, 67, 0.3), 0px 1px 3px 1px rgba(60, 64, 67, 0.15);\n",
              "      fill: #174EA6;\n",
              "    }\n",
              "\n",
              "    [theme=dark] .colab-df-convert {\n",
              "      background-color: #3B4455;\n",
              "      fill: #D2E3FC;\n",
              "    }\n",
              "\n",
              "    [theme=dark] .colab-df-convert:hover {\n",
              "      background-color: #434B5C;\n",
              "      box-shadow: 0px 1px 3px 1px rgba(0, 0, 0, 0.15);\n",
              "      filter: drop-shadow(0px 1px 2px rgba(0, 0, 0, 0.3));\n",
              "      fill: #FFFFFF;\n",
              "    }\n",
              "  </style>\n",
              "\n",
              "      <script>\n",
              "        const buttonEl =\n",
              "          document.querySelector('#df-cbc31284-48ef-4752-865c-0b4cabbc9271 button.colab-df-convert');\n",
              "        buttonEl.style.display =\n",
              "          google.colab.kernel.accessAllowed ? 'block' : 'none';\n",
              "\n",
              "        async function convertToInteractive(key) {\n",
              "          const element = document.querySelector('#df-cbc31284-48ef-4752-865c-0b4cabbc9271');\n",
              "          const dataTable =\n",
              "            await google.colab.kernel.invokeFunction('convertToInteractive',\n",
              "                                                     [key], {});\n",
              "          if (!dataTable) return;\n",
              "\n",
              "          const docLinkHtml = 'Like what you see? Visit the ' +\n",
              "            '<a target=\"_blank\" href=https://colab.research.google.com/notebooks/data_table.ipynb>data table notebook</a>'\n",
              "            + ' to learn more about interactive tables.';\n",
              "          element.innerHTML = '';\n",
              "          dataTable['output_type'] = 'display_data';\n",
              "          await google.colab.output.renderOutput(dataTable, element);\n",
              "          const docLink = document.createElement('div');\n",
              "          docLink.innerHTML = docLinkHtml;\n",
              "          element.appendChild(docLink);\n",
              "        }\n",
              "      </script>\n",
              "    </div>\n",
              "  </div>\n",
              "  "
            ]
          },
          "metadata": {},
          "execution_count": 41
        }
      ]
    },
    {
      "cell_type": "markdown",
      "metadata": {
        "id": "d-iSiVc70WED"
      },
      "source": [
        "##**6) Repeat step 7A, 7B (Check the Accuracy of the Predictions of the new Model Created)**\n",
        "\n",
        "#####**NOTE: When you copy-paste code, don't forget to change 2020 into 2021, everytime you see it!!** "
      ]
    },
    {
      "cell_type": "code",
      "metadata": {
        "id": "bX8WvzaIBmGN"
      },
      "source": [
        "# Copy-paste the code from Step 7A to load our ACTUAL 2021 Labels and drop the county since it's not part of the labels per se\n",
        "S2021_testing_labels = pd.read_csv(\"https://raw.githubusercontent.com/MarcMachineLearning/Workshop_1/main/Datasets/S2021_test_labels.csv\")\n",
        "S2021_testing_labels = S2021_testing_labels.drop(columns=[\"county\"])"
      ],
      "execution_count": 42,
      "outputs": []
    },
    {
      "cell_type": "code",
      "source": [
        "# Copy-paste the code from Step 7B to make a bargraph and inspect the Accuracy of your new 2021 Decision Tree Model\n",
        "pred_vs_test_2021_v2 = pd.concat([S2021_testing_labels.reset_index(drop=True),S2021_labels_pred2_df.reset_index(drop=True)],axis=1)\n",
        "pred_vs_test_plot_v2 = pred_vs_test_2021_v2.plot.barh(color={\"Predicted\": \"hotpink\", \"cases_per_100000\": \"teal\"},x=\"county\",figsize=(15,15), yticks=np.arange(0,4000,500))"
      ],
      "metadata": {
        "id": "lXTgcCyO0xKl",
        "colab": {
          "base_uri": "https://localhost:8080/",
          "height": 1000
        },
        "outputId": "f5a34c21-d884-44b2-8636-c8d33d5b0a42"
      },
      "execution_count": 43,
      "outputs": [
        {
          "output_type": "display_data",
          "data": {
            "text/plain": [
              "<Figure size 1500x1500 with 1 Axes>"
            ],
            "image/png": "[encoded data removed]"
          },
          "metadata": {}
        }
      ]
    },
    {
      "cell_type": "markdown",
      "source": [
        "## **Comparison of Performance of 2020 and 2021 Tree Models on 2021 Data.**"
      ],
      "metadata": {
        "id": "-ROpcEJI-0wE"
      }
    },
    {
      "cell_type": "code",
      "source": [
        "# Create columns holding error between actual rate vs. predicted rate\n",
        "pred_vs_test_2021['residual'] = pred_vs_test_2021['cases_per_100000'] - pred_vs_test_2021['Predicted'] # old model\n",
        "pred_vs_test_2021_v2['residual'] = pred_vs_test_2021_v2['cases_per_100000'] - pred_vs_test_2021_v2['Predicted'] # new model\n",
        "\n",
        "# Plot errors on histogram\n",
        "plt.title('Cases per 100k Prediction Errors')\n",
        "plt.hist(pred_vs_test_2021['residual'], alpha=0.5, label='2020 Decision Tree')\n",
        "plt.hist(pred_vs_test_2021_v2['residual'], alpha=0.5, label='2021 Decision Tree')\n",
        "plt.legend(loc='upper right')\n",
        "plt.show()"
      ],
      "metadata": {
        "id": "LQh-7dzEq3cw",
        "colab": {
          "base_uri": "https://localhost:8080/",
          "height": 452
        },
        "outputId": "13429852-1e84-4af5-9388-c440c4467616"
      },
      "execution_count": 47,
      "outputs": [
        {
          "output_type": "display_data",
          "data": {
            "text/plain": [
              "<Figure size 640x480 with 1 Axes>"
            ],
            "image/png": "[encoded data removed]"
          },
          "metadata": {}
        }
      ]
    },
    {
      "cell_type": "markdown",
      "source": [
        "**A) Comparing Predictions for Summer 2021 using 2020 Tree Model vs 2021 Tree Model**"
      ],
      "metadata": {
        "id": "qOfup9umqJXc"
      }
    },
    {
      "cell_type": "code",
      "source": [
        "# this prints the RMSE value for the performance of the model using 2020 Data\n",
        "print(f\"RMSE using 2020 Model on 2021 Data: {mean_squared_error(pred_vs_test_2021['cases_per_100000'], pred_vs_test_2021['Predicted'], squared=False)}\")\n",
        "\n",
        "# this prints the RMSE value for the performance of the model using 2020 Data\n",
        "print(f\"RMSE using 2021 Model on 2021 Data: {mean_squared_error(pred_vs_test_2021_v2['cases_per_100000'], pred_vs_test_2021_v2['Predicted'], squared=False)}\")"
      ],
      "metadata": {
        "colab": {
          "base_uri": "https://localhost:8080/"
        },
        "id": "X41Od0qR_VVy",
        "outputId": "d137cc34-a884-4f13-cbff-d2d1a527ee16"
      },
      "execution_count": 48,
      "outputs": [
        {
          "output_type": "stream",
          "name": "stdout",
          "text": [
            "RMSE using 2020 Model on 2021 Data: 1577.3791091382348\n",
            "RMSE using 2021 Model on 2021 Data: 1100.8317091044223\n"
          ]
        }
      ]
    },
    {
      "cell_type": "markdown",
      "source": [
        "In conclusion we can see that the errors in our new 2021 Tree Model Errors are around 0, but still has a wide spread whereas the 2020 Tree errors are not centered on 0. This could reflect various counties not adopting at the same speed the inclusion of vaccines during COVID and we can see that overall the predictions made by the 2020 Tree on 2020 Data were more accurate (*RMSE = 466.638*) than the 2021 Tree on 2021 Data (*RMSE = 1100.831*). However we can still say that Using the 2021 Tree on 2021 Data was more accurate than using our first 2020 Tree Model (*RMSE = 1577.379*)."
      ],
      "metadata": {
        "id": "IfqqvlOpZUMd"
      }
    }
  ]
}