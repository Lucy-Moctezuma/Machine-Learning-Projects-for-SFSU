{
  "nbformat": 4,
  "nbformat_minor": 0,
  "metadata": {
    "colab": {
      "provenance": [],
      "include_colab_link": true
    },
    "kernelspec": {
      "name": "python3",
      "display_name": "Python 3"
    },
    "language_info": {
      "name": "python"
    }
  },
  "cells": [
    {
      "cell_type": "markdown",
      "metadata": {
        "id": "view-in-github",
        "colab_type": "text"
      },
      "source": [
        "<a href=\"https://colab.research.google.com/github/Lucy-Moctezuma/Machine-Learning-Projects-for-SFSU/blob/main/E.%20Coli%20Machine%20Learning%20Project/3)_Random_Forest_(RF).ipynb\" target=\"_parent\"><img src=\"https://colab.research.google.com/assets/colab-badge.svg\" alt=\"Open In Colab\"/></a>"
      ]
    },
    {
      "cell_type": "markdown",
      "source": [
        "***Click on the button that reads “Open in Colab” to open this code in Google Colab. Once open in Google Colab, you can make a copy of the notebook in your personal drive and run the code by clicking a little triangle/arrow to the left of each code block.***\n",
        "\n",
        "# **Random Forest**\n",
        "\n",
        "![RF.png](https://drive.google.com/uc?export=view&id=1C0UcsJk87-Qa00j67xASCf8T3C1oRCRH)\n",
        "\n",
        "## ***Objectives for this Notebook***\n",
        "- Familiarize with the basics of how tree models works, specifically Random Forests.\n",
        "- Implementing functions to run Random Forest to Moragadivand's dataset.\n",
        "\n",
        "<a name=\"tree-methods\"></a>\n",
        "Random Forests belong to a group of algorithms known as tree methods. A Random Forest model is also an Ensemble method. These methods use an arrangement of weaker predictor models (in this case Decision Trees) to produce a stronger model (in this case Random Forest). The basis of all tree methods is the Decision Tree. For those unfamiliar with tree methods, we have some definitions below:\n",
        "\n",
        "![tree_forest.png](https://drive.google.com/uc?export=view&id=1TBxIoL7K4WeXhegZZAvURJSxREw-Uqto)\n",
        "\n",
        "- A **Decision Tree (left)** is a supervised learning algorithm that can be used for regression (predicting a continuous variable) or for classification (predicting a categorical variable). Our task is to classify each *E. coli* sample into Resistant (**R**) or Susceptible (**S**) classes. Decision Trees assign values to each feature input and compares them to a calculated threshold. We can picture a tree upside down, starting with the root on top and stopping at the leafs at the bottom, the different squares represent decision thresholds, if the isolate passes the threshold, then we move down the tree following the \"yes\" arrow, if not then we follow the \"no\" arrow to the next square down below until a classification decision is finally made.\n",
        "\n",
        "- A **Random Forest (right)** is the combination of several Decision Trees outputs, each tree classifies all samples independently and the final decision for each sample is made based on the decision of the majority of trees. Each tree inside the Random Forest is created by selecting a random subset of features instead of using all the features and then it uses **BAGGING**.\n",
        "\n",
        "  - **Bagging:** is a process of sampling from original data rows with replacement and then agregating the results for a final prediction. Bagging tries to reduce overfitting and variance.\n",
        "  \n",
        "If we chose to use a combination of features such as: **GY** (Gene Presence or Absence + Year of isolation), each tree would randomly use only some columns from the total amount of column features (G + Y features).\n",
        "\n",
        "We will explain further details on the structure of Random Forests as we code along to further clarify how nodes are chosen and how it uses the outputs of all trees for a final decision.\n",
        "\n",
        "\n",
        "\n",
        "\n",
        "\n",
        "\n"
      ],
      "metadata": {
        "id": "4s_KUXfGSthq"
      }
    },
    {
      "cell_type": "markdown",
      "source": [
        "### **1) Importing Packages needed**\n",
        "\n",
        "**NOTE:** Similar code as in previous notebook"
      ],
      "metadata": {
        "id": "fnpxHzYUUJ_M"
      }
    },
    {
      "cell_type": "code",
      "execution_count": null,
      "metadata": {
        "id": "eDa820s0JSoJ",
        "colab": {
          "base_uri": "https://localhost:8080/"
        },
        "outputId": "f278a7b8-a55d-431f-d65e-6dc206ada684"
      },
      "outputs": [
        {
          "output_type": "stream",
          "name": "stdout",
          "text": [
            "Drive already mounted at /content/drive; to attempt to forcibly remount, call drive.mount(\"/content/drive\", force_remount=True).\n"
          ]
        }
      ],
      "source": [
        "# Data manipulation imports for ML\n",
        "import pandas as pd\n",
        "import numpy as np\n",
        "from pandas.api.types import is_numeric_dtype\n",
        "\n",
        "# Import packages for Random Forest model and hyperparameter tunning\n",
        "from sklearn.ensemble  import RandomForestClassifier\n",
        "from sklearn import tree\n",
        "from sklearn.model_selection import train_test_split, GridSearchCV\n",
        "from sklearn.model_selection import StratifiedGroupKFold, KFold\n",
        "\n",
        "# Imports for model evaluation\n",
        "from sklearn import metrics\n",
        "from sklearn.metrics import classification_report, confusion_matrix, ConfusionMatrixDisplay, get_scorer_names\n",
        "from sklearn.metrics import f1_score, make_scorer, accuracy_score, recall_score, precision_score\n",
        "import warnings\n",
        "from sklearn.exceptions import UndefinedMetricWarning\n",
        "warnings.filterwarnings(action='ignore', category=UndefinedMetricWarning)\n",
        "\n",
        "# Imports for data visualization\n",
        "import matplotlib.pyplot as plt\n",
        "from matplotlib import pyplot\n",
        "import seaborn as sns\n",
        "import graphviz\n",
        "\n",
        "# Imports for file management\n",
        "import os\n",
        "from google.colab import drive\n",
        "drive.mount('/content/drive')"
      ]
    },
    {
      "cell_type": "markdown",
      "source": [
        "### **2) Loading CSV file and creating dataframes for each antibiotic**\n",
        "\n",
        "Similar to the previous notebook we loaded the dataframe created in the first notebook of this tutorial, then we create a dataframe for each antibiotic. To check that our function works we will test it using \"CTX\" antibiotic.\n",
        "\n",
        "**NOTE:** Same code as in previous notebook"
      ],
      "metadata": {
        "id": "1MTk8vozVJqi"
      }
    },
    {
      "cell_type": "code",
      "source": [
        "# Loads csv file as a dataframe\n",
        "filepath = '/content/drive/My Drive/EColi_ML_CSV_files/'\n",
        "\n",
        "# reads csv file as a dataframe\n",
        "All_Drugs_df = pd.read_csv(filepath+\"EColi_Merged_df.csv\", na_values=\"NaN\")\n",
        "All_Drugs_df.head()"
      ],
      "metadata": {
        "id": "psqfFp_yVsmy",
        "colab": {
          "base_uri": "https://localhost:8080/",
          "height": 290
        },
        "outputId": "3b339a6d-a705-4af4-c926-e8a6678cad69"
      },
      "execution_count": null,
      "outputs": [
        {
          "output_type": "stream",
          "name": "stderr",
          "text": [
            "<ipython-input-3-c2555a6b2d8b>:5: DtypeWarning: Columns (5,6,7,8,10,12,13) have mixed types. Specify dtype option on import or set low_memory=False.\n",
            "  All_Drugs_df = pd.read_csv(filepath+\"EColi_Merged_df.csv\", na_values=\"NaN\")\n"
          ]
        },
        {
          "output_type": "execute_result",
          "data": {
            "text/plain": [
              "    MLST     Isolate    Year CTZ  CTX  AMP AMX AMC TZP CXM  ... group_48768  \\\n",
              "0   ST68  11679_6#21  2001.0   S  NaN  NaN   S   S   S   R  ...           0   \n",
              "1  ST652  11658_6#85  2005.0   S    S  NaN   S   S   S   S  ...           0   \n",
              "2   ST95  11657_6#45  2005.0   S    S  NaN   R   R   R   S  ...           0   \n",
              "3   ST73  11658_4#53  2005.0   S    S  NaN   R   S   S   S  ...           0   \n",
              "4   ST73  11658_4#54  2005.0   S    S  NaN   R   S   S   S  ...           0   \n",
              "\n",
              "  group_48873 group_48916 group_48933 group_48937  group_48958  group_49020  \\\n",
              "0           0           0           0           0            0            0   \n",
              "1           0           0           0           0            0            0   \n",
              "2           0           0           0           0            0            0   \n",
              "3           0           0           0           0            0            0   \n",
              "4           0           0           0           0            0            0   \n",
              "\n",
              "   group_49174  group_49253  group_49257  \n",
              "0            0            0            0  \n",
              "1            0            0            0  \n",
              "2            0            0            0  \n",
              "3            0            0            0  \n",
              "4            0            0            0  \n",
              "\n",
              "[5 rows x 17213 columns]"
            ],
            "text/html": [
              "\n",
              "  <div id=\"df-cba1f358-09ed-4134-88c6-f2a0f7c69c1a\" class=\"colab-df-container\">\n",
              "    <div>\n",
              "<style scoped>\n",
              "    .dataframe tbody tr th:only-of-type {\n",
              "        vertical-align: middle;\n",
              "    }\n",
              "\n",
              "    .dataframe tbody tr th {\n",
              "        vertical-align: top;\n",
              "    }\n",
              "\n",
              "    .dataframe thead th {\n",
              "        text-align: right;\n",
              "    }\n",
              "</style>\n",
              "<table border=\"1\" class=\"dataframe\">\n",
              "  <thead>\n",
              "    <tr style=\"text-align: right;\">\n",
              "      <th></th>\n",
              "      <th>MLST</th>\n",
              "      <th>Isolate</th>\n",
              "      <th>Year</th>\n",
              "      <th>CTZ</th>\n",
              "      <th>CTX</th>\n",
              "      <th>AMP</th>\n",
              "      <th>AMX</th>\n",
              "      <th>AMC</th>\n",
              "      <th>TZP</th>\n",
              "      <th>CXM</th>\n",
              "      <th>...</th>\n",
              "      <th>group_48768</th>\n",
              "      <th>group_48873</th>\n",
              "      <th>group_48916</th>\n",
              "      <th>group_48933</th>\n",
              "      <th>group_48937</th>\n",
              "      <th>group_48958</th>\n",
              "      <th>group_49020</th>\n",
              "      <th>group_49174</th>\n",
              "      <th>group_49253</th>\n",
              "      <th>group_49257</th>\n",
              "    </tr>\n",
              "  </thead>\n",
              "  <tbody>\n",
              "    <tr>\n",
              "      <th>0</th>\n",
              "      <td>ST68</td>\n",
              "      <td>11679_6#21</td>\n",
              "      <td>2001.0</td>\n",
              "      <td>S</td>\n",
              "      <td>NaN</td>\n",
              "      <td>NaN</td>\n",
              "      <td>S</td>\n",
              "      <td>S</td>\n",
              "      <td>S</td>\n",
              "      <td>R</td>\n",
              "      <td>...</td>\n",
              "      <td>0</td>\n",
              "      <td>0</td>\n",
              "      <td>0</td>\n",
              "      <td>0</td>\n",
              "      <td>0</td>\n",
              "      <td>0</td>\n",
              "      <td>0</td>\n",
              "      <td>0</td>\n",
              "      <td>0</td>\n",
              "      <td>0</td>\n",
              "    </tr>\n",
              "    <tr>\n",
              "      <th>1</th>\n",
              "      <td>ST652</td>\n",
              "      <td>11658_6#85</td>\n",
              "      <td>2005.0</td>\n",
              "      <td>S</td>\n",
              "      <td>S</td>\n",
              "      <td>NaN</td>\n",
              "      <td>S</td>\n",
              "      <td>S</td>\n",
              "      <td>S</td>\n",
              "      <td>S</td>\n",
              "      <td>...</td>\n",
              "      <td>0</td>\n",
              "      <td>0</td>\n",
              "      <td>0</td>\n",
              "      <td>0</td>\n",
              "      <td>0</td>\n",
              "      <td>0</td>\n",
              "      <td>0</td>\n",
              "      <td>0</td>\n",
              "      <td>0</td>\n",
              "      <td>0</td>\n",
              "    </tr>\n",
              "    <tr>\n",
              "      <th>2</th>\n",
              "      <td>ST95</td>\n",
              "      <td>11657_6#45</td>\n",
              "      <td>2005.0</td>\n",
              "      <td>S</td>\n",
              "      <td>S</td>\n",
              "      <td>NaN</td>\n",
              "      <td>R</td>\n",
              "      <td>R</td>\n",
              "      <td>R</td>\n",
              "      <td>S</td>\n",
              "      <td>...</td>\n",
              "      <td>0</td>\n",
              "      <td>0</td>\n",
              "      <td>0</td>\n",
              "      <td>0</td>\n",
              "      <td>0</td>\n",
              "      <td>0</td>\n",
              "      <td>0</td>\n",
              "      <td>0</td>\n",
              "      <td>0</td>\n",
              "      <td>0</td>\n",
              "    </tr>\n",
              "    <tr>\n",
              "      <th>3</th>\n",
              "      <td>ST73</td>\n",
              "      <td>11658_4#53</td>\n",
              "      <td>2005.0</td>\n",
              "      <td>S</td>\n",
              "      <td>S</td>\n",
              "      <td>NaN</td>\n",
              "      <td>R</td>\n",
              "      <td>S</td>\n",
              "      <td>S</td>\n",
              "      <td>S</td>\n",
              "      <td>...</td>\n",
              "      <td>0</td>\n",
              "      <td>0</td>\n",
              "      <td>0</td>\n",
              "      <td>0</td>\n",
              "      <td>0</td>\n",
              "      <td>0</td>\n",
              "      <td>0</td>\n",
              "      <td>0</td>\n",
              "      <td>0</td>\n",
              "      <td>0</td>\n",
              "    </tr>\n",
              "    <tr>\n",
              "      <th>4</th>\n",
              "      <td>ST73</td>\n",
              "      <td>11658_4#54</td>\n",
              "      <td>2005.0</td>\n",
              "      <td>S</td>\n",
              "      <td>S</td>\n",
              "      <td>NaN</td>\n",
              "      <td>R</td>\n",
              "      <td>S</td>\n",
              "      <td>S</td>\n",
              "      <td>S</td>\n",
              "      <td>...</td>\n",
              "      <td>0</td>\n",
              "      <td>0</td>\n",
              "      <td>0</td>\n",
              "      <td>0</td>\n",
              "      <td>0</td>\n",
              "      <td>0</td>\n",
              "      <td>0</td>\n",
              "      <td>0</td>\n",
              "      <td>0</td>\n",
              "      <td>0</td>\n",
              "    </tr>\n",
              "  </tbody>\n",
              "</table>\n",
              "<p>5 rows × 17213 columns</p>\n",
              "</div>\n",
              "    <div class=\"colab-df-buttons\">\n",
              "\n",
              "  <div class=\"colab-df-container\">\n",
              "    <button class=\"colab-df-convert\" onclick=\"convertToInteractive('df-cba1f358-09ed-4134-88c6-f2a0f7c69c1a')\"\n",
              "            title=\"Convert this dataframe to an interactive table.\"\n",
              "            style=\"display:none;\">\n",
              "\n",
              "  <svg xmlns=\"http://www.w3.org/2000/svg\" height=\"24px\" viewBox=\"0 -960 960 960\">\n",
              "    <path d=\"M120-120v-720h720v720H120Zm60-500h600v-160H180v160Zm220 220h160v-160H400v160Zm0 220h160v-160H400v160ZM180-400h160v-160H180v160Zm440 0h160v-160H620v160ZM180-180h160v-160H180v160Zm440 0h160v-160H620v160Z\"/>\n",
              "  </svg>\n",
              "    </button>\n",
              "\n",
              "  <style>\n",
              "    .colab-df-container {\n",
              "      display:flex;\n",
              "      gap: 12px;\n",
              "    }\n",
              "\n",
              "    .colab-df-convert {\n",
              "      background-color: #E8F0FE;\n",
              "      border: none;\n",
              "      border-radius: 50%;\n",
              "      cursor: pointer;\n",
              "      display: none;\n",
              "      fill: #1967D2;\n",
              "      height: 32px;\n",
              "      padding: 0 0 0 0;\n",
              "      width: 32px;\n",
              "    }\n",
              "\n",
              "    .colab-df-convert:hover {\n",
              "      background-color: #E2EBFA;\n",
              "      box-shadow: 0px 1px 2px rgba(60, 64, 67, 0.3), 0px 1px 3px 1px rgba(60, 64, 67, 0.15);\n",
              "      fill: #174EA6;\n",
              "    }\n",
              "\n",
              "    .colab-df-buttons div {\n",
              "      margin-bottom: 4px;\n",
              "    }\n",
              "\n",
              "    [theme=dark] .colab-df-convert {\n",
              "      background-color: #3B4455;\n",
              "      fill: #D2E3FC;\n",
              "    }\n",
              "\n",
              "    [theme=dark] .colab-df-convert:hover {\n",
              "      background-color: #434B5C;\n",
              "      box-shadow: 0px 1px 3px 1px rgba(0, 0, 0, 0.15);\n",
              "      filter: drop-shadow(0px 1px 2px rgba(0, 0, 0, 0.3));\n",
              "      fill: #FFFFFF;\n",
              "    }\n",
              "  </style>\n",
              "\n",
              "    <script>\n",
              "      const buttonEl =\n",
              "        document.querySelector('#df-cba1f358-09ed-4134-88c6-f2a0f7c69c1a button.colab-df-convert');\n",
              "      buttonEl.style.display =\n",
              "        google.colab.kernel.accessAllowed ? 'block' : 'none';\n",
              "\n",
              "      async function convertToInteractive(key) {\n",
              "        const element = document.querySelector('#df-cba1f358-09ed-4134-88c6-f2a0f7c69c1a');\n",
              "        const dataTable =\n",
              "          await google.colab.kernel.invokeFunction('convertToInteractive',\n",
              "                                                    [key], {});\n",
              "        if (!dataTable) return;\n",
              "\n",
              "        const docLinkHtml = 'Like what you see? Visit the ' +\n",
              "          '<a target=\"_blank\" href=https://colab.research.google.com/notebooks/data_table.ipynb>data table notebook</a>'\n",
              "          + ' to learn more about interactive tables.';\n",
              "        element.innerHTML = '';\n",
              "        dataTable['output_type'] = 'display_data';\n",
              "        await google.colab.output.renderOutput(dataTable, element);\n",
              "        const docLink = document.createElement('div');\n",
              "        docLink.innerHTML = docLinkHtml;\n",
              "        element.appendChild(docLink);\n",
              "      }\n",
              "    </script>\n",
              "  </div>\n",
              "\n",
              "\n",
              "<div id=\"df-cfba0ca8-ee5d-4778-9763-a5ded154c35c\">\n",
              "  <button class=\"colab-df-quickchart\" onclick=\"quickchart('df-cfba0ca8-ee5d-4778-9763-a5ded154c35c')\"\n",
              "            title=\"Suggest charts\"\n",
              "            style=\"display:none;\">\n",
              "\n",
              "<svg xmlns=\"http://www.w3.org/2000/svg\" height=\"24px\"viewBox=\"0 0 24 24\"\n",
              "     width=\"24px\">\n",
              "    <g>\n",
              "        <path d=\"M19 3H5c-1.1 0-2 .9-2 2v14c0 1.1.9 2 2 2h14c1.1 0 2-.9 2-2V5c0-1.1-.9-2-2-2zM9 17H7v-7h2v7zm4 0h-2V7h2v10zm4 0h-2v-4h2v4z\"/>\n",
              "    </g>\n",
              "</svg>\n",
              "  </button>\n",
              "\n",
              "<style>\n",
              "  .colab-df-quickchart {\n",
              "      --bg-color: #E8F0FE;\n",
              "      --fill-color: #1967D2;\n",
              "      --hover-bg-color: #E2EBFA;\n",
              "      --hover-fill-color: #174EA6;\n",
              "      --disabled-fill-color: #AAA;\n",
              "      --disabled-bg-color: #DDD;\n",
              "  }\n",
              "\n",
              "  [theme=dark] .colab-df-quickchart {\n",
              "      --bg-color: #3B4455;\n",
              "      --fill-color: #D2E3FC;\n",
              "      --hover-bg-color: #434B5C;\n",
              "      --hover-fill-color: #FFFFFF;\n",
              "      --disabled-bg-color: #3B4455;\n",
              "      --disabled-fill-color: #666;\n",
              "  }\n",
              "\n",
              "  .colab-df-quickchart {\n",
              "    background-color: var(--bg-color);\n",
              "    border: none;\n",
              "    border-radius: 50%;\n",
              "    cursor: pointer;\n",
              "    display: none;\n",
              "    fill: var(--fill-color);\n",
              "    height: 32px;\n",
              "    padding: 0;\n",
              "    width: 32px;\n",
              "  }\n",
              "\n",
              "  .colab-df-quickchart:hover {\n",
              "    background-color: var(--hover-bg-color);\n",
              "    box-shadow: 0 1px 2px rgba(60, 64, 67, 0.3), 0 1px 3px 1px rgba(60, 64, 67, 0.15);\n",
              "    fill: var(--button-hover-fill-color);\n",
              "  }\n",
              "\n",
              "  .colab-df-quickchart-complete:disabled,\n",
              "  .colab-df-quickchart-complete:disabled:hover {\n",
              "    background-color: var(--disabled-bg-color);\n",
              "    fill: var(--disabled-fill-color);\n",
              "    box-shadow: none;\n",
              "  }\n",
              "\n",
              "  .colab-df-spinner {\n",
              "    border: 2px solid var(--fill-color);\n",
              "    border-color: transparent;\n",
              "    border-bottom-color: var(--fill-color);\n",
              "    animation:\n",
              "      spin 1s steps(1) infinite;\n",
              "  }\n",
              "\n",
              "  @keyframes spin {\n",
              "    0% {\n",
              "      border-color: transparent;\n",
              "      border-bottom-color: var(--fill-color);\n",
              "      border-left-color: var(--fill-color);\n",
              "    }\n",
              "    20% {\n",
              "      border-color: transparent;\n",
              "      border-left-color: var(--fill-color);\n",
              "      border-top-color: var(--fill-color);\n",
              "    }\n",
              "    30% {\n",
              "      border-color: transparent;\n",
              "      border-left-color: var(--fill-color);\n",
              "      border-top-color: var(--fill-color);\n",
              "      border-right-color: var(--fill-color);\n",
              "    }\n",
              "    40% {\n",
              "      border-color: transparent;\n",
              "      border-right-color: var(--fill-color);\n",
              "      border-top-color: var(--fill-color);\n",
              "    }\n",
              "    60% {\n",
              "      border-color: transparent;\n",
              "      border-right-color: var(--fill-color);\n",
              "    }\n",
              "    80% {\n",
              "      border-color: transparent;\n",
              "      border-right-color: var(--fill-color);\n",
              "      border-bottom-color: var(--fill-color);\n",
              "    }\n",
              "    90% {\n",
              "      border-color: transparent;\n",
              "      border-bottom-color: var(--fill-color);\n",
              "    }\n",
              "  }\n",
              "</style>\n",
              "\n",
              "  <script>\n",
              "    async function quickchart(key) {\n",
              "      const quickchartButtonEl =\n",
              "        document.querySelector('#' + key + ' button');\n",
              "      quickchartButtonEl.disabled = true;  // To prevent multiple clicks.\n",
              "      quickchartButtonEl.classList.add('colab-df-spinner');\n",
              "      try {\n",
              "        const charts = await google.colab.kernel.invokeFunction(\n",
              "            'suggestCharts', [key], {});\n",
              "      } catch (error) {\n",
              "        console.error('Error during call to suggestCharts:', error);\n",
              "      }\n",
              "      quickchartButtonEl.classList.remove('colab-df-spinner');\n",
              "      quickchartButtonEl.classList.add('colab-df-quickchart-complete');\n",
              "    }\n",
              "    (() => {\n",
              "      let quickchartButtonEl =\n",
              "        document.querySelector('#df-cfba0ca8-ee5d-4778-9763-a5ded154c35c button');\n",
              "      quickchartButtonEl.style.display =\n",
              "        google.colab.kernel.accessAllowed ? 'block' : 'none';\n",
              "    })();\n",
              "  </script>\n",
              "</div>\n",
              "\n",
              "    </div>\n",
              "  </div>\n"
            ],
            "application/vnd.google.colaboratory.intrinsic+json": {
              "type": "dataframe",
              "variable_name": "All_Drugs_df"
            }
          },
          "metadata": {},
          "execution_count": 3
        }
      ]
    },
    {
      "cell_type": "markdown",
      "source": [
        "### **3) Separating each Drug Dataframe into 4 sections : Training (features and labels) and Testing (features and labels)**\n",
        "\n",
        "**NOTE:** Same code as in previous notebook"
      ],
      "metadata": {
        "id": "NMKzeaqPojso"
      }
    },
    {
      "cell_type": "code",
      "source": [
        "# Separating each dataframe into Labels and Features for training and testing data.\n",
        "# Our function uses the handy train_test_split() function.\n",
        "\n",
        "def Split_train_test(drug):\n",
        "  #here we make a list of the columns we want to keep: the column for the isolate, the column for the drug we are interested in and all features (starting from column 15).\n",
        "  df_list = [All_Drugs_df[[\"MLST\",\"Isolate\",drug,\"Year\"]], All_Drugs_df.iloc[:,15:]]\n",
        "\n",
        "  #here we create a data frame with just the columns we wanted to keep.\n",
        "  Drug_df = pd.concat(df_list, axis=1)\n",
        "\n",
        "  #here we drop all rows with missing data\n",
        "  Drug_df = Drug_df.dropna()\n",
        "\n",
        "  # Creating a dictionary to store each antibiotic datasets\n",
        "  Train_test_dic = {}\n",
        "\n",
        "  # Defining the label columns\n",
        "  labels = Drug_df[drug]\n",
        "\n",
        "  # Defining features columns\n",
        "  features = Drug_df.drop(columns=[drug])\n",
        "\n",
        "  # Separating training (features and labels) and testing (features and labels) datasets\n",
        "  features_train, features_test, labels_train, labels_test = train_test_split(features, labels, test_size=0.20, random_state=42, stratify=labels)\n",
        "\n",
        "  # storing each data chunk in a dictionary\n",
        "  Train_test_dic['labels_train'] = labels_train\n",
        "  Train_test_dic['features_train'] = features_train\n",
        "  Train_test_dic['labels_test'] = labels_test\n",
        "  Train_test_dic['features_test'] = features_test\n",
        "\n",
        "  return Train_test_dic"
      ],
      "metadata": {
        "id": "iP4HEW4qBO7l"
      },
      "execution_count": null,
      "outputs": []
    },
    {
      "cell_type": "markdown",
      "source": [
        "Below we implement the function **Split_train_test()** and then print how many are resistant and how many are Susceptible for the antibiotic CTX."
      ],
      "metadata": {
        "id": "_fAor5uHzNQ_"
      }
    },
    {
      "cell_type": "code",
      "source": [
        "# Implementing the function Split_train_test() for CTX example\n",
        "CTX_Train_test_dic = Split_train_test(\"CTX\")\n",
        "\n",
        "# checking the shape of each dataframe or series stored in the dictionary created for drug CTX\n",
        "print(\"CTX\")\n",
        "for k, df in CTX_Train_test_dic.items():\n",
        "  print(k, df.shape)\n",
        "  # counting how many of the labels have susceptible versus resistant ones\n",
        "  if k.startswith(\"label\"):\n",
        "    print(df.value_counts())"
      ],
      "metadata": {
        "id": "rLhddtjJt9Yr",
        "colab": {
          "base_uri": "https://localhost:8080/"
        },
        "outputId": "92906fee-51ce-4c77-df2d-6827f4b64e19"
      },
      "execution_count": null,
      "outputs": [
        {
          "output_type": "stream",
          "name": "stdout",
          "text": [
            "CTX\n",
            "labels_train (1440,)\n",
            "CTX\n",
            "S    1138\n",
            "R     302\n",
            "Name: count, dtype: int64\n",
            "features_train (1440, 17201)\n",
            "labels_test (361,)\n",
            "CTX\n",
            "S    285\n",
            "R     76\n",
            "Name: count, dtype: int64\n",
            "features_test (361, 17201)\n"
          ]
        }
      ]
    },
    {
      "cell_type": "markdown",
      "source": [
        "Notice that just like before we have more *E. coli* samples that are Susceptible, rather than Resistant, therefore we need to remember to pay attention to the metrics of precision and recall for each of these classes rather than just looking at the overall accuracy. **The total number of training observations is 1440.**"
      ],
      "metadata": {
        "id": "YWUZNSEn-ZEl"
      }
    },
    {
      "cell_type": "markdown",
      "source": [
        "### **4) Creating different combination of features before training**\n",
        "\n",
        "**NOTE:** Same code as in previous notebook"
      ],
      "metadata": {
        "id": "2IyqN506dQn4"
      }
    },
    {
      "cell_type": "code",
      "source": [
        "# making a list of combinations of data sources we would like to test in our ML models\n",
        "combo_list = ['Y', 'G', 'GY']\n",
        "\n",
        "# making a function that creates different feature combinations of the predictor features\n",
        "def combo_feat(features_df, drug, combo):\n",
        "\n",
        "  # Isolating Year as a feature and\n",
        "  year_filter = [col for col in features_df if col.startswith(\"Year\")]\n",
        "  year_feat = features_df[year_filter]\n",
        "\n",
        "  # creating Gene precence column filters for features_df\n",
        "  gene_presc_filter = [col for col in features_df.columns if col not in year_filter and col != \"Isolate\"]\n",
        "  gene_presc_feat = features_df[gene_presc_filter]\n",
        "\n",
        "  if combo == 'Y':\n",
        "    df_list = [features_df[['MLST','Isolate']], year_feat]\n",
        "    Y_feat_df = pd.concat(df_list, axis=1)\n",
        "    Y_feat_df = Y_feat_df.drop(columns=['Isolate'])\n",
        "    return Y_feat_df\n",
        "\n",
        "  if combo == 'G':\n",
        "    df_list = [features_df['Isolate'], gene_presc_feat]\n",
        "    G_feat_df = pd.concat(df_list, axis=1)\n",
        "    G_feat_df = G_feat_df.drop(columns=['Isolate'])\n",
        "    return G_feat_df\n",
        "\n",
        "  if combo == 'GY':\n",
        "    df_list = [features_df['Isolate'], year_feat, gene_presc_feat]\n",
        "    GY_feat_df = pd.concat(df_list, axis=1)\n",
        "    GY_feat_df = GY_feat_df.drop(columns=['Isolate'])\n",
        "    return GY_feat_df"
      ],
      "metadata": {
        "id": "JmzbwQBxlylk"
      },
      "execution_count": null,
      "outputs": []
    },
    {
      "cell_type": "code",
      "source": [
        "# Implementing combo_feat() function created for training data\n",
        "CTX_G_train_df = combo_feat(CTX_Train_test_dic['features_train'],\"CTX\",\"G\")\n",
        "\n",
        "# looking only at the feature column names for the combination for \"G\" for drug \"CTX\" for training data\n",
        "CTX_G_train_df.columns"
      ],
      "metadata": {
        "id": "ERB_2YEXuAsl",
        "colab": {
          "base_uri": "https://localhost:8080/"
        },
        "outputId": "62bda2da-507c-4510-8b37-2c6d99b038bf"
      },
      "execution_count": null,
      "outputs": [
        {
          "output_type": "execute_result",
          "data": {
            "text/plain": [
              "Index(['MLST', 'yeiU', 'yhhS', 'ybaE', 'eutR', 'ibrB', 'ytfP', 'aslB', 'narQ',\n",
              "       'tolR',\n",
              "       ...\n",
              "       'group_48768', 'group_48873', 'group_48916', 'group_48933',\n",
              "       'group_48937', 'group_48958', 'group_49020', 'group_49174',\n",
              "       'group_49253', 'group_49257'],\n",
              "      dtype='object', length=17199)"
            ]
          },
          "metadata": {},
          "execution_count": 17
        }
      ]
    },
    {
      "cell_type": "markdown",
      "source": [
        "### **5) Creating Random Forest model and training it per feature combination**\n",
        "In this step we can take a closer look at the structure of a Random Forest. First we will create a function that will train our Random Forest to learn to predict Resistance or Susceptibility for a particular strain. Because our function does not specify how many trees to use, the default is 100 Decision Trees created.\n",
        "\n",
        "- We have set a random state in our in the Random Forest Classifier in order to get replicable results for this tutorial."
      ],
      "metadata": {
        "id": "ZVOKCEZNeHzB"
      }
    },
    {
      "cell_type": "code",
      "source": [
        "# creating Random Forest model function\n",
        "def run_RF(feat_train, lab_train, drug, combo):\n",
        "  print(drug +\" Training combo: \"+ combo)\n",
        "  feat = feat_train.drop(columns=[\"MLST\"])\n",
        "  # creating Random Forest model\n",
        "  RF = RandomForestClassifier(random_state = 42)\n",
        "  # Training Random Forest Model\n",
        "  RF = RF.fit(feat, lab_train)\n",
        "  # Checking number of trees in the model\n",
        "  print(\"Number of Decicion Trees in RF model:\", len(RF))\n",
        "  return RF"
      ],
      "metadata": {
        "id": "QbEP2WYkWPxB"
      },
      "execution_count": null,
      "outputs": []
    },
    {
      "cell_type": "markdown",
      "source": [
        "Below we will implement our function just as in previous parts, but then we will also take a look at one tree of the Random Forest, after training."
      ],
      "metadata": {
        "id": "58ZumF78K_cW"
      }
    },
    {
      "cell_type": "code",
      "source": [
        "# implementing run_RF() for specific drug feature combination dataframe\n",
        "RF_CTX_G_model = run_RF(CTX_G_train_df,CTX_Train_test_dic[\"labels_train\"],\"CTX\",\"G\")\n",
        "RF_CTX_G_model"
      ],
      "metadata": {
        "id": "jxDDUGtfuCp7",
        "colab": {
          "base_uri": "https://localhost:8080/",
          "height": 109
        },
        "outputId": "9e020ced-124a-4ac3-e832-e49714151152"
      },
      "execution_count": null,
      "outputs": [
        {
          "output_type": "stream",
          "name": "stdout",
          "text": [
            "CTX Training combo: G\n",
            "Number of Decicion Trees in RF model: 100\n"
          ]
        },
        {
          "output_type": "execute_result",
          "data": {
            "text/plain": [
              "RandomForestClassifier(random_state=42)"
            ],
            "text/html": [
              "<style>#sk-container-id-1 {color: black;background-color: white;}#sk-container-id-1 pre{padding: 0;}#sk-container-id-1 div.sk-toggleable {background-color: white;}#sk-container-id-1 label.sk-toggleable__label {cursor: pointer;display: block;width: 100%;margin-bottom: 0;padding: 0.3em;box-sizing: border-box;text-align: center;}#sk-container-id-1 label.sk-toggleable__label-arrow:before {content: \"▸\";float: left;margin-right: 0.25em;color: #696969;}#sk-container-id-1 label.sk-toggleable__label-arrow:hover:before {color: black;}#sk-container-id-1 div.sk-estimator:hover label.sk-toggleable__label-arrow:before {color: black;}#sk-container-id-1 div.sk-toggleable__content {max-height: 0;max-width: 0;overflow: hidden;text-align: left;background-color: #f0f8ff;}#sk-container-id-1 div.sk-toggleable__content pre {margin: 0.2em;color: black;border-radius: 0.25em;background-color: #f0f8ff;}#sk-container-id-1 input.sk-toggleable__control:checked~div.sk-toggleable__content {max-height: 200px;max-width: 100%;overflow: auto;}#sk-container-id-1 input.sk-toggleable__control:checked~label.sk-toggleable__label-arrow:before {content: \"▾\";}#sk-container-id-1 div.sk-estimator input.sk-toggleable__control:checked~label.sk-toggleable__label {background-color: #d4ebff;}#sk-container-id-1 div.sk-label input.sk-toggleable__control:checked~label.sk-toggleable__label {background-color: #d4ebff;}#sk-container-id-1 input.sk-hidden--visually {border: 0;clip: rect(1px 1px 1px 1px);clip: rect(1px, 1px, 1px, 1px);height: 1px;margin: -1px;overflow: hidden;padding: 0;position: absolute;width: 1px;}#sk-container-id-1 div.sk-estimator {font-family: monospace;background-color: #f0f8ff;border: 1px dotted black;border-radius: 0.25em;box-sizing: border-box;margin-bottom: 0.5em;}#sk-container-id-1 div.sk-estimator:hover {background-color: #d4ebff;}#sk-container-id-1 div.sk-parallel-item::after {content: \"\";width: 100%;border-bottom: 1px solid gray;flex-grow: 1;}#sk-container-id-1 div.sk-label:hover label.sk-toggleable__label {background-color: #d4ebff;}#sk-container-id-1 div.sk-serial::before {content: \"\";position: absolute;border-left: 1px solid gray;box-sizing: border-box;top: 0;bottom: 0;left: 50%;z-index: 0;}#sk-container-id-1 div.sk-serial {display: flex;flex-direction: column;align-items: center;background-color: white;padding-right: 0.2em;padding-left: 0.2em;position: relative;}#sk-container-id-1 div.sk-item {position: relative;z-index: 1;}#sk-container-id-1 div.sk-parallel {display: flex;align-items: stretch;justify-content: center;background-color: white;position: relative;}#sk-container-id-1 div.sk-item::before, #sk-container-id-1 div.sk-parallel-item::before {content: \"\";position: absolute;border-left: 1px solid gray;box-sizing: border-box;top: 0;bottom: 0;left: 50%;z-index: -1;}#sk-container-id-1 div.sk-parallel-item {display: flex;flex-direction: column;z-index: 1;position: relative;background-color: white;}#sk-container-id-1 div.sk-parallel-item:first-child::after {align-self: flex-end;width: 50%;}#sk-container-id-1 div.sk-parallel-item:last-child::after {align-self: flex-start;width: 50%;}#sk-container-id-1 div.sk-parallel-item:only-child::after {width: 0;}#sk-container-id-1 div.sk-dashed-wrapped {border: 1px dashed gray;margin: 0 0.4em 0.5em 0.4em;box-sizing: border-box;padding-bottom: 0.4em;background-color: white;}#sk-container-id-1 div.sk-label label {font-family: monospace;font-weight: bold;display: inline-block;line-height: 1.2em;}#sk-container-id-1 div.sk-label-container {text-align: center;}#sk-container-id-1 div.sk-container {/* jupyter's `normalize.less` sets `[hidden] { display: none; }` but bootstrap.min.css set `[hidden] { display: none !important; }` so we also need the `!important` here to be able to override the default hidden behavior on the sphinx rendered scikit-learn.org. See: https://github.com/scikit-learn/scikit-learn/issues/21755 */display: inline-block !important;position: relative;}#sk-container-id-1 div.sk-text-repr-fallback {display: none;}</style><div id=\"sk-container-id-1\" class=\"sk-top-container\"><div class=\"sk-text-repr-fallback\"><pre>RandomForestClassifier(random_state=42)</pre><b>In a Jupyter environment, please rerun this cell to show the HTML representation or trust the notebook. <br />On GitHub, the HTML representation is unable to render, please try loading this page with nbviewer.org.</b></div><div class=\"sk-container\" hidden><div class=\"sk-item\"><div class=\"sk-estimator sk-toggleable\"><input class=\"sk-toggleable__control sk-hidden--visually\" id=\"sk-estimator-id-1\" type=\"checkbox\" checked><label for=\"sk-estimator-id-1\" class=\"sk-toggleable__label sk-toggleable__label-arrow\">RandomForestClassifier</label><div class=\"sk-toggleable__content\"><pre>RandomForestClassifier(random_state=42)</pre></div></div></div></div></div>"
            ]
          },
          "metadata": {},
          "execution_count": 19
        }
      ]
    },
    {
      "cell_type": "markdown",
      "source": [
        "Now that we have trained our Random Forest model using only Gene Absence / Presence (G) features to predict resistance to the antibiotic CTX. Below we can graph for example the fourth tree (index=3). We have 100 trees, and python starts count from 0. Therefore the index would runs from 0 to 99."
      ],
      "metadata": {
        "id": "ZbNGU0btNxoP"
      }
    },
    {
      "cell_type": "code",
      "source": [
        "# Setting the index of the tree we are interested in seeing and how many layers to draw\n",
        "index= 3\n",
        "\n",
        "# Drawing the tree by setting the Index and the depth of the tree we would like to draw\n",
        "single_tree = tree.export_graphviz(RF_CTX_G_model.estimators_[index], out_file=None,\n",
        "                                  feature_names=CTX_G_train_df.iloc[:,1:17199].columns,\n",
        "                                  filled=True, rounded=True,\n",
        "                                  special_characters=True,\n",
        "                                  max_depth=None)\n",
        "graph = graphviz.Source(single_tree)"
      ],
      "metadata": {
        "id": "wihNsmd3Okiv"
      },
      "execution_count": null,
      "outputs": []
    },
    {
      "cell_type": "markdown",
      "source": [
        "The code below will store our complete Decision Tree graph as a pdf document. The file will be named based on the index you have chosen to draw, in this case it would be the tree at index 3. Notice that a single tree from our Random Forest can be very big, because the tree will contain several decision thresholds."
      ],
      "metadata": {
        "id": "GAip5wRdkTPD"
      }
    },
    {
      "cell_type": "code",
      "source": [
        "# Saving a single complete decision tree from our Random Forest model into our new directory\n",
        "graph.render(\"/content/drive/MyDrive/EColi_ML_Plots/RF_Classification Tree #: \"+ str(index))"
      ],
      "metadata": {
        "id": "5ZE6BsYLj2wl",
        "colab": {
          "base_uri": "https://localhost:8080/",
          "height": 35
        },
        "outputId": "30cca3c6-dcd0-4553-859f-075e5b8b3f50"
      },
      "execution_count": null,
      "outputs": [
        {
          "output_type": "execute_result",
          "data": {
            "text/plain": [
              "'/content/drive/MyDrive/EColi_ML_Plots/RF_Classification Tree #: 3.pdf'"
            ],
            "application/vnd.google.colaboratory.intrinsic+json": {
              "type": "string"
            }
          },
          "metadata": {},
          "execution_count": 31
        }
      ]
    },
    {
      "cell_type": "markdown",
      "source": [
        "The code below on the other hand will let us view only the top part of the tree index 2 (only first 3 layers after the root node), you can control the display of the tree by changing the argument **max_depth**."
      ],
      "metadata": {
        "id": "iqYocJWXhr4_"
      }
    },
    {
      "cell_type": "markdown",
      "source": [
        "#### **Parts of a Decision Tree**:\n",
        "\n",
        "- **Root Node:** displayed at the very top of our Decision tree. It is considered as the most important feature from the random subset of feature columns that our Random Forest (RF) picked. Therefore, each tree in the RF may have a different Root Node.\n",
        "\n",
        "- **Intermediate Nodes:** the first 2 layers of intermediate nodes are being displayed. Similar to the Root Node it contains decision thresholds that eventually lead to a final prediction.\n",
        "\n",
        "- **Leaf Nodes:** Not displayed in the trimmed version, but we can observe them in the pdf. The leaf nodes contain the final predictions within one tree of our RF. You can recognize them because there are no decision thresholds."
      ],
      "metadata": {
        "id": "wDdjIssHyVgJ"
      }
    },
    {
      "cell_type": "code",
      "source": [
        "# Setting the index of the tree we are interested in seeing and how many layers to draw\n",
        "index= 3\n",
        "# Drawing the tree by setting the Index and the depth of the tree we would like to draw\n",
        "chopped_tree = tree.export_graphviz(RF_CTX_G_model.estimators_[index], out_file=None,\n",
        "                                  feature_names=CTX_G_train_df.iloc[:,1:17199].columns,\n",
        "                                  filled=False, rounded=True,\n",
        "                                  special_characters=True,\n",
        "                                  max_depth=2)\n",
        "graph = graphviz.Source(chopped_tree)\n",
        "display(graph)"
      ],
      "metadata": {
        "id": "xgStmSKyjQUE",
        "colab": {
          "base_uri": "https://localhost:8080/",
          "height": 496
        },
        "outputId": "082add0a-82ad-4caf-b194-139402032ee1"
      },
      "execution_count": null,
      "outputs": [
        {
          "output_type": "display_data",
          "data": {
            "image/svg+xml": "<?xml version=\"1.0\" encoding=\"UTF-8\" standalone=\"no\"?>\n<!DOCTYPE svg PUBLIC \"-//W3C//DTD SVG 1.1//EN\"\n \"http://www.w3.org/Graphics/SVG/1.1/DTD/svg11.dtd\">\n<!-- Generated by graphviz version 2.43.0 (0)\n -->\n<!-- Title: Tree Pages: 1 -->\n<svg width=\"571pt\" height=\"356pt\"\n viewBox=\"0.00 0.00 571.00 356.00\" xmlns=\"http://www.w3.org/2000/svg\" xmlns:xlink=\"http://www.w3.org/1999/xlink\">\n<g id=\"graph0\" class=\"graph\" transform=\"scale(1 1) rotate(0) translate(4 352)\">\n<title>Tree</title>\n<polygon fill=\"white\" stroke=\"transparent\" points=\"-4,4 -4,-352 567,-352 567,4 -4,4\"/>\n<!-- 0 -->\n<g id=\"node1\" class=\"node\">\n<title>0</title>\n<path fill=\"none\" stroke=\"black\" d=\"M347,-348C347,-348 239,-348 239,-348 233,-348 227,-342 227,-336 227,-336 227,-292 227,-292 227,-286 233,-280 239,-280 239,-280 347,-280 347,-280 353,-280 359,-286 359,-292 359,-292 359,-336 359,-336 359,-342 353,-348 347,-348\"/>\n<text text-anchor=\"start\" x=\"240\" y=\"-332.8\" font-family=\"Helvetica,sans-Serif\" font-size=\"14.00\">group_6670 ≤ 0.5</text>\n<text text-anchor=\"start\" x=\"257.5\" y=\"-317.8\" font-family=\"Helvetica,sans-Serif\" font-size=\"14.00\">gini = 0.343</text>\n<text text-anchor=\"start\" x=\"248\" y=\"-302.8\" font-family=\"Helvetica,sans-Serif\" font-size=\"14.00\">samples = 907</text>\n<text text-anchor=\"start\" x=\"235\" y=\"-287.8\" font-family=\"Helvetica,sans-Serif\" font-size=\"14.00\">value = [317, 1123]</text>\n</g>\n<!-- 1 -->\n<g id=\"node2\" class=\"node\">\n<title>1</title>\n<path fill=\"none\" stroke=\"black\" d=\"M273,-244C273,-244 165,-244 165,-244 159,-244 153,-238 153,-232 153,-232 153,-188 153,-188 153,-182 159,-176 165,-176 165,-176 273,-176 273,-176 279,-176 285,-182 285,-188 285,-188 285,-232 285,-232 285,-238 279,-244 273,-244\"/>\n<text text-anchor=\"start\" x=\"178.5\" y=\"-228.8\" font-family=\"Helvetica,sans-Serif\" font-size=\"14.00\">hsdR_1 ≤ 0.5</text>\n<text text-anchor=\"start\" x=\"191\" y=\"-213.8\" font-family=\"Helvetica,sans-Serif\" font-size=\"14.00\">gini = 0.3</text>\n<text text-anchor=\"start\" x=\"174\" y=\"-198.8\" font-family=\"Helvetica,sans-Serif\" font-size=\"14.00\">samples = 866</text>\n<text text-anchor=\"start\" x=\"161\" y=\"-183.8\" font-family=\"Helvetica,sans-Serif\" font-size=\"14.00\">value = [253, 1122]</text>\n</g>\n<!-- 0&#45;&gt;1 -->\n<g id=\"edge1\" class=\"edge\">\n<title>0&#45;&gt;1</title>\n<path fill=\"none\" stroke=\"black\" d=\"M268.97,-279.88C262.64,-271.15 255.73,-261.62 249.12,-252.51\"/>\n<polygon fill=\"black\" stroke=\"black\" points=\"251.86,-250.34 243.16,-244.3 246.2,-254.45 251.86,-250.34\"/>\n<text text-anchor=\"middle\" x=\"239.23\" y=\"-265.29\" font-family=\"Helvetica,sans-Serif\" font-size=\"14.00\">True</text>\n</g>\n<!-- 232 -->\n<g id=\"node9\" class=\"node\">\n<title>232</title>\n<path fill=\"none\" stroke=\"black\" d=\"M421,-244C421,-244 315,-244 315,-244 309,-244 303,-238 303,-232 303,-232 303,-188 303,-188 303,-182 309,-176 315,-176 315,-176 421,-176 421,-176 427,-176 433,-182 433,-188 433,-188 433,-232 433,-232 433,-238 427,-244 421,-244\"/>\n<text text-anchor=\"start\" x=\"311\" y=\"-228.8\" font-family=\"Helvetica,sans-Serif\" font-size=\"14.00\">group_17551 ≤ 0.5</text>\n<text text-anchor=\"start\" x=\"336\" y=\"-213.8\" font-family=\"Helvetica,sans-Serif\" font-size=\"14.00\">gini = 0.03</text>\n<text text-anchor=\"start\" x=\"327\" y=\"-198.8\" font-family=\"Helvetica,sans-Serif\" font-size=\"14.00\">samples = 41</text>\n<text text-anchor=\"start\" x=\"325\" y=\"-183.8\" font-family=\"Helvetica,sans-Serif\" font-size=\"14.00\">value = [64, 1]</text>\n</g>\n<!-- 0&#45;&gt;232 -->\n<g id=\"edge8\" class=\"edge\">\n<title>0&#45;&gt;232</title>\n<path fill=\"none\" stroke=\"black\" d=\"M317.35,-279.88C323.77,-271.15 330.78,-261.62 337.48,-252.51\"/>\n<polygon fill=\"black\" stroke=\"black\" points=\"340.41,-254.43 343.52,-244.3 334.77,-250.28 340.41,-254.43\"/>\n<text text-anchor=\"middle\" x=\"347.29\" y=\"-265.31\" font-family=\"Helvetica,sans-Serif\" font-size=\"14.00\">False</text>\n</g>\n<!-- 2 -->\n<g id=\"node3\" class=\"node\">\n<title>2</title>\n<path fill=\"none\" stroke=\"black\" d=\"M131.5,-140C131.5,-140 30.5,-140 30.5,-140 24.5,-140 18.5,-134 18.5,-128 18.5,-128 18.5,-84 18.5,-84 18.5,-78 24.5,-72 30.5,-72 30.5,-72 131.5,-72 131.5,-72 137.5,-72 143.5,-78 143.5,-84 143.5,-84 143.5,-128 143.5,-128 143.5,-134 137.5,-140 131.5,-140\"/>\n<text text-anchor=\"start\" x=\"30\" y=\"-124.8\" font-family=\"Helvetica,sans-Serif\" font-size=\"14.00\">aacA&#45;aphD ≤ 0.5</text>\n<text text-anchor=\"start\" x=\"45.5\" y=\"-109.8\" font-family=\"Helvetica,sans-Serif\" font-size=\"14.00\">gini = 0.208</text>\n<text text-anchor=\"start\" x=\"36\" y=\"-94.8\" font-family=\"Helvetica,sans-Serif\" font-size=\"14.00\">samples = 721</text>\n<text text-anchor=\"start\" x=\"26.5\" y=\"-79.8\" font-family=\"Helvetica,sans-Serif\" font-size=\"14.00\">value = [133, 994]</text>\n</g>\n<!-- 1&#45;&gt;2 -->\n<g id=\"edge2\" class=\"edge\">\n<title>1&#45;&gt;2</title>\n<path fill=\"none\" stroke=\"black\" d=\"M174.2,-175.88C161.42,-166.44 147.38,-156.06 134.16,-146.29\"/>\n<polygon fill=\"black\" stroke=\"black\" points=\"136.17,-143.43 126.05,-140.3 132.01,-149.06 136.17,-143.43\"/>\n</g>\n<!-- 145 -->\n<g id=\"node6\" class=\"node\">\n<title>145</title>\n<path fill=\"none\" stroke=\"black\" d=\"M274.5,-140C274.5,-140 173.5,-140 173.5,-140 167.5,-140 161.5,-134 161.5,-128 161.5,-128 161.5,-84 161.5,-84 161.5,-78 167.5,-72 173.5,-72 173.5,-72 274.5,-72 274.5,-72 280.5,-72 286.5,-78 286.5,-84 286.5,-84 286.5,-128 286.5,-128 286.5,-134 280.5,-140 274.5,-140\"/>\n<text text-anchor=\"start\" x=\"186\" y=\"-124.8\" font-family=\"Helvetica,sans-Serif\" font-size=\"14.00\">fucA_3 ≤ 0.5</text>\n<text text-anchor=\"start\" x=\"188.5\" y=\"-109.8\" font-family=\"Helvetica,sans-Serif\" font-size=\"14.00\">gini = 0.499</text>\n<text text-anchor=\"start\" x=\"179\" y=\"-94.8\" font-family=\"Helvetica,sans-Serif\" font-size=\"14.00\">samples = 145</text>\n<text text-anchor=\"start\" x=\"169.5\" y=\"-79.8\" font-family=\"Helvetica,sans-Serif\" font-size=\"14.00\">value = [120, 128]</text>\n</g>\n<!-- 1&#45;&gt;145 -->\n<g id=\"edge5\" class=\"edge\">\n<title>1&#45;&gt;145</title>\n<path fill=\"none\" stroke=\"black\" d=\"M220.62,-175.88C221.02,-167.78 221.45,-158.98 221.87,-150.47\"/>\n<polygon fill=\"black\" stroke=\"black\" points=\"225.37,-150.46 222.37,-140.3 218.38,-150.12 225.37,-150.46\"/>\n</g>\n<!-- 3 -->\n<g id=\"node4\" class=\"node\">\n<title>3</title>\n<path fill=\"none\" stroke=\"black\" d=\"M42,-36C42,-36 12,-36 12,-36 6,-36 0,-30 0,-24 0,-24 0,-12 0,-12 0,-6 6,0 12,0 12,0 42,0 42,0 48,0 54,-6 54,-12 54,-12 54,-24 54,-24 54,-30 48,-36 42,-36\"/>\n<text text-anchor=\"middle\" x=\"27\" y=\"-14.3\" font-family=\"Helvetica,sans-Serif\" font-size=\"14.00\">(...)</text>\n</g>\n<!-- 2&#45;&gt;3 -->\n<g id=\"edge3\" class=\"edge\">\n<title>2&#45;&gt;3</title>\n<path fill=\"none\" stroke=\"black\" d=\"M60.28,-72C54.68,-63.09 48.71,-53.58 43.39,-45.11\"/>\n<polygon fill=\"black\" stroke=\"black\" points=\"46.21,-43.01 37.93,-36.4 40.28,-46.73 46.21,-43.01\"/>\n</g>\n<!-- 138 -->\n<g id=\"node5\" class=\"node\">\n<title>138</title>\n<path fill=\"none\" stroke=\"black\" d=\"M114,-36C114,-36 84,-36 84,-36 78,-36 72,-30 72,-24 72,-24 72,-12 72,-12 72,-6 78,0 84,0 84,0 114,0 114,0 120,0 126,-6 126,-12 126,-12 126,-24 126,-24 126,-30 120,-36 114,-36\"/>\n<text text-anchor=\"middle\" x=\"99\" y=\"-14.3\" font-family=\"Helvetica,sans-Serif\" font-size=\"14.00\">(...)</text>\n</g>\n<!-- 2&#45;&gt;138 -->\n<g id=\"edge4\" class=\"edge\">\n<title>2&#45;&gt;138</title>\n<path fill=\"none\" stroke=\"black\" d=\"M87.91,-72C89.69,-63.47 91.59,-54.39 93.31,-46.2\"/>\n<polygon fill=\"black\" stroke=\"black\" points=\"96.73,-46.91 95.36,-36.4 89.88,-45.47 96.73,-46.91\"/>\n</g>\n<!-- 146 -->\n<g id=\"node7\" class=\"node\">\n<title>146</title>\n<path fill=\"none\" stroke=\"black\" d=\"M221,-36C221,-36 191,-36 191,-36 185,-36 179,-30 179,-24 179,-24 179,-12 179,-12 179,-6 185,0 191,0 191,0 221,0 221,0 227,0 233,-6 233,-12 233,-12 233,-24 233,-24 233,-30 227,-36 221,-36\"/>\n<text text-anchor=\"middle\" x=\"206\" y=\"-14.3\" font-family=\"Helvetica,sans-Serif\" font-size=\"14.00\">(...)</text>\n</g>\n<!-- 145&#45;&gt;146 -->\n<g id=\"edge6\" class=\"edge\">\n<title>145&#45;&gt;146</title>\n<path fill=\"none\" stroke=\"black\" d=\"M217.09,-72C215.31,-63.47 213.41,-54.39 211.69,-46.2\"/>\n<polygon fill=\"black\" stroke=\"black\" points=\"215.12,-45.47 209.64,-36.4 208.27,-46.91 215.12,-45.47\"/>\n</g>\n<!-- 149 -->\n<g id=\"node8\" class=\"node\">\n<title>149</title>\n<path fill=\"none\" stroke=\"black\" d=\"M293,-36C293,-36 263,-36 263,-36 257,-36 251,-30 251,-24 251,-24 251,-12 251,-12 251,-6 257,0 263,0 263,0 293,0 293,0 299,0 305,-6 305,-12 305,-12 305,-24 305,-24 305,-30 299,-36 293,-36\"/>\n<text text-anchor=\"middle\" x=\"278\" y=\"-14.3\" font-family=\"Helvetica,sans-Serif\" font-size=\"14.00\">(...)</text>\n</g>\n<!-- 145&#45;&gt;149 -->\n<g id=\"edge7\" class=\"edge\">\n<title>145&#45;&gt;149</title>\n<path fill=\"none\" stroke=\"black\" d=\"M244.72,-72C250.32,-63.09 256.29,-53.58 261.61,-45.11\"/>\n<polygon fill=\"black\" stroke=\"black\" points=\"264.72,-46.73 267.07,-36.4 258.79,-43.01 264.72,-46.73\"/>\n</g>\n<!-- 233 -->\n<g id=\"node10\" class=\"node\">\n<title>233</title>\n<path fill=\"none\" stroke=\"black\" d=\"M403,-132.5C403,-132.5 325,-132.5 325,-132.5 319,-132.5 313,-126.5 313,-120.5 313,-120.5 313,-91.5 313,-91.5 313,-85.5 319,-79.5 325,-79.5 325,-79.5 403,-79.5 403,-79.5 409,-79.5 415,-85.5 415,-91.5 415,-91.5 415,-120.5 415,-120.5 415,-126.5 409,-132.5 403,-132.5\"/>\n<text text-anchor=\"start\" x=\"336\" y=\"-117.3\" font-family=\"Helvetica,sans-Serif\" font-size=\"14.00\">gini = 0.0</text>\n<text text-anchor=\"start\" x=\"323\" y=\"-102.3\" font-family=\"Helvetica,sans-Serif\" font-size=\"14.00\">samples = 37</text>\n<text text-anchor=\"start\" x=\"321\" y=\"-87.3\" font-family=\"Helvetica,sans-Serif\" font-size=\"14.00\">value = [61, 0]</text>\n</g>\n<!-- 232&#45;&gt;233 -->\n<g id=\"edge9\" class=\"edge\">\n<title>232&#45;&gt;233</title>\n<path fill=\"none\" stroke=\"black\" d=\"M366.7,-175.88C366.28,-165.22 365.82,-153.35 365.39,-142.52\"/>\n<polygon fill=\"black\" stroke=\"black\" points=\"368.89,-142.38 365,-132.52 361.9,-142.65 368.89,-142.38\"/>\n</g>\n<!-- 234 -->\n<g id=\"node11\" class=\"node\">\n<title>234</title>\n<path fill=\"none\" stroke=\"black\" d=\"M551,-140C551,-140 445,-140 445,-140 439,-140 433,-134 433,-128 433,-128 433,-84 433,-84 433,-78 439,-72 445,-72 445,-72 551,-72 551,-72 557,-72 563,-78 563,-84 563,-84 563,-128 563,-128 563,-134 557,-140 551,-140\"/>\n<text text-anchor=\"start\" x=\"441\" y=\"-124.8\" font-family=\"Helvetica,sans-Serif\" font-size=\"14.00\">group_11947 ≤ 0.5</text>\n<text text-anchor=\"start\" x=\"462.5\" y=\"-109.8\" font-family=\"Helvetica,sans-Serif\" font-size=\"14.00\">gini = 0.375</text>\n<text text-anchor=\"start\" x=\"460.5\" y=\"-94.8\" font-family=\"Helvetica,sans-Serif\" font-size=\"14.00\">samples = 4</text>\n<text text-anchor=\"start\" x=\"458.5\" y=\"-79.8\" font-family=\"Helvetica,sans-Serif\" font-size=\"14.00\">value = [3, 1]</text>\n</g>\n<!-- 232&#45;&gt;234 -->\n<g id=\"edge10\" class=\"edge\">\n<title>232&#45;&gt;234</title>\n<path fill=\"none\" stroke=\"black\" d=\"M410.21,-175.88C422.13,-166.53 435.22,-156.26 447.57,-146.57\"/>\n<polygon fill=\"black\" stroke=\"black\" points=\"449.85,-149.23 455.56,-140.3 445.53,-143.72 449.85,-149.23\"/>\n</g>\n<!-- 235 -->\n<g id=\"node12\" class=\"node\">\n<title>235</title>\n<path fill=\"none\" stroke=\"black\" d=\"M477,-36C477,-36 447,-36 447,-36 441,-36 435,-30 435,-24 435,-24 435,-12 435,-12 435,-6 441,0 447,0 447,0 477,0 477,0 483,0 489,-6 489,-12 489,-12 489,-24 489,-24 489,-30 483,-36 477,-36\"/>\n<text text-anchor=\"middle\" x=\"462\" y=\"-14.3\" font-family=\"Helvetica,sans-Serif\" font-size=\"14.00\">(...)</text>\n</g>\n<!-- 234&#45;&gt;235 -->\n<g id=\"edge11\" class=\"edge\">\n<title>234&#45;&gt;235</title>\n<path fill=\"none\" stroke=\"black\" d=\"M484.18,-72C480.54,-63.28 476.64,-53.98 473.16,-45.65\"/>\n<polygon fill=\"black\" stroke=\"black\" points=\"476.38,-44.28 469.29,-36.4 469.92,-46.98 476.38,-44.28\"/>\n</g>\n<!-- 236 -->\n<g id=\"node13\" class=\"node\">\n<title>236</title>\n<path fill=\"none\" stroke=\"black\" d=\"M549,-36C549,-36 519,-36 519,-36 513,-36 507,-30 507,-24 507,-24 507,-12 507,-12 507,-6 513,0 519,0 519,0 549,0 549,0 555,0 561,-6 561,-12 561,-12 561,-24 561,-24 561,-30 555,-36 549,-36\"/>\n<text text-anchor=\"middle\" x=\"534\" y=\"-14.3\" font-family=\"Helvetica,sans-Serif\" font-size=\"14.00\">(...)</text>\n</g>\n<!-- 234&#45;&gt;236 -->\n<g id=\"edge12\" class=\"edge\">\n<title>234&#45;&gt;236</title>\n<path fill=\"none\" stroke=\"black\" d=\"M511.82,-72C515.46,-63.28 519.36,-53.98 522.84,-45.65\"/>\n<polygon fill=\"black\" stroke=\"black\" points=\"526.08,-46.98 526.71,-36.4 519.62,-44.28 526.08,-46.98\"/>\n</g>\n</g>\n</svg>\n",
            "text/plain": [
              "<graphviz.sources.Source at 0x7dd27e002590>"
            ]
          },
          "metadata": {}
        }
      ]
    },
    {
      "cell_type": "markdown",
      "source": [
        "#### **Information within each Node**\n",
        "\n",
        "Below is an schematic for each type of node and uses the first Decision Tree of our Random Forest. The type of information displayed in each node, has been labeled (A, B, C and D) only for the root node but it is present in all the root and intermediate nodes, the leaf nodes only contain B, C and D information. Below we will go over what each of the labeled information represent:\n",
        "\n",
        "![tree-parts.png](https://drive.google.com/uc?export=view&id=1WN05o44tqflVq-GL_2uL_nQuLn3MiNEG)\n",
        "***\n",
        "**A) Decision Threshold:** These are essentially Boolean statement about a column feature that represents a threshold. If the statement is TRUE for a particular observation then we follow the left arrow to and if its false FALSE then we follow the right arrow to the next node. The Decision Threshold is only present in the root and intermediate nodes. In the picture example the thresholds would be: <font face=\"monospace\">group_6670 $\\leq$ 0.5 (root node), hsdR_1 $\\leq$ 0.5 (intermediate node), aacA-aphD $\\leq$ 0.5\n",
        " (intermediate node)</font>, etc\n",
        "\n",
        "The features that start with \"group\" are categorical variables that have already been one-hot encoded, where 1 means that the ortholog gene is present and 0 means that it is not. Therefore if an observation is $\\leq$ 0.5 for those thresholds then it means this gene is not present and we would follow the left arrow.\n",
        "\n",
        "**NOTE:** TRUE is equivalent to **yes (left arrows)** and FALSE equivalent to **no (right arrows)** from the [image](#tree-methods) displayed at the begining of this notebook.\n",
        "\n",
        "***\n",
        "**B) Gini Impurity:** is a measure of purity of the classification. It is a number between 0 and 1, where a value of 0 means that all samples belong to one particular class (purest node); whereas a value of 1 means all samples are distributed equally among the classes (least pure node). Here is a link about [Gini Impurity](https://en.wikipedia.org/wiki/Decision_tree_learning#Gini_impurity), if you are interested in the calculation and specific formula behind it.\n",
        "\n",
        "In our graph, we see that the root node has <font face=\"monospace\">Gini = 0.343</font> and as we go lower on the tree this value also lowers. In the leaf node we see <font face=\"monospace\">Gini = 0.0</font> because the remaining observations in the leaf belong to only one class, the Resistance (R) one. This means that all the observations that have the gene <font face=\"monospace\">group_6670</font>(root node) but not the gene <font face=\"monospace\">group_17551</font>(intermediate node) are classified exclusively as Resistant in this particular tree of our Random Forest model.\n",
        "***\n",
        "**C) Samples:** Is the number of unique observations from the original training dataset before the bagging proceedure. In the image we can see that the intermediate node with the threshold group_17551 $\\leq$ 0.5 has 41 unique samples and it is later split into a leaf node with 37 unique samples and another intermediate node with 4 samples (41 = 37 + 4).\n",
        "***\n",
        "**D) Values:** is a list of numbers showing the amount of actual observations classified AFTER the bagging proceedure (random sampling of training observations with replacement + aggregation). We only have 2 classes, so the length of this list is just 2 numbers, we can expect a list of 3 if there are 3 classes to classify, 4 if there are 4 classes, etc.\n",
        "\n",
        "In the image we can see that as we go down the decision tree the Resistant observations (in red) in the node with the Decision threshold <font face=\"monospace\">hsdR_1 $\\leq$ 0.5</font> has <font color=\"red\">253</font> observations classified  as Resistant, then uppon splitting into 2 intermediate nodes this value is also split into <font color=\"red\">133</font> and <font color=\"red\">120</font>. The same thing happens for the Susceptible split in this node <font color=\"blue\">(1122 = 994 + 128) </font>.\n",
        "\n",
        "**NOTE:** Usually for a regular Decision Tree the sum of the list of numbers in values would add up to the sample number BUT in the case of a Random Forest Decision Tree the **Samples** only count the unique observations, whereas our **Values** include the repeated copies from the bagging proceedure as well .\n",
        "***\n",
        "If you are not sure which number corresponds to a particular class, below we can access the index of the values shown in each node. As we can see the first index is Resistant (0) and the second index is Susceptible (1):"
      ],
      "metadata": {
        "id": "igi_iCYchOWY"
      }
    },
    {
      "cell_type": "code",
      "source": [
        "# line to see what classes belong to a particular index in the Values.\n",
        "RF_CTX_G_model.classes_"
      ],
      "metadata": {
        "id": "fNT6Xpn6Na5K",
        "colab": {
          "base_uri": "https://localhost:8080/"
        },
        "outputId": "37a033b2-c75b-486e-9d09-643327361ea1"
      },
      "execution_count": null,
      "outputs": [
        {
          "output_type": "execute_result",
          "data": {
            "text/plain": [
              "array(['R', 'S'], dtype=object)"
            ]
          },
          "metadata": {},
          "execution_count": 44
        }
      ]
    },
    {
      "cell_type": "markdown",
      "source": [
        "### **6) Making predictions from Random Forest model**\n",
        "\n",
        "The code chunks below will attempt to show us how Random Forests make their predictions using in our case 100 Decision Trees. An important distinction between a Decision Tree and Random Forest is to consider how the trees are generated within the Random Forest. In Random Forest there are 2 randomizations happening when they create the trees:\n",
        "- Random selection of observations from the total training data (rows)\n",
        "- Random selection of features from the feature combination we have chosen, in this case it would be G (columns)\n",
        "\n",
        "**NOTE:** Same code as in previous notebook"
      ],
      "metadata": {
        "id": "1px3jn-Djn77"
      }
    },
    {
      "cell_type": "code",
      "execution_count": null,
      "metadata": {
        "id": "IzEGZrwHAZ3W"
      },
      "outputs": [],
      "source": [
        "# creating a function using the model created and trained and the feature combinations from testing data\n",
        "def predict(RF_combo_Model, features_test):\n",
        "  feat = features_test.drop(columns=[\"MLST\"])\n",
        "  labels_pred = RF_combo_Model.predict(feat)\n",
        "  if is_numeric_dtype(labels_pred):\n",
        "    # tranforming labels from numbers to letters\n",
        "    lab_pred_t = labels_pred.astype('O')\n",
        "    lab_pred_t[lab_pred_t==0] = 'R'\n",
        "    lab_pred_t[lab_pred_t==1] = 'S'\n",
        "    return lab_pred_t\n",
        "  else:\n",
        "    return labels_pred"
      ]
    },
    {
      "cell_type": "markdown",
      "source": [
        "Below we implement first the function combo_feat to specify which testing features we want to use to make our predictions. Then we use our predict function to finally get the predictions made by the Random Forest."
      ],
      "metadata": {
        "id": "QG7sFPN6poIF"
      }
    },
    {
      "cell_type": "code",
      "source": [
        "# Implementing combo_feat() function created for testing data\n",
        "CTX_G_test_df = combo_feat(CTX_Train_test_dic['features_test'],\"CTX\",\"G\")\n",
        "\n",
        "# Implementation of the predict() function using the feature combination \"GY\"\n",
        "CTX_G_labels_pred = predict(RF_CTX_G_model,CTX_G_test_df)\n",
        "\n",
        "# observe how many predictions were made for each category \"R\" and \"S\"\n",
        "print(\"Labels predicted: \", np.unique(CTX_G_labels_pred, return_counts=True))"
      ],
      "metadata": {
        "id": "JqaBG4rPuH7k",
        "colab": {
          "base_uri": "https://localhost:8080/"
        },
        "outputId": "4a4e39c3-c2f9-40df-eed8-ac59667065dc"
      },
      "execution_count": null,
      "outputs": [
        {
          "output_type": "stream",
          "name": "stdout",
          "text": [
            "Labels predicted:  (array(['R', 'S'], dtype=object), array([ 65, 296]))\n"
          ]
        }
      ]
    },
    {
      "cell_type": "markdown",
      "source": [
        "The final predictions from the Random Forests were 65 Resistant and 296 Susceptible. However to see how the final decisions were made, we can check how each tree makes predictions for **just the first observation** in the features test data. The code below provides a counter for trees that voted Susceptible vs the ones that voted Resistant for the third observation."
      ],
      "metadata": {
        "id": "22-CAkX6qHYq"
      }
    },
    {
      "cell_type": "code",
      "source": [
        "# Code below shows the number of trees that predicted one of the two outcomes\n",
        "votes_for_R = 0 #we start with 0 trees \"voting\" for R\n",
        "votes_for_S = 0 #and 0 trees \"voting\" for S\n",
        "\n",
        "#loop over each of the trees in the random forest\n",
        "for i in range(0,len(RF_CTX_G_model)):\n",
        "  #get a prediction from one tree\n",
        "  pred = RF_CTX_G_model.estimators_[i].predict(CTX_G_test_df.iloc[0,1:17199].to_numpy().reshape(1,-1))\n",
        "\n",
        "  # if the prediction is 0 then it is \"R\"\n",
        "  if pred == 0.00:\n",
        "    votes_for_R = votes_for_R + 1\n",
        "\n",
        "  #if the prediction is 1 then it is \"S\"\n",
        "  else:\n",
        "    votes_for_S = votes_for_S + 1\n",
        "# Counting the number of trees that predicted R and the ones that predicted S\n",
        "print(\"Number of trees that voted Resistant: \",votes_for_R)\n",
        "print(\"Number of trees that voted Susceptible: \",votes_for_S)"
      ],
      "metadata": {
        "id": "0QBks2vNuFx_",
        "colab": {
          "base_uri": "https://localhost:8080/"
        },
        "outputId": "3827cc2a-42e9-4641-e829-5edb33597fef"
      },
      "execution_count": null,
      "outputs": [
        {
          "output_type": "stream",
          "name": "stdout",
          "text": [
            "Number of trees that voted Resistant:  89\n",
            "Number of trees that voted Susceptible:  11\n"
          ]
        }
      ]
    },
    {
      "cell_type": "markdown",
      "source": [
        "Below we can check the prediction by the Random Forest, for the first observation as well. Because the majority of the trees voted for Resistance (R), we can see that our Random Forest ends up predicting R as well."
      ],
      "metadata": {
        "id": "LvrYcBp4Bozr"
      }
    },
    {
      "cell_type": "code",
      "source": [
        "# prediction using the second value of our test features\n",
        "pred = RF_CTX_G_model.predict(CTX_G_test_df.iloc[0,1:17199].to_numpy().reshape(1,-1))\n",
        "print(\"Prediction by Random Forest: \", pred)"
      ],
      "metadata": {
        "id": "5-WErPCU0Jfv",
        "colab": {
          "base_uri": "https://localhost:8080/"
        },
        "outputId": "76bd334d-917c-46ab-a3e3-2d4c76f84882"
      },
      "execution_count": null,
      "outputs": [
        {
          "output_type": "stream",
          "name": "stdout",
          "text": [
            "Prediction by Random Forest:  ['R']\n"
          ]
        },
        {
          "output_type": "stream",
          "name": "stderr",
          "text": [
            "/usr/local/lib/python3.10/dist-packages/sklearn/base.py:439: UserWarning: X does not have valid feature names, but RandomForestClassifier was fitted with feature names\n",
            "  warnings.warn(\n"
          ]
        }
      ]
    },
    {
      "cell_type": "markdown",
      "source": [
        "### **7) Evaluating our model using a confusion matrix and metrics**\n",
        "\n",
        "**a) Creating evaluate() function and implementing it:**\n",
        "\n",
        "Similarly to the previous notebook, we will evaluate our RF model by using a Confusion Matrix and respective metrics. Below is a quick review of these, remember that there is one Accuracy score, but Recall and Presicion should have as many sets as classes our model its trained to predict:\n",
        "\n",
        "|<font size=3>Metrics|<font size=3>General formula|<font size=3> Formula for 2 classes|\n",
        "|--|:-:|:-:\n",
        "|<font size=3>**Accuracy**|<font size=3>$\\frac{Correctly \\ classified}{All \\ Predicted}$|<font size=3>$\\frac{TP + TN}{TP + TN + FN + FP}$|\n",
        "|<font size=3>**R Recall:**|<font size=3>$\\frac{Correctly \\ classified \\ as \\ R}{All \\ Actual \\ R}$|<font size=3>$\\frac{TP}{TP + FN}$|\n",
        "|<font size=3>**R Precision:**|<font size=3>$\\frac{Correctly \\ classified \\ as \\ R}{All \\ Predicted \\ R}$|<font size=3>$\\frac{TP}{TP + FP}$|"
      ],
      "metadata": {
        "id": "5dox3JfFn5wz"
      }
    },
    {
      "cell_type": "code",
      "source": [
        "# Creating a function that evaluates our model using our actual and predicted data\n",
        "def evaluate(RF_combo_model, labels_test, labels_pred, cf= True, show_results=True):\n",
        "  report = classification_report(labels_test, labels_pred, output_dict = True)\n",
        "  if cf == True:\n",
        "    cm = confusion_matrix(labels_test, labels_pred, labels=np.unique(labels_pred))\n",
        "    disp = ConfusionMatrixDisplay(confusion_matrix=cm, display_labels=np.unique(labels_pred))\n",
        "    disp.plot()\n",
        "    plt.grid(False)\n",
        "    plt.show()\n",
        "  if show_results == True:\n",
        "    print(\"Results\")\n",
        "    print('Accuracy:',report['accuracy'])\n",
        "    print('R recall:',report['R']['recall'])\n",
        "    print('S recall:',report['S']['recall'])\n",
        "    print('R precision:',report['R']['precision'])\n",
        "    print('S precision:',report['S']['precision'])\n",
        "  return [report['accuracy'], report['R']['recall'], report['S']['recall'], report['R']['precision'], report['S']['precision']]"
      ],
      "metadata": {
        "id": "YJJmoOq-o97t"
      },
      "execution_count": null,
      "outputs": []
    },
    {
      "cell_type": "code",
      "source": [
        "# implementing the evaluate() function\n",
        "Model_Report = evaluate(RF_CTX_G_model, CTX_Train_test_dic['labels_test'],CTX_G_labels_pred)"
      ],
      "metadata": {
        "id": "sP4N-azGuL0_",
        "colab": {
          "base_uri": "https://localhost:8080/",
          "height": 562
        },
        "outputId": "6ab6878c-1225-4b4f-db2f-1dc436e591c6"
      },
      "execution_count": null,
      "outputs": [
        {
          "output_type": "display_data",
          "data": {
            "text/plain": [
              "<Figure size 640x480 with 2 Axes>"
            ],
            "image/png": "[encoded data removed]"
          },
          "metadata": {}
        },
        {
          "output_type": "stream",
          "name": "stdout",
          "text": [
            "Results\n",
            "Accuracy: 0.9529085872576177\n",
            "R recall: 0.8157894736842105\n",
            "S recall: 0.9894736842105263\n",
            "R precision: 0.9538461538461539\n",
            "S precision: 0.9527027027027027\n"
          ]
        }
      ]
    },
    {
      "cell_type": "markdown",
      "source": [
        "**b) Create a feature importance graph showing which features were the most important**\n",
        "\n",
        "The gini impurity is a metric used to determine which features are more important than others. Below we will learn to graph the feature importance for the model we have been working on."
      ],
      "metadata": {
        "id": "2-6NzvrsbZaH"
      }
    },
    {
      "cell_type": "code",
      "source": [
        "# getting feature importance for our Random Forest model trained using G feature combo for CTX drug\n",
        "importance = RF_CTX_G_model.feature_importances_\n",
        "\n",
        "# getting the 20 highest feature importance out of all G features\n",
        "indices = np.argsort(importance)[-20:]\n",
        "highest_feat_importance = importance[indices]\n",
        "\n",
        "# create a barchart of the 20 most important features\n",
        "sns.set_theme()\n",
        "plt.barh([x for x in range(len(highest_feat_importance))], highest_feat_importance, tick_label=CTX_G_train_df.iloc[:,1:17199].columns[indices])\n",
        "plt.title(\"20 most important features for CTX_G_model\")\n",
        "\n",
        "# saving feature importance bargraph and display in notebook\n",
        "plt.savefig('/content/drive/My Drive/EColi_ML_Plots/RF_CTX_G_feat_importance.jpg',dpi=400, bbox_inches=\"tight\")\n",
        "plt.show()"
      ],
      "metadata": {
        "id": "TX0HY7tiuRgu",
        "colab": {
          "base_uri": "https://localhost:8080/",
          "height": 457
        },
        "outputId": "ad1d5adb-00e8-4924-ef57-3b63d72a8036"
      },
      "execution_count": null,
      "outputs": [
        {
          "output_type": "display_data",
          "data": {
            "text/plain": [
              "<Figure size 640x480 with 1 Axes>"
            ],
            "image/png": "[encoded data removed]"
          },
          "metadata": {}
        }
      ]
    },
    {
      "cell_type": "markdown",
      "source": [
        "Based on the feature importance bar chart it seems that considering all Accessory genes, the gene **wbuC** seems to have the highest importance in this particular model for the antibiotic CTX. This probably means that strains with this gene are more likely to be resistant to the drug Cefotaxime (CTX)."
      ],
      "metadata": {
        "id": "z7rCiJS5cXne"
      }
    },
    {
      "cell_type": "markdown",
      "source": [
        "### **8) Hyperparameter Tunning and Crossvalidation for RF model**\n"
      ],
      "metadata": {
        "id": "y2qYJYLfGzHk"
      }
    },
    {
      "cell_type": "markdown",
      "source": [
        "#### **a) Hyperparameter Tunning**\n",
        "\n",
        "The results using our RF model with default features seem to already perform quite well, However we can always see if it can do better, specially for R recall score. For a complete list of of the hyperparameters available for Random Forests click [here](https://scikit-learn.org/stable/modules/generated/sklearn.ensemble.RandomForestClassifier.html). This time we will tune the number of estimators (n_estimators). A higher number of trees decreases the risk for overfitting as it does not increase generalization error based on the mathematical details of this model (which we won't discuss here)."
      ],
      "metadata": {
        "id": "K0JI0ekV-XXT"
      }
    },
    {
      "cell_type": "code",
      "source": [
        "# performing hyperparameter tunning for model\n",
        "## Creating dictionary of parameters to tune.\n",
        "hparam = {\"n_estimators\":[50, 100, 200, 300]}"
      ],
      "metadata": {
        "id": "2O2Q4XQFEvmj"
      },
      "execution_count": null,
      "outputs": []
    },
    {
      "cell_type": "markdown",
      "source": [
        "#### **b) Crossvalidation**"
      ],
      "metadata": {
        "id": "QCICB3_KG4Dl"
      }
    },
    {
      "cell_type": "code",
      "source": [
        "# Creating function to perform hyper parameter tunning of model\n",
        "def RF_hp_tune(param, feat_train_df, lab_train, v=3, cv=4):\n",
        "  # creating Random Forest model\n",
        "  model = RandomForestClassifier(random_state = 42)\n",
        "  # performing the hyper parameter tunning using crossvalidation\n",
        "  scoring_dic = {'f1_macro':make_scorer(f1_score , average='macro')}\n",
        "  # isolating the features used for training\n",
        "  feat = feat_train_df.drop(columns=[\"MLST\"])\n",
        "  # tranforming labels from letters to 0 & 1\n",
        "  lab_train_t = lab_train.replace({'R': 0, 'S': 1})\n",
        "  # Fitting using grid search parameters depending on crossvalidation scheme used\n",
        "  if str(cv).isnumeric():\n",
        "    cv = KFold(cv)\n",
        "    gs = GridSearchCV(model, param, scoring=scoring_dic,cv=cv, refit='f1_macro', verbose=v, return_train_score=True)\n",
        "    gs.fit(feat, lab_train_t)\n",
        "  elif cv == \"blocked\":\n",
        "    groups= feat_train_df['MLST']\n",
        "    cv = StratifiedGroupKFold(n_splits=4)\n",
        "    gs = GridSearchCV(model, param, scoring=scoring_dic,cv=cv, refit='f1_macro', verbose=v, return_train_score=True)\n",
        "    gs.fit(feat, lab_train_t, groups=groups)\n",
        "  else:\n",
        "    print(\"Please provide a valid crossvalidation scheme `blocked` or an integer\")\n",
        "  print(gs.best_params_)\n",
        "  print(gs.best_score_)\n",
        "  return gs.best_estimator_"
      ],
      "metadata": {
        "id": "9wYf0W8pHvl8"
      },
      "execution_count": null,
      "outputs": []
    },
    {
      "cell_type": "code",
      "source": [
        "# Running the function created (takes longer time)\n",
        "RF_tunned = RF_hp_tune(hparam, CTX_G_train_df, CTX_Train_test_dic['labels_train'])"
      ],
      "metadata": {
        "colab": {
          "base_uri": "https://localhost:8080/"
        },
        "id": "DkZiOx4jJpbY",
        "outputId": "e21f3e57-18e2-4ca5-aa06-fb1f2794dea8"
      },
      "execution_count": null,
      "outputs": [
        {
          "output_type": "stream",
          "name": "stdout",
          "text": [
            "Fitting 4 folds for each of 4 candidates, totalling 16 fits\n",
            "[CV 1/4] END n_estimators=50; f1_macro: (train=1.000, test=0.915) total time=   1.2s\n",
            "[CV 2/4] END n_estimators=50; f1_macro: (train=1.000, test=0.895) total time=   0.9s\n",
            "[CV 3/4] END n_estimators=50; f1_macro: (train=0.999, test=0.897) total time=   0.9s\n",
            "[CV 4/4] END n_estimators=50; f1_macro: (train=1.000, test=0.896) total time=   0.9s\n",
            "[CV 1/4] END n_estimators=100; f1_macro: (train=1.000, test=0.923) total time=   1.5s\n",
            "[CV 2/4] END n_estimators=100; f1_macro: (train=1.000, test=0.886) total time=   1.4s\n",
            "[CV 3/4] END n_estimators=100; f1_macro: (train=1.000, test=0.917) total time=   2.1s\n",
            "[CV 4/4] END n_estimators=100; f1_macro: (train=1.000, test=0.891) total time=   2.1s\n",
            "[CV 1/4] END n_estimators=200; f1_macro: (train=1.000, test=0.923) total time=   2.6s\n",
            "[CV 2/4] END n_estimators=200; f1_macro: (train=1.000, test=0.900) total time=   2.5s\n",
            "[CV 3/4] END n_estimators=200; f1_macro: (train=1.000, test=0.916) total time=   2.5s\n",
            "[CV 4/4] END n_estimators=200; f1_macro: (train=1.000, test=0.918) total time=   3.0s\n",
            "[CV 1/4] END n_estimators=300; f1_macro: (train=1.000, test=0.922) total time=   4.6s\n",
            "[CV 2/4] END n_estimators=300; f1_macro: (train=1.000, test=0.896) total time=   3.6s\n",
            "[CV 3/4] END n_estimators=300; f1_macro: (train=1.000, test=0.916) total time=   3.6s\n",
            "[CV 4/4] END n_estimators=300; f1_macro: (train=1.000, test=0.916) total time=   5.1s\n",
            "{'n_estimators': 200}\n",
            "0.9140384760302779\n"
          ]
        }
      ]
    },
    {
      "cell_type": "markdown",
      "source": [
        "In this case we see that in terms of number of trees used for the Random Forest, the best average f1-score for R and S is obtsined with 200 trees, when the model is using only the Accessory genes presence/absence features (**G**) to make predictions for CTX."
      ],
      "metadata": {
        "id": "6DECYfPpKteJ"
      }
    },
    {
      "cell_type": "markdown",
      "source": [
        "### **9) Use all functions and evaluate every drug in every feature combination!**\n",
        "\n",
        "**NOTE:** Code below is the same as in previous notebook"
      ],
      "metadata": {
        "id": "N5lGr0hoDCip"
      }
    },
    {
      "cell_type": "markdown",
      "source": [
        "#### **a) Lets recall the list of drugs we have available and the combination of features we are interested in**"
      ],
      "metadata": {
        "id": "yExXAdaWZL4_"
      }
    },
    {
      "cell_type": "code",
      "source": [
        "# let's check all drugs\n",
        "drug_list = All_Drugs_df.iloc[:,3:15].columns\n",
        "print(drug_list)\n",
        "\n",
        "# let's see all combinations we are interested in\n",
        "print(combo_list)"
      ],
      "metadata": {
        "id": "51wJM2XUaxtQ",
        "colab": {
          "base_uri": "https://localhost:8080/"
        },
        "outputId": "c5725370-6896-4ffc-896c-e55fdc0a3d7a"
      },
      "execution_count": null,
      "outputs": [
        {
          "output_type": "stream",
          "name": "stdout",
          "text": [
            "Index(['CTZ', 'CTX', 'AMP', 'AMX', 'AMC', 'TZP', 'CXM', 'CET', 'GEN', 'TBM',\n",
            "       'TMP', 'CIP'],\n",
            "      dtype='object')\n",
            "['Y', 'G', 'GY']\n"
          ]
        }
      ]
    },
    {
      "cell_type": "markdown",
      "source": [
        "#### **b) Create a loop that will go through all our functions using the lists above**"
      ],
      "metadata": {
        "id": "cZWO1rYocRQR"
      }
    },
    {
      "cell_type": "code",
      "source": [
        "for fname in os.listdir(filepath):\n",
        "    if fname.endswith('RF_metrics_df.csv'):\n",
        "        print(\"A csv with stored results for Random Forest has already been created. Please check your Google Drive directory.\")\n",
        "        break\n",
        "else:\n",
        "  # Lets use all our functions this time and save our report into a single data structure\n",
        "  RF_model_metrics = {}\n",
        "\n",
        "  for drug in drug_list:\n",
        "    print(drug)\n",
        "    # splits each drug df into a dictionary with testing and training data\n",
        "    Test_Train_dic = Split_train_test(drug)\n",
        "    for combo in combo_list:\n",
        "      # Training each drug and combo features\n",
        "      labels_train = Test_Train_dic[\"labels_train\"]\n",
        "      # create corresponding feature_df for training\n",
        "      features_train = combo_feat(Test_Train_dic[\"features_train\"], drug, combo)\n",
        "      print(drug+\"_\"+combo)\n",
        "      # runs RF model using the corresponding training feature_df and does hyperparameter tunning to get best model\n",
        "      RF_combo_tunned_model = RF_hp_tune(hparam, features_train, labels_train, v=0)\n",
        "      # create corresponding feature_df for testing\n",
        "      features_test = combo_feat(Test_Train_dic[\"features_test\"], drug, combo)\n",
        "      # generate predictions based on the feature combination tested\n",
        "      labels_pred = predict(RF_combo_tunned_model, features_test)\n",
        "      # loading the actual labels\n",
        "      labels_test = Test_Train_dic[\"labels_test\"]\n",
        "      # Evaluating our model\n",
        "      report = evaluate(RF_combo_tunned_model, labels_test, labels_pred, cf=False, show_results=False)\n",
        "      # Saving the results into a dictionary\n",
        "      RF_model_metrics[drug+\"_\"+combo] = report\n",
        "      print(report)\n",
        "  # convert dictionary into a dataframe\n",
        "  RF_metrics = pd.DataFrame.from_dict(RF_model_metrics, orient='index',columns=[\"Accuracy\", \"R_recall\", \"S_recall\", \"R_precision\", \"S_precision\"]).reset_index()\n",
        "  RF_metrics = RF_metrics.rename(columns = {'index':'Drug_combo'})\n",
        "\n",
        "  # saving our metric results into a CSV file\n",
        "  RF_metrics.to_csv(filepath+\"RF_metrics_df.csv\", index= False)"
      ],
      "metadata": {
        "colab": {
          "base_uri": "https://localhost:8080/"
        },
        "id": "V-TyWAOfwa-a",
        "outputId": "7cbc82d2-f629-4d4f-cd48-65c88491b896"
      },
      "execution_count": null,
      "outputs": [
        {
          "output_type": "stream",
          "name": "stdout",
          "text": [
            "CTZ\n",
            "CTZ_Y\n",
            "{'n_estimators': 50}\n",
            "0.47706199421260953\n",
            "[0.8617021276595744, 0.038461538461538464, 0.9938271604938271, 0.5, 0.8655913978494624]\n",
            "CTZ_G\n",
            "{'n_estimators': 100}\n",
            "0.7759557923189414\n",
            "[0.9095744680851063, 0.4230769230769231, 0.9876543209876543, 0.8461538461538461, 0.9142857142857143]\n",
            "CTZ_GY\n",
            "{'n_estimators': 100}\n",
            "0.7768396524895118\n",
            "[0.9122340425531915, 0.4230769230769231, 0.9907407407407407, 0.88, 0.9145299145299145]\n",
            "CTX\n",
            "CTX_Y\n",
            "{'n_estimators': 50}\n",
            "0.7788989771683748\n",
            "[0.8781163434903048, 0.42105263157894735, 1.0, 1.0, 0.8662613981762918]\n",
            "CTX_G\n",
            "{'n_estimators': 200}\n",
            "0.9140384760302779\n",
            "[0.9473684210526315, 0.7894736842105263, 0.9894736842105263, 0.9523809523809523, 0.9463087248322147]\n",
            "CTX_GY\n",
            "{'n_estimators': 200}\n",
            "0.9085082342284805\n",
            "[0.9529085872576177, 0.8157894736842105, 0.9894736842105263, 0.9538461538461539, 0.9527027027027027]\n",
            "AMP\n",
            "AMP_Y\n",
            "{'n_estimators': 50}\n",
            "0.438648735550218\n",
            "[0.7579617834394905, 1.0, 0.0, 0.7579617834394905, 0.0]\n",
            "AMP_G\n",
            "{'n_estimators': 100}\n",
            "0.7182069910979345\n",
            "[0.7770700636942676, 0.8907563025210085, 0.42105263157894735, 0.828125, 0.5517241379310345]\n",
            "AMP_GY\n",
            "{'n_estimators': 50}\n",
            "0.7283789830371783\n",
            "[0.8089171974522293, 0.9327731092436975, 0.42105263157894735, 0.8345864661654135, 0.6666666666666666]\n",
            "AMX\n",
            "AMX_Y\n",
            "{'n_estimators': 100}\n",
            "0.4719903535927028\n",
            "[0.6073059360730594, 1.0, 0.0, 0.6073059360730594, 0.0]\n",
            "AMX_G\n",
            "{'n_estimators': 300}\n",
            "0.8028168123834516\n",
            "[0.8401826484018264, 0.9022556390977443, 0.7441860465116279, 0.8450704225352113, 0.8311688311688312]\n",
            "AMX_GY\n",
            "{'n_estimators': 200}\n",
            "0.8031396405537817\n",
            "[0.8310502283105022, 0.8872180451127819, 0.7441860465116279, 0.8428571428571429, 0.810126582278481]\n",
            "AMC\n",
            "AMC_Y\n",
            "{'n_estimators': 50}\n",
            "0.40992273855177075\n",
            "[0.6964285714285714, 0.0, 1.0, 0.0, 0.6964285714285714]\n",
            "AMC_G\n",
            "{'n_estimators': 50}\n",
            "0.6753076439689468\n",
            "[0.7261904761904762, 0.4117647058823529, 0.8632478632478633, 0.5675675675675675, 0.7709923664122137]\n",
            "AMC_GY\n",
            "{'n_estimators': 50}\n",
            "0.6838736624674344\n",
            "[0.7589285714285714, 0.4803921568627451, 0.8803418803418803, 0.6363636363636364, 0.7953667953667953]\n",
            "TZP\n",
            "TZP_Y\n",
            "{'n_estimators': 50}\n",
            "0.48439598834037717\n",
            "[0.9404761904761905, 0.0, 1.0, 0.0, 0.9404761904761905]\n",
            "TZP_G\n",
            "{'n_estimators': 100}\n",
            "0.5052097114294823\n",
            "[0.9434523809523809, 0.1, 0.9968354430379747, 0.6666666666666666, 0.9459459459459459]\n",
            "TZP_GY\n",
            "{'n_estimators': 50}\n",
            "0.512772642242481\n",
            "[0.9434523809523809, 0.1, 0.9968354430379747, 0.6666666666666666, 0.9459459459459459]\n",
            "CXM\n",
            "CXM_Y\n",
            "{'n_estimators': 50}\n",
            "0.6897316810048972\n",
            "[0.8218085106382979, 0.3592233009708738, 0.9963369963369964, 0.9736842105263158, 0.8047337278106509]\n",
            "CXM_G\n",
            "{'n_estimators': 300}\n",
            "0.8473745132639219\n",
            "[0.851063829787234, 0.5631067961165048, 0.9597069597069597, 0.8405797101449275, 0.8534201954397395]\n",
            "CXM_GY\n",
            "{'n_estimators': 200}\n",
            "0.8505214047669691\n",
            "[0.8563829787234043, 0.5631067961165048, 0.967032967032967, 0.8656716417910447, 0.8543689320388349]\n",
            "CET\n",
            "CET_Y\n",
            "{'n_estimators': 50}\n",
            "0.7511802811932108\n",
            "[0.7770700636942676, 0.6567164179104478, 0.8666666666666667, 0.7857142857142857, 0.7722772277227723]\n",
            "CET_G\n",
            "{'n_estimators': 300}\n",
            "0.839323676207591\n",
            "[0.9235668789808917, 0.835820895522388, 0.9888888888888889, 0.9824561403508771, 0.89]\n",
            "CET_GY\n",
            "{'n_estimators': 300}\n",
            "0.8447869581278697\n",
            "[0.910828025477707, 0.8059701492537313, 0.9888888888888889, 0.9818181818181818, 0.8725490196078431]\n",
            "GEN\n",
            "GEN_Y\n",
            "{'n_estimators': 50}\n",
            "0.7482449618931657\n",
            "[0.8856382978723404, 0.4, 0.9688473520249221, 0.6875, 0.9040697674418605]\n",
            "GEN_G\n",
            "{'n_estimators': 50}\n",
            "0.8583297564429746\n",
            "[0.9388297872340425, 0.7090909090909091, 0.9781931464174455, 0.8478260869565217, 0.9515151515151515]\n",
            "GEN_GY\n",
            "{'n_estimators': 100}\n",
            "0.8486452685351009\n",
            "[0.9441489361702128, 0.7454545454545455, 0.9781931464174455, 0.8541666666666666, 0.9573170731707317]\n",
            "TBM\n",
            "TBM_Y\n",
            "{'n_estimators': 50}\n",
            "0.7230439154135813\n",
            "[0.7834394904458599, 0.5106382978723404, 0.9, 0.6857142857142857, 0.8114754098360656]\n",
            "TBM_G\n",
            "{'n_estimators': 50}\n",
            "0.858002579228887\n",
            "[0.8343949044585988, 0.6170212765957447, 0.9272727272727272, 0.7837837837837838, 0.85]\n",
            "TBM_GY\n",
            "{'n_estimators': 300}\n",
            "0.8584181143980476\n",
            "[0.8662420382165605, 0.7021276595744681, 0.9363636363636364, 0.825, 0.8803418803418803]\n",
            "TMP\n",
            "TMP_Y\n",
            "{'n_estimators': 100}\n",
            "0.5864322213534272\n",
            "[0.5732484076433121, 0.4, 0.7126436781609196, 0.5283018867924528, 0.5961538461538461]\n",
            "TMP_G\n",
            "{'n_estimators': 300}\n",
            "0.8480661913489778\n",
            "[0.8980891719745223, 0.8714285714285714, 0.9195402298850575, 0.8970588235294118, 0.898876404494382]\n",
            "TMP_GY\n",
            "{'n_estimators': 300}\n",
            "0.8478718207285851\n",
            "[0.910828025477707, 0.8857142857142857, 0.9310344827586207, 0.9117647058823529, 0.9101123595505618]\n",
            "CIP\n",
            "CIP_Y\n",
            "{'n_estimators': 50}\n",
            "0.5913520366883567\n",
            "[0.776595744680851, 0.25882352941176473, 0.9278350515463918, 0.5116279069767442, 0.8108108108108109]\n",
            "CIP_G\n",
            "{'n_estimators': 200}\n",
            "0.9184719429876389\n",
            "[0.9335106382978723, 0.788235294117647, 0.9759450171821306, 0.9054054054054054, 0.9403973509933775]\n",
            "CIP_GY\n",
            "{'n_estimators': 300}\n",
            "0.9170554971047788\n",
            "[0.9335106382978723, 0.788235294117647, 0.9759450171821306, 0.9054054054054054, 0.9403973509933775]\n"
          ]
        }
      ]
    },
    {
      "cell_type": "markdown",
      "source": [
        "### **10) Create a bar graph showing metrics for all drugs using only G features**\n",
        "\n",
        "Using the CSV we created above with all our results, we will create a bargraph to visualize metrics for every antibiotic that uses the G feature (Gene Presence and Absence). In the graph below we are comparing Accuracy and Recall scores for both classes.\n",
        "\n",
        "The code below serves to create a new directory to store all our Machine Learning plots and figures created. If you run the code more than once it will let you know that the figure has already been created in the directory."
      ],
      "metadata": {
        "id": "m8CQMKARZ1zC"
      }
    },
    {
      "cell_type": "code",
      "source": [
        "try:\n",
        "  # makes a directory for all your plot images\n",
        "  os.mkdir('/content/drive/My Drive/EColi_ML_Plots')\n",
        "except:\n",
        "  print(\"A directory was already created to store your plot\")\n",
        "\n",
        "# filtering for all the rows that contain GY features\n",
        "RF_metrics = pd.read_csv(\"/content/drive/MyDrive/EColi_ML_CSV_files/RF_metrics_df.csv\")\n",
        "G_filter = [drug_combo for drug_combo in RF_metrics['Drug_combo'] if drug_combo.endswith(\"G\")]\n",
        "G_df = RF_metrics.loc[RF_metrics[\"Drug_combo\"].isin(G_filter)]\n",
        "\n",
        "# Figure Size\n",
        "sns.set_theme(style=\"whitegrid\")\n",
        "fig = plt.figure(figsize =(15, 6))\n",
        "\n",
        "# Adding title\n",
        "plt.title('Accuracy, R_recall, S_recall', fontsize = 12)\n",
        "\n",
        "# Variables to be plotted\n",
        "x = np.arange(len(G_df[\"Drug_combo\"]))\n",
        "acc = list(G_df[\"Accuracy\"])\n",
        "R_rec = list(G_df[\"R_recall\"])\n",
        "S_rec = list(G_df[\"S_recall\"])\n",
        "\n",
        "# Plotting barcharts\n",
        "acc_bar=plt.bar(x-0.25, height= acc, width=0.25, color=\"grey\", edgecolor=\"gray\")\n",
        "rrec_bar=plt.bar(x, height= R_rec, width=0.25, color=\"cadetblue\", edgecolor=\"gray\")\n",
        "srec_bar=plt.bar(x+0.25, height= S_rec, width=0.25, color=\"powderblue\", edgecolor=\"gray\")\n",
        "\n",
        "plt.xticks([r for r in range(len(G_df[\"Drug_combo\"]))],\n",
        "            G_df[\"Drug_combo\"], fontsize = 12)\n",
        "\n",
        "#legend\n",
        "fig.legend([acc_bar,rrec_bar,srec_bar],[\"Accuracy\", \"R_recall\", \"S_recall\"], bbox_to_anchor=(0.4,-0.35, 0.04, 0.4), fontsize=12)\n",
        "\n",
        "# Saving bargraph into our new directory\n",
        "plt.savefig('/content/drive/My Drive/EColi_ML_Plots/RF_G_Accuracy_and_Recall_Scores.jpg',dpi=400, bbox_inches=\"tight\")\n",
        "\n",
        "# Show Plot\n",
        "plt.show()"
      ],
      "metadata": {
        "colab": {
          "base_uri": "https://localhost:8080/",
          "height": 658
        },
        "id": "gCCYk_k7eKA2",
        "outputId": "d5524203-85c8-4d90-d8ad-b6c6dfb8bb00"
      },
      "execution_count": null,
      "outputs": [
        {
          "output_type": "stream",
          "name": "stdout",
          "text": [
            "A directory was already created to store your plot\n"
          ]
        },
        {
          "output_type": "display_data",
          "data": {
            "text/plain": [
              "<Figure size 1500x600 with 1 Axes>"
            ],
            "image/png": "[encoded data removed]"
          },
          "metadata": {}
        }
      ]
    },
    {
      "cell_type": "markdown",
      "source": [
        "Great! We have created and saved all the Random Forest results for every antibiotic and combination of features we were interested in. Now that we have a basic understanding of tree methods in general. It is time to learn about another tree method: [Extreme Gradient Boosted Tree](https://github.com/Lucy-Moctezuma/Machine-Learning-Projects-for-SFSU/blob/main/E.%20Coli%20Machine%20Learning%20Project/3_Random_Forest.ipynb)."
      ],
      "metadata": {
        "id": "7b4ILsjdgrN9"
      }
    }
  ]
}