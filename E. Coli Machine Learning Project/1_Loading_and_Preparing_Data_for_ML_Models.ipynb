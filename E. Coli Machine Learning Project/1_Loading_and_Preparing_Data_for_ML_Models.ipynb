{
  "nbformat": 4,
  "nbformat_minor": 0,
  "metadata": {
    "colab": {
      "provenance": [],
      "include_colab_link": true
    },
    "kernelspec": {
      "name": "python3",
      "display_name": "Python 3"
    },
    "language_info": {
      "name": "python"
    }
  },
  "cells": [
    {
      "cell_type": "markdown",
      "metadata": {
        "id": "view-in-github",
        "colab_type": "text"
      },
      "source": [
        "<a href=\"https://colab.research.google.com/github/Lucy-Moctezuma/SFSU-CodeLab-Work-/blob/main/E.%20Coli%20Machine%20Learning%20Project/1_Loading_and_Preparing_Data_for_ML_Models.ipynb\" target=\"_parent\"><img src=\"https://colab.research.google.com/assets/colab-badge.svg\" alt=\"Open In Colab\"/></a>"
      ]
    },
    {
      "cell_type": "markdown",
      "metadata": {
        "id": "0jr_YDcEQgNX"
      },
      "source": [
        "# **Welcome to Antibiotic Resistance Prediction for E.Coli using Machine Learning**\n",
        "\n",
        "### ***Summary***:\n",
        "\n",
        "Antibiotic resistance is a global public health concern. Bacteria are evolving resistance to the current prescribed antibiotics resulting in strains developing multi-drug resistance. Currently, clinics often perform traditional culture-based assays (i.e., testing whether a drug would kill the bacteria in a petri dish) to determine antibiotic resistance in bacterial strains. Alternatively, clinics can also sequence these strains. These sequences can be analyzed to predict resistance to a prescribed antibiotic. There are different ways to perform the analysis and Machine Learning is one of them. This series of tutorials intends to help you understand how to do such an analysis.\n",
        "\n",
        "We will process publically available whole genome sequences of *E. coli* strains to create Logistic Regression, Random Forest, Gradient Boosted Trees, and Neural Network models to predict **Resistance (R)** and **Susceptibility (S)** for each strain. The strains have already been tested in the lab, so we will\n",
        "later be able to compare the predictions made by our Machine Learning models with the traditional culture-based assays results in order to determine the performance for each of these models.\n",
        "\n",
        "The data and the approach we take are from a previously published paper (Moradigaravand 2018).\n",
        "\n",
        "<a name=\"cell-id\"></a>\n",
        "### ***Data origin***:\n",
        "**Publication**:\n",
        "Moradigaravand D, Palm M, Farewell A, Mustonen V, Warringer J, Parts L (2018) Prediction of antibiotic resistance in *Escherichia coli* from large-scale pan-genome data. PLoS Comput Biol 14(12): e1006258. https://doi.org/10.1371/journal.pcbi.1006258\n",
        "\n",
        "**Github page**: https://github.com/DaneshMoradigaravand/PanPred\n",
        "\n",
        "### ***Objectives of this Notebook***:\n",
        "\n",
        "- The Objective of this first notebook is to explore and undertand the data we will be using as features to predict susceptibility (S) or resistance (R) in *E.coli* Bacteria for several drugs.\n",
        "This tutorial will use the features of **Year of Isolation (Y)**, **Gene Absence or Presence (G)** and **Population Structure (S)**.\n",
        "\n",
        "- In addition we will see in this notebook how to clean up and pre-process our data before feeding it into different machine learning algorithms."
      ]
    },
    {
      "cell_type": "markdown",
      "metadata": {
        "id": "ngBJdN83RUQd"
      },
      "source": [
        "## **1) Importing all necessary packages for Dataframe Manipulation**\n",
        "\n",
        "The code below will allow you to import the packages needed to load and pre-process the data used for our models.\n",
        "\n",
        "**NOTE:** Please allow access to your google drive when prompted, this will let you create and store the files in your drive to be accessed later by subsequent notebooks as we make progress towards getting our final results."
      ]
    },
    {
      "cell_type": "code",
      "execution_count": null,
      "metadata": {
        "id": "1t5OCYkUQUXl",
        "colab": {
          "base_uri": "https://localhost:8080/"
        },
        "outputId": "dcaed324-caed-4673-9560-151db3e4d51c"
      },
      "outputs": [
        {
          "output_type": "stream",
          "name": "stdout",
          "text": [
            "Mounted at /content/drive\n"
          ]
        }
      ],
      "source": [
        "# Data Wrangling Imports\n",
        "import pandas as pd\n",
        "import numpy as np\n",
        "from functools import reduce\n",
        "\n",
        "# File Manipulation Imports\n",
        "import os\n",
        "from google.colab import drive\n",
        "drive.mount('/content/drive')\n"
      ]
    },
    {
      "cell_type": "markdown",
      "metadata": {
        "id": "JxYf9QKSTHIA"
      },
      "source": [
        "## **2) Loading all Datasets used for Predictions**\n",
        "\n",
        "The code below will load the datasets we use from Moragadivand's github page (link located in the [Data origin](#cell-id) section). There are three datasets used:\n",
        "\n",
        "**a) Metadata**: Year of isolation and results from Antimicrobial Susceptibility Testing.\n",
        "\n",
        "**b) Gene Presence and Absence**: Not all *E. coli* strains carry the same genes. We have a list of genes and information for each strain on whether it carries that gene.\n",
        "\n",
        "**c) Population Structure**: Clusters based on SNP distance (number of differing sites) based on the core genome."
      ]
    },
    {
      "cell_type": "code",
      "execution_count": null,
      "metadata": {
        "id": "BBnyyyEUTSqx"
      },
      "outputs": [],
      "source": [
        "# assign to url variable for each csv file\n",
        "metadata_url = 'https://raw.githubusercontent.com/DaneshMoradigaravand/PanPred/master/test_data/Metadata.csv'\n",
        "gene_presence_url = 'https://raw.githubusercontent.com/DaneshMoradigaravand/PanPred/master/test_data/AccessoryGene.csv'\n",
        "pop_struc_url = 'https://raw.githubusercontent.com/DaneshMoradigaravand/PanPred/master/test_data/PopulationStructure.csv_labelencoded.csv'\n",
        "\n",
        "\n",
        "# load the three csv files into the notebook\n",
        "metadata = pd.read_csv(metadata_url)\n",
        "gene_presence_data = pd.read_csv(gene_presence_url)\n",
        "pop_struc_data = pd.read_csv(pop_struc_url)"
      ]
    },
    {
      "cell_type": "markdown",
      "metadata": {
        "id": "4WvL6LNaUy1f"
      },
      "source": [
        "### **a) Metadata:**\n",
        "**Columns Summary:**\n",
        "\n",
        "- **Isolate number**: Unique number assigned to identify a particular strain of *E. coli* Bacteria. Thus we will refer to each row of our dataset as an \"Isolate\" from now on.\n",
        "- **Year of Isolation**: The year in which a particular bacterial isolate was collected from a patient.\n",
        "- **Antibiotic drug**: There are 12 antibiotic drug columns named after their 3 letter abbreviation adopted from the \"British Society of Antimicrobial Chemotherapy\".\n",
        "\n",
        "|Abreviation|Class: Subclass|Full name|\n",
        "|:----------|:--------------|:--------|\n",
        "|**CTZ**|Beta-lactams: Cephalosporins|Ceftazidime|\n",
        "|**CTX**|Beta-lactams: Cephalosporins|Cefotaxime |\n",
        "|**CXM**|Beta-lactams: Cephalosporins|Cefuroxime|\n",
        "|**CET**|Beta-lactams: Cephalosporins|Cephalothin|\n",
        "|**AMP**|Beta-lactams: Penicillin|Ampicillin|\n",
        "|**AMX**|Beta-lactams: Penicillin|Amoxicillin|\n",
        "|**AMC**|Beta-lactams: Penicillin|Amoxicillin + Clavulanate potassium|\n",
        "|**TZP**|Beta-lactams: Piperacillin|Tazobactam|\n",
        "|**GEN**|Aminoglycosides|Gentamicin|\n",
        "|**TBM**|Aminoglycosides|Tobramycin|\n",
        "|**TMP**|Antifolate|Trimethoprim|\n",
        "|**CIP**|Fluoroquinolones|Ciprofloxacin|\n"
      ]
    },
    {
      "cell_type": "code",
      "execution_count": null,
      "metadata": {
        "id": "5YUUNiBET1Ra"
      },
      "outputs": [],
      "source": [
        "# Visualize the first 5 rows of our dataframe\n",
        "metadata.head()\n"
      ]
    },
    {
      "cell_type": "markdown",
      "source": [
        "**Note**: NaN was used to mark when there is no data for that isolate and drug.\n",
        "\n",
        "**Determination of Resistant(R) and Susceptible(S) labels:**\n",
        "\n",
        "- **Antimicrobial Susceptibility Testing**:\n",
        "Laboratory test where a bacterial isolate is grown in the presence of different concentrations of a drug to determine whether it is Susceptible(S), Intermediate (I) or Resistance(R).\n",
        "\n",
        "- **Clinical Breakpoints**: Each of the drugs listed in the chart have a different concentration (clinical breakpoint) used to determine the Susceptibility or Resistance of *E. coli* to that drug. If the bacterium can grow at a drug concentration higher than the breakpoint, it is considered resistant.\n",
        "\n",
        "- Results from the laboratory tests were determined based on the guidelines from the [European Committee on Antimicrobial Susceptibility Testing (EUCAST)](https://www.eucast.org/videos_and_online_seminars/english) on 25/01/2017. Click on the link to see a series of videos on how the laboratory tests are done.\n",
        "\n",
        "- For this study, isolates that were classified as Intermediate(I) were lumped together with the Resistant ones."
      ],
      "metadata": {
        "id": "EAC_rwqPFW7Q"
      }
    },
    {
      "cell_type": "code",
      "execution_count": null,
      "metadata": {
        "id": "NVwnOJwTW3mI"
      },
      "outputs": [],
      "source": [
        "# Observe the shape and size of the dataframe\n",
        "metadata.shape"
      ]
    },
    {
      "cell_type": "markdown",
      "source": [
        "The code above can show us the shape of our entire dataframe in the following format: **(Row count, Column count)**\n",
        "\n",
        "**a) Row count**: There is a total of 1936 Isolates of *E. coli* Bacteria.\n",
        "\n",
        "**b) Column count**: is 14 = Isolate number (1) + year (1)+ antibiotic laboratory test results (12)\n"
      ],
      "metadata": {
        "id": "mTND4xYDC36D"
      }
    },
    {
      "cell_type": "markdown",
      "metadata": {
        "id": "w-BsU58aWtrT"
      },
      "source": [
        "### **b) Gene presence and absence:**\n",
        "\n",
        "**Genes:** Sequences of DNA that (usually) code for proteins. These sequences can vary in length and the resulting proteins have a variety of functions. Some genes and their resulting proteins are well characterized and have names, whereas others are not well characterized. For our analysis, the genes from our data set will be generally classified into:\n",
        "\n",
        "- **Core Genome:** These are the genes that are present in almost all individuals for a particular species. In our case, they are the genes that all our *E.coli* isolates have in common.\n",
        "\n",
        "- **Accessory Genes:** These are the genes that might be found in one individual but may not be found in another, within the same species. These would be the genes that are unique to each of our *E. coli* isolate.\n",
        "\n",
        "- **Pan-genome:** These are all the possible genes that can be found in a particular species. That is they are all the gene presents present in our *E. coli* isolates (Pan-genome = Core Genome + Accesory Genes).\n",
        "\n",
        "The code below will show us the dataframe containing the presence and absence of all the genes detected in for each isolate.\n",
        "- **0** = Absence of the gene\n",
        "- **1** = Presence of the gene."
      ]
    },
    {
      "cell_type": "code",
      "execution_count": null,
      "metadata": {
        "id": "Bxqk3-mdT_an"
      },
      "outputs": [],
      "source": [
        "# Visualize the first 5 rows of dataframe\n",
        "gene_presence_data.head()"
      ]
    },
    {
      "cell_type": "markdown",
      "source": [
        "As mentioned above, not all genes are well known and have names, therefore the author has separated them in 2 sets of genes that were named differently:\n",
        "\n",
        "**1) Known genes**: which were extracted from the annotated DNA sequences.\n",
        "\n",
        "In the code below we can take a look at all the names of the named genes because **they do not have the word \"group\"** in them."
      ],
      "metadata": {
        "id": "dty0oXYeVOLc"
      }
    },
    {
      "cell_type": "code",
      "execution_count": null,
      "metadata": {
        "id": "pWm2B9qc-iXT"
      },
      "outputs": [],
      "source": [
        "# this code will output the list of named genes and the lenght of it\n",
        "coding_genes = [col for col in gene_presence_data.drop(columns=[\"Unnamed: 0\"]).columns if 'group' not in col]\n",
        "print(\"List of coding_genes:\")\n",
        "print(coding_genes)\n",
        "print(\"Total number of named genes included: \", len(coding_genes))"
      ]
    },
    {
      "cell_type": "markdown",
      "source": [
        "**2) Unknown genes**: these the DNA sequences that look like a gene (e.g., they have a start and a stop codon) and are grouped based on **orthologous gene groups**. This means that these are sequences where we don't necessarily know their function, but we know that they exist in many of the *E. coli* isolates, **they get a name that starts with \"group\"**.\n",
        "\n",
        "**Orthologous genes**: are genes that derive from the same ancestral gene.\n",
        "\n",
        "\n",
        "\n"
      ],
      "metadata": {
        "id": "yWTFP7K3VRlK"
      }
    },
    {
      "cell_type": "code",
      "source": [
        "# this code will output all the genes without an assigned gene name.\n",
        "other_genes = [col for col in gene_presence_data.drop(columns=[\"Unnamed: 0\"]).columns if 'group' in col]\n",
        "print(\"List of unnamed genes:\")\n",
        "print(other_genes)\n",
        "print(\"Total number of unnamed genes included: \", len(other_genes))"
      ],
      "metadata": {
        "id": "g5Upy8PVeK0h"
      },
      "execution_count": null,
      "outputs": []
    },
    {
      "cell_type": "markdown",
      "source": [
        "**NOTE:** The code below for instance is showing us which Isolates have the ortholog gene group called **\"group_13605\"** In this case we have 8 isolates that have this gene."
      ],
      "metadata": {
        "id": "ei8QZAHblFSu"
      }
    },
    {
      "cell_type": "code",
      "source": [
        "# the code below prints all the isolate numbers that have a 1 (presence) for a particular group\n",
        "print(gene_presence_data[gene_presence_data[\"group_13605\" ]== 1][\"Unnamed: 0\"])"
      ],
      "metadata": {
        "id": "o6HupqNmDblj"
      },
      "execution_count": null,
      "outputs": []
    },
    {
      "cell_type": "markdown",
      "source": [
        "The code below can show us the shape of our entire dataframe in the following format: **(Row count, Column count)**\n",
        "\n",
        "**a) Row count**: Notice that the number of isolates is 2033, whereas in the Metadata file there were only 1936. We can only work with isolates fo which we have metadata, so later on we will filter out the ones that do not have a corresponding metadata.\n",
        "\n",
        "**b) Column count**: The number of columns is 17199 = Isolate number(1) + coding_genes(3815) + other_genes(13383)"
      ],
      "metadata": {
        "id": "7_W2zD80nFX7"
      }
    },
    {
      "cell_type": "code",
      "execution_count": null,
      "metadata": {
        "id": "0tqRCFBNYQ4M"
      },
      "outputs": [],
      "source": [
        "# Observe the shape and size of the dataframe\n",
        "gene_presence_data.shape"
      ]
    },
    {
      "cell_type": "markdown",
      "source": [
        "**NOTE:** There are more observations in the gene presence and absence dataset (2033), we will later match these observations with the ones present in the metadata (1936) by Isolate number, and thus eliminate the ones that do not have a match."
      ],
      "metadata": {
        "id": "VuokuX7cWzGD"
      }
    },
    {
      "cell_type": "markdown",
      "metadata": {
        "id": "DrGLKpOxWclE"
      },
      "source": [
        "### **c) Population structure data:**\n",
        "\n",
        "**Population structure** is defined as the organization of genetic variation in a population or species. It is basically about how similar (genetically) different isolates are. The idea is that isolates that are genetically similar, are maybe likely to have the same resistance profile."
      ]
    },
    {
      "cell_type": "code",
      "execution_count": null,
      "metadata": {
        "id": "0zGsWuZkT_S8"
      },
      "outputs": [],
      "source": [
        "# Visualize the first 5 rows of dataframe\n",
        "pop_struc_data.head()"
      ]
    },
    {
      "cell_type": "markdown",
      "source": [
        "**1) Unnamed:0** column is the same as the **Isolate** column from the Metadata csv file.\n",
        "\n",
        "**2) cutoff_#**: the names of this set of columns represent the different cutoff values used to group isolates into different clusters. For grouping the isolates in clusters the core genome sequences were compared between all pairs of isolates.\n",
        "For instance cutoff value of 3 means that we have grouped two isolates together in a cluster if they have 3 or fewer differences (aka **SNPs**) between the two isolates. At the end of the process each isolate is classified into a different cluster depending on the cutoff value. Thus, each cutoff value should produce a different set of clusters.\n",
        "\n",
        "**The numbers below each column are simply the reference number for each cluster, these are arbitraty.** For Example: for the Isolate number `11657_5#11` for the `cutoff_2` (2 or less SNPs) belongs to the cluster number 1045, but for the  `cutoff_3` (3 or less SNPs) belongs to the cluster number 1043.\n",
        "\n",
        "**NOTE:** **SNP (Single Nucleotide Polymorphism)** is a single difference on a one nucleotide in a particular gene when we have a pair of isolates being compared.\n",
        "\n",
        "![SNP Picture.jpg](https://drive.google.com/uc?export=view&id=185p-fkkbtxiwu4TkZa6AZ6Dr6yya7pp6)\n",
        "\n",
        "\n"
      ],
      "metadata": {
        "id": "60ea64zRTk6j"
      }
    },
    {
      "cell_type": "markdown",
      "source": [
        "If the cutoff value is low, we can expect that most isolates will not be grouped with any other isolate, making a higher number of clusters but each cluster would be composed of a small number of isolates. The sum of all the members for each cluster should yield our total number of isolates (i.e, 1936).\n",
        "- For example for the **cutoff_2008** we are considering all isolates that have 2008 or less SNPs. The code below shows us that for this cutoff value we have a total of 517 different clusters, each of them with a different number of isolates. For instance, we can see that there are 221 isolates that belong to \"cluster number 222\"."
      ],
      "metadata": {
        "id": "l41IKcAimcB0"
      }
    },
    {
      "cell_type": "code",
      "source": [
        "# code will count how many isolates belong to a particular cluster\n",
        "cutoff_2008= pd.DataFrame(pop_struc_data['cutoff_2008'].value_counts() )\n",
        "cutoff_2008"
      ],
      "metadata": {
        "id": "tSgESYmFvVfl"
      },
      "execution_count": null,
      "outputs": []
    },
    {
      "cell_type": "markdown",
      "source": [
        "If the cutoff value is high, we can expect that more isolates are grouped together with other isolates, making a lower number of clusters but most being grouped into a particular cluster. Just like before the sum of all the members for each cluster should equal to our total number of isolates (i.e, 1936).\n",
        "\n",
        "- For example if we increase the cutoff value to say **cutoff_27236**, we can observe that most isolates (1932) would fall in \"cluster 0\" with only a few isolates dispersed in other clusters.\n"
      ],
      "metadata": {
        "id": "IGlUDwM_Qv4J"
      }
    },
    {
      "cell_type": "code",
      "execution_count": null,
      "metadata": {
        "id": "jXcYjnbC-TOe"
      },
      "outputs": [],
      "source": [
        "# code will count how many isolates belong to a particular cluster\n",
        "cutoff_27236= pd.DataFrame(pop_struc_data['cutoff_27236'].value_counts() )\n",
        "cutoff_27236"
      ]
    },
    {
      "cell_type": "markdown",
      "source": [
        "Because there is no information about which cutoff value would yield us the best way to cluster our isolates or which cluster memberships are necessarily related to resistance (R) or susceptibility (S), the author included 1072 different cutoff values, each with their own set of clusters."
      ],
      "metadata": {
        "id": "_VGH2s8SbLMM"
      }
    },
    {
      "cell_type": "code",
      "execution_count": null,
      "metadata": {
        "id": "sbEVKLPaXekq"
      },
      "outputs": [],
      "source": [
        "# Observe the shape and size of the dataframe\n",
        "pop_struc_data.shape"
      ]
    },
    {
      "cell_type": "markdown",
      "metadata": {
        "id": "3t9WYR9IaMsH"
      },
      "source": [
        "## **3) Preparing each dataset in order to be combined**"
      ]
    },
    {
      "cell_type": "markdown",
      "metadata": {
        "id": "plGD7XyAbm3D"
      },
      "source": [
        "#### **a)** Matching the column name of the observations in all 3 Datasets"
      ]
    },
    {
      "cell_type": "code",
      "execution_count": null,
      "metadata": {
        "id": "OohyO6UPb8k9"
      },
      "outputs": [],
      "source": [
        "# rename all the df with \"Unnamed: 0\" columns as \"Isolate\"\n",
        "gene_presence_data = gene_presence_data.rename(columns={'Unnamed: 0' : 'Isolate'})\n",
        "pop_struc_data = pop_struc_data.rename(columns={'Unnamed: 0' : 'Isolate'})"
      ]
    },
    {
      "cell_type": "markdown",
      "metadata": {
        "id": "NHtyYdG8bbdc"
      },
      "source": [
        "#### **b)** Changing Metadata's Year column to One Hot encoded variables\n",
        "This is because even though year is a number, it is actually considered a categorical variable.\n",
        "\n",
        "For categorical variables, it is considered a best practice to do something called \"one-hot-encoding.\"\n"
      ]
    },
    {
      "cell_type": "code",
      "execution_count": null,
      "metadata": {
        "id": "XnyaQXzgdXBw"
      },
      "outputs": [],
      "source": [
        "# This prints the years the strains were isolated\n",
        "year_list = metadata[\"Year\"].unique()\n",
        "year_list = year_list[np.logical_not(np.isnan(year_list))]\n",
        "print(sorted(year_list))"
      ]
    },
    {
      "cell_type": "markdown",
      "source": [
        "By creating one hot encoded variables from the Year column of the metadata, each of their rows are coded the following way:\n",
        "- **\"0\"** : Isolate was perfomed in a particular year\n",
        "- **\"1\"** : Isolate was not performed in a particular year"
      ],
      "metadata": {
        "id": "RWSQPKPXsfyW"
      }
    },
    {
      "cell_type": "code",
      "execution_count": null,
      "metadata": {
        "id": "f3AVedaEhLHI"
      },
      "outputs": [],
      "source": [
        "# creating one hot encoded variables from \"Year\" column to create a matrix of years\n",
        "metadata_d = pd.get_dummies(metadata,columns=[\"Year\"], dummy_na=False)\n",
        "metadata_d"
      ]
    },
    {
      "cell_type": "markdown",
      "metadata": {
        "id": "RSqc9UEt6LfI"
      },
      "source": [
        "## **4) Making a single dataframe using all 3 sources of data**"
      ]
    },
    {
      "cell_type": "markdown",
      "metadata": {
        "id": "-rFJqbnaAEqg"
      },
      "source": [
        "#### **a)** Joining all data sources into a single dataframe\n",
        "\n",
        "**Notes:**\n",
        "- **lambda** is an expression used to create python functions without needing to name them specifically, in this case we are asking to merge our dataframes from left to right, so metadata_d first and then gene_presence_data.\n",
        "- **reduce** is a function that allow us to repeat a particular function on a list of objects. This was done because the merge function only takes 2 dataframes at the time, but we have 3. This way we can include as many dataframes we want to merge in our **df_list**.\n",
        "- The function **merge()**, allows to pass the parameter **(on =\"Isolate\")**, which will ensure that each isolate number is correctly matched for all 3 data sources, the parameter **(how=\"inner\")** will make sure that isolates without a match are not included in the final dataframe.\n",
        "\n"
      ]
    },
    {
      "cell_type": "code",
      "source": [
        "# List of all 3 data sources\n",
        "df_list = [metadata_d,gene_presence_data,pop_struc_data]\n",
        "\n",
        "# creating a single dataframe with all drugs and features available\n",
        "Drug_df = reduce(lambda  left,right: pd.merge(left,right,on=['Isolate'], how='inner'), df_list)\n",
        "Drug_df.head()"
      ],
      "metadata": {
        "id": "ZJ-djVsI-KZN"
      },
      "execution_count": null,
      "outputs": []
    },
    {
      "cell_type": "markdown",
      "source": [
        "- Notice that the number of rows is now correctly matched with Isolate number, yielding a total of 1936 rows as in the metadata.\n",
        "\n",
        "- Also we now have a bunch of columns that currently include:\n",
        "  - **1 isolate column** these are the unique tags for each of our isolates.\n",
        "  - **12 labels**, one for each drug we will try to make predictions for.\n",
        "  - **18291 features** that we will be using to make prediction for the labels (isolation year, gene presence or absence and population structure).\n"
      ],
      "metadata": {
        "id": "EQb3vLiBvzc-"
      }
    },
    {
      "cell_type": "code",
      "source": [
        "# Check out all the columns included in the final dataframe and the final shape it takes\n",
        "print(Drug_df.columns) # contains all labels (drug abreviation column names)\n",
        "                       # and all features (year, gene presence absence and population structure)\n",
        "\n",
        "print(\"Final shape of combined dataframe\",Drug_df.shape)"
      ],
      "metadata": {
        "id": "gZ8nRJbyEcqR"
      },
      "execution_count": null,
      "outputs": []
    },
    {
      "cell_type": "markdown",
      "source": [
        "#### **b)** Convert the Dataframe into a CSV and save it in a folder\n"
      ],
      "metadata": {
        "id": "e46_GO8oBZDY"
      }
    },
    {
      "cell_type": "markdown",
      "source": [
        "After running the code below, feel free to check your Drive to make sure that you have a folder named **\"EColi_ML_CSV_files\"** and that inside you have a csv called **\"EColi_Merged_dfs.csv\"**"
      ],
      "metadata": {
        "id": "5vXvlPet4_Nq"
      }
    },
    {
      "cell_type": "code",
      "source": [
        "# makes a directory to save all your csv's\n",
        "# Note that if you have already done this – you will get an error message saying that the File exists.\n",
        "os.mkdir('/content/drive/My Drive/EColi_ML_CSV_files')"
      ],
      "metadata": {
        "id": "u6kxDEBFQFvN"
      },
      "execution_count": null,
      "outputs": []
    },
    {
      "cell_type": "code",
      "source": [
        "# path where we will store csv data #change to any path you want\n",
        "path = '/content/drive/My Drive/EColi_ML_CSV_files/'\n",
        "\n",
        "# this code exports the dataframe into a CSV file\n",
        "Drug_df.to_csv(path+\"EColi_Merged_dfs.csv\", index= False)"
      ],
      "metadata": {
        "id": "ybMK68f0D5Ge"
      },
      "execution_count": null,
      "outputs": []
    },
    {
      "cell_type": "markdown",
      "source": [
        "THANKS for making it this far! Now that our data is ready, we will learn how to create and train different Machine Learning algorythms using the csv file we just created. In the next Notebook, we will learn about our first algorithm for this tutorial series, [Logistic Regression](https://colab.research.google.com/drive/1iEivJY3SuMdngpakRIv5mdmUjvOi1stC?usp=sharing)."
      ],
      "metadata": {
        "id": "-wo5-2NeifSt"
      }
    }
  ]
}