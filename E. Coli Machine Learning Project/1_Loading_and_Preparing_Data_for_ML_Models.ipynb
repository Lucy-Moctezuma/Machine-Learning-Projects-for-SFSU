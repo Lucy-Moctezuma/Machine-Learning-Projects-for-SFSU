{
  "nbformat": 4,
  "nbformat_minor": 0,
  "metadata": {
    "colab": {
      "provenance": [],
      "include_colab_link": true
    },
    "kernelspec": {
      "name": "python3",
      "display_name": "Python 3"
    },
    "language_info": {
      "name": "python"
    }
  },
  "cells": [
    {
      "cell_type": "markdown",
      "metadata": {
        "id": "view-in-github",
        "colab_type": "text"
      },
      "source": [
        "<a href=\"https://colab.research.google.com/github/Lucy-Moctezuma/SFSU-CodeLab-Work-/blob/main/E.%20Coli%20Machine%20Learning%20Project/1_Loading_and_Preparing_Data_for_ML_Models.ipynb\" target=\"_parent\"><img src=\"https://colab.research.google.com/assets/colab-badge.svg\" alt=\"Open In Colab\"/></a>"
      ]
    },
    {
      "cell_type": "markdown",
      "metadata": {
        "id": "0jr_YDcEQgNX"
      },
      "source": [
        "# **Welcome to Antibiotic Resistance Prediction for E.Coli using Machine Learning**\n",
        "\n",
        "### ***Summary***:\n",
        "\n",
        "Antibiotic resistance has become a global public health concern. Bacteria are evolving resistance to the current arsenal of prescribed antibiotics resulting in strains that are developing multi-drug resistance. Currently, doctors and clinics often perform traditional culture-based assays (i.e., testing whether a drug would kill the bacteria in a petri dish) to determine antibiotic resistance in bacterial strains. Alternatively, clinics can also choose to sequence these strains. These sequences can then be analyzed in order to predict if it will show resistance to a certain drug. There are different ways to perform the analysis and Machine Learning is one of them. This series of tutorials intends to help students understand how to do such analysis.\n",
        "\n",
        "We will process publically available whole genome sequences of *E. coli* strains to create Logistic Regression, Random Forest, Gradient Boosted Trees, and Neural Network models to predict **Resistance (R)** and **Susceptibility (S)** for each strain. The strains have already been tested in the lab, so we will\n",
        "later be able to compare the predictions made by our Machine Learning models with the traditional culture-based assays results in order to determine the performance for each of these models. \n",
        "   \n",
        "\n",
        "### ***Data origin***:\n",
        "**Publication**: \n",
        "Moradigaravand D, Palm M, Farewell A, Mustonen V, Warringer J, Parts L (2018) Prediction of antibiotic resistance in *Escherichia coli* from large-scale pan-genome data. PLoS Comput Biol 14(12): e1006258. https://doi.org/10.1371/journal.pcbi.1006258\n",
        "\n",
        "**Github page**: https://github.com/DaneshMoradigaravand/PanPred\n",
        "\n",
        "### ***Objectives of this Notebook***:\n",
        "\n",
        "- The Objective of this notebook is to explore and undertand the data we will be using as features to predict S or R in *E.coli* Bacteria for several drugs.\n",
        "This tutorial will use the features of **Year of Isolation (Y)**, **Gene Absence or Presence (G)** and **Population Structure (S)**.\n",
        "\n",
        "- In addition we will learn how to clean up and preprocess our data before feeding it into different machine learning algorythms."
      ]
    },
    {
      "cell_type": "markdown",
      "metadata": {
        "id": "ngBJdN83RUQd"
      },
      "source": [
        "## **1) Importing all necessary packages for Dataframe Manipulation**\n",
        "\n",
        "The code below will allow you to import the packages needed to load  pre-process the data used for our models. \n",
        "\n",
        "**NOTE:** Please allow access to your google drive when prompted, this will let you create and store the files in your drive to be accessed later by subsequent notebooks as we make progress towards getting our final results."
      ]
    },
    {
      "cell_type": "code",
      "execution_count": null,
      "metadata": {
        "id": "1t5OCYkUQUXl"
      },
      "outputs": [],
      "source": [
        "# Data Wrangling Imports\n",
        "import pandas as pd\n",
        "import numpy as np\n",
        "from functools import reduce\n",
        "\n",
        "# File Manipulation Imports\n",
        "import os\n",
        "from google.colab import drive\n",
        "drive.mount('/content/drive')\n"
      ]
    },
    {
      "cell_type": "markdown",
      "metadata": {
        "id": "JxYf9QKSTHIA"
      },
      "source": [
        "## **2) Loading all Feature Datasets used for Predictions**\n",
        "\n",
        "The features from the paper we will use for this workshop are: \n",
        "\n",
        "**a) Metadata**: Year of isolation and results from Antimicrobial Susceptibility Testing.\n",
        "\n",
        "**b) Gene Presence and Absence**: Coding regions converted to proteins and ortholog accessory genes.\n",
        "\n",
        "**c) Population Structure**: Clusters based on SNP distance (number of differing sites) for core genome."
      ]
    },
    {
      "cell_type": "code",
      "execution_count": null,
      "metadata": {
        "id": "BBnyyyEUTSqx"
      },
      "outputs": [],
      "source": [
        "# assign to url variable for each csv file\n",
        "metadata_url = 'https://raw.githubusercontent.com/DaneshMoradigaravand/PanPred/master/test_data/Metadata.csv'\n",
        "gene_presence_url = 'https://raw.githubusercontent.com/DaneshMoradigaravand/PanPred/master/test_data/AccessoryGene.csv'\n",
        "pop_struc_url = 'https://raw.githubusercontent.com/DaneshMoradigaravand/PanPred/master/test_data/PopulationStructure.csv_labelencoded.csv'\n",
        "\n",
        "\n",
        "# load csv files into the notebook\n",
        "metadata = pd.read_csv(metadata_url)\n",
        "gene_presence_data = pd.read_csv(gene_presence_url)\n",
        "pop_struc_data = pd.read_csv(pop_struc_url)"
      ]
    },
    {
      "cell_type": "markdown",
      "metadata": {
        "id": "4WvL6LNaUy1f"
      },
      "source": [
        "### **a) Metadata:**\n",
        "**Columns Summary:**\n",
        "\n",
        "- **Isolate number**: Unique number assigned to identify a particular strain of *E. coli* Bacteria. Thus we will refer to each row of our dataset as an \"Isolate\" from now on.\n",
        "- **Year of Isolation**: The year in which a particular bacteria strain was separated from it's natural environment, thus the name isolate.\n",
        "- **Antibiotic drug**: There are 12 antibiotic drug columns named after their 3 letter abbreviation adopted from the \"British Society of Antimicrobial Chemotherapy\".\n",
        "\n",
        "|Abreviation|Class: Subclass|Full name|\n",
        "|:----------|:--------------|:--------|\n",
        "|**CTZ**|Beta-lactams: Cephalosporins|Ceftazidime|\n",
        "|**CTX**|Beta-lactams: Cephalosporins|Cefotaxime |\n",
        "|**CXM**|Beta-lactams: Cephalosporins|Cefuroxime|\n",
        "|**CET**|Beta-lactams: Cephalosporins|Cephalothin|\n",
        "|**AMP**|Beta-lactams: Penicillin|Ampicillin|\n",
        "|**AMX**|Beta-lactams: Penicillin|Amoxicillin|\n",
        "|**AMC**|Beta-lactams: Penicillin|Amoxicillin + Clavulanate potassium|\n",
        "|**TZP**|Beta-lactams: Piperacillin|Tazobactam|\n",
        "|**GEN**|Aminoglycosides|Gentamicin|\n",
        "|**TBM**|Aminoglycosides|Tobramycin|\n",
        "|**TMP**|Antifolate|Trimethoprim|\n",
        "|**CIP**|Fluoroquinolones|Ciprofloxacin|\n"
      ]
    },
    {
      "cell_type": "code",
      "execution_count": null,
      "metadata": {
        "id": "5YUUNiBET1Ra"
      },
      "outputs": [],
      "source": [
        "# Visualize the first 5 rows of our dataframe\n",
        "metadata.head()"
      ]
    },
    {
      "cell_type": "markdown",
      "source": [
        "**Determination of Resistant(R) and Susceptible(S) labels:**\n",
        "\n",
        "**Antimicrobial Susceptibility Testing**: Wet Lab test where a particular concentrations of a drug are tested for each bacteria isolate to determine whether it is Susceptible(S), Intermermediate (I) or Resistance(R).\n",
        "\n",
        "- **Clinical Breakpoints**: Each of the drugs listed in the chart have a different concentration (clinical breakpoint) used to determined the Susceptibility or Resistance of *E. coli* to that drug. These concentrations are agreed upon different factors in consideration and can vary year to year given new discoveries. They serve as a guiding tool for clinicians to prescribe a particular antibiotic drug and appropiate dose for patients.\n",
        "\n",
        "- **Susceptible (S) & Resistant (R)** results from the Wet lab tests were determined based on the series of guidelines from the [European Committee on Antimicrobial Susceptibility Testing (EUCAST)](https://www.eucast.org/videos_and_online_seminars/english) on 25/01/2017. For this study, isolates that were classified as Intermediate(I) were lumped together with the Resistant ones.\n",
        "\n",
        "**Note**: NaN was used to mark data those Isolates that did not test with a particular drug."
      ],
      "metadata": {
        "id": "EAC_rwqPFW7Q"
      }
    },
    {
      "cell_type": "code",
      "execution_count": null,
      "metadata": {
        "colab": {
          "base_uri": "https://localhost:8080/"
        },
        "id": "NVwnOJwTW3mI",
        "outputId": "8491cbef-3223-4d6c-aa23-316fcf3f83ef"
      },
      "outputs": [
        {
          "output_type": "execute_result",
          "data": {
            "text/plain": [
              "(1936, 14)"
            ]
          },
          "metadata": {},
          "execution_count": 4
        }
      ],
      "source": [
        "# Observe the shape and size of the dataframe\n",
        "metadata.shape"
      ]
    },
    {
      "cell_type": "markdown",
      "source": [
        "The code above can show us the shape of our entire dataframe in the following format: **(Row count, Column count)** \n",
        "\n",
        "**a) Row count**: There is a total of 1936 Isolates of E.Coli Bacteria.\n",
        "\n",
        "**b) Column count**: is 17199 = Isolate number(1) + coding_genes(3815) + other_genes(13383)\n"
      ],
      "metadata": {
        "id": "mTND4xYDC36D"
      }
    },
    {
      "cell_type": "markdown",
      "metadata": {
        "id": "w-BsU58aWtrT"
      },
      "source": [
        "### **b) Gene presence and absence:**\n",
        "\n",
        "**Genes:** Are a chunks of DNA that can have different sizes. Some genes code for specific proteins and their function is fairly well understood, whereas other genes function are not well understood yet. Genes can be generally classified into:  \n",
        "\n",
        "- **Core Genome:** These are the genes that are present in almost all individuals for a particular species. In our case, they are the genes that all our *E.coli* isolates have in common.\n",
        "\n",
        "- **Accessory Genes:** These are the genes that might be found in one individual but may not be found in another, within the same species. These would be the genes that are unique to each of our *E. coli* isolate.\n",
        "\n",
        "- **Pan-genome:** These are all the possible genes that can be found in a particular species. That is they are all the gene presents present in our *E. coli* isolates (Pan-genome = Core Genome + Accesory Genes).\n",
        "\n",
        "The code below will show us the dataframe containing the presence and absence of all the genes detected in for each isolate. \n",
        "- **0** = Absence of the gene\n",
        "- **1** = Presence of the gene."
      ]
    },
    {
      "cell_type": "code",
      "execution_count": null,
      "metadata": {
        "id": "Bxqk3-mdT_an"
      },
      "outputs": [],
      "source": [
        "# Visualize the first 5 rows of dataframe\n",
        "gene_presence_data.head()"
      ]
    },
    {
      "cell_type": "markdown",
      "source": [
        "As mentioned above, not all genes code for proteins thus the author has separated them in 2 sets of genes that were named differently:\n",
        "\n",
        "**1) Known Coding regions**: which were extracted from the annotated DNA sequences and named after the protein they encode.\n",
        "\n",
        "In the code below we can take a look at all the names of the coding genes because **they do not have the word \"group\"** in them."
      ],
      "metadata": {
        "id": "dty0oXYeVOLc"
      }
    },
    {
      "cell_type": "code",
      "execution_count": null,
      "metadata": {
        "id": "pWm2B9qc-iXT"
      },
      "outputs": [],
      "source": [
        "# this code will output the list of coding gene names and the lenght of it \n",
        "coding_genes = [col for col in gene_presence_data.drop(columns=[\"Unnamed: 0\"]).columns if 'group' not in col]\n",
        "print(\"List of coding_genes:\")\n",
        "print(coding_genes)\n",
        "print(\"Total number of coding genes included: \", len(coding_genes))"
      ]
    },
    {
      "cell_type": "markdown",
      "source": [
        "**2) Unknown regions**: were the DNA sequences that do not encode a specific protein but that are grouped based on **orthologous gene groups**. This means that these are sequences where we don't necessarily know their function, but we know that they exist in many of the E coli isolates, **they get a name that starts with \"group\"**.\n",
        "\n",
        "**Homologous genes**: meaning these genes derive from the same ancestral gene. Homologous genes can either be:\n",
        "\n",
        "- **Orthologs**: these are sequences where we don't necessarily know their function, but we know that they exist in many of the E coli isolates. For our purposes, these are all the *E. coli* isolates that belong to a particular group. \n",
        "- **Paralogs**: are sequences generated through gene duplication in the same species genome and are responsible for alternate versions of a particular gene.\n",
        "\n",
        "Below is a diagram that illustrates these relationships:\n",
        "\n",
        "![homologous genes.png](https://drive.google.com/uc?export=view&id=1Bw9GFxV5QLfbkZ74lP8z40iAlFlSEMN-)\n",
        "\n",
        "In the graph above all versions of the paralog gene A (i.e, A1, A2, A3, ...etc) are part of the group A. Similarly all versions of the paralog gene B, are grouped into the group B. When we run our code below, note that instead of naming the groups A or B or any other letter, they have decided to label it with specific numbers.\n",
        "\n",
        "\n"
      ],
      "metadata": {
        "id": "yWTFP7K3VRlK"
      }
    },
    {
      "cell_type": "code",
      "source": [
        "# this code will output all the \"ortholog gene groups\", whose function we are not certain of but that we know descend from a common ancetral gene\n",
        "other_genes = [col for col in gene_presence_data.drop(columns=[\"Unnamed: 0\"]).columns if 'group' in col]\n",
        "print(\"List of NON coding_genes:\")\n",
        "print(other_genes)\n",
        "print(\"Total number of NON coding genes included: \", len(other_genes))"
      ],
      "metadata": {
        "id": "g5Upy8PVeK0h"
      },
      "execution_count": null,
      "outputs": []
    },
    {
      "cell_type": "markdown",
      "source": [
        "**NOTE:** The code below for instance is showing us which Isolates have the ortholog gene group called **\"group_13605\"** In this case we have 8 isolates that have this gene."
      ],
      "metadata": {
        "id": "ei8QZAHblFSu"
      }
    },
    {
      "cell_type": "code",
      "source": [
        "# the code below prints all the isolate numbers that have a 1 (presence) for a particular group\n",
        "print(gene_presence_data[gene_presence_data[\"group_13605\" ]== 1][\"Unnamed: 0\"])"
      ],
      "metadata": {
        "id": "o6HupqNmDblj"
      },
      "execution_count": null,
      "outputs": []
    },
    {
      "cell_type": "markdown",
      "source": [
        "The code below can show us the shape of our entire dataframe in the following format: **(Row count, Column count)** \n",
        "\n",
        "**a) Row count**: Notice that the number of isolates is 2033, whereas in the Metadata file there were only 1936. We can only work with isolates fo which we have metadata, so later on we will filter out the ones that do not have a corresponding metadata.\n",
        "\n",
        "**b) Column count**: The number of columns is 17199 = Isolate number(1) + coding_genes(3815) + other_genes(13383)"
      ],
      "metadata": {
        "id": "7_W2zD80nFX7"
      }
    },
    {
      "cell_type": "code",
      "execution_count": null,
      "metadata": {
        "id": "0tqRCFBNYQ4M"
      },
      "outputs": [],
      "source": [
        "# Observe the shape and size of the dataframe\n",
        "gene_presence_data.shape"
      ]
    },
    {
      "cell_type": "markdown",
      "metadata": {
        "id": "DrGLKpOxWclE"
      },
      "source": [
        "### **c) Population structure data:**\n",
        "\n",
        "**Population structure** is defined as the organization of genetic variation in a population or species. It is basically about how similar (genetically) different isolates are. The idea is that isolates that are genetically similar, are maybe likely to have the same resistance profile."
      ]
    },
    {
      "cell_type": "code",
      "execution_count": null,
      "metadata": {
        "colab": {
          "base_uri": "https://localhost:8080/",
          "height": 317
        },
        "id": "0zGsWuZkT_S8",
        "outputId": "7b48eb0a-a8d2-4c2e-d26a-2e5ad468b13c"
      },
      "outputs": [
        {
          "output_type": "execute_result",
          "data": {
            "text/plain": [
              "   Unnamed: 0  cutoff_2  cutoff_3  cutoff_4  cutoff_5  cutoff_6  cutoff_7  \\\n",
              "0  11657_5#10         0         0         0         0         0         0   \n",
              "1  11657_5#11      1045      1043      1038      1033      1032      1031   \n",
              "2  11657_5#12      1156      1154      1149      1144      1143      1142   \n",
              "3  11657_5#13      1267      1265      1260      1255      1254      1253   \n",
              "4  11657_5#14      1378      1376      1371      1366      1365      1364   \n",
              "\n",
              "   cutoff_8  cutoff_9  cutoff_10  ...  cutoff_25459  cutoff_25654  \\\n",
              "0         0         0          0  ...             0             0   \n",
              "1      1029      1026       1016  ...             0             0   \n",
              "2      1140      1137       1127  ...             0             0   \n",
              "3      1251      1248       1238  ...             0             0   \n",
              "4      1362      1359       1349  ...             0             0   \n",
              "\n",
              "   cutoff_25772  cutoff_25979  cutoff_26792  cutoff_27119  cutoff_27236  \\\n",
              "0             0             0             0             0             0   \n",
              "1             0             0             0             0             0   \n",
              "2             0             0             0             0             0   \n",
              "3             0             0             0             0             0   \n",
              "4             0             0             0             0             0   \n",
              "\n",
              "   cutoff_27248  cutoff_27690  cutoff_45092  \n",
              "0             0             0             0  \n",
              "1             0             0             0  \n",
              "2             0             0             0  \n",
              "3             0             0             0  \n",
              "4             0             0             0  \n",
              "\n",
              "[5 rows x 1072 columns]"
            ],
            "text/html": [
              "\n",
              "  <div id=\"df-499da898-e7e3-4b44-968d-c8800250cc94\">\n",
              "    <div class=\"colab-df-container\">\n",
              "      <div>\n",
              "<style scoped>\n",
              "    .dataframe tbody tr th:only-of-type {\n",
              "        vertical-align: middle;\n",
              "    }\n",
              "\n",
              "    .dataframe tbody tr th {\n",
              "        vertical-align: top;\n",
              "    }\n",
              "\n",
              "    .dataframe thead th {\n",
              "        text-align: right;\n",
              "    }\n",
              "</style>\n",
              "<table border=\"1\" class=\"dataframe\">\n",
              "  <thead>\n",
              "    <tr style=\"text-align: right;\">\n",
              "      <th></th>\n",
              "      <th>Unnamed: 0</th>\n",
              "      <th>cutoff_2</th>\n",
              "      <th>cutoff_3</th>\n",
              "      <th>cutoff_4</th>\n",
              "      <th>cutoff_5</th>\n",
              "      <th>cutoff_6</th>\n",
              "      <th>cutoff_7</th>\n",
              "      <th>cutoff_8</th>\n",
              "      <th>cutoff_9</th>\n",
              "      <th>cutoff_10</th>\n",
              "      <th>...</th>\n",
              "      <th>cutoff_25459</th>\n",
              "      <th>cutoff_25654</th>\n",
              "      <th>cutoff_25772</th>\n",
              "      <th>cutoff_25979</th>\n",
              "      <th>cutoff_26792</th>\n",
              "      <th>cutoff_27119</th>\n",
              "      <th>cutoff_27236</th>\n",
              "      <th>cutoff_27248</th>\n",
              "      <th>cutoff_27690</th>\n",
              "      <th>cutoff_45092</th>\n",
              "    </tr>\n",
              "  </thead>\n",
              "  <tbody>\n",
              "    <tr>\n",
              "      <th>0</th>\n",
              "      <td>11657_5#10</td>\n",
              "      <td>0</td>\n",
              "      <td>0</td>\n",
              "      <td>0</td>\n",
              "      <td>0</td>\n",
              "      <td>0</td>\n",
              "      <td>0</td>\n",
              "      <td>0</td>\n",
              "      <td>0</td>\n",
              "      <td>0</td>\n",
              "      <td>...</td>\n",
              "      <td>0</td>\n",
              "      <td>0</td>\n",
              "      <td>0</td>\n",
              "      <td>0</td>\n",
              "      <td>0</td>\n",
              "      <td>0</td>\n",
              "      <td>0</td>\n",
              "      <td>0</td>\n",
              "      <td>0</td>\n",
              "      <td>0</td>\n",
              "    </tr>\n",
              "    <tr>\n",
              "      <th>1</th>\n",
              "      <td>11657_5#11</td>\n",
              "      <td>1045</td>\n",
              "      <td>1043</td>\n",
              "      <td>1038</td>\n",
              "      <td>1033</td>\n",
              "      <td>1032</td>\n",
              "      <td>1031</td>\n",
              "      <td>1029</td>\n",
              "      <td>1026</td>\n",
              "      <td>1016</td>\n",
              "      <td>...</td>\n",
              "      <td>0</td>\n",
              "      <td>0</td>\n",
              "      <td>0</td>\n",
              "      <td>0</td>\n",
              "      <td>0</td>\n",
              "      <td>0</td>\n",
              "      <td>0</td>\n",
              "      <td>0</td>\n",
              "      <td>0</td>\n",
              "      <td>0</td>\n",
              "    </tr>\n",
              "    <tr>\n",
              "      <th>2</th>\n",
              "      <td>11657_5#12</td>\n",
              "      <td>1156</td>\n",
              "      <td>1154</td>\n",
              "      <td>1149</td>\n",
              "      <td>1144</td>\n",
              "      <td>1143</td>\n",
              "      <td>1142</td>\n",
              "      <td>1140</td>\n",
              "      <td>1137</td>\n",
              "      <td>1127</td>\n",
              "      <td>...</td>\n",
              "      <td>0</td>\n",
              "      <td>0</td>\n",
              "      <td>0</td>\n",
              "      <td>0</td>\n",
              "      <td>0</td>\n",
              "      <td>0</td>\n",
              "      <td>0</td>\n",
              "      <td>0</td>\n",
              "      <td>0</td>\n",
              "      <td>0</td>\n",
              "    </tr>\n",
              "    <tr>\n",
              "      <th>3</th>\n",
              "      <td>11657_5#13</td>\n",
              "      <td>1267</td>\n",
              "      <td>1265</td>\n",
              "      <td>1260</td>\n",
              "      <td>1255</td>\n",
              "      <td>1254</td>\n",
              "      <td>1253</td>\n",
              "      <td>1251</td>\n",
              "      <td>1248</td>\n",
              "      <td>1238</td>\n",
              "      <td>...</td>\n",
              "      <td>0</td>\n",
              "      <td>0</td>\n",
              "      <td>0</td>\n",
              "      <td>0</td>\n",
              "      <td>0</td>\n",
              "      <td>0</td>\n",
              "      <td>0</td>\n",
              "      <td>0</td>\n",
              "      <td>0</td>\n",
              "      <td>0</td>\n",
              "    </tr>\n",
              "    <tr>\n",
              "      <th>4</th>\n",
              "      <td>11657_5#14</td>\n",
              "      <td>1378</td>\n",
              "      <td>1376</td>\n",
              "      <td>1371</td>\n",
              "      <td>1366</td>\n",
              "      <td>1365</td>\n",
              "      <td>1364</td>\n",
              "      <td>1362</td>\n",
              "      <td>1359</td>\n",
              "      <td>1349</td>\n",
              "      <td>...</td>\n",
              "      <td>0</td>\n",
              "      <td>0</td>\n",
              "      <td>0</td>\n",
              "      <td>0</td>\n",
              "      <td>0</td>\n",
              "      <td>0</td>\n",
              "      <td>0</td>\n",
              "      <td>0</td>\n",
              "      <td>0</td>\n",
              "      <td>0</td>\n",
              "    </tr>\n",
              "  </tbody>\n",
              "</table>\n",
              "<p>5 rows × 1072 columns</p>\n",
              "</div>\n",
              "      <button class=\"colab-df-convert\" onclick=\"convertToInteractive('df-499da898-e7e3-4b44-968d-c8800250cc94')\"\n",
              "              title=\"Convert this dataframe to an interactive table.\"\n",
              "              style=\"display:none;\">\n",
              "        \n",
              "  <svg xmlns=\"http://www.w3.org/2000/svg\" height=\"24px\"viewBox=\"0 0 24 24\"\n",
              "       width=\"24px\">\n",
              "    <path d=\"M0 0h24v24H0V0z\" fill=\"none\"/>\n",
              "    <path d=\"M18.56 5.44l.94 2.06.94-2.06 2.06-.94-2.06-.94-.94-2.06-.94 2.06-2.06.94zm-11 1L8.5 8.5l.94-2.06 2.06-.94-2.06-.94L8.5 2.5l-.94 2.06-2.06.94zm10 10l.94 2.06.94-2.06 2.06-.94-2.06-.94-.94-2.06-.94 2.06-2.06.94z\"/><path d=\"M17.41 7.96l-1.37-1.37c-.4-.4-.92-.59-1.43-.59-.52 0-1.04.2-1.43.59L10.3 9.45l-7.72 7.72c-.78.78-.78 2.05 0 2.83L4 21.41c.39.39.9.59 1.41.59.51 0 1.02-.2 1.41-.59l7.78-7.78 2.81-2.81c.8-.78.8-2.07 0-2.86zM5.41 20L4 18.59l7.72-7.72 1.47 1.35L5.41 20z\"/>\n",
              "  </svg>\n",
              "      </button>\n",
              "      \n",
              "  <style>\n",
              "    .colab-df-container {\n",
              "      display:flex;\n",
              "      flex-wrap:wrap;\n",
              "      gap: 12px;\n",
              "    }\n",
              "\n",
              "    .colab-df-convert {\n",
              "      background-color: #E8F0FE;\n",
              "      border: none;\n",
              "      border-radius: 50%;\n",
              "      cursor: pointer;\n",
              "      display: none;\n",
              "      fill: #1967D2;\n",
              "      height: 32px;\n",
              "      padding: 0 0 0 0;\n",
              "      width: 32px;\n",
              "    }\n",
              "\n",
              "    .colab-df-convert:hover {\n",
              "      background-color: #E2EBFA;\n",
              "      box-shadow: 0px 1px 2px rgba(60, 64, 67, 0.3), 0px 1px 3px 1px rgba(60, 64, 67, 0.15);\n",
              "      fill: #174EA6;\n",
              "    }\n",
              "\n",
              "    [theme=dark] .colab-df-convert {\n",
              "      background-color: #3B4455;\n",
              "      fill: #D2E3FC;\n",
              "    }\n",
              "\n",
              "    [theme=dark] .colab-df-convert:hover {\n",
              "      background-color: #434B5C;\n",
              "      box-shadow: 0px 1px 3px 1px rgba(0, 0, 0, 0.15);\n",
              "      filter: drop-shadow(0px 1px 2px rgba(0, 0, 0, 0.3));\n",
              "      fill: #FFFFFF;\n",
              "    }\n",
              "  </style>\n",
              "\n",
              "      <script>\n",
              "        const buttonEl =\n",
              "          document.querySelector('#df-499da898-e7e3-4b44-968d-c8800250cc94 button.colab-df-convert');\n",
              "        buttonEl.style.display =\n",
              "          google.colab.kernel.accessAllowed ? 'block' : 'none';\n",
              "\n",
              "        async function convertToInteractive(key) {\n",
              "          const element = document.querySelector('#df-499da898-e7e3-4b44-968d-c8800250cc94');\n",
              "          const dataTable =\n",
              "            await google.colab.kernel.invokeFunction('convertToInteractive',\n",
              "                                                     [key], {});\n",
              "          if (!dataTable) return;\n",
              "\n",
              "          const docLinkHtml = 'Like what you see? Visit the ' +\n",
              "            '<a target=\"_blank\" href=https://colab.research.google.com/notebooks/data_table.ipynb>data table notebook</a>'\n",
              "            + ' to learn more about interactive tables.';\n",
              "          element.innerHTML = '';\n",
              "          dataTable['output_type'] = 'display_data';\n",
              "          await google.colab.output.renderOutput(dataTable, element);\n",
              "          const docLink = document.createElement('div');\n",
              "          docLink.innerHTML = docLinkHtml;\n",
              "          element.appendChild(docLink);\n",
              "        }\n",
              "      </script>\n",
              "    </div>\n",
              "  </div>\n",
              "  "
            ]
          },
          "metadata": {},
          "execution_count": 10
        }
      ],
      "source": [
        "# Visualize the first 5 rows of dataframe\n",
        "pop_struc_data.head()"
      ]
    },
    {
      "cell_type": "markdown",
      "source": [
        "**1) Unnamed:0** column is the same as the **Isolate** column from the Metadata csv file.\n",
        "\n",
        "**2) cutoff_#**: the names of this set of columns represent the different cutoff values used to group isolates into different clusters. For instance cutoff value of 3 means that we have grouped together in a cluster if they have 3 or less differences (aka **SNPs**) between them . At the end of the process each isolate is classified into a different cluster depending on the cutoff value. Thus, each cutoff value should produce a different set of clusters. The numbers below each column are simply the reference number for each cluster, these are arbitraty.\n",
        "\n",
        "**NOTE:** **SNP (Single Nucleotide Polymorphism)** is a single difference on a one nucleotide in a particular gene when we have a pair of isolates being compared  in this case each isolate in the author's paper dataset has been compared to a main **reference genome EC958**. \n",
        "\n",
        "![SNP Picture.jpg](https://drive.google.com/uc?export=view&id=185p-fkkbtxiwu4TkZa6AZ6Dr6yya7pp6)\n",
        "\n",
        "\n"
      ],
      "metadata": {
        "id": "60ea64zRTk6j"
      }
    },
    {
      "cell_type": "markdown",
      "source": [
        "If the cutoff value is lower, we can expect that most isolates will not be grouped with any other isolate, making a higher number of clusters but each cluster would be composed of smaller sized groups. The sum of all the members for each cluster should yield our total number of isolates (i.e, 1936).\n",
        "- For example for the **cutoff_2008** we are considering all isolates that have 2008 or less SNPs. The code below shows us that for this cutoff value we have a total of 517 different clusters, each of them with a different number of isolates. For instance, we can see that for \"cluster 222\", we have 221 isolates."
      ],
      "metadata": {
        "id": "l41IKcAimcB0"
      }
    },
    {
      "cell_type": "code",
      "source": [
        "# code will count how many isolates belong to a particular cluster\n",
        "cutoff_2008= pd.DataFrame(pop_struc_data['cutoff_2008'].value_counts() )\n",
        "cutoff_2008"
      ],
      "metadata": {
        "id": "tSgESYmFvVfl"
      },
      "execution_count": null,
      "outputs": []
    },
    {
      "cell_type": "markdown",
      "source": [
        "If the cutoff value is high, we can expect that more isolates are grouped together with other isolates, making a lower number of clusters but most being grouped into a particular cluster. Just like before the sum of all the members for each cluster should equal to our total number of isolates (i.e, 1936).\n",
        "\n",
        "- For example if we increase the cutoff value to say **cutoff_27236**, we can observe that most isolates (1932) would fall in \"cluster 0\" with only a few isolates dispersed in other clusters.\n"
      ],
      "metadata": {
        "id": "IGlUDwM_Qv4J"
      }
    },
    {
      "cell_type": "code",
      "execution_count": null,
      "metadata": {
        "id": "jXcYjnbC-TOe"
      },
      "outputs": [],
      "source": [
        "# code will count how many isolates belong to a particular cluster\n",
        "cutoff_27236= pd.DataFrame(pop_struc_data['cutoff_27236'].value_counts() )\n",
        "cutoff_27236"
      ]
    },
    {
      "cell_type": "markdown",
      "source": [
        "Because there is no information about which cutoff value would yield us the best way to cluster our isolates or which cluster memberships are necessarily related to resistance (R) or susceptibility (S), the author included 1072 different cutoff values, each with their own clusters. \n",
        "\n",
        "Then we will trying to predict if a particular cluster membership will help us predict R or S for each cutoff value."
      ],
      "metadata": {
        "id": "_VGH2s8SbLMM"
      }
    },
    {
      "cell_type": "code",
      "execution_count": null,
      "metadata": {
        "id": "sbEVKLPaXekq"
      },
      "outputs": [],
      "source": [
        "# Observe the shape and size of the dataframe\n",
        "pop_struc_data.shape"
      ]
    },
    {
      "cell_type": "markdown",
      "metadata": {
        "id": "3t9WYR9IaMsH"
      },
      "source": [
        "### **3) Preparing each dataset in order to be combined**"
      ]
    },
    {
      "cell_type": "markdown",
      "metadata": {
        "id": "plGD7XyAbm3D"
      },
      "source": [
        "#### **a)** Matching the column name of the observations in all 3 Datasets"
      ]
    },
    {
      "cell_type": "code",
      "execution_count": null,
      "metadata": {
        "id": "OohyO6UPb8k9"
      },
      "outputs": [],
      "source": [
        "# rename all the df with \"Unnamed: 0\" columns as \"Isolate\"\n",
        "gene_presence_data = gene_presence_data.rename(columns={'Unnamed: 0' : 'Isolate'})\n",
        "pop_struc_data = pop_struc_data.rename(columns={'Unnamed: 0' : 'Isolate'})"
      ]
    },
    {
      "cell_type": "markdown",
      "metadata": {
        "id": "NHtyYdG8bbdc"
      },
      "source": [
        "#### **b)** Changing Metadata's Year column to One Hot encoded variables\n",
        "This is because even though year is a number, it is actually considered a categorical variable. The ratio between two years is not meaningful, so it is incorrect to keep it as a purely quantitative variable."
      ]
    },
    {
      "cell_type": "code",
      "execution_count": null,
      "metadata": {
        "id": "XnyaQXzgdXBw"
      },
      "outputs": [],
      "source": [
        "# This prints the years the strains were isolated\n",
        "year_list = metadata[\"Year\"].unique()\n",
        "year_list = year_list[np.logical_not(np.isnan(year_list))]\n",
        "print(sorted(year_list))"
      ]
    },
    {
      "cell_type": "markdown",
      "source": [
        "By creating one hot encoded variables from the Year column of the metadata, each of their rows are coded the following way:\n",
        "- **\"0\"** : Isolate was perfomed in a particular year\n",
        "- **\"1\"** : Isolate was not performed in a particular year"
      ],
      "metadata": {
        "id": "RWSQPKPXsfyW"
      }
    },
    {
      "cell_type": "code",
      "execution_count": null,
      "metadata": {
        "id": "f3AVedaEhLHI"
      },
      "outputs": [],
      "source": [
        "# creating one hot encoded variables from \"Year\" column to create a matrix of years\n",
        "metadata_d = pd.get_dummies(metadata,columns=[\"Year\"], dummy_na=False)\n",
        "metadata_d"
      ]
    },
    {
      "cell_type": "markdown",
      "metadata": {
        "id": "RSqc9UEt6LfI"
      },
      "source": [
        "### **4) Making a single dataframe using all 3 sources of data**"
      ]
    },
    {
      "cell_type": "markdown",
      "metadata": {
        "id": "-rFJqbnaAEqg"
      },
      "source": [
        "#### **a)** Joining all data sources into a single dataframe\n",
        "\n",
        "Note: The function **merge()**, allows to pass the parameter **(on =\"Isolate\")**, which will ensure that each isolate number is correctly matched for all 3 data sources, the parameter **(how=\"inner\")** will make sure that isolates without a match are not included in the final dataframe."
      ]
    },
    {
      "cell_type": "code",
      "source": [
        "# List of all 3 data sources\n",
        "df_list = [metadata_d,gene_presence_data,pop_struc_data]\n",
        "\n",
        "# creating a single dataframe with all drugs and features available\n",
        "Drug_df = reduce(lambda  left,right: pd.merge(left,right,on=['Isolate'], how='inner'), df_list)\n",
        "Drug_df.head()"
      ],
      "metadata": {
        "id": "ZJ-djVsI-KZN"
      },
      "execution_count": null,
      "outputs": []
    },
    {
      "cell_type": "markdown",
      "source": [
        "- Notice that the number of rows is now correctly matched with Isolate number, yielding a total of 1936 rows as in the metadata.\n",
        "\n",
        "- Also we now have a bunch of columns that currently include:\n",
        "  - **1 isolate column** these are the unique tags for each of our isolates.\n",
        "  - **12 labels**, one for each drug we will try to make predictions for. \n",
        "  - **18291 features** that we will be using to make prediction for the labels (isolation year, gene presence or absence and population structure).\n",
        " "
      ],
      "metadata": {
        "id": "EQb3vLiBvzc-"
      }
    },
    {
      "cell_type": "code",
      "source": [
        "# Check out all the columns included in the final dataframe and the final shape it takes\n",
        "print(Drug_df.columns) # contains all labels (drug abreviation column names) \n",
        "                       # and all features (year, gene presence absence and population structure)\n",
        "\n",
        "print(\"Final shape of combined dataframe\",Drug_df.shape)"
      ],
      "metadata": {
        "id": "gZ8nRJbyEcqR"
      },
      "execution_count": null,
      "outputs": []
    },
    {
      "cell_type": "markdown",
      "source": [
        "#### **b)** Convert the Dataframe into a CSV and save it in a folder\n"
      ],
      "metadata": {
        "id": "e46_GO8oBZDY"
      }
    },
    {
      "cell_type": "markdown",
      "source": [
        "After running the code below, feel free to check your Drive to make sure that you have a folder named **\"EColi_ML_CSV_files\"** and that inside you have a csv called **\"EColi_Merged_dfs.csv\"**"
      ],
      "metadata": {
        "id": "5vXvlPet4_Nq"
      }
    },
    {
      "cell_type": "code",
      "source": [
        "# makes a directory to save all your csv's\n",
        "os.mkdir('/content/drive/My Drive/EColi_ML_CSV_files')"
      ],
      "metadata": {
        "id": "u6kxDEBFQFvN"
      },
      "execution_count": null,
      "outputs": []
    },
    {
      "cell_type": "code",
      "source": [
        "# path where we will store csv data #change to any path you want\n",
        "path = '/content/drive/My Drive/EColi_ML_CSV_files/'\n",
        "\n",
        "# this code exports the dataframe into a CSV file\n",
        "Drug_df.to_csv(path+\"EColi_Merged_dfs.csv\", index= False)"
      ],
      "metadata": {
        "id": "ybMK68f0D5Ge"
      },
      "execution_count": null,
      "outputs": []
    },
    {
      "cell_type": "markdown",
      "source": [
        "THANKS for making it this far! Now that our data is ready the next Notebooks will deal with the creation and training of different algorythms using the dataframe we just created in this Notebook!!! "
      ],
      "metadata": {
        "id": "-wo5-2NeifSt"
      }
    }
  ]
}