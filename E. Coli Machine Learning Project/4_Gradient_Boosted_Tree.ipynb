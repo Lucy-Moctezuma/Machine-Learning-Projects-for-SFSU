{
  "nbformat": 4,
  "nbformat_minor": 0,
  "metadata": {
    "colab": {
      "provenance": [],
      "authorship_tag": "ABX9TyPvSByAudnncGa383HwvB7X",
      "include_colab_link": true
    },
    "kernelspec": {
      "name": "python3",
      "display_name": "Python 3"
    },
    "language_info": {
      "name": "python"
    }
  },
  "cells": [
    {
      "cell_type": "markdown",
      "metadata": {
        "id": "view-in-github",
        "colab_type": "text"
      },
      "source": [
        "<a href=\"https://colab.research.google.com/github/Lucy-Moctezuma/SFSU-CodeLab-Work-/blob/main/E.%20Coli%20Machine%20Learning%20Project/4_Gradient_Boosted_Tree.ipynb\" target=\"_parent\"><img src=\"https://colab.research.google.com/assets/colab-badge.svg\" alt=\"Open In Colab\"/></a>"
      ]
    },
    {
      "cell_type": "markdown",
      "source": [
        "# **Gradient Boosted Tree**"
      ],
      "metadata": {
        "id": "4s_KUXfGSthq"
      }
    },
    {
      "cell_type": "markdown",
      "source": [
        "### **1) Importing Packages needed**"
      ],
      "metadata": {
        "id": "fnpxHzYUUJ_M"
      }
    },
    {
      "cell_type": "code",
      "execution_count": null,
      "metadata": {
        "id": "eDa820s0JSoJ"
      },
      "outputs": [],
      "source": [
        "# Data manipulation imports for ML\n",
        "import pandas as pd\n",
        "import numpy as np\n",
        "from sklearn.model_selection import train_test_split\n",
        "\n",
        "# Import packages for Gradient-Boosted Tree model\n",
        "from xgboost import XGBClassifier\n",
        "from sklearn import preprocessing\n",
        "\n",
        "# Imports for model evaluation \n",
        "from sklearn import metrics\n",
        "from sklearn.metrics import classification_report, confusion_matrix, ConfusionMatrixDisplay\n",
        "\n",
        "# Imports for data visualization\n",
        "import matplotlib.pyplot as plt\n",
        "\n",
        "# Imports for file management\n",
        "import os\n",
        "from google.colab import drive\n",
        "drive.mount('/content/drive')"
      ]
    },
    {
      "cell_type": "markdown",
      "source": [
        "### **2) Loading CSV file and creating dataframes for each antibiotic**"
      ],
      "metadata": {
        "id": "1MTk8vozVJqi"
      }
    },
    {
      "cell_type": "markdown",
      "source": [
        "#### **a) Loading CSV created from previous notebook**"
      ],
      "metadata": {
        "id": "QNuEJfKcVSLb"
      }
    },
    {
      "cell_type": "code",
      "source": [
        "# Loads csv file as a dataframe\n",
        "filepath = '/content/drive/My Drive/EColi_ML_CSV_files/'\n",
        "\n",
        "# reads csv file as a dataframe\n",
        "All_Drugs_df = pd.read_csv(filepath+\"EColi_Merged_dfs.csv\", na_values=\"NaN\")\n",
        "All_Drugs_df"
      ],
      "metadata": {
        "id": "psqfFp_yVsmy"
      },
      "execution_count": null,
      "outputs": []
    },
    {
      "cell_type": "markdown",
      "source": [
        "#### **b) Creating dataframes for each drug**"
      ],
      "metadata": {
        "id": "7R5n7AplVk-Y"
      }
    },
    {
      "cell_type": "code",
      "source": [
        "# creating a list of antibiotic names\n",
        "drug_list = All_Drugs_df.iloc[:,1:13].columns\n",
        "drug_list\n",
        "\n",
        "# creating a function that makes dataframes for each antibiotic and dropping NaN values\n",
        "def makeDF(drug):\n",
        "  df_list = [All_Drugs_df[[\"Isolate\",drug]],All_Drugs_df.iloc[:,13:]]\n",
        "  Drug_df = pd.concat(df_list, axis=1)\n",
        "  Drug_df = Drug_df.dropna()\n",
        "  return Drug_df\n",
        "\n",
        "# implementing function using as example the drug AMP\n",
        "AMP_df = makeDF(\"AMP\")\n",
        "\n",
        "# looking at the shape of AMP dataframe\n",
        "print(\"AMP dataframe shape: \", AMP_df.shape)\n",
        "\n",
        "# looking at the first 5 rows of this dataframe\n",
        "AMP_df.head()"
      ],
      "metadata": {
        "id": "lLeCU30hD0Wk"
      },
      "execution_count": null,
      "outputs": []
    },
    {
      "cell_type": "markdown",
      "source": [
        "### **3) Separating each Drug Dataframe into 4 sections : Training (features and labels) and Testing (features and labels)**"
      ],
      "metadata": {
        "id": "NMKzeaqPojso"
      }
    },
    {
      "cell_type": "markdown",
      "source": [
        "#### **a) Creating Testing and Training datasets for each antibiotic drug**"
      ],
      "metadata": {
        "id": "B2BblFQkce6s"
      }
    },
    {
      "cell_type": "code",
      "source": [
        "# Separating each dataframe into Labels and Features\n",
        "def Split_train_test(Drug_df,drug):\n",
        "  Train_test_dic = {}\n",
        "  labels = Drug_df[drug]\n",
        "  features = Drug_df.drop(columns=[drug])\n",
        "  features_train, features_test, labels_train, labels_test = train_test_split(features, labels, test_size=0.33, random_state=42)\n",
        "\n",
        "  Train_test_dic['labels_train'] = labels_train\n",
        "  Train_test_dic['features_train'] = features_train\n",
        "  Train_test_dic['labels_test'] = labels_test\n",
        "  Train_test_dic['features_test'] = features_test\n",
        "\n",
        "  return Train_test_dic\n",
        "\n",
        "# Implementing the function Split_train_test() for AMP example\n",
        "AMP_Train_test_dic = Split_train_test(AMP_df,\"AMP\")\n",
        "AMP_Train_test_dic[\"features_train\"]\n",
        "\n",
        "# checking the shape of each dataframe or series stored in the dictionary created for drug AMP\n",
        "print(\"AMP\")\n",
        "for k, df in AMP_Train_test_dic.items():\n",
        "  print(k, df.shape)"
      ],
      "metadata": {
        "id": "iP4HEW4qBO7l"
      },
      "execution_count": null,
      "outputs": []
    },
    {
      "cell_type": "markdown",
      "source": [
        "### **4) Creating different combination of features before training**"
      ],
      "metadata": {
        "id": "2IyqN506dQn4"
      }
    },
    {
      "cell_type": "code",
      "source": [
        "# making a list of combinations of data sources we would like to test in our ML models\n",
        "combo_list = ['G', 'S', 'GY', 'SY', 'GS', 'GYS'] \n",
        "\n",
        "# making a function that creates different feature combinations of the predictor features\n",
        "def combo_feat(features_df, drug, combo):\n",
        "\n",
        "  # creating Year column filters for features_df\n",
        "  year_filter = [col for col in features_df if col.startswith(\"Year\")]\n",
        "  year_feat = features_df[year_filter]\n",
        "\n",
        "  # creating Population structure column filters for features_df\n",
        "  pop_str_filter = [col for col in features_df if col.startswith(\"cutoff\")]\n",
        "  pop_struc_feat = features_df[pop_str_filter]\n",
        "\n",
        "  # creating Gene precence column filters for features_df\n",
        "  gene_presc_filter = [col for col in features_df.columns if col not in pop_str_filter and col not in year_filter and col != \"Isolate\"]\n",
        "  gene_presc_feat = features_df[gene_presc_filter]  \n",
        "\n",
        "  if combo == 'G':\n",
        "    df_list = [features_df['Isolate'], gene_presc_feat]\n",
        "    G_feat_df = pd.concat(df_list, axis=1)\n",
        "    G_feat_df = G_feat_df.drop(columns=['Isolate'])\n",
        "    return G_feat_df\n",
        "\n",
        "  if combo == 'S':\n",
        "    df_list = [features_df['Isolate'], pop_struc_feat]\n",
        "    S_feat_df = pd.concat(df_list, axis=1)\n",
        "    S_feat_df = S_feat_df.drop(columns=['Isolate'])\n",
        "    return S_feat_df\n",
        "\n",
        "  if combo == 'GY':\n",
        "    df_list = [features_df['Isolate'], gene_presc_feat, year_feat]\n",
        "    GY_feat_df = pd.concat(df_list, axis=1)\n",
        "    GY_feat_df = GY_feat_df.drop(columns=['Isolate'])\n",
        "    return GY_feat_df\n",
        "\n",
        "  if combo == 'SY':\n",
        "    df_list = [features_df['Isolate'], pop_struc_feat, year_feat]\n",
        "    SY_feat_df = pd.concat(df_list, axis=1)\n",
        "    SY_feat_df = SY_feat_df.drop(columns=['Isolate'])\n",
        "    return SY_feat_df\n",
        "\n",
        "  if combo == 'GS':\n",
        "    df_list = [features_df['Isolate'], gene_presc_feat, pop_struc_feat]\n",
        "    GS_feat_df = pd.concat(df_list, axis=1)\n",
        "    GS_feat_df = GS_feat_df.drop(columns=['Isolate'])\n",
        "    return GS_feat_df\n",
        "\n",
        "  if combo == 'GYS':\n",
        "    df_list = [features_df['Isolate'], gene_presc_feat, year_feat, pop_struc_feat, ]\n",
        "    GYS_feat_df = pd.concat(df_list, axis=1)\n",
        "    GYS_feat_df = GYS_feat_df.drop(columns=['Isolate'])\n",
        "    return GYS_feat_df\n",
        "\n",
        "# Implementing combo_feat() function created for training data\n",
        "AMP_SY_train_df = combo_feat(AMP_Train_test_dic['features_train'],\"AMP\",\"SY\")\n",
        "\n",
        "# looking only at the feature column names for the combination for \"SY\" for drug \"AMP\" for training data\n",
        "AMP_SY_train_df.columns"
      ],
      "metadata": {
        "id": "JmzbwQBxlylk"
      },
      "execution_count": null,
      "outputs": []
    },
    {
      "cell_type": "markdown",
      "source": [
        "### **5) Creating Gradient Boosted Trees model and training it per feature combination**"
      ],
      "metadata": {
        "id": "ZVOKCEZNeHzB"
      }
    },
    {
      "cell_type": "code",
      "source": [
        "# creating Gradient-Boosted Trees model function\n",
        "def run_GB(feat_train_df, lab_train, drug, combo):\n",
        "  labels = lab_train\n",
        "  le = preprocessing.LabelEncoder()\n",
        "  le.fit(labels)\n",
        "  labels_t = le.transform(labels)\n",
        "  print(drug +\" Training combo: \"+ combo)\n",
        "  GB =  XGBClassifier(random_state = 42)\n",
        "  GB = GB.fit(feat_train_df, labels_t)\n",
        "  return GB\n",
        "\n",
        "# implementing run_GB() for specific drug feature combination dataframe\n",
        "GB_AMP_SY_model = run_GB(AMP_SY_train_df, AMP_Train_test_dic['labels_train'],\"AMP\",\"SY\")\n",
        "GB_AMP_SY_model"
      ],
      "metadata": {
        "id": "QbEP2WYkWPxB"
      },
      "execution_count": null,
      "outputs": []
    },
    {
      "cell_type": "markdown",
      "source": [
        "### **6) Making predictions from Gradient Boosted Trees model**"
      ],
      "metadata": {
        "id": "1px3jn-Djn77"
      }
    },
    {
      "cell_type": "code",
      "execution_count": null,
      "metadata": {
        "id": "IzEGZrwHAZ3W"
      },
      "outputs": [],
      "source": [
        "# creating a function using the model created and trained and the feature combinations from testing data\n",
        "def predict(GB_combo_Model, features_test):\n",
        "  labels_pred = GB_combo_Model.predict(features_test)\n",
        "  return labels_pred\n",
        "\n",
        "# Implementing combo_feat() function created for testing data\n",
        "AMP_SY_test_df = combo_feat(AMP_Train_test_dic['features_test'],\"AMP\",\"SY\")\n",
        "\n",
        "# looking only at the feature column names for the combination for \"SY\" for drug \"AMP\" for testing data\n",
        "AMP_SY_test_df.columns\n",
        "\n",
        "# Implementation of the predict() function using the feature combination \"SY\"\n",
        "AMP_SY_labels_pred = predict(GB_AMP_SY_model,AMP_SY_test_df)\n",
        "\n",
        "# observe how many predictions were made for each category \"R\" and \"S\"\n",
        "print(\"Labels predicted: \", np.unique(AMP_SY_labels_pred, return_counts=True))"
      ]
    },
    {
      "cell_type": "markdown",
      "source": [
        "### **7) Evaluating our model using a confusion matrix and metrics**\n"
      ],
      "metadata": {
        "id": "5dox3JfFn5wz"
      }
    },
    {
      "cell_type": "code",
      "source": [
        "# Creating a function that evaluates our model using our actual and predicted data\n",
        "def evaluate(GB_combo_model, labels_test, labels_pred, cf= True):\n",
        "  labels = labels_test\n",
        "  le = preprocessing.LabelEncoder()\n",
        "  le.fit(labels)\n",
        "  labels_t = le.transform(labels)\n",
        "  report = classification_report(labels_t, labels_pred, output_dict = True)\n",
        "  accuracy = report['accuracy']\n",
        "  R_recall = report[\"0\"]['recall']# Resistant\n",
        "  S_recall = report[\"1\"]['recall']# Susceptible\n",
        "  if cf == True:\n",
        "    labels_pred = np.where(labels_pred<1,\"R\",\"S\")\n",
        "    cm = confusion_matrix(labels_test, labels_pred, labels=np.where(GB_combo_model.classes_<1,\"R\",\"S\"))\n",
        "    disp = ConfusionMatrixDisplay(confusion_matrix=cm, display_labels=np.where(GB_combo_model.classes_<1,\"R\",\"S\"))\n",
        "    disp.plot()\n",
        "    plt.show()\n",
        "  return [accuracy,R_recall,S_recall]\n",
        "\n",
        "# implementing the evaluate() function \n",
        "Model_Report = evaluate(GB_AMP_SY_model, AMP_Train_test_dic['labels_test'],AMP_SY_labels_pred)\n",
        "print(\"Results from Model for drug: AMP\")\n",
        "print(\"Using feature combination: SY\")\n",
        "print(\"Accuracy: \", Model_Report[0])\n",
        "print(\"R_f1_score: \", Model_Report[1])\n",
        "print(\"S_f1_score: \", Model_Report[2])"
      ],
      "metadata": {
        "id": "YJJmoOq-o97t"
      },
      "execution_count": null,
      "outputs": []
    },
    {
      "cell_type": "markdown",
      "source": [
        "### **8) Use all functions and evaluate every drug in every feature combination!**"
      ],
      "metadata": {
        "id": "N5lGr0hoDCip"
      }
    },
    {
      "cell_type": "markdown",
      "source": [
        "#### **a) Lets recall the list of drugs we have available and the combination of features we are interested in**"
      ],
      "metadata": {
        "id": "yExXAdaWZL4_"
      }
    },
    {
      "cell_type": "code",
      "source": [
        "# let's check all drugs\n",
        "print(drug_list)\n",
        "\n",
        "# let's see all combinations we are interested in\n",
        "print(combo_list)"
      ],
      "metadata": {
        "id": "51wJM2XUaxtQ"
      },
      "execution_count": null,
      "outputs": []
    },
    {
      "cell_type": "markdown",
      "source": [
        "#### **b) Create a loop that will go through all our functions using the lists above**"
      ],
      "metadata": {
        "id": "cZWO1rYocRQR"
      }
    },
    {
      "cell_type": "code",
      "source": [
        "# Lets use all our functions this time and save our report into a single data structure\n",
        "GB_model_metrics = {}\n",
        "\n",
        "for drug in drug_list:\n",
        "  print(drug)\n",
        "  Drug_df = makeDF(drug) # creates one df per drug\n",
        "  Test_Train_dic = Split_train_test(Drug_df, drug) # splits each drug df into a dictionary with testing and training data\n",
        "  for combo in combo_list:\n",
        "    # Training each drug_combo features\n",
        "    labels_train = Test_Train_dic[\"labels_train\"]\n",
        "    features_train = combo_feat(Test_Train_dic[\"features_train\"], drug, combo) # create corresponding feature_df for training\n",
        "    GB_combo_model = run_GB(features_train, labels_train, drug, combo) # runs logistic regression model using the corresponding training feature_df \n",
        "    \n",
        "    # Predicting each drug_combo features\n",
        "    features_test = combo_feat(Test_Train_dic[\"features_test\"], drug, combo) # create corresponding feature_df for testing\n",
        "    labels_pred = predict(GB_combo_model, features_test) # generate predictions based on the feature combination tested\n",
        "\n",
        "    # Evaluating our models\n",
        "    labels_test = Test_Train_dic[\"labels_test\"]\n",
        "    report = evaluate(GB_combo_model, labels_test, labels_pred, cf=False)\n",
        "    GB_model_metrics[drug+\"_\"+combo] = report\n",
        "    \n",
        "    print(report)"
      ],
      "metadata": {
        "id": "glSAeIj2DrnP"
      },
      "execution_count": null,
      "outputs": []
    },
    {
      "cell_type": "markdown",
      "source": [
        "#### **b) Store the metrics report for all drugs and features combinations as a csv file**"
      ],
      "metadata": {
        "id": "m8CQMKARZ1zC"
      }
    },
    {
      "cell_type": "code",
      "source": [
        "# convert dictionary into a dataframe\n",
        "GB_metrics = pd.DataFrame.from_dict(GB_model_metrics, orient='index',columns=[\"Accuracy\", \"R_f1_score\", \"S_f1_score\"]).reset_index()\n",
        "GB_metrics = GB_metrics.rename(columns = {'index':'Drug_combo'})\n",
        "\n",
        "# saving our metric results into a CSV file\n",
        "GB_metrics.to_csv(filepath+\"GB_metrics_df.csv\", index= False)\n",
        "GB_metrics\n"
      ],
      "metadata": {
        "id": "VmNdWS65fhRn"
      },
      "execution_count": null,
      "outputs": []
    },
    {
      "cell_type": "markdown",
      "source": [
        "#### **c) Create a bar graph showing accuracies of all drugs when using all features (SY)**"
      ],
      "metadata": {
        "id": "2-6NzvrsbZaH"
      }
    },
    {
      "cell_type": "code",
      "source": [
        "# filtering for all the rows that contain \n",
        "SY_filter = [drug_combo for drug_combo in GB_metrics['Drug_combo'] if drug_combo.endswith(\"SY\")]\n",
        "SY_df = GB_metrics.loc[GB_metrics[\"Drug_combo\"].isin(SY_filter)]\n",
        "\n",
        "# Figure Size\n",
        "fig = plt.figure(figsize =(20, 8))\n",
        "\n",
        "# Adding title\n",
        "plt.title('Accuracy, R_f1_scores and S_f1_scores', fontsize = 12)\n",
        "\n",
        "# Variables to be plotted \n",
        "x = np.arange(len(SY_df[\"Drug_combo\"]))\n",
        "acc = list(SY_df[\"Accuracy\"])\n",
        "R_f1 = list(SY_df[\"R_f1_score\"])\n",
        "S_f1 = list(SY_df[\"R_f1_score\"])\n",
        "\n",
        "# Plotting barcharts\n",
        "acc_bar=plt.bar(x-0.25, height= acc, width=0.25, color=\"darkgrey\", edgecolor=\"gray\")\n",
        "rf1_bar=plt.bar(x, height= R_f1, width=0.25, color=\"goldenrod\", align=\"center\", edgecolor=\"gray\")\n",
        "sf1_bar=plt.bar(x+0.25, height= S_f1, width=0.25, color=\"palegoldenrod\", edgecolor=\"gray\")\n",
        "\n",
        "plt.xticks([r for r in range(len(SY_df[\"Drug_combo\"]))],\n",
        "        SY_df[\"Drug_combo\"], fontsize = 12)\n",
        "\n",
        "#legend\n",
        "fig.legend([acc_bar,rf1_bar,sf1_bar],[\"Accuracy\", \"R_f1_score\", \"S_f1_score\"], bbox_to_anchor=(0.4,-0.35, 0.04, 0.4), fontsize=12)\n",
        "\n",
        "# Show Plot\n",
        "plt.show()"
      ],
      "metadata": {
        "id": "X408J96wZGD4"
      },
      "execution_count": null,
      "outputs": []
    }
  ]
}