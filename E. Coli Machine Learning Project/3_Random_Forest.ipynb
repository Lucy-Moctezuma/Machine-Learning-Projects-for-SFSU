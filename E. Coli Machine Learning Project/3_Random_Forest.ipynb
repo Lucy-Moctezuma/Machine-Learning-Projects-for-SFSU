{
  "nbformat": 4,
  "nbformat_minor": 0,
  "metadata": {
    "colab": {
      "provenance": [],
      "include_colab_link": true
    },
    "kernelspec": {
      "name": "python3",
      "display_name": "Python 3"
    },
    "language_info": {
      "name": "python"
    }
  },
  "cells": [
    {
      "cell_type": "markdown",
      "metadata": {
        "id": "view-in-github",
        "colab_type": "text"
      },
      "source": [
        "<a href=\"https://colab.research.google.com/github/Lucy-Moctezuma/Machine-Learning-Projects-for-SFSU/blob/main/E.%20Coli%20Machine%20Learning%20Project/3_Random_Forest.ipynb\" target=\"_parent\"><img src=\"https://colab.research.google.com/assets/colab-badge.svg\" alt=\"Open In Colab\"/></a>"
      ]
    },
    {
      "cell_type": "markdown",
      "source": [
        "# **Random Forest**\n",
        "## ***Objectives for this Notebook***\n",
        "- Familiarize with the basics of how tree models works, specifically Random Forests.\n",
        "- Implementing functions to run Random Forest to Moragadivand's dataset.\n",
        "\n",
        "<a name=\"tree-methods\"></a>\n",
        "Random Forests belong to a group of algorithms known as tree methods. A Random Forest model is also an Ensemble method. These methods use an arrangement of weaker predictor models (in this case Decision Trees) to produce a stronger model (in this case Random Forest). The basis of all tree methods is the Decision Tree. For those unfamiliar with tree methods, we have some definitions below:\n",
        "\n",
        "![tree_forest.png](https://drive.google.com/uc?export=view&id=1TBxIoL7K4WeXhegZZAvURJSxREw-Uqto)\n",
        "\n",
        "- A **Decision Tree (left)** is a supervised learning algorithm that can be used for regression (predicting a continuous variable) or for classification (predicting a categorical variable). Our task is to classify each *E. coli* sample into Resistant (**R**) or Susceptible (**S**) classes. Decision Trees assign values to each feature input and compares them to a calculated threshold. We can picture a tree upside down, starting with the root on top and stopping at the leafs at the bottom, the different squares represent decision thresholds, if the isolate passes the threshold, then we move down the tree following the \"yes\" arrow, if not then we follow the \"no\" arrow to the next square down below until a classification decision is finally made.\n",
        "\n",
        "- A **Random Forest (right)** is the combination of several Decision Trees outputs, each tree classifies all samples independently and the final decision for each sample is made based on the decision of the majority of trees. Each tree inside the Random Forest is created by selecting a random subset of features instead of using all the features and then it uses **BAGGING**.\n",
        "\n",
        "  - **Bagging:** is a process of randomly selecting a subset of unique observations from the training data and then duplicating some of these selections until the number of observations used in one tree is the same as the number of all the original observations in the training data. Essentially it samples from original data with replacement and then agregates results for final prediction. Bagging tries to reduce overfitting and variance.\n",
        "  \n",
        "If we chose to use a combination of features such as: **GS** (Gene Presence or Absence + Population Structure), each tree would randomly use only some columns from the total amount of column features (G + S dataset).\n",
        "\n",
        "We will explain further details on the structure of Random Forests as we code along to further clarify how nodes are chosen and how it uses the outputs of all trees for a final decision.\n",
        "\n",
        "\n",
        "\n",
        "\n",
        "\n",
        "\n"
      ],
      "metadata": {
        "id": "4s_KUXfGSthq"
      }
    },
    {
      "cell_type": "markdown",
      "source": [
        "### **1) Importing Packages needed**"
      ],
      "metadata": {
        "id": "fnpxHzYUUJ_M"
      }
    },
    {
      "cell_type": "code",
      "execution_count": null,
      "metadata": {
        "id": "eDa820s0JSoJ",
        "colab": {
          "base_uri": "https://localhost:8080/"
        },
        "outputId": "23e02bee-84c1-4966-f8f3-917de3c55ed9"
      },
      "outputs": [
        {
          "output_type": "stream",
          "name": "stdout",
          "text": [
            "Mounted at /content/drive\n"
          ]
        }
      ],
      "source": [
        "# Data manipulation imports for ML\n",
        "import pandas as pd\n",
        "import numpy as np\n",
        "from sklearn.model_selection import train_test_split\n",
        "\n",
        "# Import packages for Random Forest model\n",
        "from sklearn.ensemble  import RandomForestClassifier\n",
        "from sklearn import tree\n",
        "\n",
        "# Imports for model evaluation\n",
        "from sklearn import metrics\n",
        "from sklearn.metrics import classification_report, confusion_matrix, ConfusionMatrixDisplay\n",
        "\n",
        "# Imports for data visualization\n",
        "import matplotlib.pyplot as plt\n",
        "from matplotlib import pyplot\n",
        "import seaborn as sns\n",
        "import graphviz\n",
        "\n",
        "# Imports for file management\n",
        "import os\n",
        "from google.colab import drive\n",
        "drive.mount('/content/drive')"
      ]
    },
    {
      "cell_type": "markdown",
      "source": [
        "### **2) Loading CSV file and creating dataframes for each antibiotic**\n",
        "\n",
        "Similar to the previous notebook we loaded the dataframe created in the first notebook of this tutorial, then we create a dataframe for each antibiotic. To check that our function works we will test it using \"CTX\" antibiotic."
      ],
      "metadata": {
        "id": "1MTk8vozVJqi"
      }
    },
    {
      "cell_type": "code",
      "source": [
        "# Loads csv file as a dataframe\n",
        "filepath = '/content/drive/My Drive/EColi_ML_CSV_files/'\n",
        "\n",
        "# reads csv file as a dataframe\n",
        "All_Drugs_df = pd.read_csv(filepath+\"EColi_Merged_dfs.csv\", na_values=\"NaN\")\n",
        "All_Drugs_df.head()"
      ],
      "metadata": {
        "id": "psqfFp_yVsmy",
        "colab": {
          "base_uri": "https://localhost:8080/",
          "height": 292
        },
        "outputId": "098d7e1d-3a93-44b2-cf96-6a1e3bdc9114"
      },
      "execution_count": null,
      "outputs": [
        {
          "output_type": "stream",
          "name": "stderr",
          "text": [
            "<ipython-input-2-8f7183d9b98a>:5: DtypeWarning: Columns (4,5,6) have mixed types. Specify dtype option on import or set low_memory=False.\n",
            "  All_Drugs_df = pd.read_csv(filepath+\"EColi_Merged_dfs.csv\", na_values=\"NaN\")\n"
          ]
        },
        {
          "output_type": "execute_result",
          "data": {
            "text/plain": [
              "      Isolate CTZ CTX AMP  AMX AMC TZP CXM CET GEN  ... cutoff_25459  \\\n",
              "0  11657_5#10   S   S   S  NaN   S   S   S   S   S  ...            0   \n",
              "1  11657_5#11   S   S   R  NaN   R   S   S   S   S  ...            0   \n",
              "2  11657_5#12   S   S   S  NaN   S   S   S   S   S  ...            0   \n",
              "3  11657_5#13   S   S   R  NaN   R   S   S   S   S  ...            0   \n",
              "4  11657_5#14   S   S   R  NaN   S   S   S   S   S  ...            0   \n",
              "\n",
              "  cutoff_25654 cutoff_25772  cutoff_25979  cutoff_26792  cutoff_27119  \\\n",
              "0            0            0             0             0             0   \n",
              "1            0            0             0             0             0   \n",
              "2            0            0             0             0             0   \n",
              "3            0            0             0             0             0   \n",
              "4            0            0             0             0             0   \n",
              "\n",
              "   cutoff_27236  cutoff_27248  cutoff_27690  cutoff_45092  \n",
              "0             0             0             0             0  \n",
              "1             0             0             0             0  \n",
              "2             0             0             0             0  \n",
              "3             0             0             0             0  \n",
              "4             0             0             0             0  \n",
              "\n",
              "[5 rows x 18304 columns]"
            ],
            "text/html": [
              "\n",
              "  <div id=\"df-eab12d7a-e479-45fb-80d7-7ebe0c0f68d7\" class=\"colab-df-container\">\n",
              "    <div>\n",
              "<style scoped>\n",
              "    .dataframe tbody tr th:only-of-type {\n",
              "        vertical-align: middle;\n",
              "    }\n",
              "\n",
              "    .dataframe tbody tr th {\n",
              "        vertical-align: top;\n",
              "    }\n",
              "\n",
              "    .dataframe thead th {\n",
              "        text-align: right;\n",
              "    }\n",
              "</style>\n",
              "<table border=\"1\" class=\"dataframe\">\n",
              "  <thead>\n",
              "    <tr style=\"text-align: right;\">\n",
              "      <th></th>\n",
              "      <th>Isolate</th>\n",
              "      <th>CTZ</th>\n",
              "      <th>CTX</th>\n",
              "      <th>AMP</th>\n",
              "      <th>AMX</th>\n",
              "      <th>AMC</th>\n",
              "      <th>TZP</th>\n",
              "      <th>CXM</th>\n",
              "      <th>CET</th>\n",
              "      <th>GEN</th>\n",
              "      <th>...</th>\n",
              "      <th>cutoff_25459</th>\n",
              "      <th>cutoff_25654</th>\n",
              "      <th>cutoff_25772</th>\n",
              "      <th>cutoff_25979</th>\n",
              "      <th>cutoff_26792</th>\n",
              "      <th>cutoff_27119</th>\n",
              "      <th>cutoff_27236</th>\n",
              "      <th>cutoff_27248</th>\n",
              "      <th>cutoff_27690</th>\n",
              "      <th>cutoff_45092</th>\n",
              "    </tr>\n",
              "  </thead>\n",
              "  <tbody>\n",
              "    <tr>\n",
              "      <th>0</th>\n",
              "      <td>11657_5#10</td>\n",
              "      <td>S</td>\n",
              "      <td>S</td>\n",
              "      <td>S</td>\n",
              "      <td>NaN</td>\n",
              "      <td>S</td>\n",
              "      <td>S</td>\n",
              "      <td>S</td>\n",
              "      <td>S</td>\n",
              "      <td>S</td>\n",
              "      <td>...</td>\n",
              "      <td>0</td>\n",
              "      <td>0</td>\n",
              "      <td>0</td>\n",
              "      <td>0</td>\n",
              "      <td>0</td>\n",
              "      <td>0</td>\n",
              "      <td>0</td>\n",
              "      <td>0</td>\n",
              "      <td>0</td>\n",
              "      <td>0</td>\n",
              "    </tr>\n",
              "    <tr>\n",
              "      <th>1</th>\n",
              "      <td>11657_5#11</td>\n",
              "      <td>S</td>\n",
              "      <td>S</td>\n",
              "      <td>R</td>\n",
              "      <td>NaN</td>\n",
              "      <td>R</td>\n",
              "      <td>S</td>\n",
              "      <td>S</td>\n",
              "      <td>S</td>\n",
              "      <td>S</td>\n",
              "      <td>...</td>\n",
              "      <td>0</td>\n",
              "      <td>0</td>\n",
              "      <td>0</td>\n",
              "      <td>0</td>\n",
              "      <td>0</td>\n",
              "      <td>0</td>\n",
              "      <td>0</td>\n",
              "      <td>0</td>\n",
              "      <td>0</td>\n",
              "      <td>0</td>\n",
              "    </tr>\n",
              "    <tr>\n",
              "      <th>2</th>\n",
              "      <td>11657_5#12</td>\n",
              "      <td>S</td>\n",
              "      <td>S</td>\n",
              "      <td>S</td>\n",
              "      <td>NaN</td>\n",
              "      <td>S</td>\n",
              "      <td>S</td>\n",
              "      <td>S</td>\n",
              "      <td>S</td>\n",
              "      <td>S</td>\n",
              "      <td>...</td>\n",
              "      <td>0</td>\n",
              "      <td>0</td>\n",
              "      <td>0</td>\n",
              "      <td>0</td>\n",
              "      <td>0</td>\n",
              "      <td>0</td>\n",
              "      <td>0</td>\n",
              "      <td>0</td>\n",
              "      <td>0</td>\n",
              "      <td>0</td>\n",
              "    </tr>\n",
              "    <tr>\n",
              "      <th>3</th>\n",
              "      <td>11657_5#13</td>\n",
              "      <td>S</td>\n",
              "      <td>S</td>\n",
              "      <td>R</td>\n",
              "      <td>NaN</td>\n",
              "      <td>R</td>\n",
              "      <td>S</td>\n",
              "      <td>S</td>\n",
              "      <td>S</td>\n",
              "      <td>S</td>\n",
              "      <td>...</td>\n",
              "      <td>0</td>\n",
              "      <td>0</td>\n",
              "      <td>0</td>\n",
              "      <td>0</td>\n",
              "      <td>0</td>\n",
              "      <td>0</td>\n",
              "      <td>0</td>\n",
              "      <td>0</td>\n",
              "      <td>0</td>\n",
              "      <td>0</td>\n",
              "    </tr>\n",
              "    <tr>\n",
              "      <th>4</th>\n",
              "      <td>11657_5#14</td>\n",
              "      <td>S</td>\n",
              "      <td>S</td>\n",
              "      <td>R</td>\n",
              "      <td>NaN</td>\n",
              "      <td>S</td>\n",
              "      <td>S</td>\n",
              "      <td>S</td>\n",
              "      <td>S</td>\n",
              "      <td>S</td>\n",
              "      <td>...</td>\n",
              "      <td>0</td>\n",
              "      <td>0</td>\n",
              "      <td>0</td>\n",
              "      <td>0</td>\n",
              "      <td>0</td>\n",
              "      <td>0</td>\n",
              "      <td>0</td>\n",
              "      <td>0</td>\n",
              "      <td>0</td>\n",
              "      <td>0</td>\n",
              "    </tr>\n",
              "  </tbody>\n",
              "</table>\n",
              "<p>5 rows × 18304 columns</p>\n",
              "</div>\n",
              "    <div class=\"colab-df-buttons\">\n",
              "\n",
              "  <div class=\"colab-df-container\">\n",
              "    <button class=\"colab-df-convert\" onclick=\"convertToInteractive('df-eab12d7a-e479-45fb-80d7-7ebe0c0f68d7')\"\n",
              "            title=\"Convert this dataframe to an interactive table.\"\n",
              "            style=\"display:none;\">\n",
              "\n",
              "  <svg xmlns=\"http://www.w3.org/2000/svg\" height=\"24px\" viewBox=\"0 -960 960 960\">\n",
              "    <path d=\"M120-120v-720h720v720H120Zm60-500h600v-160H180v160Zm220 220h160v-160H400v160Zm0 220h160v-160H400v160ZM180-400h160v-160H180v160Zm440 0h160v-160H620v160ZM180-180h160v-160H180v160Zm440 0h160v-160H620v160Z\"/>\n",
              "  </svg>\n",
              "    </button>\n",
              "\n",
              "  <style>\n",
              "    .colab-df-container {\n",
              "      display:flex;\n",
              "      gap: 12px;\n",
              "    }\n",
              "\n",
              "    .colab-df-convert {\n",
              "      background-color: #E8F0FE;\n",
              "      border: none;\n",
              "      border-radius: 50%;\n",
              "      cursor: pointer;\n",
              "      display: none;\n",
              "      fill: #1967D2;\n",
              "      height: 32px;\n",
              "      padding: 0 0 0 0;\n",
              "      width: 32px;\n",
              "    }\n",
              "\n",
              "    .colab-df-convert:hover {\n",
              "      background-color: #E2EBFA;\n",
              "      box-shadow: 0px 1px 2px rgba(60, 64, 67, 0.3), 0px 1px 3px 1px rgba(60, 64, 67, 0.15);\n",
              "      fill: #174EA6;\n",
              "    }\n",
              "\n",
              "    .colab-df-buttons div {\n",
              "      margin-bottom: 4px;\n",
              "    }\n",
              "\n",
              "    [theme=dark] .colab-df-convert {\n",
              "      background-color: #3B4455;\n",
              "      fill: #D2E3FC;\n",
              "    }\n",
              "\n",
              "    [theme=dark] .colab-df-convert:hover {\n",
              "      background-color: #434B5C;\n",
              "      box-shadow: 0px 1px 3px 1px rgba(0, 0, 0, 0.15);\n",
              "      filter: drop-shadow(0px 1px 2px rgba(0, 0, 0, 0.3));\n",
              "      fill: #FFFFFF;\n",
              "    }\n",
              "  </style>\n",
              "\n",
              "    <script>\n",
              "      const buttonEl =\n",
              "        document.querySelector('#df-eab12d7a-e479-45fb-80d7-7ebe0c0f68d7 button.colab-df-convert');\n",
              "      buttonEl.style.display =\n",
              "        google.colab.kernel.accessAllowed ? 'block' : 'none';\n",
              "\n",
              "      async function convertToInteractive(key) {\n",
              "        const element = document.querySelector('#df-eab12d7a-e479-45fb-80d7-7ebe0c0f68d7');\n",
              "        const dataTable =\n",
              "          await google.colab.kernel.invokeFunction('convertToInteractive',\n",
              "                                                    [key], {});\n",
              "        if (!dataTable) return;\n",
              "\n",
              "        const docLinkHtml = 'Like what you see? Visit the ' +\n",
              "          '<a target=\"_blank\" href=https://colab.research.google.com/notebooks/data_table.ipynb>data table notebook</a>'\n",
              "          + ' to learn more about interactive tables.';\n",
              "        element.innerHTML = '';\n",
              "        dataTable['output_type'] = 'display_data';\n",
              "        await google.colab.output.renderOutput(dataTable, element);\n",
              "        const docLink = document.createElement('div');\n",
              "        docLink.innerHTML = docLinkHtml;\n",
              "        element.appendChild(docLink);\n",
              "      }\n",
              "    </script>\n",
              "  </div>\n",
              "\n",
              "\n",
              "<div id=\"df-b4d54c46-764b-4742-b683-018a938b73ad\">\n",
              "  <button class=\"colab-df-quickchart\" onclick=\"quickchart('df-b4d54c46-764b-4742-b683-018a938b73ad')\"\n",
              "            title=\"Suggest charts\"\n",
              "            style=\"display:none;\">\n",
              "\n",
              "<svg xmlns=\"http://www.w3.org/2000/svg\" height=\"24px\"viewBox=\"0 0 24 24\"\n",
              "     width=\"24px\">\n",
              "    <g>\n",
              "        <path d=\"M19 3H5c-1.1 0-2 .9-2 2v14c0 1.1.9 2 2 2h14c1.1 0 2-.9 2-2V5c0-1.1-.9-2-2-2zM9 17H7v-7h2v7zm4 0h-2V7h2v10zm4 0h-2v-4h2v4z\"/>\n",
              "    </g>\n",
              "</svg>\n",
              "  </button>\n",
              "\n",
              "<style>\n",
              "  .colab-df-quickchart {\n",
              "      --bg-color: #E8F0FE;\n",
              "      --fill-color: #1967D2;\n",
              "      --hover-bg-color: #E2EBFA;\n",
              "      --hover-fill-color: #174EA6;\n",
              "      --disabled-fill-color: #AAA;\n",
              "      --disabled-bg-color: #DDD;\n",
              "  }\n",
              "\n",
              "  [theme=dark] .colab-df-quickchart {\n",
              "      --bg-color: #3B4455;\n",
              "      --fill-color: #D2E3FC;\n",
              "      --hover-bg-color: #434B5C;\n",
              "      --hover-fill-color: #FFFFFF;\n",
              "      --disabled-bg-color: #3B4455;\n",
              "      --disabled-fill-color: #666;\n",
              "  }\n",
              "\n",
              "  .colab-df-quickchart {\n",
              "    background-color: var(--bg-color);\n",
              "    border: none;\n",
              "    border-radius: 50%;\n",
              "    cursor: pointer;\n",
              "    display: none;\n",
              "    fill: var(--fill-color);\n",
              "    height: 32px;\n",
              "    padding: 0;\n",
              "    width: 32px;\n",
              "  }\n",
              "\n",
              "  .colab-df-quickchart:hover {\n",
              "    background-color: var(--hover-bg-color);\n",
              "    box-shadow: 0 1px 2px rgba(60, 64, 67, 0.3), 0 1px 3px 1px rgba(60, 64, 67, 0.15);\n",
              "    fill: var(--button-hover-fill-color);\n",
              "  }\n",
              "\n",
              "  .colab-df-quickchart-complete:disabled,\n",
              "  .colab-df-quickchart-complete:disabled:hover {\n",
              "    background-color: var(--disabled-bg-color);\n",
              "    fill: var(--disabled-fill-color);\n",
              "    box-shadow: none;\n",
              "  }\n",
              "\n",
              "  .colab-df-spinner {\n",
              "    border: 2px solid var(--fill-color);\n",
              "    border-color: transparent;\n",
              "    border-bottom-color: var(--fill-color);\n",
              "    animation:\n",
              "      spin 1s steps(1) infinite;\n",
              "  }\n",
              "\n",
              "  @keyframes spin {\n",
              "    0% {\n",
              "      border-color: transparent;\n",
              "      border-bottom-color: var(--fill-color);\n",
              "      border-left-color: var(--fill-color);\n",
              "    }\n",
              "    20% {\n",
              "      border-color: transparent;\n",
              "      border-left-color: var(--fill-color);\n",
              "      border-top-color: var(--fill-color);\n",
              "    }\n",
              "    30% {\n",
              "      border-color: transparent;\n",
              "      border-left-color: var(--fill-color);\n",
              "      border-top-color: var(--fill-color);\n",
              "      border-right-color: var(--fill-color);\n",
              "    }\n",
              "    40% {\n",
              "      border-color: transparent;\n",
              "      border-right-color: var(--fill-color);\n",
              "      border-top-color: var(--fill-color);\n",
              "    }\n",
              "    60% {\n",
              "      border-color: transparent;\n",
              "      border-right-color: var(--fill-color);\n",
              "    }\n",
              "    80% {\n",
              "      border-color: transparent;\n",
              "      border-right-color: var(--fill-color);\n",
              "      border-bottom-color: var(--fill-color);\n",
              "    }\n",
              "    90% {\n",
              "      border-color: transparent;\n",
              "      border-bottom-color: var(--fill-color);\n",
              "    }\n",
              "  }\n",
              "</style>\n",
              "\n",
              "  <script>\n",
              "    async function quickchart(key) {\n",
              "      const quickchartButtonEl =\n",
              "        document.querySelector('#' + key + ' button');\n",
              "      quickchartButtonEl.disabled = true;  // To prevent multiple clicks.\n",
              "      quickchartButtonEl.classList.add('colab-df-spinner');\n",
              "      try {\n",
              "        const charts = await google.colab.kernel.invokeFunction(\n",
              "            'suggestCharts', [key], {});\n",
              "      } catch (error) {\n",
              "        console.error('Error during call to suggestCharts:', error);\n",
              "      }\n",
              "      quickchartButtonEl.classList.remove('colab-df-spinner');\n",
              "      quickchartButtonEl.classList.add('colab-df-quickchart-complete');\n",
              "    }\n",
              "    (() => {\n",
              "      let quickchartButtonEl =\n",
              "        document.querySelector('#df-b4d54c46-764b-4742-b683-018a938b73ad button');\n",
              "      quickchartButtonEl.style.display =\n",
              "        google.colab.kernel.accessAllowed ? 'block' : 'none';\n",
              "    })();\n",
              "  </script>\n",
              "</div>\n",
              "\n",
              "    </div>\n",
              "  </div>\n"
            ],
            "application/vnd.google.colaboratory.intrinsic+json": {
              "type": "dataframe",
              "variable_name": "All_Drugs_df"
            }
          },
          "metadata": {},
          "execution_count": 2
        }
      ]
    },
    {
      "cell_type": "markdown",
      "source": [
        "### **3) Separating each Drug Dataframe into 4 sections : Training (features and labels) and Testing (features and labels)**\n",
        "\n",
        "Similarly to the previous notebook, we create a dataframe and split it into training and testing chunks, each chunk with features and labels. Then we store these 4 sections into a a dictionary. We will then implement this function on the dataframe created in part 2."
      ],
      "metadata": {
        "id": "NMKzeaqPojso"
      }
    },
    {
      "cell_type": "code",
      "source": [
        "# Separating each dataframe into Labels and Features for training and testing data.\n",
        "# Our function uses the handy train_test_split() function.\n",
        "\n",
        "def Split_train_test(drug):\n",
        "  #here we make a list of the columns we want to keep: the column for the isolate, the column for the drug we are interested in and all features (starting from column 13).\n",
        "  df_list = [All_Drugs_df[[\"Isolate\",drug]], All_Drugs_df.iloc[:,13:]]\n",
        "\n",
        "  #here we create a data frame with just the columns we wanted to keep.\n",
        "  Drug_df = pd.concat(df_list, axis=1)\n",
        "\n",
        "  #here we drop all rows with missing data\n",
        "  Drug_df = Drug_df.dropna()\n",
        "\n",
        "  # Creating a dictionary to store each antibiotic datasets\n",
        "  Train_test_dic = {}\n",
        "\n",
        "  # Defining the label columns\n",
        "  labels = Drug_df[drug]\n",
        "\n",
        "  # Defining features columns\n",
        "  features = Drug_df.drop(columns=[drug])\n",
        "\n",
        "  # Separating training (features and labels) and testing (features and labels) datasets\n",
        "  features_train, features_test, labels_train, labels_test = train_test_split(features, labels, test_size=0.33, random_state=42, stratify=labels)\n",
        "\n",
        "  # storing each data chunk in a dictionary\n",
        "  Train_test_dic['labels_train'] = labels_train\n",
        "  Train_test_dic['features_train'] = features_train\n",
        "  Train_test_dic['labels_test'] = labels_test\n",
        "  Train_test_dic['features_test'] = features_test\n",
        "\n",
        "  return Train_test_dic"
      ],
      "metadata": {
        "id": "iP4HEW4qBO7l"
      },
      "execution_count": null,
      "outputs": []
    },
    {
      "cell_type": "markdown",
      "source": [
        "Below we implement the function **Split_train_test()** and then print how many are resistant and how many are Susceptible for the antibiotic CTX."
      ],
      "metadata": {
        "id": "_fAor5uHzNQ_"
      }
    },
    {
      "cell_type": "code",
      "source": [
        "# Implementing the function Split_train_test() for CTZ example\n",
        "CTX_Train_test_dic = Split_train_test(\"CTX\")\n",
        "\n",
        "# checking the shape of each dataframe or series stored in the dictionary created for drug CTZ\n",
        "print(\"CTX\")\n",
        "for k, df in CTX_Train_test_dic.items():\n",
        "  print(k, df.shape)\n",
        "  # counting how many of the labels have susceptible versus resistant ones\n",
        "  if k.startswith(\"label\"):\n",
        "    print(df.value_counts())"
      ],
      "metadata": {
        "id": "rLhddtjJt9Yr",
        "colab": {
          "base_uri": "https://localhost:8080/"
        },
        "outputId": "eb22106e-f641-405b-cb9e-8b696c5bd63b"
      },
      "execution_count": null,
      "outputs": [
        {
          "output_type": "stream",
          "name": "stdout",
          "text": [
            "CTX\n",
            "labels_train (1245,)\n",
            "CTX\n",
            "S    988\n",
            "R    257\n",
            "Name: count, dtype: int64\n",
            "features_train (1245, 18292)\n",
            "labels_test (614,)\n",
            "CTX\n",
            "S    488\n",
            "R    126\n",
            "Name: count, dtype: int64\n",
            "features_test (614, 18292)\n"
          ]
        }
      ]
    },
    {
      "cell_type": "markdown",
      "source": [
        "Notice that just like before we have more *E. coli* samples that are Susceptible, rather than Resistant, therefore we need to remember to pay attention to the metrics of precision and recall for each of these classes rather than just looking at the overall accuracy. **The total number in our training observations is 1245.**"
      ],
      "metadata": {
        "id": "YWUZNSEn-ZEl"
      }
    },
    {
      "cell_type": "markdown",
      "source": [
        "### **4) Creating different combination of features before training**\n",
        "\n",
        "**NOTE:** Same code as in previous notebook"
      ],
      "metadata": {
        "id": "2IyqN506dQn4"
      }
    },
    {
      "cell_type": "code",
      "source": [
        "# making a list of combinations of data sources we would like to test in our ML models\n",
        "combo_list = ['G', 'S', 'GY', 'SY', 'GS', 'GYS']\n",
        "\n",
        "# making a function that creates different feature combinations of the predictor features\n",
        "def combo_feat(features_df, drug, combo):\n",
        "\n",
        "  # creating Year column filters for features_df\n",
        "  year_filter = [col for col in features_df if col.startswith(\"Year\")]\n",
        "  year_feat = features_df[year_filter]\n",
        "\n",
        "  # creating Population structure column filters for features_df\n",
        "  pop_str_filter = [col for col in features_df if col.startswith(\"cutoff\")]\n",
        "  pop_struc_feat = features_df[pop_str_filter]\n",
        "\n",
        "  # creating Gene precence column filters for features_df\n",
        "  gene_presc_filter = [col for col in features_df.columns if col not in pop_str_filter and col not in year_filter and col != \"Isolate\"]\n",
        "  gene_presc_feat = features_df[gene_presc_filter]\n",
        "\n",
        "  if combo == 'G':\n",
        "    df_list = [features_df['Isolate'], gene_presc_feat]\n",
        "    G_feat_df = pd.concat(df_list, axis=1)\n",
        "    G_feat_df = G_feat_df.drop(columns=['Isolate'])\n",
        "    return G_feat_df\n",
        "\n",
        "  if combo == 'S':\n",
        "    df_list = [features_df['Isolate'], pop_struc_feat]\n",
        "    S_feat_df = pd.concat(df_list, axis=1)\n",
        "    S_feat_df = S_feat_df.drop(columns=['Isolate'])\n",
        "    return S_feat_df\n",
        "\n",
        "  if combo == 'GY':\n",
        "    df_list = [features_df['Isolate'], gene_presc_feat, year_feat]\n",
        "    GY_feat_df = pd.concat(df_list, axis=1)\n",
        "    GY_feat_df = GY_feat_df.drop(columns=['Isolate'])\n",
        "    return GY_feat_df\n",
        "\n",
        "  if combo == 'SY':\n",
        "    df_list = [features_df['Isolate'], pop_struc_feat, year_feat]\n",
        "    SY_feat_df = pd.concat(df_list, axis=1)\n",
        "    SY_feat_df = SY_feat_df.drop(columns=['Isolate'])\n",
        "    return SY_feat_df\n",
        "\n",
        "  if combo == 'GS':\n",
        "    df_list = [features_df['Isolate'], gene_presc_feat, pop_struc_feat]\n",
        "    GS_feat_df = pd.concat(df_list, axis=1)\n",
        "    GS_feat_df = GS_feat_df.drop(columns=['Isolate'])\n",
        "    return GS_feat_df\n",
        "\n",
        "  if combo == 'GYS':\n",
        "    df_list = [features_df['Isolate'], gene_presc_feat, year_feat, pop_struc_feat, ]\n",
        "    GYS_feat_df = pd.concat(df_list, axis=1)\n",
        "    GYS_feat_df = GYS_feat_df.drop(columns=['Isolate'])\n",
        "    return GYS_feat_df"
      ],
      "metadata": {
        "id": "JmzbwQBxlylk"
      },
      "execution_count": null,
      "outputs": []
    },
    {
      "cell_type": "code",
      "source": [
        "# Implementing combo_feat() function created for training data\n",
        "CTX_GYS_train_df = combo_feat(CTX_Train_test_dic['features_train'],\"CTX\",\"GYS\")\n",
        "\n",
        "# looking only at the feature column names for the combination for \"GYS\" for drug \"CTX\" for training data\n",
        "CTX_GYS_train_df.columns"
      ],
      "metadata": {
        "id": "ERB_2YEXuAsl",
        "colab": {
          "base_uri": "https://localhost:8080/"
        },
        "outputId": "276da4f5-bba0-4dde-fbb8-c4d45369b063"
      },
      "execution_count": null,
      "outputs": [
        {
          "output_type": "execute_result",
          "data": {
            "text/plain": [
              "Index(['yeiU', 'yhhS', 'ybaE', 'eutR', 'ibrB', 'ytfP', 'aslB', 'narQ', 'tolR',\n",
              "       'galM',\n",
              "       ...\n",
              "       'cutoff_25459', 'cutoff_25654', 'cutoff_25772', 'cutoff_25979',\n",
              "       'cutoff_26792', 'cutoff_27119', 'cutoff_27236', 'cutoff_27248',\n",
              "       'cutoff_27690', 'cutoff_45092'],\n",
              "      dtype='object', length=18291)"
            ]
          },
          "metadata": {},
          "execution_count": 6
        }
      ]
    },
    {
      "cell_type": "markdown",
      "source": [
        "### **5) Creating Random Forest model and training it per feature combination**\n",
        "In this step we can take a closer look at the structure of a Random Forest. First we will create a function that will train our Random Forest to learn to predict Resistance or Susceptibility for a particular strain. Because our function does not specify how many trees to use, the default is 100 Decision Trees created.\n",
        "\n",
        "- We have set a random state in our in the Random Forest Classifier in order to get replicable results for this tutorial."
      ],
      "metadata": {
        "id": "ZVOKCEZNeHzB"
      }
    },
    {
      "cell_type": "code",
      "source": [
        "# creating Random Forest model function\n",
        "def run_RF(feat_train, lab_train, drug, combo):\n",
        "  print(drug +\" Training combo: \"+ combo)\n",
        "  # creating Random Forest model\n",
        "  RF = RandomForestClassifier(random_state = 42)\n",
        "  # Training Random Forest Model\n",
        "  RF = RF.fit(feat_train, lab_train)\n",
        "  # Checking number of trees in the model\n",
        "  print(\"Number of Decicion Trees in RF model:\", len(RF))\n",
        "  return RF"
      ],
      "metadata": {
        "id": "QbEP2WYkWPxB"
      },
      "execution_count": null,
      "outputs": []
    },
    {
      "cell_type": "markdown",
      "source": [
        "Below we will implement our function just as in previous parts, but then we will also take a look at one tree of the Random Forest, after training."
      ],
      "metadata": {
        "id": "58ZumF78K_cW"
      }
    },
    {
      "cell_type": "code",
      "source": [
        "# implementing run_RF() for specific drug feature combination dataframe\n",
        "RF_CTX_GYS_model = run_RF(CTX_GYS_train_df,CTX_Train_test_dic[\"labels_train\"],\"CTX\",\"GYS\")\n",
        "RF_CTX_GYS_model"
      ],
      "metadata": {
        "id": "jxDDUGtfuCp7",
        "colab": {
          "base_uri": "https://localhost:8080/",
          "height": 111
        },
        "outputId": "f7ec6d13-2496-43c9-cf6c-953f542b1a9b"
      },
      "execution_count": null,
      "outputs": [
        {
          "output_type": "stream",
          "name": "stdout",
          "text": [
            "CTX Training combo: GYS\n",
            "Number of Decicion Trees in RF model: 100\n"
          ]
        },
        {
          "output_type": "execute_result",
          "data": {
            "text/plain": [
              "RandomForestClassifier(random_state=42)"
            ],
            "text/html": [
              "<style>#sk-container-id-1 {color: black;background-color: white;}#sk-container-id-1 pre{padding: 0;}#sk-container-id-1 div.sk-toggleable {background-color: white;}#sk-container-id-1 label.sk-toggleable__label {cursor: pointer;display: block;width: 100%;margin-bottom: 0;padding: 0.3em;box-sizing: border-box;text-align: center;}#sk-container-id-1 label.sk-toggleable__label-arrow:before {content: \"▸\";float: left;margin-right: 0.25em;color: #696969;}#sk-container-id-1 label.sk-toggleable__label-arrow:hover:before {color: black;}#sk-container-id-1 div.sk-estimator:hover label.sk-toggleable__label-arrow:before {color: black;}#sk-container-id-1 div.sk-toggleable__content {max-height: 0;max-width: 0;overflow: hidden;text-align: left;background-color: #f0f8ff;}#sk-container-id-1 div.sk-toggleable__content pre {margin: 0.2em;color: black;border-radius: 0.25em;background-color: #f0f8ff;}#sk-container-id-1 input.sk-toggleable__control:checked~div.sk-toggleable__content {max-height: 200px;max-width: 100%;overflow: auto;}#sk-container-id-1 input.sk-toggleable__control:checked~label.sk-toggleable__label-arrow:before {content: \"▾\";}#sk-container-id-1 div.sk-estimator input.sk-toggleable__control:checked~label.sk-toggleable__label {background-color: #d4ebff;}#sk-container-id-1 div.sk-label input.sk-toggleable__control:checked~label.sk-toggleable__label {background-color: #d4ebff;}#sk-container-id-1 input.sk-hidden--visually {border: 0;clip: rect(1px 1px 1px 1px);clip: rect(1px, 1px, 1px, 1px);height: 1px;margin: -1px;overflow: hidden;padding: 0;position: absolute;width: 1px;}#sk-container-id-1 div.sk-estimator {font-family: monospace;background-color: #f0f8ff;border: 1px dotted black;border-radius: 0.25em;box-sizing: border-box;margin-bottom: 0.5em;}#sk-container-id-1 div.sk-estimator:hover {background-color: #d4ebff;}#sk-container-id-1 div.sk-parallel-item::after {content: \"\";width: 100%;border-bottom: 1px solid gray;flex-grow: 1;}#sk-container-id-1 div.sk-label:hover label.sk-toggleable__label {background-color: #d4ebff;}#sk-container-id-1 div.sk-serial::before {content: \"\";position: absolute;border-left: 1px solid gray;box-sizing: border-box;top: 0;bottom: 0;left: 50%;z-index: 0;}#sk-container-id-1 div.sk-serial {display: flex;flex-direction: column;align-items: center;background-color: white;padding-right: 0.2em;padding-left: 0.2em;position: relative;}#sk-container-id-1 div.sk-item {position: relative;z-index: 1;}#sk-container-id-1 div.sk-parallel {display: flex;align-items: stretch;justify-content: center;background-color: white;position: relative;}#sk-container-id-1 div.sk-item::before, #sk-container-id-1 div.sk-parallel-item::before {content: \"\";position: absolute;border-left: 1px solid gray;box-sizing: border-box;top: 0;bottom: 0;left: 50%;z-index: -1;}#sk-container-id-1 div.sk-parallel-item {display: flex;flex-direction: column;z-index: 1;position: relative;background-color: white;}#sk-container-id-1 div.sk-parallel-item:first-child::after {align-self: flex-end;width: 50%;}#sk-container-id-1 div.sk-parallel-item:last-child::after {align-self: flex-start;width: 50%;}#sk-container-id-1 div.sk-parallel-item:only-child::after {width: 0;}#sk-container-id-1 div.sk-dashed-wrapped {border: 1px dashed gray;margin: 0 0.4em 0.5em 0.4em;box-sizing: border-box;padding-bottom: 0.4em;background-color: white;}#sk-container-id-1 div.sk-label label {font-family: monospace;font-weight: bold;display: inline-block;line-height: 1.2em;}#sk-container-id-1 div.sk-label-container {text-align: center;}#sk-container-id-1 div.sk-container {/* jupyter's `normalize.less` sets `[hidden] { display: none; }` but bootstrap.min.css set `[hidden] { display: none !important; }` so we also need the `!important` here to be able to override the default hidden behavior on the sphinx rendered scikit-learn.org. See: https://github.com/scikit-learn/scikit-learn/issues/21755 */display: inline-block !important;position: relative;}#sk-container-id-1 div.sk-text-repr-fallback {display: none;}</style><div id=\"sk-container-id-1\" class=\"sk-top-container\"><div class=\"sk-text-repr-fallback\"><pre>RandomForestClassifier(random_state=42)</pre><b>In a Jupyter environment, please rerun this cell to show the HTML representation or trust the notebook. <br />On GitHub, the HTML representation is unable to render, please try loading this page with nbviewer.org.</b></div><div class=\"sk-container\" hidden><div class=\"sk-item\"><div class=\"sk-estimator sk-toggleable\"><input class=\"sk-toggleable__control sk-hidden--visually\" id=\"sk-estimator-id-1\" type=\"checkbox\" checked><label for=\"sk-estimator-id-1\" class=\"sk-toggleable__label sk-toggleable__label-arrow\">RandomForestClassifier</label><div class=\"sk-toggleable__content\"><pre>RandomForestClassifier(random_state=42)</pre></div></div></div></div></div>"
            ]
          },
          "metadata": {},
          "execution_count": 8
        }
      ]
    },
    {
      "cell_type": "markdown",
      "source": [
        "Now that we have trained our Random Forest model use all features (GYS) to predict for the antibiotic CTX. Below we can graph for example the first tree (index=0). We have 100 trees, and python starts count from 0. Therefore the index would runs from 0 to 99."
      ],
      "metadata": {
        "id": "ZbNGU0btNxoP"
      }
    },
    {
      "cell_type": "code",
      "source": [
        "# Setting the index of the tree we are interested in seeing and how many layers to draw\n",
        "index= 0\n",
        "\n",
        "# Drawing the tree by setting the Index and the depth of the tree we would like to draw\n",
        "single_tree = tree.export_graphviz(RF_CTX_GYS_model.estimators_[index], out_file=None,\n",
        "                                  feature_names=CTX_GYS_train_df.columns,\n",
        "                                  filled=True, rounded=True,\n",
        "                                  special_characters=True,\n",
        "                                  max_depth=None)\n",
        "graph = graphviz.Source(single_tree)"
      ],
      "metadata": {
        "id": "wihNsmd3Okiv"
      },
      "execution_count": null,
      "outputs": []
    },
    {
      "cell_type": "markdown",
      "source": [
        "The code below will store our complete Decision Tree graph as a pdf document. The file will be named based on the index you have chosen to draw, in this case it would be the tree at index 2. Notice that a single tree from our Random Forest can be very big, because the tree will contain several decision thresholds."
      ],
      "metadata": {
        "id": "GAip5wRdkTPD"
      }
    },
    {
      "cell_type": "code",
      "source": [
        "# Saving a single complete decision tree from our Random Forest model into our new directory\n",
        "graph.render(\"/content/drive/MyDrive/EColi_ML_Plots/Classification Tree #: \"+ str(index))"
      ],
      "metadata": {
        "id": "5ZE6BsYLj2wl",
        "colab": {
          "base_uri": "https://localhost:8080/",
          "height": 36
        },
        "outputId": "19e2f40d-cfd1-4707-85f1-0fe975cf8c98"
      },
      "execution_count": null,
      "outputs": [
        {
          "output_type": "execute_result",
          "data": {
            "text/plain": [
              "'/content/drive/MyDrive/EColi_ML_Plots/Classification Tree #: 0.pdf'"
            ],
            "application/vnd.google.colaboratory.intrinsic+json": {
              "type": "string"
            }
          },
          "metadata": {},
          "execution_count": 10
        }
      ]
    },
    {
      "cell_type": "markdown",
      "source": [
        "The code below on the other hand will let us view only the top part of the tree index 0 (only first 3 layers after the root node), you can control the display of the tree by changing the argument **max_depth**."
      ],
      "metadata": {
        "id": "iqYocJWXhr4_"
      }
    },
    {
      "cell_type": "markdown",
      "source": [
        "#### **Parts of a Decision Tree**:\n",
        "\n",
        "- **Root Node:** displayed at the very top of our Decision tree. It is considered as the most important feature from the random subset of feature columns that our Random Forest (RF) picked. Therefore, each tree in the RF may have a different Root Node.\n",
        "\n",
        "- **Intermediate Nodes:** the first 2 layers of intermediate nodes are being displayed. Similar to the Root Node it contains decision thresholds that eventually lead to a final prediction.\n",
        "\n",
        "- **Leaf Nodes:** Not displayed in the trimmed version, but we can observe them in the pdf. The leaf nodes contain the final predictions within one tree of our RF. You can recognize them because there are no decision thresholds."
      ],
      "metadata": {
        "id": "wDdjIssHyVgJ"
      }
    },
    {
      "cell_type": "code",
      "source": [
        "# Setting the index of the tree we are interested in seeing and how many layers to draw\n",
        "index= 0\n",
        "# Drawing the tree by setting the Index and the depth of the tree we would like to draw\n",
        "chopped_tree = tree.export_graphviz(RF_CTX_GYS_model.estimators_[index], out_file=None,\n",
        "                                  feature_names=CTX_GYS_train_df.columns,\n",
        "                                  filled=False, rounded=True,\n",
        "                                  special_characters=True,\n",
        "                                  max_depth=2)\n",
        "graph = graphviz.Source(chopped_tree)\n",
        "display(graph)"
      ],
      "metadata": {
        "id": "xgStmSKyjQUE",
        "colab": {
          "base_uri": "https://localhost:8080/",
          "height": 496
        },
        "outputId": "8bf1da0b-f682-4a2c-f9c1-e7f3be87e908"
      },
      "execution_count": null,
      "outputs": [
        {
          "output_type": "display_data",
          "data": {
            "image/svg+xml": "<?xml version=\"1.0\" encoding=\"UTF-8\" standalone=\"no\"?>\n<!DOCTYPE svg PUBLIC \"-//W3C//DTD SVG 1.1//EN\"\n \"http://www.w3.org/Graphics/SVG/1.1/DTD/svg11.dtd\">\n<!-- Generated by graphviz version 2.43.0 (0)\n -->\n<!-- Title: Tree Pages: 1 -->\n<svg width=\"552pt\" height=\"356pt\"\n viewBox=\"0.00 0.00 552.00 356.00\" xmlns=\"http://www.w3.org/2000/svg\" xmlns:xlink=\"http://www.w3.org/1999/xlink\">\n<g id=\"graph0\" class=\"graph\" transform=\"scale(1 1) rotate(0) translate(4 352)\">\n<title>Tree</title>\n<polygon fill=\"white\" stroke=\"transparent\" points=\"-4,4 -4,-352 548,-352 548,4 -4,4\"/>\n<!-- 0 -->\n<g id=\"node1\" class=\"node\">\n<title>0</title>\n<path fill=\"none\" stroke=\"black\" d=\"M309,-348C309,-348 205,-348 205,-348 199,-348 193,-342 193,-336 193,-336 193,-292 193,-292 193,-286 199,-280 205,-280 205,-280 309,-280 309,-280 315,-280 321,-286 321,-292 321,-292 321,-336 321,-336 321,-342 315,-348 309,-348\"/>\n<text text-anchor=\"start\" x=\"201\" y=\"-332.8\" font-family=\"Helvetica,sans-Serif\" font-size=\"14.00\">cutoff_105 ≤ 151.0</text>\n<text text-anchor=\"start\" x=\"221.5\" y=\"-317.8\" font-family=\"Helvetica,sans-Serif\" font-size=\"14.00\">gini = 0.325</text>\n<text text-anchor=\"start\" x=\"212\" y=\"-302.8\" font-family=\"Helvetica,sans-Serif\" font-size=\"14.00\">samples = 797</text>\n<text text-anchor=\"start\" x=\"202.5\" y=\"-287.8\" font-family=\"Helvetica,sans-Serif\" font-size=\"14.00\">value = [254, 991]</text>\n</g>\n<!-- 1 -->\n<g id=\"node2\" class=\"node\">\n<title>1</title>\n<path fill=\"none\" stroke=\"black\" d=\"M232.5,-244C232.5,-244 135.5,-244 135.5,-244 129.5,-244 123.5,-238 123.5,-232 123.5,-232 123.5,-188 123.5,-188 123.5,-182 129.5,-176 135.5,-176 135.5,-176 232.5,-176 232.5,-176 238.5,-176 244.5,-182 244.5,-188 244.5,-188 244.5,-232 244.5,-232 244.5,-238 238.5,-244 232.5,-244\"/>\n<text text-anchor=\"start\" x=\"131.5\" y=\"-228.8\" font-family=\"Helvetica,sans-Serif\" font-size=\"14.00\">cutoff_86 ≤ 157.5</text>\n<text text-anchor=\"start\" x=\"148.5\" y=\"-213.8\" font-family=\"Helvetica,sans-Serif\" font-size=\"14.00\">gini = 0.467</text>\n<text text-anchor=\"start\" x=\"143\" y=\"-198.8\" font-family=\"Helvetica,sans-Serif\" font-size=\"14.00\">samples = 93</text>\n<text text-anchor=\"start\" x=\"137\" y=\"-183.8\" font-family=\"Helvetica,sans-Serif\" font-size=\"14.00\">value = [90, 53]</text>\n</g>\n<!-- 0&#45;&gt;1 -->\n<g id=\"edge1\" class=\"edge\">\n<title>0&#45;&gt;1</title>\n<path fill=\"none\" stroke=\"black\" d=\"M233.3,-279.88C227.05,-271.15 220.23,-261.62 213.71,-252.51\"/>\n<polygon fill=\"black\" stroke=\"black\" points=\"216.5,-250.39 207.83,-244.3 210.81,-254.47 216.5,-250.39\"/>\n<text text-anchor=\"middle\" x=\"203.74\" y=\"-265.26\" font-family=\"Helvetica,sans-Serif\" font-size=\"14.00\">True</text>\n</g>\n<!-- 10 -->\n<g id=\"node7\" class=\"node\">\n<title>10</title>\n<path fill=\"none\" stroke=\"black\" d=\"M381.5,-244C381.5,-244 280.5,-244 280.5,-244 274.5,-244 268.5,-238 268.5,-232 268.5,-232 268.5,-188 268.5,-188 268.5,-182 274.5,-176 280.5,-176 280.5,-176 381.5,-176 381.5,-176 387.5,-176 393.5,-182 393.5,-188 393.5,-188 393.5,-232 393.5,-232 393.5,-238 387.5,-244 381.5,-244\"/>\n<text text-anchor=\"start\" x=\"278\" y=\"-228.8\" font-family=\"Helvetica,sans-Serif\" font-size=\"14.00\">group_3513 ≤ 0.5</text>\n<text text-anchor=\"start\" x=\"295.5\" y=\"-213.8\" font-family=\"Helvetica,sans-Serif\" font-size=\"14.00\">gini = 0.253</text>\n<text text-anchor=\"start\" x=\"286\" y=\"-198.8\" font-family=\"Helvetica,sans-Serif\" font-size=\"14.00\">samples = 704</text>\n<text text-anchor=\"start\" x=\"276.5\" y=\"-183.8\" font-family=\"Helvetica,sans-Serif\" font-size=\"14.00\">value = [164, 938]</text>\n</g>\n<!-- 0&#45;&gt;10 -->\n<g id=\"edge6\" class=\"edge\">\n<title>0&#45;&gt;10</title>\n<path fill=\"none\" stroke=\"black\" d=\"M281.03,-279.88C287.36,-271.15 294.27,-261.62 300.88,-252.51\"/>\n<polygon fill=\"black\" stroke=\"black\" points=\"303.8,-254.45 306.84,-244.3 298.14,-250.34 303.8,-254.45\"/>\n<text text-anchor=\"middle\" x=\"310.77\" y=\"-265.29\" font-family=\"Helvetica,sans-Serif\" font-size=\"14.00\">False</text>\n</g>\n<!-- 2 -->\n<g id=\"node3\" class=\"node\">\n<title>2</title>\n<path fill=\"none\" stroke=\"black\" d=\"M90,-132.5C90,-132.5 12,-132.5 12,-132.5 6,-132.5 0,-126.5 0,-120.5 0,-120.5 0,-91.5 0,-91.5 0,-85.5 6,-79.5 12,-79.5 12,-79.5 90,-79.5 90,-79.5 96,-79.5 102,-85.5 102,-91.5 102,-91.5 102,-120.5 102,-120.5 102,-126.5 96,-132.5 90,-132.5\"/>\n<text text-anchor=\"start\" x=\"23\" y=\"-117.3\" font-family=\"Helvetica,sans-Serif\" font-size=\"14.00\">gini = 0.0</text>\n<text text-anchor=\"start\" x=\"10\" y=\"-102.3\" font-family=\"Helvetica,sans-Serif\" font-size=\"14.00\">samples = 28</text>\n<text text-anchor=\"start\" x=\"8\" y=\"-87.3\" font-family=\"Helvetica,sans-Serif\" font-size=\"14.00\">value = [0, 48]</text>\n</g>\n<!-- 1&#45;&gt;2 -->\n<g id=\"edge2\" class=\"edge\">\n<title>1&#45;&gt;2</title>\n<path fill=\"none\" stroke=\"black\" d=\"M140.82,-175.88C125.33,-164.01 107.91,-150.65 92.56,-138.88\"/>\n<polygon fill=\"black\" stroke=\"black\" points=\"94.34,-135.83 84.28,-132.52 90.08,-141.38 94.34,-135.83\"/>\n</g>\n<!-- 3 -->\n<g id=\"node4\" class=\"node\">\n<title>3</title>\n<path fill=\"none\" stroke=\"black\" d=\"M236,-140C236,-140 132,-140 132,-140 126,-140 120,-134 120,-128 120,-128 120,-84 120,-84 120,-78 126,-72 132,-72 132,-72 236,-72 236,-72 242,-72 248,-78 248,-84 248,-84 248,-128 248,-128 248,-134 242,-140 236,-140\"/>\n<text text-anchor=\"start\" x=\"128\" y=\"-124.8\" font-family=\"Helvetica,sans-Serif\" font-size=\"14.00\">cutoff_292 ≤ 733.0</text>\n<text text-anchor=\"start\" x=\"156\" y=\"-109.8\" font-family=\"Helvetica,sans-Serif\" font-size=\"14.00\">gini = 0.1</text>\n<text text-anchor=\"start\" x=\"143\" y=\"-94.8\" font-family=\"Helvetica,sans-Serif\" font-size=\"14.00\">samples = 65</text>\n<text text-anchor=\"start\" x=\"141\" y=\"-79.8\" font-family=\"Helvetica,sans-Serif\" font-size=\"14.00\">value = [90, 5]</text>\n</g>\n<!-- 1&#45;&gt;3 -->\n<g id=\"edge3\" class=\"edge\">\n<title>1&#45;&gt;3</title>\n<path fill=\"none\" stroke=\"black\" d=\"M184,-175.88C184,-167.78 184,-158.98 184,-150.47\"/>\n<polygon fill=\"black\" stroke=\"black\" points=\"187.5,-150.3 184,-140.3 180.5,-150.3 187.5,-150.3\"/>\n</g>\n<!-- 4 -->\n<g id=\"node5\" class=\"node\">\n<title>4</title>\n<path fill=\"none\" stroke=\"black\" d=\"M128,-36C128,-36 98,-36 98,-36 92,-36 86,-30 86,-24 86,-24 86,-12 86,-12 86,-6 92,0 98,0 98,0 128,0 128,0 134,0 140,-6 140,-12 140,-12 140,-24 140,-24 140,-30 134,-36 128,-36\"/>\n<text text-anchor=\"middle\" x=\"113\" y=\"-14.3\" font-family=\"Helvetica,sans-Serif\" font-size=\"14.00\">(...)</text>\n</g>\n<!-- 3&#45;&gt;4 -->\n<g id=\"edge4\" class=\"edge\">\n<title>3&#45;&gt;4</title>\n<path fill=\"none\" stroke=\"black\" d=\"M156.75,-72C149.17,-62.81 141.05,-52.97 133.89,-44.3\"/>\n<polygon fill=\"black\" stroke=\"black\" points=\"136.43,-41.89 127.37,-36.4 131.04,-46.34 136.43,-41.89\"/>\n</g>\n<!-- 9 -->\n<g id=\"node6\" class=\"node\">\n<title>9</title>\n<path fill=\"none\" stroke=\"black\" d=\"M200,-36C200,-36 170,-36 170,-36 164,-36 158,-30 158,-24 158,-24 158,-12 158,-12 158,-6 164,0 170,0 170,0 200,0 200,0 206,0 212,-6 212,-12 212,-12 212,-24 212,-24 212,-30 206,-36 200,-36\"/>\n<text text-anchor=\"middle\" x=\"185\" y=\"-14.3\" font-family=\"Helvetica,sans-Serif\" font-size=\"14.00\">(...)</text>\n</g>\n<!-- 3&#45;&gt;9 -->\n<g id=\"edge5\" class=\"edge\">\n<title>3&#45;&gt;9</title>\n<path fill=\"none\" stroke=\"black\" d=\"M184.38,-72C184.48,-63.56 184.59,-54.59 184.68,-46.47\"/>\n<polygon fill=\"black\" stroke=\"black\" points=\"188.18,-46.44 184.8,-36.4 181.18,-46.36 188.18,-46.44\"/>\n</g>\n<!-- 11 -->\n<g id=\"node8\" class=\"node\">\n<title>11</title>\n<path fill=\"none\" stroke=\"black\" d=\"M384,-140C384,-140 278,-140 278,-140 272,-140 266,-134 266,-128 266,-128 266,-84 266,-84 266,-78 272,-72 278,-72 278,-72 384,-72 384,-72 390,-72 396,-78 396,-84 396,-84 396,-128 396,-128 396,-134 390,-140 384,-140\"/>\n<text text-anchor=\"start\" x=\"274\" y=\"-124.8\" font-family=\"Helvetica,sans-Serif\" font-size=\"14.00\">group_19353 ≤ 0.5</text>\n<text text-anchor=\"start\" x=\"295.5\" y=\"-109.8\" font-family=\"Helvetica,sans-Serif\" font-size=\"14.00\">gini = 0.127</text>\n<text text-anchor=\"start\" x=\"286\" y=\"-94.8\" font-family=\"Helvetica,sans-Serif\" font-size=\"14.00\">samples = 548</text>\n<text text-anchor=\"start\" x=\"280.5\" y=\"-79.8\" font-family=\"Helvetica,sans-Serif\" font-size=\"14.00\">value = [59, 806]</text>\n</g>\n<!-- 10&#45;&gt;11 -->\n<g id=\"edge7\" class=\"edge\">\n<title>10&#45;&gt;11</title>\n<path fill=\"none\" stroke=\"black\" d=\"M331,-175.88C331,-167.78 331,-158.98 331,-150.47\"/>\n<polygon fill=\"black\" stroke=\"black\" points=\"334.5,-150.3 331,-140.3 327.5,-150.3 334.5,-150.3\"/>\n</g>\n<!-- 94 -->\n<g id=\"node11\" class=\"node\">\n<title>94</title>\n<path fill=\"none\" stroke=\"black\" d=\"M532,-140C532,-140 426,-140 426,-140 420,-140 414,-134 414,-128 414,-128 414,-84 414,-84 414,-78 420,-72 426,-72 426,-72 532,-72 532,-72 538,-72 544,-78 544,-84 544,-84 544,-128 544,-128 544,-134 538,-140 532,-140\"/>\n<text text-anchor=\"start\" x=\"422\" y=\"-124.8\" font-family=\"Helvetica,sans-Serif\" font-size=\"14.00\">group_17190 ≤ 0.5</text>\n<text text-anchor=\"start\" x=\"443.5\" y=\"-109.8\" font-family=\"Helvetica,sans-Serif\" font-size=\"14.00\">gini = 0.494</text>\n<text text-anchor=\"start\" x=\"434\" y=\"-94.8\" font-family=\"Helvetica,sans-Serif\" font-size=\"14.00\">samples = 156</text>\n<text text-anchor=\"start\" x=\"424.5\" y=\"-79.8\" font-family=\"Helvetica,sans-Serif\" font-size=\"14.00\">value = [105, 132]</text>\n</g>\n<!-- 10&#45;&gt;94 -->\n<g id=\"edge10\" class=\"edge\">\n<title>10&#45;&gt;94</title>\n<path fill=\"none\" stroke=\"black\" d=\"M379.05,-175.88C392.95,-166.3 408.25,-155.76 422.61,-145.86\"/>\n<polygon fill=\"black\" stroke=\"black\" points=\"424.69,-148.68 430.94,-140.12 420.72,-142.92 424.69,-148.68\"/>\n</g>\n<!-- 12 -->\n<g id=\"node9\" class=\"node\">\n<title>12</title>\n<path fill=\"none\" stroke=\"black\" d=\"M294,-36C294,-36 264,-36 264,-36 258,-36 252,-30 252,-24 252,-24 252,-12 252,-12 252,-6 258,0 264,0 264,0 294,0 294,0 300,0 306,-6 306,-12 306,-12 306,-24 306,-24 306,-30 300,-36 294,-36\"/>\n<text text-anchor=\"middle\" x=\"279\" y=\"-14.3\" font-family=\"Helvetica,sans-Serif\" font-size=\"14.00\">(...)</text>\n</g>\n<!-- 11&#45;&gt;12 -->\n<g id=\"edge8\" class=\"edge\">\n<title>11&#45;&gt;12</title>\n<path fill=\"none\" stroke=\"black\" d=\"M311.04,-72C305.66,-63.09 299.91,-53.58 294.79,-45.11\"/>\n<polygon fill=\"black\" stroke=\"black\" points=\"297.69,-43.15 289.52,-36.4 291.7,-46.77 297.69,-43.15\"/>\n</g>\n<!-- 91 -->\n<g id=\"node10\" class=\"node\">\n<title>91</title>\n<path fill=\"none\" stroke=\"black\" d=\"M366,-36C366,-36 336,-36 336,-36 330,-36 324,-30 324,-24 324,-24 324,-12 324,-12 324,-6 330,0 336,0 336,0 366,0 366,0 372,0 378,-6 378,-12 378,-12 378,-24 378,-24 378,-30 372,-36 366,-36\"/>\n<text text-anchor=\"middle\" x=\"351\" y=\"-14.3\" font-family=\"Helvetica,sans-Serif\" font-size=\"14.00\">(...)</text>\n</g>\n<!-- 11&#45;&gt;91 -->\n<g id=\"edge9\" class=\"edge\">\n<title>11&#45;&gt;91</title>\n<path fill=\"none\" stroke=\"black\" d=\"M338.68,-72C340.66,-63.47 342.77,-54.39 344.68,-46.2\"/>\n<polygon fill=\"black\" stroke=\"black\" points=\"348.1,-46.94 346.95,-36.4 341.28,-45.35 348.1,-46.94\"/>\n</g>\n<!-- 95 -->\n<g id=\"node12\" class=\"node\">\n<title>95</title>\n<path fill=\"none\" stroke=\"black\" d=\"M458,-36C458,-36 428,-36 428,-36 422,-36 416,-30 416,-24 416,-24 416,-12 416,-12 416,-6 422,0 428,0 428,0 458,0 458,0 464,0 470,-6 470,-12 470,-12 470,-24 470,-24 470,-30 464,-36 458,-36\"/>\n<text text-anchor=\"middle\" x=\"443\" y=\"-14.3\" font-family=\"Helvetica,sans-Serif\" font-size=\"14.00\">(...)</text>\n</g>\n<!-- 94&#45;&gt;95 -->\n<g id=\"edge11\" class=\"edge\">\n<title>94&#45;&gt;95</title>\n<path fill=\"none\" stroke=\"black\" d=\"M465.18,-72C461.54,-63.28 457.64,-53.98 454.16,-45.65\"/>\n<polygon fill=\"black\" stroke=\"black\" points=\"457.38,-44.28 450.29,-36.4 450.92,-46.98 457.38,-44.28\"/>\n</g>\n<!-- 126 -->\n<g id=\"node13\" class=\"node\">\n<title>126</title>\n<path fill=\"none\" stroke=\"black\" d=\"M530,-36C530,-36 500,-36 500,-36 494,-36 488,-30 488,-24 488,-24 488,-12 488,-12 488,-6 494,0 500,0 500,0 530,0 530,0 536,0 542,-6 542,-12 542,-12 542,-24 542,-24 542,-30 536,-36 530,-36\"/>\n<text text-anchor=\"middle\" x=\"515\" y=\"-14.3\" font-family=\"Helvetica,sans-Serif\" font-size=\"14.00\">(...)</text>\n</g>\n<!-- 94&#45;&gt;126 -->\n<g id=\"edge12\" class=\"edge\">\n<title>94&#45;&gt;126</title>\n<path fill=\"none\" stroke=\"black\" d=\"M492.82,-72C496.46,-63.28 500.36,-53.98 503.84,-45.65\"/>\n<polygon fill=\"black\" stroke=\"black\" points=\"507.08,-46.98 507.71,-36.4 500.62,-44.28 507.08,-46.98\"/>\n</g>\n</g>\n</svg>\n",
            "text/plain": [
              "<graphviz.sources.Source at 0x7bf1c8db6620>"
            ]
          },
          "metadata": {}
        }
      ]
    },
    {
      "cell_type": "markdown",
      "source": [
        "#### **Information within each Node**\n",
        "\n",
        "Below is an schematic for each type of node and uses the first Decision Tree of our Random Forest. The type of information displayed in each node, has been labeled (A, B, C and D) only for the root node but it is present in all the root and intermediate nodes, the leaf nodes only contain B, C and D information. Below we will go over what each of the labeled information represent:\n",
        "\n",
        "![tree-parts.png](https://drive.google.com/uc?export=view&id=1WN05o44tqflVq-GL_2uL_nQuLn3MiNEG)\n",
        "***\n",
        "**A) Decision Threshold:** These are essentially Boolean statement about a column feature that represents a threshold. If the statement is TRUE for a particular observation then we follow the left arrow to and if its false FALSE then we follow the right arrow to the next node. The Decision Threshold is only present in the root and intermediate nodes. In the picture example the thresholds would be: <font face=\"monospace\">cutoff_105 $\\leq$ 151.0 (root node), cutoff_86 $\\leq$ 157.5 (intermediate node), group_3513 $\\leq$ 0.5\n",
        " (intermediate node)</font>, etc\n",
        "\n",
        "The features that start with \"group\" are categorical variables that have already been one-hot encoded, where 1 means that the ortholog gene is present and 0 means that it is not. Therefore if an observation is $\\leq$ 0.5 for those thresholds then it means this gene is not present and we would follow the left arrow.\n",
        "\n",
        "**NOTE:** TRUE is equivalent to **yes (left arrows)** and FALSE equivalent to **no (right arrows)** from the [image](#tree-methods) displayed at the begining of this notebook.\n",
        "\n",
        "***\n",
        "**B) Gini Impurity:** is a measure of purity of the classification. It is a number between 0 and 1, where a value of 0 means that all samples belong to one particular class (purest node); whereas a value of 1 means all samples are distributed equally among the classes (least pure node). Here is a link about [Gini Impurity](https://en.wikipedia.org/wiki/Decision_tree_learning#Gini_impurity), if you are interested in the calculation and specific formula behind it.\n",
        "\n",
        "In our graph, we see that the root node has <font face=\"monospace\">Gini = 0.325</font> and as we go lower on the tree the <font face=\"monospace\">Gini = 0.0</font> for the leaf node because the remaining observations in the leaf belong to only one class, the Susceptible (S) one. This means that all the observations that have a <font face=\"monospace\">cutoff_105 $\\leq$ 151.0 </font>(root node) and <font face=\"monospace\">cutoff_86 $\\leq$ 157.5 </font>(intermediate node) are classified exclusively as Susceptible in this particular tree of our Random Forest model.\n",
        "***\n",
        "**C) Samples:** Is the number of unique observations from the original training dataset before the bagging proceedure. In the image we can see that the intermediate node with the threshold cutoff_86 $\\leq$ 157.5 has 93 unique samples and it is later split into a leaf node with 28 unique samples and another intermediate node with 65 samples (93 = 28 + 65).\n",
        "***\n",
        "**D) Values:** is a list of numbers showing the amount of actual observations classified after the bagging proceedure (random sampling of training observations with replacement + aggregation). We only have 2 classes, so the length of this list is just 2 numbers, we can expect a list of 3 if there are 3 classes to classify, 4 if there are 4 classes, etc.\n",
        "\n",
        "In the image we can see that as we go down the decision tree the Resistant observations (in red) in the node with the Decision threshold <font face=\"monospace\">group_3513 $\\leq$ 0.5</font> has <font color=\"red\">164</font> observations classified  as Resistant, then uppon splitting into 2 intermediate nodes this value is also split into <font color=\"red\">59</font> for the node with threshold <font face=\"monospace\">group_19353 $\\leq$ 0.5</font> and <font color=\"red\">105</font>. The same thing happens for the Susceptible split in this node <font color=\"blue\">(938 = 806 + 132) </font>.\n",
        "\n",
        "**NOTE:** Usually for a regular Decision Tree the sum of the list of numbers in values would add up to the sample number BUT in the case of a Random Forest Decision Tree the **Samples** only count the unique observations, whereas our **Values** include the repeated copies from the bagging proceedure as well .\n",
        "***\n",
        "If you are not sure which number corresponds to a particular class, below we can access the index of the values shown in each node. As we can see the first index is Resistant (0) and the second index is Susceptible (1):"
      ],
      "metadata": {
        "id": "igi_iCYchOWY"
      }
    },
    {
      "cell_type": "code",
      "source": [
        "# line to see what classes belong to a particular index in the Values.\n",
        "RF_CTX_GYS_model.classes_"
      ],
      "metadata": {
        "id": "fNT6Xpn6Na5K",
        "colab": {
          "base_uri": "https://localhost:8080/"
        },
        "outputId": "c5a51cd9-d1fb-4f3d-e3b5-19507ce9677b"
      },
      "execution_count": null,
      "outputs": [
        {
          "output_type": "execute_result",
          "data": {
            "text/plain": [
              "array(['R', 'S'], dtype=object)"
            ]
          },
          "metadata": {},
          "execution_count": 12
        }
      ]
    },
    {
      "cell_type": "markdown",
      "source": [
        "### **6) Making predictions from Random Forest model**\n",
        "\n",
        "The code chunks below will attempt to show us how Random Forests make their predictions using in our case 100 Decision Trees. An important distinction between a Decision Tree and Random Forest is to consider how the trees are generated within the Random Forest. In Random Forest there are 2 randomizations happening when they create the trees:\n",
        "- Random selection of observations from the total training data (rows)\n",
        "- Random selection of features from the feature combination we have chosen, in this case it would be GYS (columns)"
      ],
      "metadata": {
        "id": "1px3jn-Djn77"
      }
    },
    {
      "cell_type": "code",
      "execution_count": null,
      "metadata": {
        "id": "IzEGZrwHAZ3W"
      },
      "outputs": [],
      "source": [
        "# creating a function using the model created and trained and the feature combinations from testing data\n",
        "def predict(RF_combo_Model, features_test):\n",
        "  labels_pred = RF_combo_Model.predict(features_test)\n",
        "  return labels_pred"
      ]
    },
    {
      "cell_type": "markdown",
      "source": [
        "Below we implement first the function combo_feat to specify which testing features we want to use to make our predictions. Then we use our predict function to finally get the predictions made by the Random Forest."
      ],
      "metadata": {
        "id": "QG7sFPN6poIF"
      }
    },
    {
      "cell_type": "code",
      "source": [
        "# Implementing combo_feat() function created for testing data\n",
        "CTX_GYS_test_df = combo_feat(CTX_Train_test_dic['features_test'],\"CTX\",\"GYS\")\n",
        "\n",
        "# Implementation of the predict() function using the feature combination \"GY\"\n",
        "CTX_GYS_labels_pred = predict(RF_CTX_GYS_model,CTX_GYS_test_df)\n",
        "\n",
        "# observe how many predictions were made for each category \"R\" and \"S\"\n",
        "print(\"Labels predicted: \", np.unique(CTX_GYS_labels_pred, return_counts=True))"
      ],
      "metadata": {
        "id": "JqaBG4rPuH7k",
        "colab": {
          "base_uri": "https://localhost:8080/"
        },
        "outputId": "9f174c50-834d-4348-cef0-d03dc0c97ae9"
      },
      "execution_count": null,
      "outputs": [
        {
          "output_type": "stream",
          "name": "stdout",
          "text": [
            "Labels predicted:  (array(['R', 'S'], dtype=object), array([100, 514]))\n"
          ]
        }
      ]
    },
    {
      "cell_type": "markdown",
      "source": [
        "The final predictions from the Random Forests were 100 Resistant and 514 Susceptible. However to see how the final decisions were made, we can check how each tree makes predictions for just the first observation in the features test data. The code below provides a counter for trees that voted Susceptible vs the ones that voted Resistant."
      ],
      "metadata": {
        "id": "22-CAkX6qHYq"
      }
    },
    {
      "cell_type": "code",
      "source": [
        "# Code below shows the number of trees that predicted one of the two outcomes\n",
        "votes_for_R = 0 #we start with 0 trees \"voting\" for R\n",
        "votes_for_S = 0 #and 0 trees \"voting\" for S\n",
        "\n",
        "#loop over each of the trees in the random forest\n",
        "for i in range(0,len(RF_CTX_GYS_model)):\n",
        "  #get a prediction from one tree\n",
        "  pred = RF_CTX_GYS_model.estimators_[i].predict(CTX_GYS_test_df.loc[0,:].to_numpy().reshape(1,-1))\n",
        "\n",
        "  # if the prediction is 0 then it is \"R\"\n",
        "  if pred == 0.00:\n",
        "    votes_for_R = votes_for_R + 1\n",
        "\n",
        "  #if the prediction is 1 then it is \"S\"\n",
        "  else:\n",
        "    votes_for_S = votes_for_S + 1\n",
        "# Counting the number of trees that predicted R and the ones that predicted S\n",
        "print(\"Number of trees that voted Resistance: \",votes_for_R)\n",
        "print(\"Number of trees that voted Susceptible: \",votes_for_S)"
      ],
      "metadata": {
        "id": "0QBks2vNuFx_",
        "colab": {
          "base_uri": "https://localhost:8080/"
        },
        "outputId": "13a591da-7b9f-473f-ccb8-f59d1d4878ba"
      },
      "execution_count": null,
      "outputs": [
        {
          "output_type": "stream",
          "name": "stdout",
          "text": [
            "Number of trees that voted Resistance:  27\n",
            "Number of trees that voted Susceptible:  73\n"
          ]
        }
      ]
    },
    {
      "cell_type": "markdown",
      "source": [
        "Below we can check the prediction by the Random Forest, for the first observation as well. As expected, because the majority of the trees voted for Susceptible (S), we can see that our Random Forest ends up predicting S as well."
      ],
      "metadata": {
        "id": "LvrYcBp4Bozr"
      }
    },
    {
      "cell_type": "code",
      "source": [
        "# prediction using the second value of our test features\n",
        "pred = RF_CTX_GYS_model.predict(CTX_GYS_test_df.loc[0,:].to_numpy().reshape(1,-1))\n",
        "print(\"Prediction by Random Forest: \", pred)"
      ],
      "metadata": {
        "id": "5-WErPCU0Jfv",
        "colab": {
          "base_uri": "https://localhost:8080/"
        },
        "outputId": "14de041c-ad4d-4caf-e1e4-0a55cb63b06f"
      },
      "execution_count": null,
      "outputs": [
        {
          "output_type": "stream",
          "name": "stdout",
          "text": [
            "Prediction by Random Forest:  ['S']\n"
          ]
        },
        {
          "output_type": "stream",
          "name": "stderr",
          "text": [
            "/usr/local/lib/python3.10/dist-packages/sklearn/base.py:439: UserWarning: X does not have valid feature names, but RandomForestClassifier was fitted with feature names\n",
            "  warnings.warn(\n"
          ]
        }
      ]
    },
    {
      "cell_type": "markdown",
      "source": [
        "### **7) Evaluating our model using a confusion matrix and metrics**\n",
        "\n",
        "**a) Creating evaluate() function and implementing it:**\n",
        "\n",
        "Similarly to the previous notebook, we will evaluate our RF model by using a Confusion Matrix and respective metrics. Below is a quick review of these, remember that there is one Accuracy score, but Recall and Presicion should have as many sets as classes our model its trained to predict:\n",
        "\n",
        "|<font size=3>Metrics|<font size=3>General formula|<font size=3> Formula for 2 classes|\n",
        "|--|:-:|:-:\n",
        "|<font size=3>**Accuracy**|<font size=3>$\\frac{Correctly \\ classified}{All \\ Predicted}$|<font size=3>$\\frac{TP + TN}{TP + TN + FN + FP}$|\n",
        "|<font size=3>**R Recall:**|<font size=3>$\\frac{Correctly \\ classified \\ as \\ R}{All \\ Actual \\ R}$|<font size=3>$\\frac{TP}{TP + FN}$|\n",
        "|<font size=3>**R Precision:**|<font size=3>$\\frac{Correctly \\ classified \\ as \\ R}{All \\ Predicted \\ R}$|<font size=3>$\\frac{TP}{TP + FP}$|"
      ],
      "metadata": {
        "id": "5dox3JfFn5wz"
      }
    },
    {
      "cell_type": "code",
      "source": [
        "# Creating a function that evaluates our model using our actual and predicted data\n",
        "def evaluate(RF_combo_model, labels_test, labels_pred, cf= True, show_results=True):\n",
        "  report = classification_report(labels_test, labels_pred, output_dict = True)\n",
        "  if cf == True:\n",
        "    cm = confusion_matrix(labels_test, labels_pred, labels=RF_combo_model.classes_)\n",
        "    disp = ConfusionMatrixDisplay(confusion_matrix=cm, display_labels=RF_combo_model.classes_)\n",
        "    disp.plot()\n",
        "    plt.show()\n",
        "  if show_results == True:\n",
        "    print(\"Results\")\n",
        "    print('Accuracy:',report['accuracy'])\n",
        "    print('R recall:',report['R']['recall'])\n",
        "    print('S recall:',report['S']['recall'])\n",
        "    print('R precision:',report['R']['precision'])\n",
        "    print('S precision:',report['S']['precision'])\n",
        "  return [report['accuracy'], report['R']['recall'], report['S']['recall'], report['R']['precision'], report['S']['precision']]"
      ],
      "metadata": {
        "id": "YJJmoOq-o97t"
      },
      "execution_count": null,
      "outputs": []
    },
    {
      "cell_type": "code",
      "source": [
        "# implementing the evaluate() function\n",
        "Model_Report = evaluate(RF_CTX_GYS_model, CTX_Train_test_dic['labels_test'],CTX_GYS_labels_pred)"
      ],
      "metadata": {
        "id": "sP4N-azGuL0_",
        "colab": {
          "base_uri": "https://localhost:8080/",
          "height": 558
        },
        "outputId": "b179d27c-9763-45b8-a508-5a7facbd5991"
      },
      "execution_count": null,
      "outputs": [
        {
          "output_type": "display_data",
          "data": {
            "text/plain": [
              "<Figure size 640x480 with 2 Axes>"
            ],
            "image/png": "[encoded data removed]"
          },
          "metadata": {}
        },
        {
          "output_type": "stream",
          "name": "stdout",
          "text": [
            "Results\n",
            "Accuracy: 0.9478827361563518\n",
            "R recall: 0.7698412698412699\n",
            "S recall: 0.9938524590163934\n",
            "R precision: 0.97\n",
            "S precision: 0.943579766536965\n"
          ]
        }
      ]
    },
    {
      "cell_type": "markdown",
      "source": [
        "**b) Create a feature importance graph showing which features were the most important**\n",
        "\n",
        "The gini impurity is a metric used to determine which features are more important than others. Below we will learn to graph the feature importance for the model we have been working on."
      ],
      "metadata": {
        "id": "2-6NzvrsbZaH"
      }
    },
    {
      "cell_type": "code",
      "source": [
        "# getting feature importance for our Random Forest model trained using GYS feature combo for CTX drug\n",
        "importance = RF_CTX_GYS_model.feature_importances_\n",
        "\n",
        "# getting the 20 highest feature importance out of 18291 TOTAL features\n",
        "indices = np.argsort(importance)[-20:]\n",
        "highest_feat_importance = importance[indices]\n",
        "\n",
        "# create a barchart of the 20 most important features\n",
        "sns.set_theme()\n",
        "plt.barh([x for x in range(len(highest_feat_importance))], highest_feat_importance, tick_label=CTX_GYS_train_df.columns[indices])\n",
        "plt.title(\"20 most important features for CTX_GYS_model\")\n",
        "\n",
        "# saving feature importance bargraph and display in notebook\n",
        "plt.savefig('/content/drive/My Drive/EColi_ML_Plots/RandomForest_CTX_GYS_feat_importance.jpg',dpi=400, bbox_inches=\"tight\")\n",
        "plt.show()"
      ],
      "metadata": {
        "id": "TX0HY7tiuRgu",
        "colab": {
          "base_uri": "https://localhost:8080/",
          "height": 457
        },
        "outputId": "e237b89b-dc7e-445f-de2e-d03da1b3034e"
      },
      "execution_count": null,
      "outputs": [
        {
          "output_type": "display_data",
          "data": {
            "text/plain": [
              "<Figure size 640x480 with 1 Axes>"
            ],
            "image/png": "[encoded data removed]"
          },
          "metadata": {}
        }
      ]
    },
    {
      "cell_type": "markdown",
      "source": [
        "Based on the feature importance bar chart it seems that considering all GYS features, the column feature **wbuC** ,which belongs to the Gene Presence or Absence Dataset (**G**), seems to have the highest importance in this particular model for the antibiotic CTX. This probably means that strains with this gene are more likely to be resistant to the drug Cefotaxime (CTX)."
      ],
      "metadata": {
        "id": "z7rCiJS5cXne"
      }
    },
    {
      "cell_type": "markdown",
      "source": [
        "### **8) Use all functions and evaluate every drug in every feature combination!**\n",
        "\n",
        "**NOTE:** Code below is the same as in previous notebook"
      ],
      "metadata": {
        "id": "N5lGr0hoDCip"
      }
    },
    {
      "cell_type": "markdown",
      "source": [
        "#### **a) Lets recall the list of drugs we have available and the combination of features we are interested in**"
      ],
      "metadata": {
        "id": "yExXAdaWZL4_"
      }
    },
    {
      "cell_type": "code",
      "source": [
        "# let's check all drugs\n",
        "drug_list = All_Drugs_df.iloc[:,1:13].columns\n",
        "print(drug_list)\n",
        "\n",
        "# let's see all combinations we are interested in\n",
        "print(combo_list)"
      ],
      "metadata": {
        "id": "51wJM2XUaxtQ",
        "colab": {
          "base_uri": "https://localhost:8080/"
        },
        "outputId": "1859b4a8-d247-4fdd-ec04-300b922d7613"
      },
      "execution_count": null,
      "outputs": [
        {
          "output_type": "stream",
          "name": "stdout",
          "text": [
            "Index(['CTZ', 'CTX', 'AMP', 'AMX', 'AMC', 'TZP', 'CXM', 'CET', 'GEN', 'TBM',\n",
            "       'TMP', 'CIP'],\n",
            "      dtype='object')\n",
            "['G', 'S', 'GY', 'SY', 'GS', 'GYS']\n"
          ]
        }
      ]
    },
    {
      "cell_type": "markdown",
      "source": [
        "#### **b) Create a loop that will go through all our functions using the lists above**"
      ],
      "metadata": {
        "id": "cZWO1rYocRQR"
      }
    },
    {
      "cell_type": "code",
      "source": [
        "# Lets use all our functions this time and save our report into a single data structure\n",
        "RF_model_metrics = {}\n",
        "\n",
        "for drug in drug_list:\n",
        "  print(drug)\n",
        "  # splits each drug df into a dictionary with testing and training data\n",
        "  Test_Train_dic = Split_train_test (drug)\n",
        "  for combo in combo_list:\n",
        "    # Training each drug_combo features\n",
        "    labels_train = Test_Train_dic[\"labels_train\"]\n",
        "    # create corresponding feature_df for training\n",
        "    features_train = combo_feat(Test_Train_dic[\"features_train\"], drug, combo)\n",
        "    # runs Random Forest model using the corresponding training feature_df\n",
        "    RF_combo_model = run_RF(features_train, labels_train, drug, combo)\n",
        "\n",
        "    # Predicting each drug_combo features\n",
        "    # create corresponding feature_df for testing\n",
        "    features_test = combo_feat(Test_Train_dic[\"features_test\"], drug, combo)\n",
        "    # generate predictions based on the feature combination tested\n",
        "    labels_pred = predict(RF_combo_model, features_test)\n",
        "\n",
        "    # Evaluating our models\n",
        "    labels_test = Test_Train_dic[\"labels_test\"]\n",
        "    report = evaluate(RF_combo_model, labels_test, labels_pred, cf= False, show_results=False)\n",
        "    RF_model_metrics[drug+\"_\"+combo] = report\n",
        "\n",
        "    print(report)"
      ],
      "metadata": {
        "id": "glSAeIj2DrnP",
        "colab": {
          "base_uri": "https://localhost:8080/"
        },
        "outputId": "a25d2123-94bd-4b04-9f67-8f070f8b5a6e"
      },
      "execution_count": null,
      "outputs": [
        {
          "output_type": "stream",
          "name": "stdout",
          "text": [
            "CTZ\n",
            "CTZ Training combo: G\n",
            "Number of Decicion Trees in RF model: 100\n",
            "[0.9233176838810642, 0.4659090909090909, 0.9963702359346642, 0.9534883720930233, 0.9211409395973155]\n",
            "CTZ Training combo: S\n",
            "Number of Decicion Trees in RF model: 100\n",
            "[0.9029733959311425, 0.48863636363636365, 0.969147005444646, 0.7166666666666667, 0.9222797927461139]\n",
            "CTZ Training combo: GY\n",
            "Number of Decicion Trees in RF model: 100\n",
            "[0.9154929577464789, 0.4431818181818182, 0.9909255898366606, 0.8863636363636364, 0.9176470588235294]\n",
            "CTZ Training combo: SY\n",
            "Number of Decicion Trees in RF model: 100\n",
            "[0.9014084507042254, 0.4659090909090909, 0.9709618874773139, 0.7192982456140351, 0.9192439862542955]\n",
            "CTZ Training combo: GS\n",
            "Number of Decicion Trees in RF model: 100\n",
            "[0.9248826291079812, 0.5113636363636364, 0.9909255898366606, 0.9, 0.9269949066213922]\n",
            "CTZ Training combo: GYS\n",
            "Number of Decicion Trees in RF model: 100\n",
            "[0.917057902973396, 0.4772727272727273, 0.9872958257713249, 0.8571428571428571, 0.9220338983050848]\n",
            "CTX\n",
            "CTX Training combo: G\n",
            "Number of Decicion Trees in RF model: 100\n",
            "[0.9429967426710097, 0.7301587301587301, 0.9979508196721312, 0.989247311827957, 0.9347408829174664]\n",
            "CTX Training combo: S\n",
            "Number of Decicion Trees in RF model: 100\n",
            "[0.9234527687296417, 0.746031746031746, 0.9692622950819673, 0.8623853211009175, 0.9366336633663367]\n",
            "CTX Training combo: GY\n",
            "Number of Decicion Trees in RF model: 100\n",
            "[0.9397394136807817, 0.7142857142857143, 0.9979508196721312, 0.989010989010989, 0.9311663479923518]\n",
            "CTX Training combo: SY\n",
            "Number of Decicion Trees in RF model: 100\n",
            "[0.9267100977198697, 0.7619047619047619, 0.9692622950819673, 0.8648648648648649, 0.9403578528827038]\n",
            "CTX Training combo: GS\n",
            "Number of Decicion Trees in RF model: 100\n",
            "[0.9446254071661238, 0.7698412698412699, 0.9897540983606558, 0.9509803921568627, 0.943359375]\n",
            "CTX Training combo: GYS\n",
            "Number of Decicion Trees in RF model: 100\n",
            "[0.9478827361563518, 0.7698412698412699, 0.9938524590163934, 0.97, 0.943579766536965]\n",
            "AMP\n",
            "AMP Training combo: G\n",
            "Number of Decicion Trees in RF model: 100\n",
            "[0.7697841726618705, 0.8942307692307693, 0.4, 0.8157894736842105, 0.56]\n",
            "AMP Training combo: S\n",
            "Number of Decicion Trees in RF model: 100\n",
            "[0.7338129496402878, 0.8557692307692307, 0.37142857142857144, 0.8018018018018018, 0.4642857142857143]\n",
            "AMP Training combo: GY\n",
            "Number of Decicion Trees in RF model: 100\n",
            "[0.7805755395683454, 0.9038461538461539, 0.4142857142857143, 0.8209606986899564, 0.5918367346938775]\n",
            "AMP Training combo: SY\n",
            "Number of Decicion Trees in RF model: 100\n",
            "[0.737410071942446, 0.8509615384615384, 0.4, 0.8082191780821918, 0.4745762711864407]\n",
            "AMP Training combo: GS\n",
            "Number of Decicion Trees in RF model: 100\n",
            "[0.7949640287769785, 0.9134615384615384, 0.44285714285714284, 0.8296943231441049, 0.6326530612244898]\n",
            "AMP Training combo: GYS\n",
            "Number of Decicion Trees in RF model: 100\n",
            "[0.802158273381295, 0.9134615384615384, 0.4714285714285714, 0.8370044052863436, 0.6470588235294118]\n",
            "AMX\n",
            "AMX Training combo: G\n",
            "Number of Decicion Trees in RF model: 100\n",
            "[0.8121546961325967, 0.8812785388127854, 0.7062937062937062, 0.8212765957446808, 0.7952755905511811]\n",
            "AMX Training combo: S\n",
            "Number of Decicion Trees in RF model: 100\n",
            "[0.6464088397790055, 0.7214611872146118, 0.5314685314685315, 0.7022222222222222, 0.5547445255474452]\n",
            "AMX Training combo: GY\n",
            "Number of Decicion Trees in RF model: 100\n",
            "[0.8066298342541437, 0.8767123287671232, 0.6993006993006993, 0.8170212765957446, 0.7874015748031497]\n",
            "AMX Training combo: SY\n",
            "Number of Decicion Trees in RF model: 100\n",
            "[0.6546961325966851, 0.7488584474885844, 0.5104895104895105, 0.7008547008547008, 0.5703125]\n",
            "AMX Training combo: GS\n",
            "Number of Decicion Trees in RF model: 100\n",
            "[0.7817679558011049, 0.867579908675799, 0.6503496503496503, 0.7916666666666666, 0.7622950819672131]\n",
            "AMX Training combo: GYS\n",
            "Number of Decicion Trees in RF model: 100\n",
            "[0.7707182320441989, 0.863013698630137, 0.6293706293706294, 0.78099173553719, 0.75]\n",
            "AMC\n",
            "AMC Training combo: G\n",
            "Number of Decicion Trees in RF model: 100\n",
            "[0.781981981981982, 0.47337278106508873, 0.917098445595855, 0.7142857142857143, 0.7990970654627539]\n",
            "AMC Training combo: S\n",
            "Number of Decicion Trees in RF model: 100\n",
            "[0.7135135135135136, 0.3609467455621302, 0.8678756476683938, 0.5446428571428571, 0.7562076749435666]\n",
            "AMC Training combo: GY\n",
            "Number of Decicion Trees in RF model: 100\n",
            "[0.7783783783783784, 0.4911242603550296, 0.9041450777202072, 0.6916666666666667, 0.8022988505747126]\n",
            "AMC Training combo: SY\n",
            "Number of Decicion Trees in RF model: 100\n",
            "[0.7153153153153153, 0.3727810650887574, 0.8652849740932642, 0.5478260869565217, 0.759090909090909]\n",
            "AMC Training combo: GS\n",
            "Number of Decicion Trees in RF model: 100\n",
            "[0.7567567567567568, 0.4260355029585799, 0.9015544041450777, 0.6545454545454545, 0.7820224719101123]\n",
            "AMC Training combo: GYS\n",
            "Number of Decicion Trees in RF model: 100\n",
            "[0.7495495495495496, 0.40828402366863903, 0.8989637305699482, 0.6388888888888888, 0.7762863534675615]\n",
            "TZP\n",
            "TZP Training combo: G\n",
            "Number of Decicion Trees in RF model: 100\n",
            "[0.9458483754512635, 0.09090909090909091, 1.0, 1.0, 0.9455535390199638]\n",
            "TZP Training combo: S\n",
            "Number of Decicion Trees in RF model: 100\n",
            "[0.9368231046931408, 0.09090909090909091, 0.9904030710172744, 0.375, 0.945054945054945]\n",
            "TZP Training combo: GY\n",
            "Number of Decicion Trees in RF model: 100\n",
            "[0.9458483754512635, 0.09090909090909091, 1.0, 1.0, 0.9455535390199638]\n",
            "TZP Training combo: SY\n",
            "Number of Decicion Trees in RF model: 100\n",
            "[0.9368231046931408, 0.09090909090909091, 0.9904030710172744, 0.375, 0.945054945054945]\n",
            "TZP Training combo: GS\n",
            "Number of Decicion Trees in RF model: 100\n",
            "[0.9458483754512635, 0.09090909090909091, 1.0, 1.0, 0.9455535390199638]\n",
            "TZP Training combo: GYS\n",
            "Number of Decicion Trees in RF model: 100\n",
            "[0.9458483754512635, 0.09090909090909091, 1.0, 1.0, 0.9455535390199638]\n",
            "CXM\n",
            "CXM Training combo: G\n",
            "Number of Decicion Trees in RF model: 100\n",
            "[0.8560250391236307, 0.6337209302325582, 0.9379014989293362, 0.7898550724637681, 0.874251497005988]\n",
            "CXM Training combo: S\n",
            "Number of Decicion Trees in RF model: 100\n",
            "[0.837245696400626, 0.6104651162790697, 0.9207708779443254, 0.7394366197183099, 0.8651911468812877]\n",
            "CXM Training combo: GY\n",
            "Number of Decicion Trees in RF model: 100\n",
            "[0.8607198748043818, 0.6453488372093024, 0.9400428265524625, 0.7985611510791367, 0.878]\n",
            "CXM Training combo: SY\n",
            "Number of Decicion Trees in RF model: 100\n",
            "[0.8497652582159625, 0.622093023255814, 0.9336188436830836, 0.7753623188405797, 0.8702594810379242]\n",
            "CXM Training combo: GS\n",
            "Number of Decicion Trees in RF model: 100\n",
            "[0.8701095461658842, 0.6569767441860465, 0.9486081370449678, 0.8248175182481752, 0.8824701195219123]\n",
            "CXM Training combo: GYS\n",
            "Number of Decicion Trees in RF model: 100\n",
            "[0.8701095461658842, 0.6453488372093024, 0.9528907922912205, 0.8345864661654135, 0.8794466403162056]\n",
            "CET\n",
            "CET Training combo: G\n",
            "Number of Decicion Trees in RF model: 100\n",
            "[0.8705035971223022, 0.7894736842105263, 0.926829268292683, 0.8823529411764706, 0.8636363636363636]\n",
            "CET Training combo: S\n",
            "Number of Decicion Trees in RF model: 100\n",
            "[0.8561151079136691, 0.7192982456140351, 0.9512195121951219, 0.9111111111111111, 0.8297872340425532]\n",
            "CET Training combo: GY\n",
            "Number of Decicion Trees in RF model: 100\n",
            "[0.8705035971223022, 0.7894736842105263, 0.926829268292683, 0.8823529411764706, 0.8636363636363636]\n",
            "CET Training combo: SY\n",
            "Number of Decicion Trees in RF model: 100\n",
            "[0.8597122302158273, 0.7368421052631579, 0.9451219512195121, 0.9032258064516129, 0.8378378378378378]\n",
            "CET Training combo: GS\n",
            "Number of Decicion Trees in RF model: 100\n",
            "[0.8776978417266187, 0.7456140350877193, 0.9695121951219512, 0.9444444444444444, 0.8457446808510638]\n",
            "CET Training combo: GYS\n",
            "Number of Decicion Trees in RF model: 100\n",
            "[0.8741007194244604, 0.7456140350877193, 0.9634146341463414, 0.9340659340659341, 0.8449197860962567]\n",
            "GEN\n",
            "GEN Training combo: G\n",
            "Number of Decicion Trees in RF model: 100\n",
            "[0.9389671361502347, 0.6276595744680851, 0.9926605504587156, 0.9365079365079365, 0.9392361111111112]\n",
            "GEN Training combo: S\n",
            "Number of Decicion Trees in RF model: 100\n",
            "[0.8951486697965572, 0.5425531914893617, 0.9559633027522936, 0.68, 0.9237588652482269]\n",
            "GEN Training combo: GY\n",
            "Number of Decicion Trees in RF model: 100\n",
            "[0.9342723004694836, 0.6063829787234043, 0.9908256880733946, 0.9193548387096774, 0.9358752166377816]\n",
            "GEN Training combo: SY\n",
            "Number of Decicion Trees in RF model: 100\n",
            "[0.8967136150234741, 0.5425531914893617, 0.9577981651376147, 0.6891891891891891, 0.9238938053097345]\n",
            "GEN Training combo: GS\n",
            "Number of Decicion Trees in RF model: 100\n",
            "[0.9280125195618153, 0.5638297872340425, 0.9908256880733946, 0.9137931034482759, 0.9294320137693631]\n",
            "GEN Training combo: GYS\n",
            "Number of Decicion Trees in RF model: 100\n",
            "[0.9280125195618153, 0.5851063829787234, 0.9871559633027523, 0.8870967741935484, 0.9324090121317158]\n",
            "TBM\n",
            "TBM Training combo: G\n",
            "Number of Decicion Trees in RF model: 100\n",
            "[0.8633093525179856, 0.654320987654321, 0.949238578680203, 0.8412698412698413, 0.8697674418604651]\n",
            "TBM Training combo: S\n",
            "Number of Decicion Trees in RF model: 100\n",
            "[0.8309352517985612, 0.5925925925925926, 0.9289340101522843, 0.7741935483870968, 0.8472222222222222]\n",
            "TBM Training combo: GY\n",
            "Number of Decicion Trees in RF model: 100\n",
            "[0.8669064748201439, 0.654320987654321, 0.9543147208121827, 0.8548387096774194, 0.8703703703703703]\n",
            "TBM Training combo: SY\n",
            "Number of Decicion Trees in RF model: 100\n",
            "[0.8561151079136691, 0.6296296296296297, 0.949238578680203, 0.8360655737704918, 0.8617511520737328]\n",
            "TBM Training combo: GS\n",
            "Number of Decicion Trees in RF model: 100\n",
            "[0.8705035971223022, 0.6666666666666666, 0.9543147208121827, 0.8571428571428571, 0.8744186046511628]\n",
            "TBM Training combo: GYS\n",
            "Number of Decicion Trees in RF model: 100\n",
            "[0.8633093525179856, 0.654320987654321, 0.949238578680203, 0.8412698412698413, 0.8697674418604651]\n",
            "TMP\n",
            "TMP Training combo: G\n",
            "Number of Decicion Trees in RF model: 100\n",
            "[0.9100719424460432, 0.8728813559322034, 0.9375, 0.911504424778761, 0.9090909090909091]\n",
            "TMP Training combo: S\n",
            "Number of Decicion Trees in RF model: 100\n",
            "[0.7266187050359713, 0.6610169491525424, 0.775, 0.6842105263157895, 0.7560975609756098]\n",
            "TMP Training combo: GY\n",
            "Number of Decicion Trees in RF model: 100\n",
            "[0.8705035971223022, 0.8220338983050848, 0.90625, 0.8660714285714286, 0.8734939759036144]\n",
            "TMP Training combo: SY\n",
            "Number of Decicion Trees in RF model: 100\n",
            "[0.7194244604316546, 0.6440677966101694, 0.775, 0.6785714285714286, 0.7469879518072289]\n",
            "TMP Training combo: GS\n",
            "Number of Decicion Trees in RF model: 100\n",
            "[0.8453237410071942, 0.788135593220339, 0.8875, 0.8378378378378378, 0.8502994011976048]\n",
            "TMP Training combo: GYS\n",
            "Number of Decicion Trees in RF model: 100\n",
            "[0.8525179856115108, 0.7796610169491526, 0.90625, 0.8598130841121495, 0.847953216374269]\n",
            "CIP\n",
            "CIP Training combo: G\n",
            "Number of Decicion Trees in RF model: 100\n",
            "[0.9483568075117371, 0.8098591549295775, 0.9879275653923542, 0.9504132231404959, 0.9478764478764479]\n",
            "CIP Training combo: S\n",
            "Number of Decicion Trees in RF model: 100\n",
            "[0.9280125195618153, 0.8098591549295775, 0.9617706237424547, 0.8582089552238806, 0.9465346534653465]\n",
            "CIP Training combo: GY\n",
            "Number of Decicion Trees in RF model: 100\n",
            "[0.9514866979655712, 0.823943661971831, 0.9879275653923542, 0.9512195121951219, 0.9515503875968992]\n",
            "CIP Training combo: SY\n",
            "Number of Decicion Trees in RF model: 100\n",
            "[0.9248826291079812, 0.8098591549295775, 0.9577464788732394, 0.8455882352941176, 0.9463220675944334]\n",
            "CIP Training combo: GS\n",
            "Number of Decicion Trees in RF model: 100\n",
            "[0.9483568075117371, 0.8309859154929577, 0.9818913480885312, 0.9291338582677166, 0.953125]\n",
            "CIP Training combo: GYS\n",
            "Number of Decicion Trees in RF model: 100\n",
            "[0.94679186228482, 0.8309859154929577, 0.9798792756539235, 0.921875, 0.9530332681017613]\n"
          ]
        }
      ]
    },
    {
      "cell_type": "markdown",
      "source": [
        "#### **c) Store the metrics report for all drugs and features combinations as a csv file**"
      ],
      "metadata": {
        "id": "m8CQMKARZ1zC"
      }
    },
    {
      "cell_type": "code",
      "source": [
        "# convert dictionary into a dataframe\n",
        "RF_metrics = pd.DataFrame.from_dict(RF_model_metrics, orient='index', columns=[\"Accuracy\", \"R_recall\", \"S_recall\", \"R_precision\", \"S_precision\"]).reset_index()\n",
        "RF_metrics = RF_metrics.rename(columns = {'index':'Drug_combo'})\n",
        "\n",
        "# saving our metric results into a CSV file\n",
        "RF_metrics.to_csv(filepath+\"RF_metrics_df.csv\", index= False)\n",
        "RF_metrics\n"
      ],
      "metadata": {
        "id": "VmNdWS65fhRn",
        "colab": {
          "base_uri": "https://localhost:8080/",
          "height": 423
        },
        "outputId": "0e99865e-ad8b-45b5-db20-b5ad25deb900"
      },
      "execution_count": null,
      "outputs": [
        {
          "output_type": "execute_result",
          "data": {
            "text/plain": [
              "   Drug_combo  Accuracy  R_recall  S_recall  R_precision  S_precision\n",
              "0       CTZ_G  0.923318  0.465909  0.996370     0.953488     0.921141\n",
              "1       CTZ_S  0.902973  0.488636  0.969147     0.716667     0.922280\n",
              "2      CTZ_GY  0.915493  0.443182  0.990926     0.886364     0.917647\n",
              "3      CTZ_SY  0.901408  0.465909  0.970962     0.719298     0.919244\n",
              "4      CTZ_GS  0.924883  0.511364  0.990926     0.900000     0.926995\n",
              "..        ...       ...       ...       ...          ...          ...\n",
              "67      CIP_S  0.928013  0.809859  0.961771     0.858209     0.946535\n",
              "68     CIP_GY  0.951487  0.823944  0.987928     0.951220     0.951550\n",
              "69     CIP_SY  0.924883  0.809859  0.957746     0.845588     0.946322\n",
              "70     CIP_GS  0.948357  0.830986  0.981891     0.929134     0.953125\n",
              "71    CIP_GYS  0.946792  0.830986  0.979879     0.921875     0.953033\n",
              "\n",
              "[72 rows x 6 columns]"
            ],
            "text/html": [
              "\n",
              "  <div id=\"df-8c9d4821-5af1-4cc6-80c6-7e037be33a86\" class=\"colab-df-container\">\n",
              "    <div>\n",
              "<style scoped>\n",
              "    .dataframe tbody tr th:only-of-type {\n",
              "        vertical-align: middle;\n",
              "    }\n",
              "\n",
              "    .dataframe tbody tr th {\n",
              "        vertical-align: top;\n",
              "    }\n",
              "\n",
              "    .dataframe thead th {\n",
              "        text-align: right;\n",
              "    }\n",
              "</style>\n",
              "<table border=\"1\" class=\"dataframe\">\n",
              "  <thead>\n",
              "    <tr style=\"text-align: right;\">\n",
              "      <th></th>\n",
              "      <th>Drug_combo</th>\n",
              "      <th>Accuracy</th>\n",
              "      <th>R_recall</th>\n",
              "      <th>S_recall</th>\n",
              "      <th>R_precision</th>\n",
              "      <th>S_precision</th>\n",
              "    </tr>\n",
              "  </thead>\n",
              "  <tbody>\n",
              "    <tr>\n",
              "      <th>0</th>\n",
              "      <td>CTZ_G</td>\n",
              "      <td>0.923318</td>\n",
              "      <td>0.465909</td>\n",
              "      <td>0.996370</td>\n",
              "      <td>0.953488</td>\n",
              "      <td>0.921141</td>\n",
              "    </tr>\n",
              "    <tr>\n",
              "      <th>1</th>\n",
              "      <td>CTZ_S</td>\n",
              "      <td>0.902973</td>\n",
              "      <td>0.488636</td>\n",
              "      <td>0.969147</td>\n",
              "      <td>0.716667</td>\n",
              "      <td>0.922280</td>\n",
              "    </tr>\n",
              "    <tr>\n",
              "      <th>2</th>\n",
              "      <td>CTZ_GY</td>\n",
              "      <td>0.915493</td>\n",
              "      <td>0.443182</td>\n",
              "      <td>0.990926</td>\n",
              "      <td>0.886364</td>\n",
              "      <td>0.917647</td>\n",
              "    </tr>\n",
              "    <tr>\n",
              "      <th>3</th>\n",
              "      <td>CTZ_SY</td>\n",
              "      <td>0.901408</td>\n",
              "      <td>0.465909</td>\n",
              "      <td>0.970962</td>\n",
              "      <td>0.719298</td>\n",
              "      <td>0.919244</td>\n",
              "    </tr>\n",
              "    <tr>\n",
              "      <th>4</th>\n",
              "      <td>CTZ_GS</td>\n",
              "      <td>0.924883</td>\n",
              "      <td>0.511364</td>\n",
              "      <td>0.990926</td>\n",
              "      <td>0.900000</td>\n",
              "      <td>0.926995</td>\n",
              "    </tr>\n",
              "    <tr>\n",
              "      <th>...</th>\n",
              "      <td>...</td>\n",
              "      <td>...</td>\n",
              "      <td>...</td>\n",
              "      <td>...</td>\n",
              "      <td>...</td>\n",
              "      <td>...</td>\n",
              "    </tr>\n",
              "    <tr>\n",
              "      <th>67</th>\n",
              "      <td>CIP_S</td>\n",
              "      <td>0.928013</td>\n",
              "      <td>0.809859</td>\n",
              "      <td>0.961771</td>\n",
              "      <td>0.858209</td>\n",
              "      <td>0.946535</td>\n",
              "    </tr>\n",
              "    <tr>\n",
              "      <th>68</th>\n",
              "      <td>CIP_GY</td>\n",
              "      <td>0.951487</td>\n",
              "      <td>0.823944</td>\n",
              "      <td>0.987928</td>\n",
              "      <td>0.951220</td>\n",
              "      <td>0.951550</td>\n",
              "    </tr>\n",
              "    <tr>\n",
              "      <th>69</th>\n",
              "      <td>CIP_SY</td>\n",
              "      <td>0.924883</td>\n",
              "      <td>0.809859</td>\n",
              "      <td>0.957746</td>\n",
              "      <td>0.845588</td>\n",
              "      <td>0.946322</td>\n",
              "    </tr>\n",
              "    <tr>\n",
              "      <th>70</th>\n",
              "      <td>CIP_GS</td>\n",
              "      <td>0.948357</td>\n",
              "      <td>0.830986</td>\n",
              "      <td>0.981891</td>\n",
              "      <td>0.929134</td>\n",
              "      <td>0.953125</td>\n",
              "    </tr>\n",
              "    <tr>\n",
              "      <th>71</th>\n",
              "      <td>CIP_GYS</td>\n",
              "      <td>0.946792</td>\n",
              "      <td>0.830986</td>\n",
              "      <td>0.979879</td>\n",
              "      <td>0.921875</td>\n",
              "      <td>0.953033</td>\n",
              "    </tr>\n",
              "  </tbody>\n",
              "</table>\n",
              "<p>72 rows × 6 columns</p>\n",
              "</div>\n",
              "    <div class=\"colab-df-buttons\">\n",
              "\n",
              "  <div class=\"colab-df-container\">\n",
              "    <button class=\"colab-df-convert\" onclick=\"convertToInteractive('df-8c9d4821-5af1-4cc6-80c6-7e037be33a86')\"\n",
              "            title=\"Convert this dataframe to an interactive table.\"\n",
              "            style=\"display:none;\">\n",
              "\n",
              "  <svg xmlns=\"http://www.w3.org/2000/svg\" height=\"24px\" viewBox=\"0 -960 960 960\">\n",
              "    <path d=\"M120-120v-720h720v720H120Zm60-500h600v-160H180v160Zm220 220h160v-160H400v160Zm0 220h160v-160H400v160ZM180-400h160v-160H180v160Zm440 0h160v-160H620v160ZM180-180h160v-160H180v160Zm440 0h160v-160H620v160Z\"/>\n",
              "  </svg>\n",
              "    </button>\n",
              "\n",
              "  <style>\n",
              "    .colab-df-container {\n",
              "      display:flex;\n",
              "      gap: 12px;\n",
              "    }\n",
              "\n",
              "    .colab-df-convert {\n",
              "      background-color: #E8F0FE;\n",
              "      border: none;\n",
              "      border-radius: 50%;\n",
              "      cursor: pointer;\n",
              "      display: none;\n",
              "      fill: #1967D2;\n",
              "      height: 32px;\n",
              "      padding: 0 0 0 0;\n",
              "      width: 32px;\n",
              "    }\n",
              "\n",
              "    .colab-df-convert:hover {\n",
              "      background-color: #E2EBFA;\n",
              "      box-shadow: 0px 1px 2px rgba(60, 64, 67, 0.3), 0px 1px 3px 1px rgba(60, 64, 67, 0.15);\n",
              "      fill: #174EA6;\n",
              "    }\n",
              "\n",
              "    .colab-df-buttons div {\n",
              "      margin-bottom: 4px;\n",
              "    }\n",
              "\n",
              "    [theme=dark] .colab-df-convert {\n",
              "      background-color: #3B4455;\n",
              "      fill: #D2E3FC;\n",
              "    }\n",
              "\n",
              "    [theme=dark] .colab-df-convert:hover {\n",
              "      background-color: #434B5C;\n",
              "      box-shadow: 0px 1px 3px 1px rgba(0, 0, 0, 0.15);\n",
              "      filter: drop-shadow(0px 1px 2px rgba(0, 0, 0, 0.3));\n",
              "      fill: #FFFFFF;\n",
              "    }\n",
              "  </style>\n",
              "\n",
              "    <script>\n",
              "      const buttonEl =\n",
              "        document.querySelector('#df-8c9d4821-5af1-4cc6-80c6-7e037be33a86 button.colab-df-convert');\n",
              "      buttonEl.style.display =\n",
              "        google.colab.kernel.accessAllowed ? 'block' : 'none';\n",
              "\n",
              "      async function convertToInteractive(key) {\n",
              "        const element = document.querySelector('#df-8c9d4821-5af1-4cc6-80c6-7e037be33a86');\n",
              "        const dataTable =\n",
              "          await google.colab.kernel.invokeFunction('convertToInteractive',\n",
              "                                                    [key], {});\n",
              "        if (!dataTable) return;\n",
              "\n",
              "        const docLinkHtml = 'Like what you see? Visit the ' +\n",
              "          '<a target=\"_blank\" href=https://colab.research.google.com/notebooks/data_table.ipynb>data table notebook</a>'\n",
              "          + ' to learn more about interactive tables.';\n",
              "        element.innerHTML = '';\n",
              "        dataTable['output_type'] = 'display_data';\n",
              "        await google.colab.output.renderOutput(dataTable, element);\n",
              "        const docLink = document.createElement('div');\n",
              "        docLink.innerHTML = docLinkHtml;\n",
              "        element.appendChild(docLink);\n",
              "      }\n",
              "    </script>\n",
              "  </div>\n",
              "\n",
              "\n",
              "<div id=\"df-4f62274c-81cb-4b8b-b2fa-89efeb7d76bc\">\n",
              "  <button class=\"colab-df-quickchart\" onclick=\"quickchart('df-4f62274c-81cb-4b8b-b2fa-89efeb7d76bc')\"\n",
              "            title=\"Suggest charts\"\n",
              "            style=\"display:none;\">\n",
              "\n",
              "<svg xmlns=\"http://www.w3.org/2000/svg\" height=\"24px\"viewBox=\"0 0 24 24\"\n",
              "     width=\"24px\">\n",
              "    <g>\n",
              "        <path d=\"M19 3H5c-1.1 0-2 .9-2 2v14c0 1.1.9 2 2 2h14c1.1 0 2-.9 2-2V5c0-1.1-.9-2-2-2zM9 17H7v-7h2v7zm4 0h-2V7h2v10zm4 0h-2v-4h2v4z\"/>\n",
              "    </g>\n",
              "</svg>\n",
              "  </button>\n",
              "\n",
              "<style>\n",
              "  .colab-df-quickchart {\n",
              "      --bg-color: #E8F0FE;\n",
              "      --fill-color: #1967D2;\n",
              "      --hover-bg-color: #E2EBFA;\n",
              "      --hover-fill-color: #174EA6;\n",
              "      --disabled-fill-color: #AAA;\n",
              "      --disabled-bg-color: #DDD;\n",
              "  }\n",
              "\n",
              "  [theme=dark] .colab-df-quickchart {\n",
              "      --bg-color: #3B4455;\n",
              "      --fill-color: #D2E3FC;\n",
              "      --hover-bg-color: #434B5C;\n",
              "      --hover-fill-color: #FFFFFF;\n",
              "      --disabled-bg-color: #3B4455;\n",
              "      --disabled-fill-color: #666;\n",
              "  }\n",
              "\n",
              "  .colab-df-quickchart {\n",
              "    background-color: var(--bg-color);\n",
              "    border: none;\n",
              "    border-radius: 50%;\n",
              "    cursor: pointer;\n",
              "    display: none;\n",
              "    fill: var(--fill-color);\n",
              "    height: 32px;\n",
              "    padding: 0;\n",
              "    width: 32px;\n",
              "  }\n",
              "\n",
              "  .colab-df-quickchart:hover {\n",
              "    background-color: var(--hover-bg-color);\n",
              "    box-shadow: 0 1px 2px rgba(60, 64, 67, 0.3), 0 1px 3px 1px rgba(60, 64, 67, 0.15);\n",
              "    fill: var(--button-hover-fill-color);\n",
              "  }\n",
              "\n",
              "  .colab-df-quickchart-complete:disabled,\n",
              "  .colab-df-quickchart-complete:disabled:hover {\n",
              "    background-color: var(--disabled-bg-color);\n",
              "    fill: var(--disabled-fill-color);\n",
              "    box-shadow: none;\n",
              "  }\n",
              "\n",
              "  .colab-df-spinner {\n",
              "    border: 2px solid var(--fill-color);\n",
              "    border-color: transparent;\n",
              "    border-bottom-color: var(--fill-color);\n",
              "    animation:\n",
              "      spin 1s steps(1) infinite;\n",
              "  }\n",
              "\n",
              "  @keyframes spin {\n",
              "    0% {\n",
              "      border-color: transparent;\n",
              "      border-bottom-color: var(--fill-color);\n",
              "      border-left-color: var(--fill-color);\n",
              "    }\n",
              "    20% {\n",
              "      border-color: transparent;\n",
              "      border-left-color: var(--fill-color);\n",
              "      border-top-color: var(--fill-color);\n",
              "    }\n",
              "    30% {\n",
              "      border-color: transparent;\n",
              "      border-left-color: var(--fill-color);\n",
              "      border-top-color: var(--fill-color);\n",
              "      border-right-color: var(--fill-color);\n",
              "    }\n",
              "    40% {\n",
              "      border-color: transparent;\n",
              "      border-right-color: var(--fill-color);\n",
              "      border-top-color: var(--fill-color);\n",
              "    }\n",
              "    60% {\n",
              "      border-color: transparent;\n",
              "      border-right-color: var(--fill-color);\n",
              "    }\n",
              "    80% {\n",
              "      border-color: transparent;\n",
              "      border-right-color: var(--fill-color);\n",
              "      border-bottom-color: var(--fill-color);\n",
              "    }\n",
              "    90% {\n",
              "      border-color: transparent;\n",
              "      border-bottom-color: var(--fill-color);\n",
              "    }\n",
              "  }\n",
              "</style>\n",
              "\n",
              "  <script>\n",
              "    async function quickchart(key) {\n",
              "      const quickchartButtonEl =\n",
              "        document.querySelector('#' + key + ' button');\n",
              "      quickchartButtonEl.disabled = true;  // To prevent multiple clicks.\n",
              "      quickchartButtonEl.classList.add('colab-df-spinner');\n",
              "      try {\n",
              "        const charts = await google.colab.kernel.invokeFunction(\n",
              "            'suggestCharts', [key], {});\n",
              "      } catch (error) {\n",
              "        console.error('Error during call to suggestCharts:', error);\n",
              "      }\n",
              "      quickchartButtonEl.classList.remove('colab-df-spinner');\n",
              "      quickchartButtonEl.classList.add('colab-df-quickchart-complete');\n",
              "    }\n",
              "    (() => {\n",
              "      let quickchartButtonEl =\n",
              "        document.querySelector('#df-4f62274c-81cb-4b8b-b2fa-89efeb7d76bc button');\n",
              "      quickchartButtonEl.style.display =\n",
              "        google.colab.kernel.accessAllowed ? 'block' : 'none';\n",
              "    })();\n",
              "  </script>\n",
              "</div>\n",
              "\n",
              "  <div id=\"id_1816eff1-2204-4b4a-853e-3da46743e200\">\n",
              "    <style>\n",
              "      .colab-df-generate {\n",
              "        background-color: #E8F0FE;\n",
              "        border: none;\n",
              "        border-radius: 50%;\n",
              "        cursor: pointer;\n",
              "        display: none;\n",
              "        fill: #1967D2;\n",
              "        height: 32px;\n",
              "        padding: 0 0 0 0;\n",
              "        width: 32px;\n",
              "      }\n",
              "\n",
              "      .colab-df-generate:hover {\n",
              "        background-color: #E2EBFA;\n",
              "        box-shadow: 0px 1px 2px rgba(60, 64, 67, 0.3), 0px 1px 3px 1px rgba(60, 64, 67, 0.15);\n",
              "        fill: #174EA6;\n",
              "      }\n",
              "\n",
              "      [theme=dark] .colab-df-generate {\n",
              "        background-color: #3B4455;\n",
              "        fill: #D2E3FC;\n",
              "      }\n",
              "\n",
              "      [theme=dark] .colab-df-generate:hover {\n",
              "        background-color: #434B5C;\n",
              "        box-shadow: 0px 1px 3px 1px rgba(0, 0, 0, 0.15);\n",
              "        filter: drop-shadow(0px 1px 2px rgba(0, 0, 0, 0.3));\n",
              "        fill: #FFFFFF;\n",
              "      }\n",
              "    </style>\n",
              "    <button class=\"colab-df-generate\" onclick=\"generateWithVariable('RF_metrics')\"\n",
              "            title=\"Generate code using this dataframe.\"\n",
              "            style=\"display:none;\">\n",
              "\n",
              "  <svg xmlns=\"http://www.w3.org/2000/svg\" height=\"24px\"viewBox=\"0 0 24 24\"\n",
              "       width=\"24px\">\n",
              "    <path d=\"M7,19H8.4L18.45,9,17,7.55,7,17.6ZM5,21V16.75L18.45,3.32a2,2,0,0,1,2.83,0l1.4,1.43a1.91,1.91,0,0,1,.58,1.4,1.91,1.91,0,0,1-.58,1.4L9.25,21ZM18.45,9,17,7.55Zm-12,3A5.31,5.31,0,0,0,4.9,8.1,5.31,5.31,0,0,0,1,6.5,5.31,5.31,0,0,0,4.9,4.9,5.31,5.31,0,0,0,6.5,1,5.31,5.31,0,0,0,8.1,4.9,5.31,5.31,0,0,0,12,6.5,5.46,5.46,0,0,0,6.5,12Z\"/>\n",
              "  </svg>\n",
              "    </button>\n",
              "    <script>\n",
              "      (() => {\n",
              "      const buttonEl =\n",
              "        document.querySelector('#id_1816eff1-2204-4b4a-853e-3da46743e200 button.colab-df-generate');\n",
              "      buttonEl.style.display =\n",
              "        google.colab.kernel.accessAllowed ? 'block' : 'none';\n",
              "\n",
              "      buttonEl.onclick = () => {\n",
              "        google.colab.notebook.generateWithVariable('RF_metrics');\n",
              "      }\n",
              "      })();\n",
              "    </script>\n",
              "  </div>\n",
              "\n",
              "    </div>\n",
              "  </div>\n"
            ],
            "application/vnd.google.colaboratory.intrinsic+json": {
              "type": "dataframe",
              "variable_name": "RF_metrics",
              "summary": "{\n  \"name\": \"RF_metrics\",\n  \"rows\": 72,\n  \"fields\": [\n    {\n      \"column\": \"Drug_combo\",\n      \"properties\": {\n        \"dtype\": \"string\",\n        \"num_unique_values\": 72,\n        \"samples\": [\n          \"CTZ_GS\",\n          \"TMP_GY\",\n          \"AMX_G\"\n        ],\n        \"semantic_type\": \"\",\n        \"description\": \"\"\n      }\n    },\n    {\n      \"column\": \"Accuracy\",\n      \"properties\": {\n        \"dtype\": \"number\",\n        \"std\": 0.07880954697533471,\n        \"min\": 0.6464088397790055,\n        \"max\": 0.9514866979655712,\n        \"num_unique_values\": 58,\n        \"samples\": [\n          0.9233176838810642,\n          0.917057902973396,\n          0.8607198748043818\n        ],\n        \"semantic_type\": \"\",\n        \"description\": \"\"\n      }\n    },\n    {\n      \"column\": \"R_recall\",\n      \"properties\": {\n        \"dtype\": \"number\",\n        \"std\": 0.21865501608310509,\n        \"min\": 0.09090909090909091,\n        \"max\": 0.9134615384615384,\n        \"num_unique_values\": 55,\n        \"samples\": [\n          0.622093023255814,\n          0.7301587301587301,\n          0.6569767441860465\n        ],\n        \"semantic_type\": \"\",\n        \"description\": \"\"\n      }\n    },\n    {\n      \"column\": \"S_recall\",\n      \"properties\": {\n        \"dtype\": \"number\",\n        \"std\": 0.17491398310079007,\n        \"min\": 0.37142857142857144,\n        \"max\": 1.0,\n        \"num_unique_values\": 56,\n        \"samples\": [\n          0.9963702359346642,\n          0.9979508196721312,\n          0.9528907922912205\n        ],\n        \"semantic_type\": \"\",\n        \"description\": \"\"\n      }\n    },\n    {\n      \"column\": \"R_precision\",\n      \"properties\": {\n        \"dtype\": \"number\",\n        \"std\": 0.12977489881779553,\n        \"min\": 0.375,\n        \"max\": 1.0,\n        \"num_unique_values\": 65,\n        \"samples\": [\n          0.911504424778761,\n          0.8582089552238806,\n          0.9534883720930233\n        ],\n        \"semantic_type\": \"\",\n        \"description\": \"\"\n      }\n    },\n    {\n      \"column\": \"S_precision\",\n      \"properties\": {\n        \"dtype\": \"number\",\n        \"std\": 0.11934363253856173,\n        \"min\": 0.4642857142857143,\n        \"max\": 0.953125,\n        \"num_unique_values\": 66,\n        \"samples\": [\n          0.9090909090909091,\n          0.9515503875968992,\n          0.9211409395973155\n        ],\n        \"semantic_type\": \"\",\n        \"description\": \"\"\n      }\n    }\n  ]\n}"
            }
          },
          "metadata": {},
          "execution_count": 22
        }
      ]
    },
    {
      "cell_type": "markdown",
      "source": [
        "Great! We have created and saved all the Random Forest results for every antibiotic and combination of features we were interested in. Now that we have a basic understanding of tree methods in general. It is time to learn about another tree method: [Extreme Gradient Boosted Tree](https://colab.research.google.com/drive/1Ty-l-xSu3t-qbxfx2kN8jMSIOLxC9cYd?usp=sharing)."
      ],
      "metadata": {
        "id": "7b4ILsjdgrN9"
      }
    }
  ]
}